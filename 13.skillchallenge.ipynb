{
 "cells": [
  {
   "cell_type": "code",
   "execution_count": null,
   "metadata": {},
   "outputs": [],
   "source": [
    "\n"
   ]
  },
  {
   "cell_type": "code",
   "execution_count": null,
   "metadata": {},
   "outputs": [],
   "source": [
    "from random import choices\n",
    "import random\n",
    "class CreditCard:\n",
    "    DIGITS = list(range(9))\n",
    "\n",
    "    def __init__(self):\n",
    "        self._number = self.generate()\n",
    "\n",
    "    def generate(self):\n",
    "        card12=\"\"\n",
    "        for i in range(14):\n",
    "            card12 += str(random.randint(0,9))\n",
    "        return card12\n",
    "    \n",
    "    @property\n",
    "    def number(self):\n",
    "        s = \"\".join(map(str, self._number))  # \"12341234\"\n",
    "        return \" \".join(re.findall('.{4}', s))  # [\"1234\", \"1234\"]\n",
    "\n",
    "    \n",
    "   \n",
    "\n",
    "class VisaMixin:\n",
    "    def generate(self):\n",
    "        return f\"42{super().generate()}\"\n",
    "\n",
    "class MasterCardMixin:\n",
    "    def generate(self):\n",
    "        return f\"53{super().generate()}\"\n",
    "class Visa(VisaMixin,CreditCard):\n",
    "  pass\n"
   ]
  },
  {
   "cell_type": "code",
   "execution_count": null,
   "metadata": {},
   "outputs": [],
   "source": [
    "class ValidMixin:\n",
    "  def generate(self):\n",
    "    card15= super().generate()\n",
    "\n",
    "    s=0\n",
    "    cardrev=card15[::-1]\n",
    "    print(card15)\n",
    "    print(cardrev)\n",
    "    for i,dig in enumerate(cardrev):\n",
    "      if i==0:\n",
    "        continue\n",
    "      if i%4 == 0:\n",
    "        s+= int(dig)\n",
    "      if 2*int(dig) <9:\n",
    "        s +=2*int(dig)\n",
    "      else:\n",
    "        st = str(2*int(dig))\n",
    "        s+= int(st[0]) + int(st[1])\n",
    "    s = 10 - (s%10)\n",
    "    card16 = card15[:-1] + str(s)\n",
    "    return card16\n"
   ]
  },
  {
   "cell_type": "code",
   "execution_count": null,
   "metadata": {},
   "outputs": [],
   "source": [
    "class ValidVisa(ValidMixin,VisaMixin,CreditCard): \n",
    "  pass"
   ]
  },
  {
   "cell_type": "code",
   "execution_count": null,
   "metadata": {},
   "outputs": [],
   "source": []
  }
 ],
 "metadata": {
  "kernelspec": {
   "display_name": "Python 3",
   "language": "python",
   "name": "python3"
  },
  "language_info": {
   "name": "python",
   "version": "3.12.4"
  }
 },
 "nbformat": 4,
 "nbformat_minor": 2
}
