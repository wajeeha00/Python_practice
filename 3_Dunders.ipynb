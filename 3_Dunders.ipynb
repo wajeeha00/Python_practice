{
 "cells": [
  {
   "cell_type": "markdown",
   "metadata": {},
   "source": [
    "customize repr method"
   ]
  },
  {
   "cell_type": "code",
   "execution_count": 29,
   "metadata": {
    "metadata": {}
   },
   "outputs": [],
   "source": [
    "class MercedesBenz:\n",
    "  name=\"benz\"\n",
    "  color=\"\"\n",
    "  def __init__(self, color):\n",
    "    self.color = color\n",
    "  def drive(self):\n",
    "    return self\n",
    "  def __repr__(self):\n",
    "    return ( f\"MercedesBenz({self.color})\")\n",
    "\n",
    "  def __str__(self):\n",
    "    return ( f\"MercedesBenz is in ({self.color})\")\n",
    "\n",
    "  @staticmethod\n",
    "  def auto_drive():\n",
    "    print(\"vroom\")\n",
    "  #class methods are bound to the class -  can be used to add something at run time or anything\n",
    "  @classmethod\n",
    "  def create_lease(cls):\n",
    "    print(f\"a lease for {cls} has been created! \")\n",
    "\n",
    "  #other way\n",
    "  # create_lease= classmethod(create_lease)\n",
    "  # auto_drive = staticmethod(auto_drive)\n"
   ]
  },
  {
   "cell_type": "code",
   "execution_count": 30,
   "metadata": {
    "metadata": {}
   },
   "outputs": [],
   "source": [
    "m1 = MercedesBenz(\"red\")"
   ]
  },
  {
   "cell_type": "code",
   "execution_count": 31,
   "metadata": {
    "metadata": {}
   },
   "outputs": [
    {
     "data": {
      "text/plain": [
       "MercedesBenz(red)"
      ]
     },
     "execution_count": 31,
     "metadata": {},
     "output_type": "execute_result"
    }
   ],
   "source": [
    "m1"
   ]
  },
  {
   "cell_type": "code",
   "execution_count": 32,
   "metadata": {
    "metadata": {}
   },
   "outputs": [
    {
     "data": {
      "text/plain": [
       "'MercedesBenz(red)'"
      ]
     },
     "execution_count": 32,
     "metadata": {},
     "output_type": "execute_result"
    }
   ],
   "source": [
    "repr(m1)"
   ]
  },
  {
   "cell_type": "code",
   "execution_count": 33,
   "metadata": {
    "metadata": {}
   },
   "outputs": [
    {
     "name": "stdout",
     "output_type": "stream",
     "text": [
      "MercedesBenz is in (red)\n"
     ]
    }
   ],
   "source": [
    "print(m1)"
   ]
  },
  {
   "cell_type": "code",
   "execution_count": 34,
   "metadata": {
    "metadata": {}
   },
   "outputs": [
    {
     "data": {
      "text/plain": [
       "'MercedesBenz is in (red)'"
      ]
     },
     "execution_count": 34,
     "metadata": {},
     "output_type": "execute_result"
    }
   ],
   "source": [
    "str(m1)"
   ]
  },
  {
   "cell_type": "markdown",
   "metadata": {},
   "source": [
    "REPR should have all info in the form of string that can be used to rebuild it by using eval method"
   ]
  },
  {
   "cell_type": "code",
   "execution_count": 39,
   "metadata": {
    "metadata": {}
   },
   "outputs": [],
   "source": [
    "class MercedesBenz:\n",
    "  name=\"benz\"\n",
    "  color=\"\"\n",
    "  def __init__(self, color, model):\n",
    "    self.color = color\n",
    "    self.model = model\n",
    "  def drive(self):\n",
    "    return self\n",
    "  def __repr__(self):\n",
    "    return ( f\"MercedesBenz('{self.color}', '{self.model}')\")\n",
    "\n",
    "  def __str__(self):\n",
    "    return ( f\"MercedesBenz is in ({self.color})\")\n",
    "\n",
    "  @staticmethod\n",
    "  def auto_drive():\n",
    "    print(\"vroom\")\n",
    "  #class methods are bound to the class -  can be used to add something at run time or anything\n",
    "  @classmethod\n",
    "  def create_lease(cls):\n",
    "    print(f\"a lease for {cls} has been created! \")\n",
    "\n",
    "  #other way\n",
    "  # create_lease= classmethod(create_lease)\n",
    "  # auto_drive = staticmethod(auto_drive)\n"
   ]
  },
  {
   "cell_type": "code",
   "execution_count": 40,
   "metadata": {
    "metadata": {}
   },
   "outputs": [],
   "source": [
    "m1 = MercedesBenz(\"red\", \"c300\")"
   ]
  },
  {
   "cell_type": "code",
   "execution_count": 41,
   "metadata": {
    "metadata": {}
   },
   "outputs": [
    {
     "data": {
      "text/plain": [
       "\"MercedesBenz('red', 'c300')\""
      ]
     },
     "execution_count": 41,
     "metadata": {},
     "output_type": "execute_result"
    }
   ],
   "source": [
    "repr(m1)"
   ]
  },
  {
   "cell_type": "code",
   "execution_count": 42,
   "metadata": {
    "metadata": {}
   },
   "outputs": [
    {
     "data": {
      "text/plain": [
       "MercedesBenz('red', 'c300')"
      ]
     },
     "execution_count": 42,
     "metadata": {},
     "output_type": "execute_result"
    }
   ],
   "source": [
    "eval(repr(m1))"
   ]
  },
  {
   "cell_type": "markdown",
   "metadata": {},
   "source": [
    "str not needed. if str not defined, print refers back to repr. lol"
   ]
  },
  {
   "cell_type": "code",
   "execution_count": 43,
   "metadata": {
    "metadata": {}
   },
   "outputs": [],
   "source": [
    "class MercedesBenz:\n",
    "  name=\"benz\"\n",
    "  color=\"\"\n",
    "  def __init__(self, color, model):\n",
    "    self.color = color\n",
    "    self.model = model\n",
    "  def drive(self):\n",
    "    return self\n",
    "  def __repr__(self):\n",
    "    return ( f\"MercedesBenz('{self.color}', '{self.model}')\")\n",
    "\n",
    "  @staticmethod\n",
    "  def auto_drive():\n",
    "    print(\"vroom\")\n",
    "  #class methods are bound to the class -  can be used to add something at run time or anything\n",
    "  @classmethod\n",
    "  def create_lease(cls):\n",
    "    print(f\"a lease for {cls} has been created! \")\n",
    "\n",
    "  #other way\n",
    "  # create_lease= classmethod(create_lease)\n",
    "  # auto_drive = staticmethod(auto_drive)\n"
   ]
  },
  {
   "cell_type": "code",
   "execution_count": 44,
   "metadata": {
    "metadata": {}
   },
   "outputs": [
    {
     "name": "stdout",
     "output_type": "stream",
     "text": [
      "MercedesBenz('red', 'c300')\n"
     ]
    }
   ],
   "source": [
    "m1 = MercedesBenz(\"red\", \"c300\")\n",
    "print(m1)"
   ]
  },
  {
   "cell_type": "markdown",
   "metadata": {},
   "source": [
    "FORMAT\n",
    "changing represenattion of obj on the fly. how you want the format."
   ]
  },
  {
   "cell_type": "code",
   "execution_count": 45,
   "metadata": {
    "metadata": {}
   },
   "outputs": [
    {
     "data": {
      "text/plain": [
       "'100'"
      ]
     },
     "execution_count": 45,
     "metadata": {},
     "output_type": "execute_result"
    }
   ],
   "source": [
    "f\"100\""
   ]
  },
  {
   "cell_type": "code",
   "execution_count": 49,
   "metadata": {
    "metadata": {}
   },
   "outputs": [
    {
     "data": {
      "text/plain": [
       "'100.000'"
      ]
     },
     "execution_count": 49,
     "metadata": {},
     "output_type": "execute_result"
    }
   ],
   "source": [
    "f\"{100:.3f}\""
   ]
  },
  {
   "cell_type": "code",
   "execution_count": 75,
   "metadata": {
    "metadata": {}
   },
   "outputs": [],
   "source": [
    "\n",
    "class MercedesBenz:\n",
    "  name=\"benz\"\n",
    "  color=\"\"\n",
    "  def __init__(self, color, model):\n",
    "    self.color = color\n",
    "    self.model = model\n",
    "  def drive(self):\n",
    "    return self\n",
    "  def __repr__(self):\n",
    "    return ( f\"MercedesBenz('{self.color}', '{self.model}')\")\n",
    "  \n",
    "  def __format__(self,format_spec):\n",
    "    if format_spec == 'short':\n",
    "      return f\"MB {self.color}, {self.model}\"\n",
    "    return repr(self)\n",
    "\n",
    "  @staticmethod\n",
    "  def auto_drive():\n",
    "    print(\"vroom\")\n",
    "  #class methods are bound to the class -  can be used to add something at run time or anything\n",
    "  @classmethod\n",
    "  def create_lease(cls):\n",
    "    print(f\"a lease for {cls} has been created! \")\n",
    "\n",
    "  #other way\n",
    "  # create_lease= classmethod(create_lease)\n",
    "  # auto_drive = staticmethod(auto_drive)\n"
   ]
  },
  {
   "cell_type": "code",
   "execution_count": 76,
   "metadata": {
    "metadata": {}
   },
   "outputs": [],
   "source": [
    "m1= MercedesBenz(\"red\", \"c300\")"
   ]
  },
  {
   "cell_type": "code",
   "execution_count": 77,
   "metadata": {
    "metadata": {}
   },
   "outputs": [
    {
     "data": {
      "text/plain": [
       "'MB red, c300'"
      ]
     },
     "execution_count": 77,
     "metadata": {},
     "output_type": "execute_result"
    }
   ],
   "source": [
    "f'{m1:short}'\n"
   ]
  },
  {
   "cell_type": "code",
   "execution_count": 78,
   "metadata": {
    "metadata": {}
   },
   "outputs": [
    {
     "data": {
      "text/plain": [
       "\"MercedesBenz('red', 'c300')\""
      ]
     },
     "execution_count": 78,
     "metadata": {},
     "output_type": "execute_result"
    }
   ],
   "source": [
    "f'{m1}'"
   ]
  },
  {
   "cell_type": "code",
   "execution_count": 79,
   "metadata": {
    "metadata": {}
   },
   "outputs": [
    {
     "data": {
      "text/plain": [
       "\"MercedesBenz('red', 'c300')\""
      ]
     },
     "execution_count": 79,
     "metadata": {},
     "output_type": "execute_result"
    }
   ],
   "source": [
    "format(m1)"
   ]
  },
  {
   "cell_type": "code",
   "execution_count": 80,
   "metadata": {
    "metadata": {}
   },
   "outputs": [
    {
     "data": {
      "text/plain": [
       "'MB red, c300'"
      ]
     },
     "execution_count": 80,
     "metadata": {},
     "output_type": "execute_result"
    }
   ],
   "source": [
    "format(m1, 'short')"
   ]
  },
  {
   "cell_type": "code",
   "execution_count": 81,
   "metadata": {
    "metadata": {}
   },
   "outputs": [
    {
     "data": {
      "text/plain": [
       "'short'"
      ]
     },
     "execution_count": 81,
     "metadata": {},
     "output_type": "execute_result"
    }
   ],
   "source": [
    "\"short\".format(m1)"
   ]
  },
  {
   "cell_type": "markdown",
   "metadata": {},
   "source": [
    "Object Equity"
   ]
  },
  {
   "cell_type": "code",
   "execution_count": 99,
   "metadata": {
    "metadata": {}
   },
   "outputs": [],
   "source": [
    "class MercedesBenz:\n",
    "  name=\"benz\"\n",
    "  color=\"\"\n",
    "  def __init__(self, color, model):\n",
    "    self.color = color\n",
    "    self.model = model\n",
    "  def drive(self):\n",
    "    return self\n",
    "  def __repr__(self):\n",
    "    return ( f\"MercedesBenz('{self.color}', '{self.model}')\")\n",
    "\n",
    "\n"
   ]
  },
  {
   "cell_type": "code",
   "execution_count": 100,
   "metadata": {
    "metadata": {}
   },
   "outputs": [
    {
     "data": {
      "text/plain": [
       "False"
      ]
     },
     "execution_count": 100,
     "metadata": {},
     "output_type": "execute_result"
    }
   ],
   "source": [
    "b1 = MercedesBenz(\"red\", \"c300\")\n",
    "b2 = MercedesBenz(\"red\", \"c300\")\n",
    "b1==b2"
   ]
  },
  {
   "cell_type": "code",
   "execution_count": 101,
   "metadata": {
    "metadata": {}
   },
   "outputs": [
    {
     "data": {
      "text/plain": [
       "2589833862928"
      ]
     },
     "execution_count": 101,
     "metadata": {},
     "output_type": "execute_result"
    }
   ],
   "source": [
    "id(b1)"
   ]
  },
  {
   "cell_type": "code",
   "execution_count": 102,
   "metadata": {
    "metadata": {}
   },
   "outputs": [
    {
     "data": {
      "text/plain": [
       "2589833862800"
      ]
     },
     "execution_count": 102,
     "metadata": {},
     "output_type": "execute_result"
    }
   ],
   "source": [
    "id(b2)"
   ]
  },
  {
   "cell_type": "code",
   "execution_count": 108,
   "metadata": {
    "metadata": {}
   },
   "outputs": [],
   "source": [
    "class MercedesBenz:\n",
    "  name=\"benz\"\n",
    "  color=\"\"\n",
    "  def __init__(self, color, model):\n",
    "    self.color = color\n",
    "    self.model = model\n",
    "  def drive(self):\n",
    "    return self\n",
    "  def __repr__(self):\n",
    "    return ( f\"MercedesBenz('{self.color}', '{self.model}')\")\n",
    "  def __eq__(self, other):\n",
    "    if not isinstance(other, MercedesBenz):\n",
    "      return False\n",
    "    return self.color == other.color and self.model == other.model\n",
    "      "
   ]
  },
  {
   "cell_type": "code",
   "execution_count": 109,
   "metadata": {
    "metadata": {}
   },
   "outputs": [
    {
     "data": {
      "text/plain": [
       "True"
      ]
     },
     "execution_count": 109,
     "metadata": {},
     "output_type": "execute_result"
    }
   ],
   "source": [
    "b3= MercedesBenz(\"red\", \"c300\")\n",
    "b4= MercedesBenz(\"red\", \"c300\")\n",
    "b3==b4"
   ]
  },
  {
   "cell_type": "code",
   "execution_count": 110,
   "metadata": {
    "metadata": {}
   },
   "outputs": [
    {
     "name": "stdout",
     "output_type": "stream",
     "text": [
      "2589824145808\n",
      "2589828364432\n"
     ]
    }
   ],
   "source": [
    "print(id(b3))\n",
    "print(id(b4))"
   ]
  },
  {
   "cell_type": "code",
   "execution_count": 111,
   "metadata": {
    "metadata": {}
   },
   "outputs": [],
   "source": [
    "b5= MercedesBenz(\"blue\", \"c300\")"
   ]
  },
  {
   "cell_type": "code",
   "execution_count": 112,
   "metadata": {
    "metadata": {}
   },
   "outputs": [
    {
     "data": {
      "text/plain": [
       "False"
      ]
     },
     "execution_count": 112,
     "metadata": {},
     "output_type": "execute_result"
    }
   ],
   "source": [
    "b3==b5"
   ]
  },
  {
   "cell_type": "markdown",
   "metadata": {},
   "source": [
    "HASHABLES if\n",
    "1. can be compared\n",
    "2. if equal value, then shares same hash with other obj\n",
    "3. immutable (int,string,tuple)"
   ]
  },
  {
   "cell_type": "code",
   "execution_count": 114,
   "metadata": {
    "metadata": {}
   },
   "outputs": [
    {
     "ename": "TypeError",
     "evalue": "unhashable type: 'list'",
     "output_type": "error",
     "traceback": [
      "\u001b[1;31m---------------------------------------------------------------------------\u001b[0m",
      "\u001b[1;31mTypeError\u001b[0m                                 Traceback (most recent call last)",
      "Cell \u001b[1;32mIn[114], line 3\u001b[0m\n\u001b[0;32m      1\u001b[0m \u001b[38;5;66;03m#lists are mutable\u001b[39;00m\n\u001b[0;32m      2\u001b[0m list_i \u001b[38;5;241m=\u001b[39m [\u001b[38;5;241m1\u001b[39m,\u001b[38;5;241m2\u001b[39m,\u001b[38;5;241m3\u001b[39m,\u001b[38;5;241m4\u001b[39m,\u001b[38;5;241m5\u001b[39m]\n\u001b[1;32m----> 3\u001b[0m dictionary \u001b[38;5;241m=\u001b[39m {list_i: \u001b[38;5;124m\"\u001b[39m\u001b[38;5;124mlist\u001b[39m\u001b[38;5;124m\"\u001b[39m}\n",
      "\u001b[1;31mTypeError\u001b[0m: unhashable type: 'list'"
     ]
    }
   ],
   "source": [
    "#lists are mutable\n",
    "list_i = [1,2,3,4,5]\n",
    "dictionary = {list_i: \"list\"}"
   ]
  },
  {
   "cell_type": "code",
   "execution_count": 115,
   "metadata": {
    "metadata": {}
   },
   "outputs": [
    {
     "data": {
      "text/plain": [
       "7"
      ]
     },
     "execution_count": 115,
     "metadata": {},
     "output_type": "execute_result"
    }
   ],
   "source": [
    "num =7\n",
    "hash(num)"
   ]
  },
  {
   "cell_type": "code",
   "execution_count": 116,
   "metadata": {
    "metadata": {}
   },
   "outputs": [
    {
     "ename": "TypeError",
     "evalue": "unhashable type: 'MercedesBenz'",
     "output_type": "error",
     "traceback": [
      "\u001b[1;31m---------------------------------------------------------------------------\u001b[0m",
      "\u001b[1;31mTypeError\u001b[0m                                 Traceback (most recent call last)",
      "Cell \u001b[1;32mIn[116], line 1\u001b[0m\n\u001b[1;32m----> 1\u001b[0m \u001b[38;5;28;43mhash\u001b[39;49m\u001b[43m(\u001b[49m\u001b[43mb5\u001b[49m\u001b[43m)\u001b[49m\n",
      "\u001b[1;31mTypeError\u001b[0m: unhashable type: 'MercedesBenz'"
     ]
    }
   ],
   "source": [
    "hash(b5)"
   ]
  },
  {
   "cell_type": "code",
   "execution_count": 117,
   "metadata": {
    "metadata": {}
   },
   "outputs": [],
   "source": [
    "# it was hashable but because of eq, new equality measure is defined, thus is not hashable now. othervise classes are hashable.\n",
    "# to make it hashable agian, we can define __hash__ method"
   ]
  },
  {
   "cell_type": "code",
   "execution_count": 133,
   "metadata": {
    "metadata": {}
   },
   "outputs": [],
   "source": [
    "class MercedesBenz:\n",
    "  name=\"benz\"\n",
    "  color=\"\"\n",
    "  def __init__(self, color, model):\n",
    "    self.color = color\n",
    "    self.model = model\n",
    "  def drive(self):\n",
    "    return self\n",
    "  def __repr__(self):\n",
    "    return ( f\"MercedesBenz('{self.color}', '{self.model}')\")\n",
    "  def __eq__(self, other):\n",
    "    if not isinstance(other, MercedesBenz):\n",
    "      return False\n",
    "    return self.color == other.color and self.model == other.model\n",
    "#   def __hash__(self):\n",
    "#     return 1\n",
    "  def __hash__(self):\n",
    "    #return tuple with all attributes information same as eq, to make it hashable\n",
    "    return hash((self.color, self.model))"
   ]
  },
  {
   "cell_type": "code",
   "execution_count": 134,
   "metadata": {
    "metadata": {}
   },
   "outputs": [],
   "source": [
    "b5= MercedesBenz(\"blue\", \"c300\")\n",
    "b6 = MercedesBenz(\"blue\", \"c300\")\n"
   ]
  },
  {
   "cell_type": "code",
   "execution_count": 135,
   "metadata": {
    "metadata": {}
   },
   "outputs": [
    {
     "data": {
      "text/plain": [
       "1456871179671085232"
      ]
     },
     "execution_count": 135,
     "metadata": {},
     "output_type": "execute_result"
    }
   ],
   "source": [
    "hash(b5)"
   ]
  },
  {
   "cell_type": "code",
   "execution_count": 136,
   "metadata": {
    "metadata": {}
   },
   "outputs": [
    {
     "data": {
      "text/plain": [
       "1456871179671085232"
      ]
     },
     "execution_count": 136,
     "metadata": {},
     "output_type": "execute_result"
    }
   ],
   "source": [
    "hash(b6)"
   ]
  },
  {
   "cell_type": "code",
   "execution_count": 137,
   "metadata": {
    "metadata": {}
   },
   "outputs": [
    {
     "data": {
      "text/plain": [
       "True"
      ]
     },
     "execution_count": 137,
     "metadata": {},
     "output_type": "execute_result"
    }
   ],
   "source": [
    "hash(b6) == hash(b5)"
   ]
  },
  {
   "cell_type": "code",
   "execution_count": null,
   "metadata": {},
   "outputs": [],
   "source": []
  }
 ],
 "metadata": {
  "kernelspec": {
   "display_name": "Python 3",
   "language": "python",
   "name": "python3"
  },
  "language_info": {
   "codemirror_mode": {
    "name": "ipython",
    "version": 3
   },
   "file_extension": ".py",
   "mimetype": "text/x-python",
   "name": "python",
   "nbconvert_exporter": "python",
   "pygments_lexer": "ipython3",
   "version": "3.11.1"
  }
 },
 "nbformat": 4,
 "nbformat_minor": 2
}
