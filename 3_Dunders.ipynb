{
 "cells": [
  {
   "cell_type": "markdown",
   "metadata": {},
   "source": [
    "customize repr method"
   ]
  },
  {
   "cell_type": "code",
   "execution_count": 29,
   "metadata": {
    "metadata": {}
   },
   "outputs": [],
   "source": [
    "class MercedesBenz:\n",
    "  name=\"benz\"\n",
    "  color=\"\"\n",
    "  def __init__(self, color):\n",
    "    self.color = color\n",
    "  def drive(self):\n",
    "    return self\n",
    "  def __repr__(self):\n",
    "    return ( f\"MercedesBenz({self.color})\")\n",
    "\n",
    "  def __str__(self):\n",
    "    return ( f\"MercedesBenz is in ({self.color})\")\n",
    "\n",
    "  @staticmethod\n",
    "  def auto_drive():\n",
    "    print(\"vroom\")\n",
    "  #class methods are bound to the class -  can be used to add something at run time or anything\n",
    "  @classmethod\n",
    "  def create_lease(cls):\n",
    "    print(f\"a lease for {cls} has been created! \")\n",
    "\n",
    "  #other way\n",
    "  # create_lease= classmethod(create_lease)\n",
    "  # auto_drive = staticmethod(auto_drive)\n"
   ]
  },
  {
   "cell_type": "code",
   "execution_count": 30,
   "metadata": {
    "metadata": {}
   },
   "outputs": [],
   "source": [
    "m1 = MercedesBenz(\"red\")"
   ]
  },
  {
   "cell_type": "code",
   "execution_count": 31,
   "metadata": {
    "metadata": {}
   },
   "outputs": [
    {
     "data": {
      "text/plain": [
       "MercedesBenz(red)"
      ]
     },
     "execution_count": 31,
     "metadata": {},
     "output_type": "execute_result"
    }
   ],
   "source": [
    "m1"
   ]
  },
  {
   "cell_type": "code",
   "execution_count": 32,
   "metadata": {
    "metadata": {}
   },
   "outputs": [
    {
     "data": {
      "text/plain": [
       "'MercedesBenz(red)'"
      ]
     },
     "execution_count": 32,
     "metadata": {},
     "output_type": "execute_result"
    }
   ],
   "source": [
    "repr(m1)"
   ]
  },
  {
   "cell_type": "code",
   "execution_count": 33,
   "metadata": {
    "metadata": {}
   },
   "outputs": [
    {
     "name": "stdout",
     "output_type": "stream",
     "text": [
      "MercedesBenz is in (red)\n"
     ]
    }
   ],
   "source": [
    "print(m1)"
   ]
  },
  {
   "cell_type": "code",
   "execution_count": 34,
   "metadata": {
    "metadata": {}
   },
   "outputs": [
    {
     "data": {
      "text/plain": [
       "'MercedesBenz is in (red)'"
      ]
     },
     "execution_count": 34,
     "metadata": {},
     "output_type": "execute_result"
    }
   ],
   "source": [
    "str(m1)"
   ]
  },
  {
   "cell_type": "markdown",
   "metadata": {},
   "source": [
    "REPR should have all info in the form of string that can be used to rebuild it by using eval method"
   ]
  },
  {
   "cell_type": "code",
   "execution_count": 39,
   "metadata": {
    "metadata": {}
   },
   "outputs": [],
   "source": [
    "class MercedesBenz:\n",
    "  name=\"benz\"\n",
    "  color=\"\"\n",
    "  def __init__(self, color, model):\n",
    "    self.color = color\n",
    "    self.model = model\n",
    "  def drive(self):\n",
    "    return self\n",
    "  def __repr__(self):\n",
    "    return ( f\"MercedesBenz('{self.color}', '{self.model}')\")\n",
    "\n",
    "  def __str__(self):\n",
    "    return ( f\"MercedesBenz is in ({self.color})\")\n",
    "\n",
    "  @staticmethod\n",
    "  def auto_drive():\n",
    "    print(\"vroom\")\n",
    "  #class methods are bound to the class -  can be used to add something at run time or anything\n",
    "  @classmethod\n",
    "  def create_lease(cls):\n",
    "    print(f\"a lease for {cls} has been created! \")\n",
    "\n",
    "  #other way\n",
    "  # create_lease= classmethod(create_lease)\n",
    "  # auto_drive = staticmethod(auto_drive)\n"
   ]
  },
  {
   "cell_type": "code",
   "execution_count": 40,
   "metadata": {
    "metadata": {}
   },
   "outputs": [],
   "source": [
    "m1 = MercedesBenz(\"red\", \"c300\")"
   ]
  },
  {
   "cell_type": "code",
   "execution_count": 41,
   "metadata": {
    "metadata": {}
   },
   "outputs": [
    {
     "data": {
      "text/plain": [
       "\"MercedesBenz('red', 'c300')\""
      ]
     },
     "execution_count": 41,
     "metadata": {},
     "output_type": "execute_result"
    }
   ],
   "source": [
    "repr(m1)"
   ]
  },
  {
   "cell_type": "code",
   "execution_count": 42,
   "metadata": {
    "metadata": {}
   },
   "outputs": [
    {
     "data": {
      "text/plain": [
       "MercedesBenz('red', 'c300')"
      ]
     },
     "execution_count": 42,
     "metadata": {},
     "output_type": "execute_result"
    }
   ],
   "source": [
    "eval(repr(m1))"
   ]
  },
  {
   "cell_type": "markdown",
   "metadata": {},
   "source": [
    "str not needed. if str not defined, print refers back to repr. lol"
   ]
  },
  {
   "cell_type": "code",
   "execution_count": 43,
   "metadata": {
    "metadata": {}
   },
   "outputs": [],
   "source": [
    "class MercedesBenz:\n",
    "  name=\"benz\"\n",
    "  color=\"\"\n",
    "  def __init__(self, color, model):\n",
    "    self.color = color\n",
    "    self.model = model\n",
    "  def drive(self):\n",
    "    return self\n",
    "  def __repr__(self):\n",
    "    return ( f\"MercedesBenz('{self.color}', '{self.model}')\")\n",
    "\n",
    "  @staticmethod\n",
    "  def auto_drive():\n",
    "    print(\"vroom\")\n",
    "  #class methods are bound to the class -  can be used to add something at run time or anything\n",
    "  @classmethod\n",
    "  def create_lease(cls):\n",
    "    print(f\"a lease for {cls} has been created! \")\n",
    "\n",
    "  #other way\n",
    "  # create_lease= classmethod(create_lease)\n",
    "  # auto_drive = staticmethod(auto_drive)\n"
   ]
  },
  {
   "cell_type": "code",
   "execution_count": 44,
   "metadata": {
    "metadata": {}
   },
   "outputs": [
    {
     "name": "stdout",
     "output_type": "stream",
     "text": [
      "MercedesBenz('red', 'c300')\n"
     ]
    }
   ],
   "source": [
    "m1 = MercedesBenz(\"red\", \"c300\")\n",
    "print(m1)"
   ]
  },
  {
   "cell_type": "markdown",
   "metadata": {},
   "source": [
    "FORMAT\n",
    "changing represenattion of obj on the fly. how you want the format."
   ]
  },
  {
   "cell_type": "code",
   "execution_count": 45,
   "metadata": {
    "metadata": {}
   },
   "outputs": [
    {
     "data": {
      "text/plain": [
       "'100'"
      ]
     },
     "execution_count": 45,
     "metadata": {},
     "output_type": "execute_result"
    }
   ],
   "source": [
    "f\"100\""
   ]
  },
  {
   "cell_type": "code",
   "execution_count": 49,
   "metadata": {
    "metadata": {}
   },
   "outputs": [
    {
     "data": {
      "text/plain": [
       "'100.000'"
      ]
     },
     "execution_count": 49,
     "metadata": {},
     "output_type": "execute_result"
    }
   ],
   "source": [
    "f\"{100:.3f}\""
   ]
  },
  {
   "cell_type": "code",
   "execution_count": 75,
   "metadata": {
    "metadata": {}
   },
   "outputs": [],
   "source": [
    "\n",
    "class MercedesBenz:\n",
    "  name=\"benz\"\n",
    "  color=\"\"\n",
    "  def __init__(self, color, model):\n",
    "    self.color = color\n",
    "    self.model = model\n",
    "  def drive(self):\n",
    "    return self\n",
    "  def __repr__(self):\n",
    "    return ( f\"MercedesBenz('{self.color}', '{self.model}')\")\n",
    "  \n",
    "  def __format__(self,format_spec):\n",
    "    if format_spec == 'short':\n",
    "      return f\"MB {self.color}, {self.model}\"\n",
    "    return repr(self)\n",
    "\n",
    "  @staticmethod\n",
    "  def auto_drive():\n",
    "    print(\"vroom\")\n",
    "  #class methods are bound to the class -  can be used to add something at run time or anything\n",
    "  @classmethod\n",
    "  def create_lease(cls):\n",
    "    print(f\"a lease for {cls} has been created! \")\n",
    "\n",
    "  #other way\n",
    "  # create_lease= classmethod(create_lease)\n",
    "  # auto_drive = staticmethod(auto_drive)\n"
   ]
  },
  {
   "cell_type": "code",
   "execution_count": 76,
   "metadata": {
    "metadata": {}
   },
   "outputs": [],
   "source": [
    "m1= MercedesBenz(\"red\", \"c300\")"
   ]
  },
  {
   "cell_type": "code",
   "execution_count": 77,
   "metadata": {
    "metadata": {}
   },
   "outputs": [
    {
     "data": {
      "text/plain": [
       "'MB red, c300'"
      ]
     },
     "execution_count": 77,
     "metadata": {},
     "output_type": "execute_result"
    }
   ],
   "source": [
    "f'{m1:short}'\n"
   ]
  },
  {
   "cell_type": "code",
   "execution_count": 78,
   "metadata": {
    "metadata": {}
   },
   "outputs": [
    {
     "data": {
      "text/plain": [
       "\"MercedesBenz('red', 'c300')\""
      ]
     },
     "execution_count": 78,
     "metadata": {},
     "output_type": "execute_result"
    }
   ],
   "source": [
    "f'{m1}'"
   ]
  },
  {
   "cell_type": "code",
   "execution_count": 79,
   "metadata": {
    "metadata": {}
   },
   "outputs": [
    {
     "data": {
      "text/plain": [
       "\"MercedesBenz('red', 'c300')\""
      ]
     },
     "execution_count": 79,
     "metadata": {},
     "output_type": "execute_result"
    }
   ],
   "source": [
    "format(m1)"
   ]
  },
  {
   "cell_type": "code",
   "execution_count": 80,
   "metadata": {
    "metadata": {}
   },
   "outputs": [
    {
     "data": {
      "text/plain": [
       "'MB red, c300'"
      ]
     },
     "execution_count": 80,
     "metadata": {},
     "output_type": "execute_result"
    }
   ],
   "source": [
    "format(m1, 'short')"
   ]
  },
  {
   "cell_type": "code",
   "execution_count": 81,
   "metadata": {
    "metadata": {}
   },
   "outputs": [
    {
     "data": {
      "text/plain": [
       "'short'"
      ]
     },
     "execution_count": 81,
     "metadata": {},
     "output_type": "execute_result"
    }
   ],
   "source": [
    "\"short\".format(m1)"
   ]
  },
  {
   "cell_type": "markdown",
   "metadata": {},
   "source": [
    "Object Equity"
   ]
  },
  {
   "cell_type": "code",
   "execution_count": 99,
   "metadata": {
    "metadata": {}
   },
   "outputs": [],
   "source": [
    "class MercedesBenz:\n",
    "  name=\"benz\"\n",
    "  color=\"\"\n",
    "  def __init__(self, color, model):\n",
    "    self.color = color\n",
    "    self.model = model\n",
    "  def drive(self):\n",
    "    return self\n",
    "  def __repr__(self):\n",
    "    return ( f\"MercedesBenz('{self.color}', '{self.model}')\")\n",
    "\n",
    "\n"
   ]
  },
  {
   "cell_type": "code",
   "execution_count": 100,
   "metadata": {
    "metadata": {}
   },
   "outputs": [
    {
     "data": {
      "text/plain": [
       "False"
      ]
     },
     "execution_count": 100,
     "metadata": {},
     "output_type": "execute_result"
    }
   ],
   "source": [
    "b1 = MercedesBenz(\"red\", \"c300\")\n",
    "b2 = MercedesBenz(\"red\", \"c300\")\n",
    "b1==b2"
   ]
  },
  {
   "cell_type": "code",
   "execution_count": 101,
   "metadata": {
    "metadata": {}
   },
   "outputs": [
    {
     "data": {
      "text/plain": [
       "2589833862928"
      ]
     },
     "execution_count": 101,
     "metadata": {},
     "output_type": "execute_result"
    }
   ],
   "source": [
    "id(b1)"
   ]
  },
  {
   "cell_type": "code",
   "execution_count": 102,
   "metadata": {
    "metadata": {}
   },
   "outputs": [
    {
     "data": {
      "text/plain": [
       "2589833862800"
      ]
     },
     "execution_count": 102,
     "metadata": {},
     "output_type": "execute_result"
    }
   ],
   "source": [
    "id(b2)"
   ]
  },
  {
   "cell_type": "code",
   "execution_count": 108,
   "metadata": {
    "metadata": {}
   },
   "outputs": [],
   "source": [
    "class MercedesBenz:\n",
    "  name=\"benz\"\n",
    "  color=\"\"\n",
    "  def __init__(self, color, model):\n",
    "    self.color = color\n",
    "    self.model = model\n",
    "  def drive(self):\n",
    "    return self\n",
    "  def __repr__(self):\n",
    "    return ( f\"MercedesBenz('{self.color}', '{self.model}')\")\n",
    "  def __eq__(self, other):\n",
    "    if not isinstance(other, MercedesBenz):\n",
    "      return False\n",
    "    return self.color == other.color and self.model == other.model\n",
    "      "
   ]
  },
  {
   "cell_type": "code",
   "execution_count": 109,
   "metadata": {
    "metadata": {}
   },
   "outputs": [
    {
     "data": {
      "text/plain": [
       "True"
      ]
     },
     "execution_count": 109,
     "metadata": {},
     "output_type": "execute_result"
    }
   ],
   "source": [
    "b3= MercedesBenz(\"red\", \"c300\")\n",
    "b4= MercedesBenz(\"red\", \"c300\")\n",
    "b3==b4"
   ]
  },
  {
   "cell_type": "code",
   "execution_count": 110,
   "metadata": {
    "metadata": {}
   },
   "outputs": [
    {
     "name": "stdout",
     "output_type": "stream",
     "text": [
      "2589824145808\n",
      "2589828364432\n"
     ]
    }
   ],
   "source": [
    "print(id(b3))\n",
    "print(id(b4))"
   ]
  },
  {
   "cell_type": "code",
   "execution_count": 111,
   "metadata": {
    "metadata": {}
   },
   "outputs": [],
   "source": [
    "b5= MercedesBenz(\"blue\", \"c300\")"
   ]
  },
  {
   "cell_type": "code",
   "execution_count": 112,
   "metadata": {
    "metadata": {}
   },
   "outputs": [
    {
     "data": {
      "text/plain": [
       "False"
      ]
     },
     "execution_count": 112,
     "metadata": {},
     "output_type": "execute_result"
    }
   ],
   "source": [
    "b3==b5"
   ]
  },
  {
   "cell_type": "markdown",
   "metadata": {},
   "source": [
    "HASHABLES if\n",
    "1. can be compared\n",
    "2. if equal value, then shares same hash with other obj\n",
    "3. immutable (int,string,tuple)"
   ]
  },
  {
   "cell_type": "code",
   "execution_count": 114,
   "metadata": {
    "metadata": {}
   },
   "outputs": [
    {
     "ename": "TypeError",
     "evalue": "unhashable type: 'list'",
     "output_type": "error",
     "traceback": [
      "\u001b[1;31m---------------------------------------------------------------------------\u001b[0m",
      "\u001b[1;31mTypeError\u001b[0m                                 Traceback (most recent call last)",
      "Cell \u001b[1;32mIn[114], line 3\u001b[0m\n\u001b[0;32m      1\u001b[0m \u001b[38;5;66;03m#lists are mutable\u001b[39;00m\n\u001b[0;32m      2\u001b[0m list_i \u001b[38;5;241m=\u001b[39m [\u001b[38;5;241m1\u001b[39m,\u001b[38;5;241m2\u001b[39m,\u001b[38;5;241m3\u001b[39m,\u001b[38;5;241m4\u001b[39m,\u001b[38;5;241m5\u001b[39m]\n\u001b[1;32m----> 3\u001b[0m dictionary \u001b[38;5;241m=\u001b[39m {list_i: \u001b[38;5;124m\"\u001b[39m\u001b[38;5;124mlist\u001b[39m\u001b[38;5;124m\"\u001b[39m}\n",
      "\u001b[1;31mTypeError\u001b[0m: unhashable type: 'list'"
     ]
    }
   ],
   "source": [
    "#lists are mutable\n",
    "list_i = [1,2,3,4,5]\n",
    "dictionary = {list_i: \"list\"}"
   ]
  },
  {
   "cell_type": "code",
   "execution_count": 115,
   "metadata": {
    "metadata": {}
   },
   "outputs": [
    {
     "data": {
      "text/plain": [
       "7"
      ]
     },
     "execution_count": 115,
     "metadata": {},
     "output_type": "execute_result"
    }
   ],
   "source": [
    "num =7\n",
    "hash(num)"
   ]
  },
  {
   "cell_type": "code",
   "execution_count": 116,
   "metadata": {
    "metadata": {}
   },
   "outputs": [
    {
     "ename": "TypeError",
     "evalue": "unhashable type: 'MercedesBenz'",
     "output_type": "error",
     "traceback": [
      "\u001b[1;31m---------------------------------------------------------------------------\u001b[0m",
      "\u001b[1;31mTypeError\u001b[0m                                 Traceback (most recent call last)",
      "Cell \u001b[1;32mIn[116], line 1\u001b[0m\n\u001b[1;32m----> 1\u001b[0m \u001b[38;5;28;43mhash\u001b[39;49m\u001b[43m(\u001b[49m\u001b[43mb5\u001b[49m\u001b[43m)\u001b[49m\n",
      "\u001b[1;31mTypeError\u001b[0m: unhashable type: 'MercedesBenz'"
     ]
    }
   ],
   "source": [
    "hash(b5)"
   ]
  },
  {
   "cell_type": "code",
   "execution_count": 117,
   "metadata": {
    "metadata": {}
   },
   "outputs": [],
   "source": [
    "# it was hashable but because of eq, new equality measure is defined, thus is not hashable now. othervise classes are hashable.\n",
    "# to make it hashable agian, we can define __hash__ method"
   ]
  },
  {
   "cell_type": "code",
   "execution_count": 133,
   "metadata": {
    "metadata": {}
   },
   "outputs": [],
   "source": [
    "class MercedesBenz:\n",
    "  name=\"benz\"\n",
    "  color=\"\"\n",
    "  def __init__(self, color, model):\n",
    "    self.color = color\n",
    "    self.model = model\n",
    "  def drive(self):\n",
    "    return self\n",
    "  def __repr__(self):\n",
    "    return ( f\"MercedesBenz('{self.color}', '{self.model}')\")\n",
    "  def __eq__(self, other):\n",
    "    if not isinstance(other, MercedesBenz):\n",
    "      return False\n",
    "    return self.color == other.color and self.model == other.model\n",
    "#   def __hash__(self):\n",
    "#     return 1\n",
    "  def __hash__(self):\n",
    "    #return tuple with all attributes information same as eq, to make it hashable\n",
    "    return hash((self.color, self.model))"
   ]
  },
  {
   "cell_type": "code",
   "execution_count": 134,
   "metadata": {
    "metadata": {}
   },
   "outputs": [],
   "source": [
    "b5= MercedesBenz(\"blue\", \"c300\")\n",
    "b6 = MercedesBenz(\"blue\", \"c300\")\n"
   ]
  },
  {
   "cell_type": "code",
   "execution_count": 135,
   "metadata": {
    "metadata": {}
   },
   "outputs": [
    {
     "data": {
      "text/plain": [
       "1456871179671085232"
      ]
     },
     "execution_count": 135,
     "metadata": {},
     "output_type": "execute_result"
    }
   ],
   "source": [
    "hash(b5)"
   ]
  },
  {
   "cell_type": "code",
   "execution_count": 136,
   "metadata": {
    "metadata": {}
   },
   "outputs": [
    {
     "data": {
      "text/plain": [
       "1456871179671085232"
      ]
     },
     "execution_count": 136,
     "metadata": {},
     "output_type": "execute_result"
    }
   ],
   "source": [
    "hash(b6)"
   ]
  },
  {
   "cell_type": "code",
   "execution_count": 137,
   "metadata": {
    "metadata": {}
   },
   "outputs": [
    {
     "data": {
      "text/plain": [
       "True"
      ]
     },
     "execution_count": 137,
     "metadata": {},
     "output_type": "execute_result"
    }
   ],
   "source": [
    "hash(b6) == hash(b5)"
   ]
  },
  {
   "cell_type": "markdown",
   "metadata": {},
   "source": [
    "Still a problem, the value of the attributes can change not satisfying property for hash"
   ]
  },
  {
   "cell_type": "markdown",
   "metadata": {},
   "source": [
    "SKILL CHALLENGE "
   ]
  },
  {
   "cell_type": "code",
   "execution_count": 237,
   "metadata": {
    "metadata": {}
   },
   "outputs": [],
   "source": [
    "class Contact:\n",
    "    def __init__(self, name=\"\", lastname=\"\",phone=None,email=None, display_mode=\"masked\"):\n",
    "        self.name = name\n",
    "        self.lastname = lastname\n",
    "        self.display_mode = display_mode\n",
    "        self.phone = phone\n",
    "        self.email = email\n",
    "    def __eq__(self,other):\n",
    "        if not isinstance(other,Contact):\n",
    "            return False\n",
    "        if (self.phone==other.phone or self.email==other.email) or (self.name==other.name and self.lastname==other.lastname):\n",
    "            return True\n",
    "        return False\n",
    "    @staticmethod\n",
    "    def _obfuscate(text):\n",
    "        len_2 = len(text)//2\n",
    "        return text[:len_2] + \"*\"*(len(text)-len_2)\n",
    "    def __hash__(self):\n",
    "        return hash((self.name,self.lastname,self.phone,self.email))\n",
    "    def __repr__(self):\n",
    "        if self.display_mode == \"masked\":\n",
    "            return \"Contact\"+f\"({self._obfuscate(self.name)+self._obfuscate(self.lastname)})\"\n",
    "        else:\n",
    "            return f\"Contact'{self.name}','{self.lastname}','{self.phone}',{self.email}\"\n",
    "    def __str__(self):\n",
    "        return f\"{self.lastname[0]}{self.name[0]}\"\n",
    "    def __format__(self,format_spec):\n",
    "        if format_spec == \"full\":\n",
    "            return f\"{self.name} {self.lastname} {self.phone} {self.email}\"\n",
    "        repr(self)\n",
    "\n",
    "        "
   ]
  },
  {
   "cell_type": "code",
   "execution_count": 238,
   "metadata": {
    "metadata": {}
   },
   "outputs": [],
   "source": [
    "c = Contact(\"john\", \"doe\")\n",
    "c.email = 'jj@gmail.com'"
   ]
  },
  {
   "cell_type": "code",
   "execution_count": 239,
   "metadata": {
    "metadata": {}
   },
   "outputs": [
    {
     "data": {
      "text/plain": [
       "'Contact(jo**d**)'"
      ]
     },
     "execution_count": 239,
     "metadata": {},
     "output_type": "execute_result"
    }
   ],
   "source": [
    "repr(c)"
   ]
  },
  {
   "cell_type": "code",
   "execution_count": 240,
   "metadata": {
    "metadata": {}
   },
   "outputs": [
    {
     "name": "stdout",
     "output_type": "stream",
     "text": [
      "dj\n"
     ]
    }
   ],
   "source": [
    "print(c)"
   ]
  },
  {
   "cell_type": "code",
   "execution_count": 241,
   "metadata": {
    "metadata": {}
   },
   "outputs": [
    {
     "data": {
      "text/plain": [
       "'john doe None jj@gmail.com'"
      ]
     },
     "execution_count": 241,
     "metadata": {},
     "output_type": "execute_result"
    }
   ],
   "source": [
    "f\"{c:full}\""
   ]
  },
  {
   "cell_type": "code",
   "execution_count": 242,
   "metadata": {
    "metadata": {}
   },
   "outputs": [
    {
     "data": {
      "text/plain": [
       "'Contact(jo**d**)'"
      ]
     },
     "execution_count": 242,
     "metadata": {},
     "output_type": "execute_result"
    }
   ],
   "source": [
    "repr(c)"
   ]
  },
  {
   "cell_type": "code",
   "execution_count": 243,
   "metadata": {
    "metadata": {}
   },
   "outputs": [
    {
     "data": {
      "text/plain": [
       "8914913981152480795"
      ]
     },
     "execution_count": 243,
     "metadata": {},
     "output_type": "execute_result"
    }
   ],
   "source": [
    "hash(c)"
   ]
  },
  {
   "cell_type": "code",
   "execution_count": 244,
   "metadata": {
    "metadata": {}
   },
   "outputs": [],
   "source": [
    "c1 = Contact(\"Andy\")\n",
    "c2 = Contact(\"Andy\",\"chill\")\n",
    "c3 = Contact(\"Andy\",\"chill\",\"123\",\"eee\")\n",
    "c4 = Contact(\"Andy\",\"chi\",\"123\")\n",
    "c5 = Contact(\"Andy\",\"chill\",\"123\",\"eee\", display_mode=\"show\")\n"
   ]
  },
  {
   "cell_type": "code",
   "execution_count": 245,
   "metadata": {
    "metadata": {}
   },
   "outputs": [
    {
     "data": {
      "text/plain": [
       "True"
      ]
     },
     "execution_count": 245,
     "metadata": {},
     "output_type": "execute_result"
    }
   ],
   "source": [
    "c2 == c3"
   ]
  },
  {
   "cell_type": "code",
   "execution_count": 246,
   "metadata": {
    "metadata": {}
   },
   "outputs": [
    {
     "data": {
      "text/plain": [
       "True"
      ]
     },
     "execution_count": 246,
     "metadata": {},
     "output_type": "execute_result"
    }
   ],
   "source": [
    "c3==c4"
   ]
  },
  {
   "cell_type": "code",
   "execution_count": 247,
   "metadata": {
    "metadata": {}
   },
   "outputs": [
    {
     "data": {
      "text/plain": [
       "Contact'Andy','chill','123',eee"
      ]
     },
     "execution_count": 247,
     "metadata": {},
     "output_type": "execute_result"
    }
   ],
   "source": [
    "c5"
   ]
  },
  {
   "cell_type": "code",
   "execution_count": 248,
   "metadata": {
    "metadata": {}
   },
   "outputs": [
    {
     "data": {
      "text/plain": [
       "Contact(An**c**)"
      ]
     },
     "execution_count": 248,
     "metadata": {},
     "output_type": "execute_result"
    }
   ],
   "source": [
    "c4"
   ]
  },
  {
   "cell_type": "code",
   "execution_count": 249,
   "metadata": {
    "metadata": {}
   },
   "outputs": [
    {
     "data": {
      "text/plain": [
       "'Andy chi 123 None'"
      ]
     },
     "execution_count": 249,
     "metadata": {},
     "output_type": "execute_result"
    }
   ],
   "source": [
    "f\"{c4:full}\""
   ]
  },
  {
   "cell_type": "markdown",
   "metadata": {},
   "source": [
    "gt dunder"
   ]
  },
  {
   "cell_type": "code",
   "execution_count": 266,
   "metadata": {
    "metadata": {}
   },
   "outputs": [],
   "source": [
    "class Book:\n",
    "    def __init__(self,name,pages):\n",
    "        self.pages= pages\n",
    "        self.name=name\n",
    "    def __gt__(self,other):\n",
    "        if not isinstance(other,Book):\n",
    "            return NotImplemented\n",
    "        return self.pages > other.pages\n",
    "    \n",
    "    def __lt__(self,other):\n",
    "        return NotImplemented \n",
    "    #need to define >= separately \n",
    "    def __ge__(self,other):\n",
    "        return self.pages>=other.pages\n",
    "    \n",
    "    def __le__(self,other):\n",
    "        return NotImplemented"
   ]
  },
  {
   "cell_type": "code",
   "execution_count": 267,
   "metadata": {
    "metadata": {}
   },
   "outputs": [],
   "source": [
    "b=Book(\"lol\",32)\n",
    "b2 = Book(\"gg\",40)"
   ]
  },
  {
   "cell_type": "code",
   "execution_count": 268,
   "metadata": {
    "metadata": {}
   },
   "outputs": [
    {
     "data": {
      "text/plain": [
       "False"
      ]
     },
     "execution_count": 268,
     "metadata": {},
     "output_type": "execute_result"
    }
   ],
   "source": [
    "b>b2"
   ]
  },
  {
   "cell_type": "code",
   "execution_count": 269,
   "metadata": {
    "metadata": {}
   },
   "outputs": [
    {
     "data": {
      "text/plain": [
       "True"
      ]
     },
     "execution_count": 269,
     "metadata": {},
     "output_type": "execute_result"
    }
   ],
   "source": [
    "b2>b"
   ]
  },
  {
   "cell_type": "code",
   "execution_count": 270,
   "metadata": {
    "metadata": {}
   },
   "outputs": [
    {
     "ename": "TypeError",
     "evalue": "'>' not supported between instances of 'int' and 'Book'",
     "output_type": "error",
     "traceback": [
      "\u001b[1;31m---------------------------------------------------------------------------\u001b[0m",
      "\u001b[1;31mTypeError\u001b[0m                                 Traceback (most recent call last)",
      "Cell \u001b[1;32mIn[270], line 1\u001b[0m\n\u001b[1;32m----> 1\u001b[0m \u001b[38;5;241;43m32\u001b[39;49m\u001b[38;5;241;43m>\u001b[39;49m\u001b[43mb\u001b[49m\n",
      "\u001b[1;31mTypeError\u001b[0m: '>' not supported between instances of 'int' and 'Book'"
     ]
    }
   ],
   "source": [
    "32>b"
   ]
  },
  {
   "cell_type": "code",
   "execution_count": 271,
   "metadata": {
    "metadata": {}
   },
   "outputs": [
    {
     "data": {
      "text/plain": [
       "True"
      ]
     },
     "execution_count": 271,
     "metadata": {},
     "output_type": "execute_result"
    }
   ],
   "source": [
    "b<b2"
   ]
  },
  {
   "cell_type": "markdown",
   "metadata": {},
   "source": [
    "no less than dunder defined, but python flips the gt to check for less than because b less than b2 is equal to b2 greater than b"
   ]
  },
  {
   "cell_type": "code",
   "execution_count": 272,
   "metadata": {
    "metadata": {}
   },
   "outputs": [
    {
     "data": {
      "text/plain": [
       "False"
      ]
     },
     "execution_count": 272,
     "metadata": {},
     "output_type": "execute_result"
    }
   ],
   "source": [
    "b>=b2"
   ]
  },
  {
   "cell_type": "code",
   "execution_count": 273,
   "metadata": {
    "metadata": {}
   },
   "outputs": [
    {
     "data": {
      "text/plain": [
       "True"
      ]
     },
     "execution_count": 273,
     "metadata": {},
     "output_type": "execute_result"
    }
   ],
   "source": [
    "b2>=b"
   ]
  },
  {
   "cell_type": "code",
   "execution_count": 274,
   "metadata": {
    "metadata": {}
   },
   "outputs": [
    {
     "data": {
      "text/plain": [
       "True"
      ]
     },
     "execution_count": 274,
     "metadata": {},
     "output_type": "execute_result"
    }
   ],
   "source": [
    "b<=b2"
   ]
  },
  {
   "cell_type": "markdown",
   "metadata": {},
   "source": [
    "a lot of dunders. what will be better approach.\n",
    "functools' total ordering just need eq and any of (gt,lt,ge,le). all other will be implemented automatically."
   ]
  },
  {
   "cell_type": "code",
   "execution_count": 282,
   "metadata": {
    "metadata": {}
   },
   "outputs": [],
   "source": [
    "class Book:\n",
    "    def __init__(self,name,pages):\n",
    "        self.pages= pages\n",
    "        self.name=name\n",
    "    def __gt__(self,other):\n",
    "        if not isinstance(other,Book):\n",
    "            return NotImplemented\n",
    "        return self.pages > other.pages\n",
    "    \n",
    "    def __eq__(self,other):\n",
    "        if not isinstance(other,Book):\n",
    "            return NotImplemented\n",
    "        return self.pages == other.pages"
   ]
  },
  {
   "cell_type": "code",
   "execution_count": 283,
   "metadata": {
    "metadata": {}
   },
   "outputs": [],
   "source": [
    "from functools import total_ordering\n"
   ]
  },
  {
   "cell_type": "code",
   "execution_count": 284,
   "metadata": {
    "metadata": {}
   },
   "outputs": [],
   "source": [
    "Book = total_ordering(Book)"
   ]
  },
  {
   "cell_type": "code",
   "execution_count": 285,
   "metadata": {
    "metadata": {}
   },
   "outputs": [],
   "source": [
    "b=Book(\"lol\",32)\n",
    "b2 = Book(\"gg\",40)"
   ]
  },
  {
   "cell_type": "code",
   "execution_count": 286,
   "metadata": {
    "metadata": {}
   },
   "outputs": [
    {
     "data": {
      "text/plain": [
       "True"
      ]
     },
     "execution_count": 286,
     "metadata": {},
     "output_type": "execute_result"
    }
   ],
   "source": [
    "b<=b2"
   ]
  },
  {
   "cell_type": "code",
   "execution_count": 287,
   "metadata": {
    "metadata": {}
   },
   "outputs": [
    {
     "data": {
      "text/plain": [
       "False"
      ]
     },
     "execution_count": 287,
     "metadata": {},
     "output_type": "execute_result"
    }
   ],
   "source": [
    "b==b2"
   ]
  },
  {
   "cell_type": "code",
   "execution_count": 288,
   "metadata": {
    "metadata": {}
   },
   "outputs": [
    {
     "data": {
      "text/plain": [
       "True"
      ]
     },
     "execution_count": 288,
     "metadata": {},
     "output_type": "execute_result"
    }
   ],
   "source": [
    "b!=b2"
   ]
  },
  {
   "cell_type": "markdown",
   "metadata": {},
   "source": [
    "use total ordering as a decorator"
   ]
  },
  {
   "cell_type": "code",
   "execution_count": 289,
   "metadata": {
    "metadata": {}
   },
   "outputs": [],
   "source": [
    "@total_ordering\n",
    "class Book:\n",
    "    def __init__(self,name,pages):\n",
    "        self.pages= pages\n",
    "        self.name=name\n",
    "    def __gt__(self,other):\n",
    "        if not isinstance(other,Book):\n",
    "            return NotImplemented\n",
    "        return self.pages > other.pages\n",
    "    \n",
    "    def __eq__(self,other):\n",
    "        if not isinstance(other,Book):\n",
    "            return NotImplemented\n",
    "        return self.pages == other.pages"
   ]
  },
  {
   "cell_type": "code",
   "execution_count": 290,
   "metadata": {
    "metadata": {}
   },
   "outputs": [],
   "source": [
    "b=Book(\"lol\",32)\n",
    "b2 = Book(\"gg\",40)"
   ]
  },
  {
   "cell_type": "code",
   "execution_count": 291,
   "metadata": {
    "metadata": {}
   },
   "outputs": [
    {
     "data": {
      "text/plain": [
       "True"
      ]
     },
     "execution_count": 291,
     "metadata": {},
     "output_type": "execute_result"
    }
   ],
   "source": [
    "b!=b2"
   ]
  },
  {
   "cell_type": "markdown",
   "metadata": {},
   "source": [
    "checking bool value of instances - dunder bool. by default all are true."
   ]
  },
  {
   "cell_type": "code",
   "execution_count": 309,
   "metadata": {
    "metadata": {}
   },
   "outputs": [],
   "source": [
    "@total_ordering\n",
    "class Book:\n",
    "    def __init__(self,name,pages):\n",
    "        self.pages= pages\n",
    "        self.name=name\n",
    "    def __gt__(self,other):\n",
    "        if not isinstance(other,Book):\n",
    "            return NotImplemented\n",
    "        return self.pages > other.pages\n",
    "    \n",
    "    def __eq__(self,other):\n",
    "        if not isinstance(other,Book):\n",
    "            return NotImplemented\n",
    "        return self.pages == other.pages\n",
    "    \n",
    "    def __bool__(self):\n",
    "        return bool(self.pages) and not (self.pages<1)"
   ]
  },
  {
   "cell_type": "code",
   "execution_count": 310,
   "metadata": {
    "metadata": {}
   },
   "outputs": [],
   "source": [
    "b = Book(\"lol\",-3)"
   ]
  },
  {
   "cell_type": "code",
   "execution_count": 311,
   "metadata": {
    "metadata": {}
   },
   "outputs": [
    {
     "data": {
      "text/plain": [
       "False"
      ]
     },
     "execution_count": 311,
     "metadata": {},
     "output_type": "execute_result"
    }
   ],
   "source": [
    "bool(b)"
   ]
  },
  {
   "cell_type": "code",
   "execution_count": 315,
   "metadata": {
    "metadata": {}
   },
   "outputs": [],
   "source": [
    "@total_ordering\n",
    "class Book:\n",
    "    def __init__(self,name,pages):\n",
    "        self.pages= pages\n",
    "        self.name=name\n",
    "    def __gt__(self,other):\n",
    "        if not isinstance(other,Book):\n",
    "            return NotImplemented\n",
    "        return self.pages > other.pages\n",
    "    \n",
    "    def __eq__(self,other):\n",
    "        if not isinstance(other,Book):\n",
    "            return NotImplemented\n",
    "        return self.pages == other.pages\n",
    "    \n",
    "    # def __bool__(self):a\n",
    "    #     return bool(self.pages) and not (self.pages<1)\n",
    "    \n",
    "    #no need of bool, if bool not defined then python will check for len\n",
    "    def __len__(self):\n",
    "        return self.pages"
   ]
  },
  {
   "cell_type": "code",
   "execution_count": 316,
   "metadata": {
    "metadata": {}
   },
   "outputs": [],
   "source": [
    "b = Book(\"lol\", 0)"
   ]
  },
  {
   "cell_type": "code",
   "execution_count": 317,
   "metadata": {
    "metadata": {}
   },
   "outputs": [
    {
     "data": {
      "text/plain": [
       "False"
      ]
     },
     "execution_count": 317,
     "metadata": {},
     "output_type": "execute_result"
    }
   ],
   "source": [
    "bool(b)"
   ]
  },
  {
   "cell_type": "code",
   "execution_count": 318,
   "metadata": {
    "metadata": {}
   },
   "outputs": [
    {
     "data": {
      "text/plain": [
       "0"
      ]
     },
     "execution_count": 318,
     "metadata": {},
     "output_type": "execute_result"
    }
   ],
   "source": [
    "len(b)"
   ]
  },
  {
   "cell_type": "code",
   "execution_count": 319,
   "metadata": {
    "metadata": {}
   },
   "outputs": [
    {
     "ename": "ValueError",
     "evalue": "__len__() should return >= 0",
     "output_type": "error",
     "traceback": [
      "\u001b[1;31m---------------------------------------------------------------------------\u001b[0m",
      "\u001b[1;31mValueError\u001b[0m                                Traceback (most recent call last)",
      "Cell \u001b[1;32mIn[319], line 2\u001b[0m\n\u001b[0;32m      1\u001b[0m b\u001b[38;5;241m=\u001b[39mBook (\u001b[38;5;124m\"\u001b[39m\u001b[38;5;124m\"\u001b[39m,\u001b[38;5;241m-\u001b[39m\u001b[38;5;241m98\u001b[39m)\n\u001b[1;32m----> 2\u001b[0m \u001b[38;5;28;43mbool\u001b[39;49m\u001b[43m(\u001b[49m\u001b[43mb\u001b[49m\u001b[43m)\u001b[49m\n",
      "\u001b[1;31mValueError\u001b[0m: __len__() should return >= 0"
     ]
    }
   ],
   "source": [
    "b=Book (\"\",-98)\n",
    "bool(b)"
   ]
  },
  {
   "cell_type": "code",
   "execution_count": 321,
   "metadata": {
    "metadata": {}
   },
   "outputs": [],
   "source": [
    "#thats the problem with len, cant handle negative values unless defined. see below"
   ]
  },
  {
   "cell_type": "code",
   "execution_count": 325,
   "metadata": {
    "metadata": {}
   },
   "outputs": [],
   "source": [
    "@total_ordering\n",
    "class Book:\n",
    "    def __init__(self,name,pages):\n",
    "        self.pages= pages\n",
    "        self.name=name\n",
    "    def __gt__(self,other):\n",
    "        if not isinstance(other,Book):\n",
    "            return NotImplemented\n",
    "        return self.pages > other.pages\n",
    "    \n",
    "    def __eq__(self,other):\n",
    "        if not isinstance(other,Book):\n",
    "            return NotImplemented\n",
    "        return self.pages == other.pages\n",
    "    \n",
    "    # def __bool__(self):a\n",
    "    #     return bool(self.pages) and not (self.pages<1)\n",
    "    \n",
    "    #no need of bool, if bool not defined then python will check for len\n",
    "    def __len__(self):\n",
    "        return self.pages if self.pages>0 else 0\n",
    "    \n",
    "    def __repr__(self):\n",
    "        return f\"Book('{self.name}','{self.pages}')\""
   ]
  },
  {
   "cell_type": "code",
   "execution_count": 326,
   "metadata": {
    "metadata": {}
   },
   "outputs": [
    {
     "data": {
      "text/plain": [
       "False"
      ]
     },
     "execution_count": 326,
     "metadata": {},
     "output_type": "execute_result"
    }
   ],
   "source": [
    "b=Book (\"\",-98)\n",
    "bool(b)"
   ]
  },
  {
   "cell_type": "code",
   "execution_count": 327,
   "metadata": {
    "metadata": {}
   },
   "outputs": [
    {
     "data": {
      "text/plain": [
       "\"Book('','-98')\""
      ]
     },
     "execution_count": 327,
     "metadata": {},
     "output_type": "execute_result"
    }
   ],
   "source": [
    "repr(b)"
   ]
  },
  {
   "cell_type": "code",
   "execution_count": 328,
   "metadata": {
    "metadata": {}
   },
   "outputs": [],
   "source": [
    "b1=(\"lol\",90)\n",
    "b2=(\"ss\",89)"
   ]
  },
  {
   "cell_type": "markdown",
   "metadata": {},
   "source": [
    "Container class to store the instances of another class, Book"
   ]
  },
  {
   "cell_type": "code",
   "execution_count": 341,
   "metadata": {
    "metadata": {}
   },
   "outputs": [],
   "source": [
    "class BookShelf:\n",
    "    def __init__(self,capacity):\n",
    "        self.books=[]\n",
    "        self.capacity=capacity\n",
    "    \n",
    "    def add_book(self,book):\n",
    "        if self.capacity>len(self.books):\n",
    "            self.books.append(book)\n",
    "        else:\n",
    "            TypeError(\"book shelf is full\")\n",
    "    \n",
    "    def __repr__(self):\n",
    "        return str(self.books)\n",
    "    "
   ]
  },
  {
   "cell_type": "code",
   "execution_count": 342,
   "metadata": {
    "metadata": {}
   },
   "outputs": [],
   "source": [
    "shelf = BookShelf(5)"
   ]
  },
  {
   "cell_type": "code",
   "execution_count": 343,
   "metadata": {
    "metadata": {}
   },
   "outputs": [],
   "source": [
    "shelf.add_book(b1)"
   ]
  },
  {
   "cell_type": "code",
   "execution_count": 344,
   "metadata": {
    "metadata": {}
   },
   "outputs": [
    {
     "data": {
      "text/plain": [
       "\"[('lol', 90)]\""
      ]
     },
     "execution_count": 344,
     "metadata": {},
     "output_type": "execute_result"
    }
   ],
   "source": [
    "repr(shelf)"
   ]
  },
  {
   "cell_type": "code",
   "execution_count": 345,
   "metadata": {
    "metadata": {}
   },
   "outputs": [],
   "source": [
    "shelf.add_book(b2)"
   ]
  },
  {
   "cell_type": "code",
   "execution_count": 346,
   "metadata": {
    "metadata": {}
   },
   "outputs": [
    {
     "data": {
      "text/plain": [
       "\"[('lol', 90), ('ss', 89)]\""
      ]
     },
     "execution_count": 346,
     "metadata": {},
     "output_type": "execute_result"
    }
   ],
   "source": [
    "repr(shelf)"
   ]
  },
  {
   "cell_type": "code",
   "execution_count": null,
   "metadata": {},
   "outputs": [],
   "source": []
  }
 ],
 "metadata": {
  "kernelspec": {
   "display_name": "Python 3",
   "language": "python",
   "name": "python3"
  },
  "language_info": {
   "codemirror_mode": {
    "name": "ipython",
    "version": 3
   },
   "file_extension": ".py",
   "mimetype": "text/x-python",
   "name": "python",
   "nbconvert_exporter": "python",
   "pygments_lexer": "ipython3",
   "version": "3.11.1"
  }
 },
 "nbformat": 4,
 "nbformat_minor": 2
}
