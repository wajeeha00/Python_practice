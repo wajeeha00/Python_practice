{
 "cells": [
  {
   "cell_type": "code",
   "execution_count": 21,
   "metadata": {},
   "outputs": [],
   "source": [
    "\n",
    "from string import ascii_lowercase as alphabets\n",
    "import random\n",
    "import time"
   ]
  },
  {
   "cell_type": "code",
   "execution_count": 22,
   "metadata": {},
   "outputs": [
    {
     "name": "stdout",
     "output_type": "stream",
     "text": [
      "abcdefghijklmnopqrstuvwxyz\n"
     ]
    }
   ],
   "source": [
    "print(alphabets)"
   ]
  },
  {
   "cell_type": "code",
   "execution_count": 23,
   "metadata": {},
   "outputs": [
    {
     "data": {
      "text/plain": [
       "True"
      ]
     },
     "execution_count": 23,
     "metadata": {},
     "output_type": "execute_result"
    }
   ],
   "source": [
    "\"1\" < \"a\""
   ]
  },
  {
   "cell_type": "code",
   "execution_count": 24,
   "metadata": {},
   "outputs": [],
   "source": [
    "\n",
    "\n",
    "class BeforeLetter(Exception):\n",
    "    def __str__(self):\n",
    "        return \"nope. it is something before that. try again \"\n",
    "\n",
    "class AfterLetter(Exception):\n",
    "    def __str__(self):\n",
    "        return \"nope. it is something after that. try again \"\n",
    "    \n",
    "\n",
    "class NotALetter(Exception):\n",
    "    def __str__(self):\n",
    "        return \"nope. it is not a letter. try again\"\n",
    "    \n",
    "    \n",
    "\n",
    "    \n"
   ]
  },
  {
   "cell_type": "code",
   "execution_count": 33,
   "metadata": {},
   "outputs": [
    {
     "name": "stdout",
     "output_type": "stream",
     "text": [
      "You got it right!\n",
      "Time taken: 4.431236505508423 seconds. you took 1 before tries and 1 after tries\n"
     ]
    }
   ],
   "source": [
    "finish = False\n",
    "before = 0\n",
    "after =0\n",
    "computer_guess = random.choice(alphabets)\n",
    "user= input(f\"Computer has chosen a letter. can you guess it?\")\n",
    "start = time.time()\n",
    "while not finish:\n",
    "    try:\n",
    "        \n",
    "        if (user not in alphabets):\n",
    "            raise NotALetter()\n",
    "        elif (user == computer_guess):\n",
    "            print(f\"You got it right!\")\n",
    "            finish = True\n",
    "        elif (user<computer_guess):\n",
    "            before +=1\n",
    "            raise AfterLetter()\n",
    "        elif (user>computer_guess):\n",
    "            after +=1\n",
    "            raise BeforeLetter()\n",
    "    except KeyboardInterrupt:\n",
    "        print(\"You have exited the game\")\n",
    "             \n",
    "    except NotALetter as e:\n",
    "        user = input(e)\n",
    "    except BeforeLetter as e:\n",
    "        user = input(e)\n",
    "    except AfterLetter as e:\n",
    "        user = input(e)\n",
    "if finish and 'end' in locals():\n",
    "    end = time.time()\n",
    "    print(f\"Time taken: {end-start} seconds. you took {before} before tries and {after} after tries\")"
   ]
  },
  {
   "cell_type": "code",
   "execution_count": null,
   "metadata": {},
   "outputs": [],
   "source": []
  }
 ],
 "metadata": {
  "kernelspec": {
   "display_name": "Python 3",
   "language": "python",
   "name": "python3"
  },
  "language_info": {
   "codemirror_mode": {
    "name": "ipython",
    "version": 3
   },
   "file_extension": ".py",
   "mimetype": "text/x-python",
   "name": "python",
   "nbconvert_exporter": "python",
   "pygments_lexer": "ipython3",
   "version": "3.9.13"
  }
 },
 "nbformat": 4,
 "nbformat_minor": 2
}
