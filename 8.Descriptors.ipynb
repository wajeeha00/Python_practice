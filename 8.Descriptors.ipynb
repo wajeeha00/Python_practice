{
  "cells": [
    {
      "attachments": {},
      "cell_type": "markdown",
      "metadata": {},
      "source": [
        "## `Attribute Lookup Chain Review`"
      ]
    },
    {
      "cell_type": "code",
      "execution_count": 3,
      "metadata": {},
      "outputs": [],
      "source": [
        "class Child:\n",
        "    name = \"Liam\"\n",
        "\n",
        "    def __init__(self, name):\n",
        "        self.name = name"
      ]
    },
    {
      "cell_type": "code",
      "execution_count": 4,
      "metadata": {},
      "outputs": [
        {
          "data": {
            "text/plain": [
              "mappingproxy({'__module__': '__main__',\n",
              "              'name': 'Liam',\n",
              "              '__init__': <function __main__.Child.__init__(self, name)>,\n",
              "              '__dict__': <attribute '__dict__' of 'Child' objects>,\n",
              "              '__weakref__': <attribute '__weakref__' of 'Child' objects>,\n",
              "              '__doc__': None})"
            ]
          },
          "metadata": {},
          "output_type": "display_data"
        }
      ],
      "source": [
        "Child.__dict__"
      ]
    },
    {
      "cell_type": "code",
      "execution_count": 5,
      "metadata": {},
      "outputs": [],
      "source": [
        "c = Child(\"Anthony\")"
      ]
    },
    {
      "cell_type": "code",
      "execution_count": 6,
      "metadata": {},
      "outputs": [
        {
          "data": {
            "text/plain": [
              "{'name': 'Anthony'}"
            ]
          },
          "metadata": {},
          "output_type": "display_data"
        }
      ],
      "source": [
        "c.__dict__"
      ]
    },
    {
      "cell_type": "code",
      "execution_count": 7,
      "metadata": {},
      "outputs": [
        {
          "data": {
            "text/plain": [
              "'Anthony'"
            ]
          },
          "metadata": {},
          "output_type": "display_data"
        }
      ],
      "source": [
        "c.name"
      ]
    },
    {
      "cell_type": "code",
      "execution_count": 8,
      "metadata": {},
      "outputs": [],
      "source": [
        "class Child:\n",
        "    name = \"Liam\"\n",
        "\n",
        "    def __init__(self, name=None):\n",
        "        if name:\n",
        "            self.name = name\n",
        "\n",
        "\n",
        "c = Child(\"Anthony\")"
      ]
    },
    {
      "cell_type": "code",
      "execution_count": 9,
      "metadata": {},
      "outputs": [
        {
          "data": {
            "text/plain": [
              "'Anthony'"
            ]
          },
          "metadata": {},
          "output_type": "display_data"
        }
      ],
      "source": [
        "c.name"
      ]
    },
    {
      "cell_type": "code",
      "execution_count": 10,
      "metadata": {},
      "outputs": [],
      "source": [
        "c2 = Child()"
      ]
    },
    {
      "cell_type": "code",
      "execution_count": 11,
      "metadata": {},
      "outputs": [
        {
          "data": {
            "text/plain": [
              "'Liam'"
            ]
          },
          "metadata": {},
          "output_type": "display_data"
        }
      ],
      "source": [
        "c2.name"
      ]
    },
    {
      "cell_type": "code",
      "execution_count": 23,
      "metadata": {},
      "outputs": [],
      "source": [
        "class GrandParent(object):\n",
        "    # name = \"Robert\"\n",
        "    ...\n",
        "\n",
        "\n",
        "class Parent(GrandParent):\n",
        "    # name = \"James\"\n",
        "    pass\n",
        "\n",
        "\n",
        "class Child(Parent):\n",
        "    # name = \"Liam\"\n",
        "\n",
        "    def __init__(self, name=None):\n",
        "        if name:\n",
        "            self.name = name\n",
        "\n",
        "\n",
        "c = Child()"
      ]
    },
    {
      "cell_type": "code",
      "execution_count": 22,
      "metadata": {},
      "outputs": [
        {
          "ename": "AttributeError",
          "evalue": "AttributeError: 'Child' object has no attribute 'name'",
          "output_type": "error",
          "traceback": [
            "\u001b[0;31m---------------------------------------------------------------------------",
            "Traceback (most recent call last)",
            "    at line 1 in <module>",
            "AttributeError: 'Child' object has no attribute 'name'"
          ]
        }
      ],
      "source": [
        "c.name"
      ]
    },
    {
      "cell_type": "code",
      "execution_count": null,
      "metadata": {},
      "outputs": [],
      "source": [
        "# __getattr__ implemented in object"
      ]
    },
    {
      "attachments": {},
      "cell_type": "markdown",
      "metadata": {},
      "source": [
        "## `The Descriptor Protocol`"
      ]
    },
    {
      "cell_type": "code",
      "execution_count": 24,
      "metadata": {},
      "outputs": [],
      "source": [
        "class Descriptor:\n",
        "    pass"
      ]
    },
    {
      "cell_type": "code",
      "execution_count": 25,
      "metadata": {},
      "outputs": [],
      "source": [
        "# protcols -> contract between our objects and python"
      ]
    },
    {
      "cell_type": "code",
      "execution_count": 26,
      "metadata": {},
      "outputs": [],
      "source": [
        "# the descriptor protocol:\n",
        "# __get__()\n",
        "# __set__()\n",
        "# __delete__()"
      ]
    },
    {
      "cell_type": "code",
      "execution_count": 27,
      "metadata": {},
      "outputs": [],
      "source": [
        "class Descriptor:\n",
        "    def __get__(self, instance, owner):\n",
        "        pass\n",
        "    \n",
        "    def __set__(self, instance, value):\n",
        "        pass\n",
        "\n",
        "    def __delete__(self, instance):\n",
        "        pass"
      ]
    },
    {
      "attachments": {},
      "cell_type": "markdown",
      "metadata": {},
      "source": [
        "## `Using A Descriptor`"
      ]
    },
    {
      "cell_type": "code",
      "execution_count": 1,
      "metadata": {},
      "outputs": [],
      "source": [
        "# SQL"
      ]
    },
    {
      "cell_type": "code",
      "execution_count": 2,
      "metadata": {},
      "outputs": [],
      "source": [
        "# CREATE TABLE person (first_name varchar(200));"
      ]
    },
    {
      "cell_type": "code",
      "execution_count": null,
      "metadata": {},
      "outputs": [],
      "source": [
        "# ORM -> OO vs SQL"
      ]
    },
    {
      "cell_type": "code",
      "execution_count": null,
      "metadata": {},
      "outputs": [],
      "source": [
        "# target:\n",
        "# > we want to be able to define a PersonTable calss that has a first_name attribute that is text of maximum length 200 "
      ]
    },
    {
      "cell_type": "code",
      "execution_count": 1,
      "metadata": {},
      "outputs": [],
      "source": [
        "class TextField:\n",
        "    def __init__(self, length):\n",
        "        self.length = length\n",
        "\n",
        "    def __get__(self, instance, owner):\n",
        "        return self.value\n",
        "    \n",
        "\n",
        "    def __set__(self, instance, value):\n",
        "        if not type(value) == str:\n",
        "            raise TypeError(\"Value should be a string\")\n",
        "\n",
        "        if len(value) > self.length:\n",
        "            raise ValueError(f\"Value cannot exceed {self.length} characters\")\n",
        "\n",
        "        self.value = value\n",
        "\n",
        "    def __delete__(self, instance):\n",
        "        pass"
      ]
    },
    {
      "cell_type": "code",
      "execution_count": 2,
      "metadata": {},
      "outputs": [],
      "source": [
        "class PersonTable:\n",
        "    first_name = TextField(200)"
      ]
    },
    {
      "cell_type": "code",
      "execution_count": 3,
      "metadata": {},
      "outputs": [],
      "source": [
        "p = PersonTable()"
      ]
    },
    {
      "cell_type": "code",
      "execution_count": 4,
      "metadata": {},
      "outputs": [],
      "source": [
        "p.first_name = 'a' * 30"
      ]
    },
    {
      "cell_type": "code",
      "execution_count": 5,
      "metadata": {},
      "outputs": [
        {
          "data": {
            "text/plain": [
              "'aaaaaaaaaaaaaaaaaaaaaaaaaaaaaa'"
            ]
          },
          "execution_count": 5,
          "metadata": {},
          "output_type": "execute_result"
        }
      ],
      "source": [
        "p.first_name"
      ]
    },
    {
      "cell_type": "code",
      "execution_count": 6,
      "metadata": {},
      "outputs": [],
      "source": [
        "# \"binding beahvior  the precedence is given to the descriptor getter and setter methods over the instance attributes\""
      ]
    },
    {
      "cell_type": "code",
      "execution_count": 7,
      "metadata": {},
      "outputs": [],
      "source": [
        "class PersonTable:\n",
        "    first_name = TextField(200)\n",
        "\n",
        "    def __init__(self, first_name):\n",
        "        self.__dict__[\"first_name\"] = first_name"
      ]
    },
    {
      "cell_type": "code",
      "execution_count": 8,
      "metadata": {},
      "outputs": [],
      "source": [
        "p = PersonTable(\"Robbie\")\n",
        "\n"
      ]
    },
    {
      "cell_type": "code",
      "execution_count": 9,
      "metadata": {},
      "outputs": [],
      "source": [
        "p.first_name = \"Liam\""
      ]
    },
    {
      "cell_type": "code",
      "execution_count": 10,
      "metadata": {},
      "outputs": [
        {
          "data": {
            "text/plain": [
              "{'first_name': 'Robbie'}"
            ]
          },
          "execution_count": 10,
          "metadata": {},
          "output_type": "execute_result"
        }
      ],
      "source": [
        "p.__dict__"
      ]
    },
    {
      "cell_type": "code",
      "execution_count": 11,
      "metadata": {},
      "outputs": [
        {
          "data": {
            "text/plain": [
              "'Liam'"
            ]
          },
          "execution_count": 11,
          "metadata": {},
          "output_type": "execute_result"
        }
      ],
      "source": [
        "p.first_name"
      ]
    },
    {
      "attachments": {},
      "cell_type": "markdown",
      "metadata": {},
      "source": [
        "## `Descriptor Storage`"
      ]
    },
    {
      "cell_type": "code",
      "execution_count": 1,
      "metadata": {},
      "outputs": [],
      "source": [
        "class TextField:\n",
        "    def __init__(self, length):\n",
        "        self.length = length\n",
        "\n",
        "    def __get__(self, instance, owner):\n",
        "        return self.value  \n",
        "\n",
        "    def __set__(self, instance, value):\n",
        "        if not type(value) == str:\n",
        "            raise TypeError(f\"Value should be a string\")\n",
        "            \n",
        "        if len(value) > self.length:\n",
        "            raise ValueError(f\"Value cannot exceed {self.length} characters\")\n",
        "\n",
        "        self.value = value  \n",
        "        \n",
        "    def __delete__(self, instance):\n",
        "        pass\n",
        "\n",
        "\n",
        "class PersonTable:\n",
        "    first_name = TextField(200)"
      ]
    },
    {
      "cell_type": "code",
      "execution_count": 2,
      "metadata": {},
      "outputs": [],
      "source": [
        "p1 = PersonTable()\n",
        "p2 = PersonTable()"
      ]
    },
    {
      "cell_type": "code",
      "execution_count": 3,
      "metadata": {},
      "outputs": [],
      "source": [
        "p1.first_name = \"Andrew\""
      ]
    },
    {
      "cell_type": "code",
      "execution_count": 4,
      "metadata": {},
      "outputs": [
        {
          "data": {
            "text/plain": [
              "'Andrew'"
            ]
          },
          "metadata": {},
          "output_type": "display_data"
        }
      ],
      "source": [
        "p2.first_name"
      ]
    },
    {
      "cell_type": "code",
      "execution_count": 7,
      "metadata": {},
      "outputs": [],
      "source": [
        "class TextField:\n",
        "    def __init__(self, length):\n",
        "        self.length = length\n",
        "        self._data = {}\n",
        "\n",
        "    def __get__(self, instance, owner):\n",
        "        # return self.value  \n",
        "        return self._data.get(instance)\n",
        "\n",
        "    def __set__(self, instance, value):\n",
        "        if not type(value) == str:\n",
        "            raise TypeError(f\"Value should be a string\")\n",
        "            \n",
        "        if len(value) > self.length:\n",
        "            raise ValueError(f\"Value cannot exceed {self.length} characters\")\n",
        "\n",
        "        # self.value = value\n",
        "        self._data[instance] = value\n",
        "\n",
        "        \n",
        "    def __delete__(self, instance):\n",
        "        pass\n",
        "\n",
        "\n",
        "class PersonTable:\n",
        "    first_name = TextField(200)\n",
        "\n",
        "p1 = PersonTable()\n",
        "p2 = PersonTable()"
      ]
    },
    {
      "cell_type": "code",
      "execution_count": 11,
      "metadata": {},
      "outputs": [],
      "source": [
        "p1.first_name = \"Andrew\"\n",
        "p2.first_name = \"Bonnie\""
      ]
    },
    {
      "cell_type": "code",
      "execution_count": 13,
      "metadata": {},
      "outputs": [
        {
          "data": {
            "text/plain": [
              "('Andrew', 'Bonnie')"
            ]
          },
          "metadata": {},
          "output_type": "display_data"
        }
      ],
      "source": [
        "p1.first_name, p2.first_name"
      ]
    },
    {
      "cell_type": "code",
      "execution_count": 12,
      "metadata": {},
      "outputs": [],
      "source": [
        "# \"memory leak\" \n",
        "#self._data[instance] = value ---hard reference---> instance\n",
        "# this prevents the garbage collector to remove instances not being used, thus memory leak"
      ]
    },
    {
      "cell_type": "markdown",
      "metadata": {},
      "source": [
        "sol -- use if instead dictionary"
      ]
    },
    {
      "cell_type": "code",
      "execution_count": 15,
      "metadata": {},
      "outputs": [
        {
          "data": {
            "text/plain": [
              "140194722656416"
            ]
          },
          "metadata": {},
          "output_type": "display_data"
        }
      ],
      "source": [
        "id(p1)"
      ]
    },
    {
      "cell_type": "code",
      "execution_count": null,
      "metadata": {},
      "outputs": [],
      "source": [
        "# weakkey opposite of hard references"
      ]
    },
    {
      "cell_type": "code",
      "execution_count": 16,
      "metadata": {},
      "outputs": [],
      "source": [
        "from weakref import WeakKeyDictionary"
      ]
    },
    {
      "cell_type": "code",
      "execution_count": 13,
      "metadata": {},
      "outputs": [],
      "source": [
        "# descriptor -- use instance specific storage -- send data with field name where it should be stored\n",
        "# instance.__dict__[\"fieldname \"] direct storage"
      ]
    },
    {
      "attachments": {},
      "cell_type": "markdown",
      "metadata": {},
      "source": [
        "## `Even Better: Instance Storage`"
      ]
    },
    {
      "cell_type": "code",
      "execution_count": 27,
      "metadata": {},
      "outputs": [],
      "source": [
        "class TextField:\n",
        "    def __init__(self, length):\n",
        "        self.length = length\n",
        "        self._data = {}\n",
        "\n",
        "    def __get__(self, instance, owner):\n",
        "        # return self._data.get(instance)\n",
        "        return instance.__dict__.get(\"text_field_value\")\n",
        "\n",
        "    def __set__(self, instance, value):\n",
        "        if not type(value) == str:\n",
        "            raise TypeError(f\"Value should be a string\")\n",
        "\n",
        "        if len(value) > self.length:\n",
        "            raise ValueError(f\"Value cannot exceed {self.length} characters\")\n",
        "\n",
        "        # self._data[instance] = value\n",
        "        instance.__dict__[\"text_field_value\"] = value\n",
        "\n",
        "    def __delete__(self, instance):\n",
        "        pass\n",
        "\n",
        "\n",
        "class PersonTable:\n",
        "    first_name = TextField(200)\n",
        "\n",
        "\n",
        "p1 = PersonTable()\n",
        "p2 = PersonTable()\n",
        "\n",
        "p1.first_name = \"Andrew\"\n",
        "p2.first_name = \"Billy\""
      ]
    },
    {
      "cell_type": "code",
      "execution_count": 28,
      "metadata": {},
      "outputs": [
        {
          "data": {
            "text/plain": [
              "('Andrew', 'Billy')"
            ]
          },
          "metadata": {},
          "output_type": "display_data"
        }
      ],
      "source": [
        "p1.first_name, p2.first_name "
      ]
    },
    {
      "cell_type": "code",
      "execution_count": 29,
      "metadata": {},
      "outputs": [
        {
          "data": {
            "text/plain": [
              "({'text_field_value': 'Andrew'}, {'text_field_value': 'Billy'})"
            ]
          },
          "metadata": {},
          "output_type": "display_data"
        }
      ],
      "source": [
        "p1.__dict__, p2.__dict__"
      ]
    },
    {
      "cell_type": "code",
      "execution_count": 30,
      "metadata": {},
      "outputs": [],
      "source": [
        "class PersonTable:\n",
        "    first_name = TextField(200)\n",
        "    \n",
        "    last_name = TextField(100)"
      ]
    },
    {
      "cell_type": "code",
      "execution_count": 31,
      "metadata": {},
      "outputs": [],
      "source": [
        "p1 = PersonTable()"
      ]
    },
    {
      "cell_type": "code",
      "execution_count": 32,
      "metadata": {},
      "outputs": [],
      "source": [
        "p1.first_name = \"Andrew\"\n",
        "p1.last_name = \"Greenfield\""
      ]
    },
    {
      "cell_type": "code",
      "execution_count": 34,
      "metadata": {},
      "outputs": [
        {
          "data": {
            "text/plain": [
              "('Greenfield', 'Greenfield')"
            ]
          },
          "metadata": {},
          "output_type": "display_data"
        }
      ],
      "source": [
        "p1.first_name, p1.last_name"
      ]
    },
    {
      "cell_type": "code",
      "execution_count": 35,
      "metadata": {},
      "outputs": [
        {
          "data": {
            "text/plain": [
              "{'text_field_value': 'Greenfield'}"
            ]
          },
          "metadata": {},
          "output_type": "display_data"
        }
      ],
      "source": [
        "p1.__dict__"
      ]
    },
    {
      "cell_type": "code",
      "execution_count": 39,
      "metadata": {},
      "outputs": [],
      "source": [
        "class TextField:\n",
        "    def __init__(self, length, field_name):\n",
        "        self.length = length\n",
        "        self.field_name = field_name\n",
        "\n",
        "    def __get__(self, instance, owner):\n",
        "        return instance.__dict__.get(f\"TextField_{self.field_name}\")\n",
        "\n",
        "    def __set__(self, instance, value):\n",
        "        if not type(value) == str:\n",
        "            raise TypeError(f\"Value should be a string\")\n",
        "\n",
        "        if len(value) > self.length:\n",
        "            raise ValueError(f\"Value cannot exceed {self.length} characters\")\n",
        "\n",
        "        instance.__dict__[f\"TextField_{self.field_name}\"] = value\n",
        "\n",
        "    def __delete__(self, instance):\n",
        "        pass"
      ]
    },
    {
      "cell_type": "code",
      "execution_count": 42,
      "metadata": {},
      "outputs": [
        {
          "data": {
            "text/plain": [
              "('Andrew', 'Greenfield')"
            ]
          },
          "metadata": {},
          "output_type": "display_data"
        }
      ],
      "source": [
        "class PersonTable:\n",
        "    first_name = TextField(200, \"first_name\")\n",
        "    \n",
        "    last_name = TextField(100, \"last_name\")\n",
        "\n",
        "\n",
        "p1 = PersonTable()\n",
        "\n",
        "p1.first_name = \"Andrew\"\n",
        "p1.last_name = \"Greenfield\"\n",
        "\n",
        "p1.first_name, p1.last_name"
      ]
    },
    {
      "attachments": {},
      "cell_type": "markdown",
      "metadata": {},
      "source": [
        "## `Using __set_name__`"
      ]
    },
    {
      "cell_type": "code",
      "execution_count": 14,
      "metadata": {},
      "outputs": [],
      "source": [
        "# descriptor -- use instance specific storage -- send data with field name where it should be stored\n",
        "# instance.__dict__[\"fieldname \"] direct storage\n",
        "# instead of field now use set name which will take the name of the field and store the value in the instance dict, no need to declare it separately"
      ]
    },
    {
      "cell_type": "code",
      "execution_count": 52,
      "metadata": {},
      "outputs": [],
      "source": [
        "class TextField:\n",
        "    def __init__(self, length):\n",
        "        self.length = length\n",
        "\n",
        "    def __set_name__(self, owner, name):\n",
        "        self.name = name\n",
        "\n",
        "    def __get__(self, instance, owner):\n",
        "        return instance.__dict__.get(f\"TextField_{self.name}\")\n",
        "\n",
        "    def __set__(self, instance, value):\n",
        "        if not type(value) == str:\n",
        "            raise TypeError(f\"Value should be a string\")\n",
        "\n",
        "        if len(value) > self.length:\n",
        "            raise ValueError(f\"Value cannot exceed {self.length} characters\")\n",
        "\n",
        "        instance.__dict__[f\"TextField_{self.name}\"] = value\n",
        "\n",
        "    def __delete__(self, instance):\n",
        "        pass"
      ]
    },
    {
      "cell_type": "code",
      "execution_count": 53,
      "metadata": {},
      "outputs": [
        {
          "data": {
            "text/plain": [
              "('Andrew', 'Greenfield')"
            ]
          },
          "metadata": {},
          "output_type": "display_data"
        }
      ],
      "source": [
        "class PersonTable:\n",
        "    first_name = TextField(200)\n",
        "    \n",
        "    last_name = TextField(100)\n",
        "\n",
        "\n",
        "p1 = PersonTable()\n",
        "\n",
        "p1.first_name = \"Andrew\"\n",
        "p1.last_name = \"Greenfield\"\n",
        "\n",
        "p1.first_name, p1.last_name"
      ]
    },
    {
      "attachments": {},
      "cell_type": "markdown",
      "metadata": {},
      "source": [
        "## `Tying Up Loose Ends`"
      ]
    },
    {
      "cell_type": "code",
      "execution_count": 18,
      "metadata": {},
      "outputs": [],
      "source": [
        "class TextField:\n",
        "    def __init__(self, length):\n",
        "        self.length = length\n",
        "\n",
        "    def __set_name__(self, owner, name):\n",
        "        # print(owner) - class name person table\n",
        "        self.name = name\n",
        "\n",
        "    def __get__(self, instance, owner):\n",
        "        if instance is None:\n",
        "            return self\n",
        "\n",
        "        return instance.__dict__.get(f\"TextField_{self.name}\")\n",
        "\n",
        "    def __set__(self, instance, value):\n",
        "        if not type(value) == str:\n",
        "            raise TypeError(f\"Value should be a string\")\n",
        "\n",
        "        if len(value) > self.length:\n",
        "            raise ValueError(f\"Value cannot exceed {self.length} characters\")\n",
        "\n",
        "        instance.__dict__[f\"TextField_{self.name}\"] = value\n",
        "\n",
        "    def __delete__(self, instance):\n",
        "        del instance.__dict__[f\"TextField_{self.name}\"]\n",
        "\n",
        "class PersonTable:\n",
        "    first_name = TextField(200)    \n",
        "    last_name = TextField(100)"
      ]
    },
    {
      "cell_type": "code",
      "execution_count": null,
      "metadata": {},
      "outputs": [],
      "source": []
    },
    {
      "cell_type": "code",
      "execution_count": 60,
      "metadata": {},
      "outputs": [
        {
          "data": {
            "text/plain": [
              "mappingproxy({'__module__': '__main__',\n",
              "              'first_name': <__main__.TextField at 0x7f81a0fcc940>,\n",
              "              'last_name': <__main__.TextField at 0x7f81a0be50a0>,\n",
              "              '__dict__': <attribute '__dict__' of 'PersonTable' objects>,\n",
              "              '__weakref__': <attribute '__weakref__' of 'PersonTable' objects>,\n",
              "              '__doc__': None})"
            ]
          },
          "metadata": {},
          "output_type": "display_data"
        }
      ],
      "source": [
        "PersonTable.__dict__"
      ]
    },
    {
      "cell_type": "code",
      "execution_count": 15,
      "metadata": {},
      "outputs": [],
      "source": [
        "class NonPersonTable:\n",
        "    first_name = TextField(200)    \n",
        "    last_name = TextField(100)\n",
        "#owners"
      ]
    },
    {
      "cell_type": "code",
      "execution_count": 70,
      "metadata": {},
      "outputs": [
        {
          "data": {
            "text/plain": [
              "<__main__.TextField at 0x7f81a11ac9a0>"
            ]
          },
          "metadata": {},
          "output_type": "display_data"
        }
      ],
      "source": [
        "PersonTable.first_name"
      ]
    },
    {
      "cell_type": "code",
      "execution_count": 83,
      "metadata": {},
      "outputs": [],
      "source": [
        "p1 = PersonTable()\n",
        "p1.first_name = \"Andy\""
      ]
    },
    {
      "cell_type": "code",
      "execution_count": 84,
      "metadata": {},
      "outputs": [
        {
          "data": {
            "text/plain": [
              "'Andy'"
            ]
          },
          "metadata": {},
          "output_type": "display_data"
        }
      ],
      "source": [
        "p1.first_name"
      ]
    },
    {
      "cell_type": "code",
      "execution_count": 85,
      "metadata": {},
      "outputs": [],
      "source": [
        "del p1.first_name"
      ]
    },
    {
      "cell_type": "code",
      "execution_count": 86,
      "metadata": {},
      "outputs": [],
      "source": [
        "p1.first_name"
      ]
    },
    {
      "attachments": {},
      "cell_type": "markdown",
      "metadata": {},
      "source": [
        "## `Non-Data Descriptors`"
      ]
    },
    {
      "cell_type": "code",
      "execution_count": 19,
      "metadata": {},
      "outputs": [],
      "source": [
        "# only getter method\n",
        "#precedence comes after data decriptor, instance method"
      ]
    },
    {
      "cell_type": "code",
      "execution_count": 87,
      "metadata": {},
      "outputs": [],
      "source": [
        "class TextField:\n",
        "    def __init__(self, length):\n",
        "        self.length = length\n",
        "\n",
        "    def __set_name__(self, owner, name):\n",
        "        self.name = name\n",
        "\n",
        "    def __get__(self, instance, owner):\n",
        "        if instance is None:\n",
        "            return self\n",
        "\n",
        "        return instance.__dict__.get(f\"TextField_{self.name}\")\n",
        "\n",
        "    def __set__(self, instance, value):\n",
        "        if not type(value) == str:\n",
        "            raise TypeError(f\"Value should be a string\")\n",
        "\n",
        "        if len(value) > self.length:\n",
        "            raise ValueError(f\"Value cannot exceed {self.length} characters\")\n",
        "\n",
        "        instance.__dict__[f\"TextField_{self.name}\"] = value\n",
        "\n",
        "    def __delete__(self, instance):\n",
        "        del instance.__dict__[f\"TextField_{self.name}\"]"
      ]
    },
    {
      "cell_type": "code",
      "execution_count": 126,
      "metadata": {},
      "outputs": [],
      "source": [
        "from random import randint\n",
        "\n",
        "class LuckyNumber:\n",
        "    def __get__(self, instance, owner):\n",
        "        return randint(1, 100)\n",
        "\n",
        "    def __set__(self, instance, value):\n",
        "        pass"
      ]
    },
    {
      "cell_type": "code",
      "execution_count": 134,
      "metadata": {},
      "outputs": [
        {
          "data": {
            "text/plain": [
              "74"
            ]
          },
          "metadata": {},
          "output_type": "display_data"
        }
      ],
      "source": [
        "class PersonTable:\n",
        "    first_name = TextField(200)    \n",
        "    last_name = TextField(100)\n",
        "    personal_no = LuckyNumber()\n",
        "\n",
        "    def __init__(self, personal_no):\n",
        "        self.personal_no = personal_no\n",
        "\n",
        "\n",
        "p = PersonTable(personal_no=10)\n",
        "\n",
        "p.personal_no"
      ]
    },
    {
      "cell_type": "code",
      "execution_count": 124,
      "metadata": {},
      "outputs": [
        {
          "data": {
            "text/plain": [
              "66"
            ]
          },
          "metadata": {},
          "output_type": "display_data"
        }
      ],
      "source": [
        "PersonTable.personal_no"
      ]
    },
    {
      "attachments": {},
      "cell_type": "markdown",
      "metadata": {},
      "source": [
        "## `Aren't Properties Just Better?`"
      ]
    },
    {
      "cell_type": "code",
      "execution_count": 136,
      "metadata": {},
      "outputs": [],
      "source": [
        "class TextField:\n",
        "    def __init__(self, length):\n",
        "        self.length = length\n",
        "\n",
        "    def __set_name__(self, owner, name):\n",
        "        self.name = name\n",
        "\n",
        "    def __get__(self, instance, owner):\n",
        "        if instance is None:\n",
        "            return self\n",
        "\n",
        "        return instance.__dict__.get(f'TextField_{self.name}')\n",
        "\n",
        "    def __set__(self, instance, value):\n",
        "        if not type(value) == str:\n",
        "            raise TypeError(f\"Value should be a string\")\n",
        "\n",
        "        if len(value) > self.length:\n",
        "            raise ValueError(f\"Value cannot exceed {self.length} characters\")\n",
        "\n",
        "        instance.__dict__[f'TextField_{self.name}'] = value\n",
        "\n",
        "    def __delete__(self, instance):\n",
        "        del instance.__dict__[f'TextField_{self.name}']\n",
        "\n",
        "\n",
        "class PersonTableWithDescriptor:\n",
        "    first_name = TextField(200)"
      ]
    },
    {
      "cell_type": "code",
      "execution_count": 145,
      "metadata": {},
      "outputs": [],
      "source": [
        "class PersonTableWithProps:\n",
        "    def __init__(self, first_name_length):\n",
        "        self._TextField_first_name = None\n",
        "        self.first_name_length = first_name_length\n",
        "\n",
        "    @property\n",
        "    def first_name(self):\n",
        "        return self._TextField_first_name\n",
        "\n",
        "    @first_name.setter\n",
        "    def first_name(self, value):\n",
        "        if not type(value) == str:\n",
        "            raise TypeError(f\"Value should be a string\")\n",
        "\n",
        "        if len(value) > self.first_name_length:\n",
        "            raise ValueError(f\"Value cannot exceed {self.first_name_length} characters\")\n",
        "\n",
        "        self._TextField_first_name = value\n",
        "    \n",
        "    @first_name.deleter\n",
        "    def first_name(self):\n",
        "        del self._TextField_first_name"
      ]
    },
    {
      "cell_type": "code",
      "execution_count": 147,
      "metadata": {},
      "outputs": [],
      "source": [
        "p = PersonTableWithProps(200)"
      ]
    },
    {
      "cell_type": "code",
      "execution_count": 148,
      "metadata": {},
      "outputs": [
        {
          "ename": "TypeError",
          "evalue": "TypeError: Value should be a string",
          "output_type": "error",
          "traceback": [
            "\u001b[0;31m---------------------------------------------------------------------------",
            "Traceback (most recent call last)",
            "    at line 1 in <module>",
            "    at line 13 in first_name(self, value)",
            "TypeError: Value should be a string"
          ]
        }
      ],
      "source": [
        "p.first_name = 2"
      ]
    },
    {
      "cell_type": "code",
      "execution_count": 149,
      "metadata": {},
      "outputs": [
        {
          "ename": "ValueError",
          "evalue": "ValueError: Value cannot exceed 200 characters",
          "output_type": "error",
          "traceback": [
            "\u001b[0;31m---------------------------------------------------------------------------",
            "Traceback (most recent call last)",
            "    at line 1 in <module>",
            "    at line 16 in first_name(self, value)",
            "ValueError: Value cannot exceed 200 characters"
          ]
        }
      ],
      "source": [
        "p.first_name = \"a\" * 2000"
      ]
    },
    {
      "cell_type": "code",
      "execution_count": 150,
      "metadata": {},
      "outputs": [],
      "source": [
        "p.first_name = \"Amadeus\""
      ]
    },
    {
      "cell_type": "code",
      "execution_count": 151,
      "metadata": {},
      "outputs": [],
      "source": [
        "p.__dict__[\"first_name\"] = \"won't be able to get here...\""
      ]
    },
    {
      "cell_type": "code",
      "execution_count": 152,
      "metadata": {},
      "outputs": [
        {
          "data": {
            "text/plain": [
              "{'_TextField_first_name': 'Amadeus',\n",
              " 'first_name_length': 200,\n",
              " 'first_name': \"won't be able to get here...\"}"
            ]
          },
          "metadata": {},
          "output_type": "display_data"
        }
      ],
      "source": [
        "p.__dict__"
      ]
    },
    {
      "cell_type": "code",
      "execution_count": 153,
      "metadata": {},
      "outputs": [
        {
          "data": {
            "text/plain": [
              "'Amadeus'"
            ]
          },
          "metadata": {},
          "output_type": "display_data"
        }
      ],
      "source": [
        "p.first_name"
      ]
    },
    {
      "cell_type": "code",
      "execution_count": 154,
      "metadata": {},
      "outputs": [],
      "source": [
        "# add 2 new fields:\n",
        "# * last_name\n",
        "# * occupation"
      ]
    },
    {
      "cell_type": "code",
      "execution_count": 20,
      "metadata": {},
      "outputs": [],
      "source": [
        "#with prop, you have to repet all for each attribute unlike descriptor"
      ]
    },
    {
      "cell_type": "code",
      "execution_count": null,
      "metadata": {},
      "outputs": [],
      "source": [
        "class PersonTableWithProps:\n",
        "    def __init__(self, first_name_length, last_name_length, occupation_length):\n",
        "        self._TextField_first_name = None\n",
        "        self._TextField_last_name = None\n",
        "        self._TextField_occupation = None\n",
        "\n",
        "        self.first_name_length = first_name_length\n",
        "        self.last_name_length = last_name_length\n",
        "        self.occupation_length = occupation_length\n",
        "\n",
        "    @property\n",
        "    def first_name(self):\n",
        "        return self._TextField_first_name\n",
        "\n",
        "    @first_name.setter\n",
        "    def first_name(self, value):\n",
        "        if not type(value) == str:\n",
        "            raise TypeError(f\"Value should be a string\")\n",
        "\n",
        "        if len(value) > self.first_name_length:\n",
        "            raise ValueError(f\"Value cannot exceed {self.first_name_length} characters\")\n",
        "\n",
        "        self._TextField_first_name = value\n",
        "    \n",
        "    @first_name.deleter\n",
        "    def first_name(self):\n",
        "        del self._TextField_first_name\n",
        "\n",
        "    @property\n",
        "    def first_name(self):\n",
        "        return self._TextField_first_name\n",
        "\n",
        "    @first_name.setter\n",
        "    def first_name(self, value):\n",
        "        if not type(value) == str:\n",
        "            raise TypeError(f\"Value should be a string\")\n",
        "\n",
        "        if len(value) > self.first_name_length:\n",
        "            raise ValueError(f\"Value cannot exceed {self.first_name_length} characters\")\n",
        "\n",
        "        self._TextField_first_name = value\n",
        "    \n",
        "    @first_name.deleter\n",
        "    def first_name(self):\n",
        "        del self._TextField_first_name\n",
        "\n",
        "    @property\n",
        "    def first_name(self):\n",
        "        return self._TextField_first_name\n",
        "\n",
        "    @first_name.setter\n",
        "    def first_name(self, value):\n",
        "        if not type(value) == str:\n",
        "            raise TypeError(f\"Value should be a string\")\n",
        "\n",
        "        if len(value) > self.first_name_length:\n",
        "            raise ValueError(f\"Value cannot exceed {self.first_name_length} characters\")\n",
        "\n",
        "        self._TextField_first_name = value\n",
        "    \n",
        "    @first_name.deleter\n",
        "    def first_name(self):\n",
        "        del self._TextField_first_name"
      ]
    },
    {
      "cell_type": "code",
      "execution_count": null,
      "metadata": {},
      "outputs": [],
      "source": [
        "class PersonTableWithDescriptor:\n",
        "    first_name = TextField(200)\n",
        "    last_name = TextField(50)\n",
        "    occupation = TextField(100)"
      ]
    },
    {
      "cell_type": "code",
      "execution_count": 155,
      "metadata": {},
      "outputs": [],
      "source": [
        "# mercedez benz is better than automobiles"
      ]
    },
    {
      "cell_type": "code",
      "execution_count": 156,
      "metadata": {},
      "outputs": [],
      "source": [
        "# properties are better than descirptors"
      ]
    },
    {
      "attachments": {},
      "cell_type": "markdown",
      "metadata": {},
      "source": [
        "## `BONUS: Similar How?`"
      ]
    },
    {
      "cell_type": "code",
      "execution_count": 157,
      "metadata": {},
      "outputs": [],
      "source": [
        "class TextField:\n",
        "    def __init__(self, length):\n",
        "        self.length = length\n",
        "\n",
        "    def __set_name__(self, owner, name):\n",
        "        self.name = name\n",
        "\n",
        "    def __get__(self, instance, owner):\n",
        "        if instance is None:\n",
        "            return self\n",
        "\n",
        "        return instance.__dict__.get(f'TextField_{self.name}')\n",
        "\n",
        "    def __set__(self, instance, value):\n",
        "        if not type(value) == str:\n",
        "            raise TypeError(f\"Value should be a string\")\n",
        "\n",
        "        if len(value) > self.length:\n",
        "            raise ValueError(f\"Value cannot exceed {self.length} characters\")\n",
        "\n",
        "        instance.__dict__[f'TextField_{self.name}'] = value\n",
        "\n",
        "    def __delete__(self, instance):\n",
        "        del instance.__dict__[f'TextField_{self.name}']"
      ]
    },
    {
      "cell_type": "code",
      "execution_count": 159,
      "metadata": {},
      "outputs": [],
      "source": [
        "class PersonTableWithProps:\n",
        "    def __init__(self, first_name_length):\n",
        "        self._TextField_first_name = None\n",
        "        self.first_name_length = first_name_length\n",
        "\n",
        "    def get_first_name(self):\n",
        "        return self._TextField_first_name\n",
        "\n",
        "    def set_first_name(self, value):\n",
        "        if not type(value) == str:\n",
        "            raise TypeError(f\"Value should be a string\")\n",
        "\n",
        "        if len(value) > self.first_name_length:\n",
        "            raise ValueError(f\"Value cannot exceed {self.first_name_length} characters\")\n",
        "\n",
        "        self._TextField_first_name = value\n",
        "    \n",
        "    def del_first_name(self):\n",
        "        del self._TextField_first_name\n",
        "\n",
        "    first_name = property(fget=get_first_name, fset=set_first_name, fdel=del_first_name)"
      ]
    },
    {
      "cell_type": "code",
      "execution_count": 160,
      "metadata": {},
      "outputs": [],
      "source": [
        "class PersonTable:\n",
        "    first_name = TextField(200)"
      ]
    },
    {
      "cell_type": "code",
      "execution_count": 161,
      "metadata": {},
      "outputs": [],
      "source": [
        "# properties\n",
        "# classmethod\n",
        "# staticmethod\n",
        "# __slots__\n",
        "\n",
        "# ...all powered by descirptors under the hood."
      ]
    },
    {
      "cell_type": "code",
      "execution_count": 156,
      "metadata": {},
      "outputs": [],
      "source": []
    },
    {
      "cell_type": "code",
      "execution_count": 156,
      "metadata": {},
      "outputs": [],
      "source": []
    },
    {
      "cell_type": "code",
      "execution_count": 156,
      "metadata": {},
      "outputs": [],
      "source": []
    },
    {
      "cell_type": "code",
      "execution_count": null,
      "metadata": {},
      "outputs": [],
      "source": []
    },
    {
      "cell_type": "code",
      "execution_count": null,
      "metadata": {},
      "outputs": [],
      "source": []
    },
    {
      "cell_type": "code",
      "execution_count": null,
      "metadata": {},
      "outputs": [],
      "source": []
    },
    {
      "cell_type": "code",
      "execution_count": null,
      "metadata": {},
      "outputs": [],
      "source": []
    },
    {
      "cell_type": "code",
      "execution_count": null,
      "metadata": {},
      "outputs": [],
      "source": []
    },
    {
      "cell_type": "code",
      "execution_count": null,
      "metadata": {},
      "outputs": [],
      "source": []
    },
    {
      "cell_type": "code",
      "execution_count": null,
      "metadata": {},
      "outputs": [],
      "source": []
    },
    {
      "cell_type": "code",
      "execution_count": null,
      "metadata": {},
      "outputs": [],
      "source": []
    },
    {
      "cell_type": "code",
      "execution_count": null,
      "metadata": {},
      "outputs": [],
      "source": []
    },
    {
      "cell_type": "code",
      "execution_count": 42,
      "metadata": {},
      "outputs": [],
      "source": []
    },
    {
      "cell_type": "code",
      "execution_count": null,
      "metadata": {},
      "outputs": [],
      "source": []
    },
    {
      "cell_type": "code",
      "execution_count": null,
      "metadata": {},
      "outputs": [],
      "source": []
    },
    {
      "cell_type": "code",
      "execution_count": null,
      "metadata": {},
      "outputs": [],
      "source": []
    },
    {
      "cell_type": "code",
      "execution_count": null,
      "metadata": {},
      "outputs": [],
      "source": []
    },
    {
      "cell_type": "code",
      "execution_count": null,
      "metadata": {},
      "outputs": [],
      "source": []
    },
    {
      "cell_type": "code",
      "execution_count": null,
      "metadata": {},
      "outputs": [],
      "source": []
    },
    {
      "cell_type": "code",
      "execution_count": null,
      "metadata": {},
      "outputs": [],
      "source": []
    },
    {
      "cell_type": "code",
      "execution_count": null,
      "metadata": {},
      "outputs": [],
      "source": []
    },
    {
      "cell_type": "code",
      "execution_count": null,
      "metadata": {},
      "outputs": [],
      "source": []
    },
    {
      "cell_type": "code",
      "execution_count": null,
      "metadata": {},
      "outputs": [],
      "source": []
    },
    {
      "cell_type": "code",
      "execution_count": null,
      "metadata": {},
      "outputs": [],
      "source": []
    },
    {
      "cell_type": "code",
      "execution_count": null,
      "metadata": {},
      "outputs": [],
      "source": []
    },
    {
      "cell_type": "code",
      "execution_count": null,
      "metadata": {},
      "outputs": [],
      "source": []
    },
    {
      "cell_type": "code",
      "execution_count": null,
      "metadata": {},
      "outputs": [],
      "source": []
    }
  ],
  "metadata": {
    "kernelspec": {
      "display_name": "Python 3",
      "language": "python",
      "name": "python3"
    },
    "language_info": {
      "codemirror_mode": {
        "name": "ipython",
        "version": 3
      },
      "file_extension": ".py",
      "mimetype": "text/x-python",
      "name": "python",
      "nbconvert_exporter": "python",
      "pygments_lexer": "ipython3",
      "version": "3.9.13"
    }
  },
  "nbformat": 4,
  "nbformat_minor": 0
}
