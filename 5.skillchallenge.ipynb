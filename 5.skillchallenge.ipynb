{
 "cells": [
  {
   "cell_type": "code",
   "execution_count": 5,
   "metadata": {},
   "outputs": [],
   "source": [
    "class BankAccount:\n",
    "    def __init__(self, initial_balance=0):\n",
    "        self.initial_balance = initial_balance\n",
    "\n",
    "    def deposit(self, amount):\n",
    "        if amount < 0:\n",
    "            raise ValueError(\"Deposit amount must be positive\")\n",
    "        self.initial_balance += amount\n",
    "        print (f\"Deposited {amount} into account\")\n",
    "    \n",
    "    def withdraw(self, amount):\n",
    "        if amount < 0:\n",
    "            raise ValueError(\"Withdraw amount must be positive\")\n",
    "        elif amount <self.initial_balance:\n",
    "            raise TypeError(\"Insufficient funds\")\n",
    "        else:\n",
    "            self.initial_balance -= amount\n",
    "    \n",
    "    def __repr__(self):\n",
    "        return f\"A {self.__class__.__name__} with {self.initial_balance} in it\"\n",
    "    \n",
    "    @property\n",
    "    def balance(self):\n",
    "        return self.initial_balance\n",
    "\n",
    "class SavingsBankAccount(BankAccount):\n",
    "    def pay_interest(self,interest_rate=0.0035):\n",
    "        self.initial_balance += self.initial_balance * interest_rate\n",
    "\n",
    "class HighInterestBankAccount(SavingsBankAccount):\n",
    "    def pay_interest(self,interest_rate=0.007):\n",
    "        super().pay_interest(interest_rate)\n",
    "    def withdraw(self, amount):\n",
    "        super().withdraw(amount)\n",
    "        self.initial_balance -= 5\n",
    "\n",
    "class LockedInBankAccount(HighInterestBankAccount):\n",
    "    def withdraw(self, amount):\n",
    "        raise ValueError(\"Cannot withdraw from a locked in account\")\n",
    "    def pay_interest(self, interest_rate=0.009):\n",
    "        return super().pay_interest(interest_rate)\n",
    "    \n",
    "        "
   ]
  },
  {
   "cell_type": "code",
   "execution_count": 6,
   "metadata": {},
   "outputs": [],
   "source": [
    "b = BankAccount(100)"
   ]
  },
  {
   "cell_type": "code",
   "execution_count": 7,
   "metadata": {},
   "outputs": [
    {
     "data": {
      "text/plain": [
       "A BankAccount with 100 in it"
      ]
     },
     "execution_count": 7,
     "metadata": {},
     "output_type": "execute_result"
    }
   ],
   "source": [
    "b"
   ]
  },
  {
   "cell_type": "code",
   "execution_count": null,
   "metadata": {},
   "outputs": [],
   "source": []
  }
 ],
 "metadata": {
  "kernelspec": {
   "display_name": "Python 3",
   "language": "python",
   "name": "python3"
  },
  "language_info": {
   "codemirror_mode": {
    "name": "ipython",
    "version": 3
   },
   "file_extension": ".py",
   "mimetype": "text/x-python",
   "name": "python",
   "nbconvert_exporter": "python",
   "pygments_lexer": "ipython3",
   "version": "3.9.13"
  }
 },
 "nbformat": 4,
 "nbformat_minor": 2
}
