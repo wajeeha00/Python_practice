{
 "cells": [
  {
   "cell_type": "code",
   "execution_count": 111,
   "metadata": {},
   "outputs": [],
   "source": [
    "class Desc:\n",
    "    def __init__(self,range_low,range_high):\n",
    "        self.range_low = range_low\n",
    "        self.range_high = range_high\n",
    "    def __set_name__(self,owner,name):\n",
    "        self.name = name\n",
    "       \n",
    "    def __get__(self,instance,owner):\n",
    "        if instance is None:\n",
    "            return self\n",
    "        if self.name not in instance.__dict__:\n",
    "            if self.name == 'gre_score':\n",
    "                instance.__dict__[self.name] = 130\n",
    "            elif self.name == 'sat_score':\n",
    "                instance.__dict__[self.name] = 400\n",
    "            else:\n",
    "                instance.__dict__[self.name] = None\n",
    "        return instance.__dict__[self.name]\n",
    "    \n",
    "    def __set__(self,instance,value): \n",
    "        if value is None and self.name == 'gre_score':\n",
    "            instance.__dict__[self.name] = 130\n",
    "        elif value is None and self.name == 'sat_score':\n",
    "            instance.__dict__[self.name] = 400\n",
    "        elif value < self.range_low or value > self.range_high:\n",
    "            raise ValueError(f'{self.name} must be between {self.range_low} and {self.range_high}')\n",
    "        else:\n",
    "            instance.__dict__[self.name] = value\n",
    "    \n",
    "    def __delete__(self,instance):\n",
    "        del instance.__dict__[f'{self.name}']\n",
    "        "
   ]
  },
  {
   "cell_type": "code",
   "execution_count": 112,
   "metadata": {},
   "outputs": [],
   "source": [
    "class StudentProfile:\n",
    "    gre_score = Desc(130,340)\n",
    "    sat_score = Desc(400,1600)\n",
    "    \n",
    "    def __init__(self,stname):\n",
    "        self.stname = stname\n",
    "    \n",
    "    def __repr__(self):\n",
    "        return f'{__class__.__name__}(name={self.stname},gre score={self.gre_score},sat score ={self.sat_score})'\n"
   ]
  },
  {
   "cell_type": "code",
   "execution_count": 116,
   "metadata": {},
   "outputs": [],
   "source": [
    "s1 = StudentProfile('John')"
   ]
  },
  {
   "cell_type": "code",
   "execution_count": 117,
   "metadata": {},
   "outputs": [
    {
     "data": {
      "text/plain": [
       "130"
      ]
     },
     "execution_count": 117,
     "metadata": {},
     "output_type": "execute_result"
    }
   ],
   "source": [
    "s1.gre_score"
   ]
  },
  {
   "cell_type": "code",
   "execution_count": 114,
   "metadata": {},
   "outputs": [],
   "source": [
    "s1.gre_score = None"
   ]
  },
  {
   "cell_type": "code",
   "execution_count": 115,
   "metadata": {},
   "outputs": [
    {
     "data": {
      "text/plain": [
       "400"
      ]
     },
     "execution_count": 115,
     "metadata": {},
     "output_type": "execute_result"
    }
   ],
   "source": [
    "s1.sat_score"
   ]
  },
  {
   "cell_type": "code",
   "execution_count": 99,
   "metadata": {},
   "outputs": [
    {
     "data": {
      "text/plain": [
       "StudentProfile(name=John,gre score=130,sat score =400)"
      ]
     },
     "execution_count": 99,
     "metadata": {},
     "output_type": "execute_result"
    }
   ],
   "source": [
    "s1"
   ]
  },
  {
   "cell_type": "code",
   "execution_count": 82,
   "metadata": {},
   "outputs": [
    {
     "ename": "AttributeError",
     "evalue": "'Desc' object has no attribute 'instance'",
     "output_type": "error",
     "traceback": [
      "\u001b[1;31m---------------------------------------------------------------------------\u001b[0m",
      "\u001b[1;31mAttributeError\u001b[0m                            Traceback (most recent call last)",
      "Cell \u001b[1;32mIn[82], line 1\u001b[0m\n\u001b[1;32m----> 1\u001b[0m \u001b[43ms1\u001b[49m\u001b[38;5;241;43m.\u001b[39;49m\u001b[43mgre_score\u001b[49m \u001b[38;5;241m=\u001b[39m \u001b[38;5;28;01mNone\u001b[39;00m\n",
      "Cell \u001b[1;32mIn[75], line 14\u001b[0m, in \u001b[0;36mDesc.__set__\u001b[1;34m(self, instance, value)\u001b[0m\n\u001b[0;32m     13\u001b[0m \u001b[38;5;28;01mdef\u001b[39;00m \u001b[38;5;21m__set__\u001b[39m(\u001b[38;5;28mself\u001b[39m,instance,value): \n\u001b[1;32m---> 14\u001b[0m     \u001b[38;5;28;01mif\u001b[39;00m value \u001b[38;5;129;01mis\u001b[39;00m \u001b[38;5;28;01mNone\u001b[39;00m \u001b[38;5;129;01mand\u001b[39;00m \u001b[38;5;28;43mself\u001b[39;49m\u001b[38;5;241;43m.\u001b[39;49m\u001b[43minstance\u001b[49m\u001b[38;5;241m.\u001b[39mname \u001b[38;5;241m==\u001b[39m \u001b[38;5;124m'\u001b[39m\u001b[38;5;124mgre_score\u001b[39m\u001b[38;5;124m'\u001b[39m:\n\u001b[0;32m     15\u001b[0m         value \u001b[38;5;241m=\u001b[39m \u001b[38;5;241m130\u001b[39m\n\u001b[0;32m     16\u001b[0m     \u001b[38;5;28;01melif\u001b[39;00m value \u001b[38;5;129;01mis\u001b[39;00m \u001b[38;5;28;01mNone\u001b[39;00m \u001b[38;5;129;01mand\u001b[39;00m \u001b[38;5;28mself\u001b[39m\u001b[38;5;241m.\u001b[39minstance\u001b[38;5;241m.\u001b[39mname \u001b[38;5;241m==\u001b[39m \u001b[38;5;124m'\u001b[39m\u001b[38;5;124msat_score\u001b[39m\u001b[38;5;124m'\u001b[39m:\n",
      "\u001b[1;31mAttributeError\u001b[0m: 'Desc' object has no attribute 'instance'"
     ]
    }
   ],
   "source": [
    "s1.gre_score = None"
   ]
  },
  {
   "cell_type": "code",
   "execution_count": 80,
   "metadata": {},
   "outputs": [
    {
     "data": {
      "text/plain": [
       "300"
      ]
     },
     "execution_count": 80,
     "metadata": {},
     "output_type": "execute_result"
    }
   ],
   "source": [
    "s1.gre_score"
   ]
  },
  {
   "cell_type": "code",
   "execution_count": null,
   "metadata": {},
   "outputs": [],
   "source": []
  }
 ],
 "metadata": {
  "kernelspec": {
   "display_name": "Python 3",
   "language": "python",
   "name": "python3"
  },
  "language_info": {
   "codemirror_mode": {
    "name": "ipython",
    "version": 3
   },
   "file_extension": ".py",
   "mimetype": "text/x-python",
   "name": "python",
   "nbconvert_exporter": "python",
   "pygments_lexer": "ipython3",
   "version": "3.9.13"
  }
 },
 "nbformat": 4,
 "nbformat_minor": 2
}
