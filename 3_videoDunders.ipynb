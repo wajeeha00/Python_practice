{
  "cells": [
    {
      "attachments": {},
      "cell_type": "markdown",
      "metadata": {},
      "source": [
        "## Let's Add A `__repr__`"
      ]
    },
    {
      "cell_type": "code",
      "execution_count": 1,
      "metadata": {},
      "outputs": [],
      "source": [
        "class Book:\n",
        "    def __init__(self, title, author, book_type, pages):\n",
        "        self.title = title\n",
        "        self.author = author\n",
        "        self.book_type = book_type\n",
        "        self.pages = pages"
      ]
    },
    {
      "cell_type": "code",
      "execution_count": 2,
      "metadata": {},
      "outputs": [],
      "source": [
        "b = Book(\"Antifragile\", \"Nassim Taleb\", \"Hardcover\", 519)"
      ]
    },
    {
      "cell_type": "code",
      "execution_count": 3,
      "metadata": {},
      "outputs": [
        {
          "data": {
            "text/plain": [
              "<__main__.Book at 0x7fca60046a60>"
            ]
          },
          "metadata": {},
          "output_type": "display_data"
        }
      ],
      "source": [
        "b"
      ]
    },
    {
      "cell_type": "code",
      "execution_count": 4,
      "metadata": {},
      "outputs": [
        {
          "data": {
            "text/plain": [
              "'<__main__.Book object at 0x7fca60046a60>'"
            ]
          },
          "metadata": {},
          "output_type": "display_data"
        }
      ],
      "source": [
        "repr(b)"
      ]
    },
    {
      "cell_type": "code",
      "execution_count": 5,
      "metadata": {},
      "outputs": [],
      "source": [
        "class Book:\n",
        "    def __init__(self, title, author, book_type, pages):\n",
        "        self.title = title\n",
        "        self.author = author\n",
        "        self.book_type = book_type\n",
        "        self.pages = pages\n",
        "\n",
        "    def __repr__(self):\n",
        "        return f\"The title is {self.title}\""
      ]
    },
    {
      "cell_type": "code",
      "execution_count": 6,
      "metadata": {},
      "outputs": [],
      "source": [
        "b = Book(\"Antifragile\", \"Nassim Taleb\", \"Hardcover\", 519)"
      ]
    },
    {
      "cell_type": "code",
      "execution_count": 7,
      "metadata": {},
      "outputs": [
        {
          "data": {
            "text/plain": [
              "The title is Antifragile"
            ]
          },
          "metadata": {},
          "output_type": "display_data"
        }
      ],
      "source": [
        "b"
      ]
    },
    {
      "cell_type": "code",
      "execution_count": 9,
      "metadata": {},
      "outputs": [],
      "source": [
        "b1 = Book(\"America's Bank\", \"Roger Lowenstein\", \"Paperback\", 368)"
      ]
    },
    {
      "cell_type": "code",
      "execution_count": 10,
      "metadata": {},
      "outputs": [
        {
          "data": {
            "text/plain": [
              "The title is America's Bank"
            ]
          },
          "metadata": {},
          "output_type": "display_data"
        }
      ],
      "source": [
        "b1"
      ]
    },
    {
      "cell_type": "code",
      "execution_count": 11,
      "metadata": {},
      "outputs": [
        {
          "name": "stdout",
          "output_type": "stream",
          "text": [
            "The title is America's Bank\n"
          ]
        }
      ],
      "source": [
        "print(b1)"
      ]
    },
    {
      "attachments": {},
      "cell_type": "markdown",
      "metadata": {},
      "source": [
        "## `__repr__ vs __str__`"
      ]
    },
    {
      "cell_type": "code",
      "execution_count": 15,
      "metadata": {},
      "outputs": [],
      "source": [
        "class Book:\n",
        "    def __init__(self, title, author, book_type, pages):\n",
        "        self.title = title\n",
        "        self.author = author\n",
        "        self.book_type = book_type\n",
        "        self.pages = pages\n",
        "\n",
        "    def __repr__(self):\n",
        "        return f\"The title is {self.title}\"\n",
        "\n",
        "    def __str__(self):\n",
        "        return f\"{self.title} by {self.author} in {self.book_type}\""
      ]
    },
    {
      "cell_type": "code",
      "execution_count": 16,
      "metadata": {},
      "outputs": [],
      "source": [
        "b = Book(\"Antifragile\", \"Nassim Taleb\", \"Hardcover\", 519)"
      ]
    },
    {
      "cell_type": "code",
      "execution_count": 17,
      "metadata": {},
      "outputs": [
        {
          "data": {
            "text/plain": [
              "'Antifragile by Nassim Taleb in Hardcover'"
            ]
          },
          "metadata": {},
          "output_type": "display_data"
        }
      ],
      "source": [
        "str(b)"
      ]
    },
    {
      "cell_type": "code",
      "execution_count": 20,
      "metadata": {},
      "outputs": [
        {
          "name": "stdout",
          "output_type": "stream",
          "text": [
            "Antifragile by Nassim Taleb in Hardcover\n"
          ]
        }
      ],
      "source": [
        "print(b)"
      ]
    },
    {
      "cell_type": "code",
      "execution_count": 18,
      "metadata": {},
      "outputs": [
        {
          "data": {
            "text/plain": [
              "The title is Antifragile"
            ]
          },
          "metadata": {},
          "output_type": "display_data"
        }
      ],
      "source": [
        "b"
      ]
    },
    {
      "cell_type": "code",
      "execution_count": 19,
      "metadata": {},
      "outputs": [
        {
          "data": {
            "text/plain": [
              "'The title is Antifragile'"
            ]
          },
          "metadata": {},
          "output_type": "display_data"
        }
      ],
      "source": [
        "repr(b)"
      ]
    },
    {
      "cell_type": "code",
      "execution_count": 22,
      "metadata": {},
      "outputs": [],
      "source": [
        "# __str__ -> informal for end user\n",
        "# __repr__ -> more dev/code user oriented"
      ]
    },
    {
      "cell_type": "code",
      "execution_count": 24,
      "metadata": {},
      "outputs": [],
      "source": [
        "class Book:\n",
        "    def __init__(self, title, author, book_type, pages):\n",
        "        self.title = title\n",
        "        self.author = author\n",
        "        self.book_type = book_type\n",
        "        self.pages = pages\n",
        "\n",
        "    def __repr__(self):\n",
        "        return f\"Attributes: {self.title}, {self.author}, {self.book_type}, {self.pages}\"\n",
        "\n",
        "    def __str__(self):\n",
        "        return f\"{self.title} by {self.author} in {self.book_type}\""
      ]
    },
    {
      "cell_type": "code",
      "execution_count": 25,
      "metadata": {},
      "outputs": [],
      "source": [
        "b = Book(\"Antifragile\", \"Nassim Taleb\", \"Hardcover\", 519)"
      ]
    },
    {
      "cell_type": "code",
      "execution_count": 26,
      "metadata": {},
      "outputs": [
        {
          "data": {
            "text/plain": [
              "Attributes: Antifragile, Nassim Taleb, Hardcover, 519"
            ]
          },
          "metadata": {},
          "output_type": "display_data"
        }
      ],
      "source": [
        "b"
      ]
    },
    {
      "cell_type": "code",
      "execution_count": 28,
      "metadata": {},
      "outputs": [
        {
          "data": {
            "text/plain": [
              "{'title': 'Antifragile',\n",
              " 'author': 'Nassim Taleb',\n",
              " 'book_type': 'Hardcover',\n",
              " 'pages': 519}"
            ]
          },
          "metadata": {},
          "output_type": "display_data"
        }
      ],
      "source": [
        "b.__dict__"
      ]
    },
    {
      "cell_type": "code",
      "execution_count": 29,
      "metadata": {},
      "outputs": [],
      "source": [
        "# evaluate as valid python code into a new instance"
      ]
    },
    {
      "cell_type": "code",
      "execution_count": 30,
      "metadata": {},
      "outputs": [
        {
          "data": {
            "text/plain": [
              "4"
            ]
          },
          "metadata": {},
          "output_type": "display_data"
        }
      ],
      "source": [
        "eval(\"2+2\")"
      ]
    },
    {
      "cell_type": "code",
      "execution_count": 31,
      "metadata": {},
      "outputs": [],
      "source": [
        "eval(\"None\")"
      ]
    },
    {
      "cell_type": "code",
      "execution_count": 32,
      "metadata": {},
      "outputs": [],
      "source": [
        "None"
      ]
    },
    {
      "cell_type": "code",
      "execution_count": 33,
      "metadata": {},
      "outputs": [
        {
          "name": "stdout",
          "output_type": "stream",
          "text": [
            "do nothing\n"
          ]
        }
      ],
      "source": [
        "eval(\"print('do nothing')\")"
      ]
    },
    {
      "cell_type": "code",
      "execution_count": 35,
      "metadata": {},
      "outputs": [
        {
          "data": {
            "text/plain": [
              "'Attributes: Antifragile, Nassim Taleb, Hardcover, 519'"
            ]
          },
          "metadata": {},
          "output_type": "display_data"
        }
      ],
      "source": [
        "repr(b)"
      ]
    },
    {
      "cell_type": "code",
      "execution_count": 36,
      "metadata": {},
      "outputs": [
        {
          "ename": "SyntaxError",
          "evalue": "SyntaxError: invalid syntax",
          "output_type": "error",
          "traceback": [
            "\u001b[0;31m---------------------------------------------------------------------------",
            "Traceback (most recent call last)",
            "SyntaxError: invalid syntax"
          ]
        }
      ],
      "source": [
        "eval(repr(b1))"
      ]
    },
    {
      "cell_type": "code",
      "execution_count": 45,
      "metadata": {},
      "outputs": [],
      "source": [
        "class Book:\n",
        "    def __init__(self, title, author, book_type, pages):\n",
        "        self.title = title\n",
        "        self.author = author\n",
        "        self.book_type = book_type\n",
        "        self.pages = pages\n",
        "\n",
        "    def __repr__(self):\n",
        "        return f\"Book('{self.title}', '{self.author}', '{self.book_type}', {self.pages})\"\n",
        "\n",
        "    # def __str__(self):\n",
        "    #     return f\"{self.title} by {self.author} in {self.book_type}\""
      ]
    },
    {
      "cell_type": "code",
      "execution_count": 46,
      "metadata": {},
      "outputs": [],
      "source": [
        "b = Book(\"Antifragile\", \"Nassim Taleb\", \"Hardcover\", 519)"
      ]
    },
    {
      "cell_type": "code",
      "execution_count": 47,
      "metadata": {},
      "outputs": [
        {
          "name": "stdout",
          "output_type": "stream",
          "text": [
            "Book('Antifragile', 'Nassim Taleb', 'Hardcover', 519)\n"
          ]
        }
      ],
      "source": [
        "print(b) # normally -> str() -> __str__"
      ]
    },
    {
      "cell_type": "code",
      "execution_count": 42,
      "metadata": {},
      "outputs": [
        {
          "data": {
            "text/plain": [
              "Book('Antifragile', 'Nassim Taleb', 'Hardcover', 519)"
            ]
          },
          "metadata": {},
          "output_type": "display_data"
        }
      ],
      "source": [
        "b"
      ]
    },
    {
      "cell_type": "code",
      "execution_count": 43,
      "metadata": {},
      "outputs": [
        {
          "data": {
            "text/plain": [
              "\"Book('Antifragile', 'Nassim Taleb', 'Hardcover', 519)\""
            ]
          },
          "metadata": {},
          "output_type": "display_data"
        }
      ],
      "source": [
        "repr(b)"
      ]
    },
    {
      "cell_type": "code",
      "execution_count": 44,
      "metadata": {},
      "outputs": [
        {
          "data": {
            "text/plain": [
              "Book('Antifragile', 'Nassim Taleb', 'Hardcover', 519)"
            ]
          },
          "metadata": {},
          "output_type": "display_data"
        }
      ],
      "source": [
        "eval(repr(b))"
      ]
    },
    {
      "attachments": {},
      "cell_type": "markdown",
      "metadata": {},
      "source": [
        "## `__format__`"
      ]
    },
    {
      "cell_type": "code",
      "execution_count": 48,
      "metadata": {},
      "outputs": [],
      "source": [
        "class Book:\n",
        "    def __init__(self, title, author, book_type, pages):\n",
        "        self.title = title\n",
        "        self.author = author\n",
        "        self.book_type = book_type\n",
        "        self.pages = pages\n",
        "\n",
        "    def __repr__(self):\n",
        "        return f\"Book('{self.title}', '{self.author}', '{self.book_type}', {self.pages})\"\n",
        "\n",
        "\n",
        "b = Book(\"Antifragile\", \"Nassim Taleb\", \"Hardcover\", 519)"
      ]
    },
    {
      "cell_type": "code",
      "execution_count": 49,
      "metadata": {},
      "outputs": [
        {
          "data": {
            "text/plain": [
              "\"Book('Antifragile', 'Nassim Taleb', 'Hardcover', 519)\""
            ]
          },
          "metadata": {},
          "output_type": "display_data"
        }
      ],
      "source": [
        "f\"{b}\""
      ]
    },
    {
      "cell_type": "code",
      "execution_count": 50,
      "metadata": {},
      "outputs": [
        {
          "data": {
            "text/plain": [
              "'100'"
            ]
          },
          "metadata": {},
          "output_type": "display_data"
        }
      ],
      "source": [
        "f\"{100}\""
      ]
    },
    {
      "cell_type": "code",
      "execution_count": 51,
      "metadata": {},
      "outputs": [
        {
          "data": {
            "text/plain": [
              "'100.000'"
            ]
          },
          "metadata": {},
          "output_type": "display_data"
        }
      ],
      "source": [
        "f\"{100:.3f}\""
      ]
    },
    {
      "cell_type": "code",
      "execution_count": 52,
      "metadata": {},
      "outputs": [
        {
          "data": {
            "text/plain": [
              "'100.000'"
            ]
          },
          "metadata": {},
          "output_type": "display_data"
        }
      ],
      "source": [
        "format(100, '.3f')"
      ]
    },
    {
      "cell_type": "code",
      "execution_count": 53,
      "metadata": {},
      "outputs": [
        {
          "data": {
            "text/plain": [
              "'100.000'"
            ]
          },
          "metadata": {},
          "output_type": "display_data"
        }
      ],
      "source": [
        "\"{:.3f}\".format(100)"
      ]
    },
    {
      "cell_type": "code",
      "execution_count": 60,
      "metadata": {},
      "outputs": [],
      "source": [
        "class Book:\n",
        "    def __init__(self, title, author, book_type, pages):\n",
        "        self.title = title\n",
        "        self.author = author\n",
        "        self.book_type = book_type\n",
        "        self.pages = pages\n",
        "\n",
        "    def __repr__(self):\n",
        "        return f\"Book('{self.title}', '{self.author}', '{self.book_type}', {self.pages})\"\n",
        "\n",
        "    def __format__(self, format_spec):\n",
        "        if format_spec == \"short\":\n",
        "            return f\"{self.title} - {self.author}\"\n",
        "        elif format_spec == \"stealth\":\n",
        "            return f\"A book containing exactly {self.pages}. Guess?\"\n",
        "\n",
        "        return repr(self)\n",
        "\n",
        "\n",
        "b = Book(\"Antifragile\", \"Nassim Taleb\", \"Hardcover\", 519)"
      ]
    },
    {
      "cell_type": "code",
      "execution_count": 61,
      "metadata": {},
      "outputs": [
        {
          "data": {
            "text/plain": [
              "\"Book('Antifragile', 'Nassim Taleb', 'Hardcover', 519)\""
            ]
          },
          "metadata": {},
          "output_type": "display_data"
        }
      ],
      "source": [
        "f\"{b}\""
      ]
    },
    {
      "cell_type": "code",
      "execution_count": 62,
      "metadata": {},
      "outputs": [
        {
          "data": {
            "text/plain": [
              "'Antifragile - Nassim Taleb'"
            ]
          },
          "metadata": {},
          "output_type": "display_data"
        }
      ],
      "source": [
        "f\"{b:short}\""
      ]
    },
    {
      "cell_type": "code",
      "execution_count": 63,
      "metadata": {},
      "outputs": [
        {
          "data": {
            "text/plain": [
              "'A book containing exactly 519. Guess?'"
            ]
          },
          "metadata": {},
          "output_type": "display_data"
        }
      ],
      "source": [
        "f\"{b:stealth}\""
      ]
    },
    {
      "cell_type": "code",
      "execution_count": 64,
      "metadata": {},
      "outputs": [
        {
          "data": {
            "text/plain": [
              "\"Book('Antifragile', 'Nassim Taleb', 'Hardcover', 519)\""
            ]
          },
          "metadata": {},
          "output_type": "display_data"
        }
      ],
      "source": [
        "\"{}\".format(b)"
      ]
    },
    {
      "cell_type": "code",
      "execution_count": 65,
      "metadata": {},
      "outputs": [
        {
          "data": {
            "text/plain": [
              "'Antifragile - Nassim Taleb'"
            ]
          },
          "metadata": {},
          "output_type": "display_data"
        }
      ],
      "source": [
        "\"{:short}\".format(b)"
      ]
    },
    {
      "cell_type": "code",
      "execution_count": 66,
      "metadata": {},
      "outputs": [
        {
          "data": {
            "text/plain": [
              "'A book containing exactly 519. Guess?'"
            ]
          },
          "metadata": {},
          "output_type": "display_data"
        }
      ],
      "source": [
        "\"{:stealth}\".format(b)"
      ]
    },
    {
      "cell_type": "code",
      "execution_count": 67,
      "metadata": {},
      "outputs": [
        {
          "data": {
            "text/plain": [
              "'A book containing exactly 519. Guess?'"
            ]
          },
          "metadata": {},
          "output_type": "display_data"
        }
      ],
      "source": [
        "format(b, \"stealth\")"
      ]
    },
    {
      "attachments": {},
      "cell_type": "markdown",
      "metadata": {},
      "source": [
        "## `Object Equality`"
      ]
    },
    {
      "cell_type": "code",
      "execution_count": 100,
      "metadata": {},
      "outputs": [],
      "source": [
        "class Book:\n",
        "    def __init__(self, title, author, book_type, pages):\n",
        "        self.title = title\n",
        "        self.author = author\n",
        "        self.book_type = book_type\n",
        "        self.pages = pages\n",
        "\n",
        "    def __repr__(self):\n",
        "        return f\"Book('{self.title}', '{self.author}', '{self.book_type}', {self.pages})\"\n",
        "\n",
        "    def __eq__(self, other):\n",
        "        if not isinstance(other, Book):\n",
        "            return False\n",
        "\n",
        "        return self.title == other.title and self.author == other.author"
      ]
    },
    {
      "cell_type": "code",
      "execution_count": 86,
      "metadata": {},
      "outputs": [],
      "source": [
        "from collections import namedtuple"
      ]
    },
    {
      "cell_type": "code",
      "execution_count": 87,
      "metadata": {},
      "outputs": [],
      "source": [
        "essay = namedtuple(\"essay\", [\"title\", \"author\"])"
      ]
    },
    {
      "cell_type": "code",
      "execution_count": 88,
      "metadata": {},
      "outputs": [],
      "source": [
        "e = essay(\"Antifragile\", \"Nassim Taleb\")"
      ]
    },
    {
      "cell_type": "code",
      "execution_count": 93,
      "metadata": {},
      "outputs": [
        {
          "data": {
            "text/plain": [
              "'Antifragile'"
            ]
          },
          "metadata": {},
          "output_type": "display_data"
        }
      ],
      "source": [
        "e.title"
      ]
    },
    {
      "cell_type": "code",
      "execution_count": 94,
      "metadata": {},
      "outputs": [
        {
          "data": {
            "text/plain": [
              "'Nassim Taleb'"
            ]
          },
          "metadata": {},
          "output_type": "display_data"
        }
      ],
      "source": [
        "e.author"
      ]
    },
    {
      "cell_type": "code",
      "execution_count": 95,
      "metadata": {},
      "outputs": [
        {
          "data": {
            "text/plain": [
              "'Nassim Taleb'"
            ]
          },
          "metadata": {},
          "output_type": "display_data"
        }
      ],
      "source": [
        "b.author"
      ]
    },
    {
      "cell_type": "code",
      "execution_count": 96,
      "metadata": {},
      "outputs": [
        {
          "data": {
            "text/plain": [
              "'Antifragile'"
            ]
          },
          "metadata": {},
          "output_type": "display_data"
        }
      ],
      "source": [
        "b.title"
      ]
    },
    {
      "cell_type": "code",
      "execution_count": 98,
      "metadata": {},
      "outputs": [],
      "source": [
        "e = essay(\"Antifragile\", \"Nassim Taleb\")\n",
        "b = Book(\"Antifragile\", \"Nassim Taleb\", \"Hardcover\", 519)"
      ]
    },
    {
      "cell_type": "code",
      "execution_count": 99,
      "metadata": {},
      "outputs": [
        {
          "data": {
            "text/plain": [
              "True"
            ]
          },
          "metadata": {},
          "output_type": "display_data"
        }
      ],
      "source": [
        "e == b"
      ]
    },
    {
      "cell_type": "code",
      "execution_count": 84,
      "metadata": {},
      "outputs": [],
      "source": [
        "b = Book(\"Antifragile\", \"Nassim Taleb\", \"Hardcover\", 519)\n",
        "b2 = Book(\"Antifragile\", \"Nassim Taleb II\", \"Hardcover\", 519)"
      ]
    },
    {
      "cell_type": "code",
      "execution_count": 85,
      "metadata": {},
      "outputs": [
        {
          "data": {
            "text/plain": [
              "False"
            ]
          },
          "metadata": {},
          "output_type": "display_data"
        }
      ],
      "source": [
        "b == b2"
      ]
    },
    {
      "cell_type": "code",
      "execution_count": 72,
      "metadata": {},
      "outputs": [
        {
          "data": {
            "text/plain": [
              "140506965153728"
            ]
          },
          "metadata": {},
          "output_type": "display_data"
        }
      ],
      "source": [
        "id(b)"
      ]
    },
    {
      "cell_type": "code",
      "execution_count": 73,
      "metadata": {},
      "outputs": [
        {
          "data": {
            "text/plain": [
              "140506965153152"
            ]
          },
          "metadata": {},
          "output_type": "display_data"
        }
      ],
      "source": [
        "id(b2)"
      ]
    },
    {
      "attachments": {},
      "cell_type": "markdown",
      "metadata": {},
      "source": [
        "## `BONUS: Non-Equality`"
      ]
    },
    {
      "cell_type": "code",
      "execution_count": 9,
      "metadata": {},
      "outputs": [],
      "source": [
        "class Book:\n",
        "    def __init__(self, title, author, book_type, pages):\n",
        "        self.title = title\n",
        "        self.author = author\n",
        "        self.book_type = book_type\n",
        "        self.pages = pages\n",
        "\n",
        "    def __repr__(self):\n",
        "        return f\"Book('{self.title}', '{self.author}', '{self.book_type}', {self.pages})\"\n",
        "\n",
        "    def __eq__(self, other):\n",
        "        if not isinstance(other, Book):\n",
        "            return False\n",
        "\n",
        "        return self.title == other.title and self.author == other.author\n",
        "\n",
        "    def __ne__(self, other):\n",
        "        print(\"Comparing non-equality...\")\n",
        "\n",
        "        if not isinstance(other, Book):\n",
        "            return False\n",
        "\n",
        "        return self.title != other.title and self.author != other.author"
      ]
    },
    {
      "cell_type": "code",
      "execution_count": 10,
      "metadata": {},
      "outputs": [],
      "source": [
        "b   = Book(\"Antifragile\", \"Nassim Taleb\", \"Hardcover\", 519)\n",
        "b2  = Book(\"Antifragile\", \"Nassim Taleb\", \"Hardcover\", 519)"
      ]
    },
    {
      "cell_type": "code",
      "execution_count": 11,
      "metadata": {},
      "outputs": [
        {
          "data": {
            "text/plain": [
              "True"
            ]
          },
          "metadata": {},
          "output_type": "display_data"
        }
      ],
      "source": [
        "b == b2"
      ]
    },
    {
      "cell_type": "code",
      "execution_count": 12,
      "metadata": {},
      "outputs": [
        {
          "name": "stdout",
          "output_type": "stream",
          "text": [
            "Comparing non-equality...\n"
          ]
        },
        {
          "data": {
            "text/plain": [
              "False"
            ]
          },
          "metadata": {},
          "output_type": "display_data"
        }
      ],
      "source": [
        "b != b2"
      ]
    },
    {
      "cell_type": "code",
      "execution_count": 13,
      "metadata": {},
      "outputs": [],
      "source": [
        "# inhertiance of built-ins"
      ]
    },
    {
      "attachments": {},
      "cell_type": "markdown",
      "metadata": {},
      "source": [
        "## `Hashing and Mutability`"
      ]
    },
    {
      "cell_type": "code",
      "execution_count": 14,
      "metadata": {},
      "outputs": [],
      "source": [
        "# unhashable type!"
      ]
    },
    {
      "cell_type": "code",
      "execution_count": 15,
      "metadata": {},
      "outputs": [],
      "source": [
        "l = [\"Andy\", 7]"
      ]
    },
    {
      "cell_type": "code",
      "execution_count": 16,
      "metadata": {},
      "outputs": [
        {
          "ename": "TypeError",
          "evalue": "TypeError: unhashable type: 'list'",
          "output_type": "error",
          "traceback": [
            "\u001b[0;31m---------------------------------------------------------------------------",
            "Traceback (most recent call last)",
            "    at line 1 in <module>",
            "TypeError: unhashable type: 'list'"
          ]
        }
      ],
      "source": [
        "{\n",
        "    l: \"Bek\"\n",
        "}"
      ]
    },
    {
      "cell_type": "code",
      "execution_count": 17,
      "metadata": {},
      "outputs": [
        {
          "ename": "TypeError",
          "evalue": "TypeError: unhashable type: 'list'",
          "output_type": "error",
          "traceback": [
            "\u001b[0;31m---------------------------------------------------------------------------",
            "Traceback (most recent call last)",
            "    at line 1 in <module>",
            "TypeError: unhashable type: 'list'"
          ]
        }
      ],
      "source": [
        "hash(l)"
      ]
    },
    {
      "cell_type": "code",
      "execution_count": 18,
      "metadata": {},
      "outputs": [],
      "source": [
        "name_str = \"Andy\"\n",
        "num_int = 7\n",
        "both_tuple = (name_str, num_int)"
      ]
    },
    {
      "cell_type": "code",
      "execution_count": 19,
      "metadata": {},
      "outputs": [
        {
          "data": {
            "text/plain": [
              "(-1193955242656165984, 7, 656105283672789536)"
            ]
          },
          "metadata": {},
          "output_type": "display_data"
        }
      ],
      "source": [
        "hash(name_str), hash(num_int), hash(both_tuple)"
      ]
    },
    {
      "cell_type": "code",
      "execution_count": 20,
      "metadata": {},
      "outputs": [],
      "source": [
        "# Hashable object\n",
        "# * could be compared to other objects,\n",
        "# * if it compares equal, shares the same hash with the other object\n",
        "# * hash a hash value that never changes over its life"
      ]
    },
    {
      "cell_type": "code",
      "execution_count": 21,
      "metadata": {},
      "outputs": [
        {
          "data": {
            "text/plain": [
              "140680400144368"
            ]
          },
          "metadata": {},
          "output_type": "display_data"
        }
      ],
      "source": [
        "id(name_str)"
      ]
    },
    {
      "cell_type": "code",
      "execution_count": 22,
      "metadata": {},
      "outputs": [],
      "source": [
        "name_str = \"Andy B\""
      ]
    },
    {
      "cell_type": "code",
      "execution_count": 23,
      "metadata": {},
      "outputs": [
        {
          "data": {
            "text/plain": [
              "140680406804464"
            ]
          },
          "metadata": {},
          "output_type": "display_data"
        }
      ],
      "source": [
        "id(name_str)"
      ]
    },
    {
      "cell_type": "code",
      "execution_count": 24,
      "metadata": {},
      "outputs": [],
      "source": [
        "# GC -> garbage collector"
      ]
    },
    {
      "attachments": {},
      "cell_type": "markdown",
      "metadata": {},
      "source": [
        "## `Hashable Book`"
      ]
    },
    {
      "cell_type": "code",
      "execution_count": 36,
      "metadata": {},
      "outputs": [],
      "source": [
        "class Book:\n",
        "    def __init__(self, title, author, book_type, pages):\n",
        "        self.title = title\n",
        "        self.author = author\n",
        "        self.book_type = book_type\n",
        "        self.pages = pages\n",
        "\n",
        "    def __repr__(self):\n",
        "        return f\"Book('{self.title}', '{self.author}', '{self.book_type}', {self.pages})\"\n",
        "\n",
        "    def __eq__(self, other):\n",
        "        if not isinstance(other, Book):\n",
        "            return False\n",
        "\n",
        "        return self.title == other.title and self.author == other.author\n",
        "\n",
        "    def __hash__(self):\n",
        "        return hash((self.title, self.author))"
      ]
    },
    {
      "cell_type": "code",
      "execution_count": 39,
      "metadata": {},
      "outputs": [],
      "source": [
        "b = Book(\"Antifragile\", \"Nassim Taleb\", \"Hardcover\", 519)\n",
        "b2 = Book(\"Antifragile\", \"Nassim Taleb II\", \"Hardcover\", 519)\n",
        "b3 = Book(\"Antifragile\", \"Nassim Taleb\", \"Hardcover\", 519)"
      ]
    },
    {
      "cell_type": "code",
      "execution_count": 40,
      "metadata": {},
      "outputs": [
        {
          "data": {
            "text/plain": [
              "True"
            ]
          },
          "metadata": {},
          "output_type": "display_data"
        }
      ],
      "source": [
        "hash(b) == hash(b3)"
      ]
    },
    {
      "cell_type": "code",
      "execution_count": 42,
      "metadata": {},
      "outputs": [
        {
          "data": {
            "text/plain": [
              "(3056053031767595009, 3056053031767595009)"
            ]
          },
          "metadata": {},
          "output_type": "display_data"
        }
      ],
      "source": [
        "hash(b), hash(b3)"
      ]
    },
    {
      "cell_type": "code",
      "execution_count": 43,
      "metadata": {},
      "outputs": [
        {
          "data": {
            "text/plain": [
              "False"
            ]
          },
          "metadata": {},
          "output_type": "display_data"
        }
      ],
      "source": [
        "hash(b) == hash(b2)"
      ]
    },
    {
      "cell_type": "code",
      "execution_count": 29,
      "metadata": {},
      "outputs": [],
      "source": [
        "class Magazine:\n",
        "    pass"
      ]
    },
    {
      "cell_type": "code",
      "execution_count": 30,
      "metadata": {},
      "outputs": [],
      "source": [
        "m = Magazine()"
      ]
    },
    {
      "cell_type": "code",
      "execution_count": 31,
      "metadata": {},
      "outputs": [
        {
          "data": {
            "text/plain": [
              "8792525495962"
            ]
          },
          "metadata": {},
          "output_type": "display_data"
        }
      ],
      "source": [
        "hash(m)"
      ]
    },
    {
      "attachments": {},
      "cell_type": "markdown",
      "metadata": {},
      "source": [
        "## `BONUS: Hashing Gotcha`"
      ]
    },
    {
      "cell_type": "code",
      "execution_count": 43,
      "metadata": {},
      "outputs": [],
      "source": [
        "# - has a hash value that never changes over its life\n",
        "# - could be compared to other objects, and\n",
        "# - if it compares equal, shares the same hash with the other object"
      ]
    },
    {
      "cell_type": "code",
      "execution_count": 44,
      "metadata": {},
      "outputs": [],
      "source": [
        "b = Book(\"Antifragile\", \"Nassim Taleb\", \"Hardcover\", 519)"
      ]
    },
    {
      "cell_type": "code",
      "execution_count": 45,
      "metadata": {},
      "outputs": [
        {
          "data": {
            "text/plain": [
              "3056053031767595009"
            ]
          },
          "metadata": {},
          "output_type": "display_data"
        }
      ],
      "source": [
        "hash(b)"
      ]
    },
    {
      "cell_type": "code",
      "execution_count": 46,
      "metadata": {},
      "outputs": [],
      "source": [
        "b.author = \"Andy\""
      ]
    },
    {
      "cell_type": "code",
      "execution_count": 47,
      "metadata": {},
      "outputs": [
        {
          "data": {
            "text/plain": [
              "-5960555659465603820"
            ]
          },
          "metadata": {},
          "output_type": "display_data"
        }
      ],
      "source": [
        "hash(b)"
      ]
    },
    {
      "cell_type": "code",
      "execution_count": 43,
      "metadata": {},
      "outputs": [],
      "source": [
        "# __hash__ -> hash(tuple(self.author, self.title))"
      ]
    },
    {
      "cell_type": "code",
      "execution_count": 48,
      "metadata": {},
      "outputs": [],
      "source": [
        "d = {}"
      ]
    },
    {
      "cell_type": "code",
      "execution_count": 49,
      "metadata": {},
      "outputs": [],
      "source": [
        "d[b] = \"value\""
      ]
    },
    {
      "cell_type": "code",
      "execution_count": 50,
      "metadata": {},
      "outputs": [
        {
          "data": {
            "text/plain": [
              "True"
            ]
          },
          "metadata": {},
          "output_type": "display_data"
        }
      ],
      "source": [
        "b in d"
      ]
    },
    {
      "cell_type": "code",
      "execution_count": 51,
      "metadata": {},
      "outputs": [],
      "source": [
        "b.title = \"Untitled\""
      ]
    },
    {
      "cell_type": "code",
      "execution_count": 52,
      "metadata": {},
      "outputs": [
        {
          "data": {
            "text/plain": [
              "False"
            ]
          },
          "metadata": {},
          "output_type": "display_data"
        }
      ],
      "source": [
        "b in d"
      ]
    },
    {
      "attachments": {},
      "cell_type": "markdown",
      "metadata": {},
      "source": [
        "## `Other Rich Comparisons`"
      ]
    },
    {
      "cell_type": "code",
      "execution_count": 77,
      "metadata": {},
      "outputs": [],
      "source": [
        "class Book:\n",
        "    def __init__(self, title, author, book_type, pages):\n",
        "        self.title = title\n",
        "        self.author = author\n",
        "        self.book_type = book_type\n",
        "        self.pages = pages\n",
        "\n",
        "    def __repr__(self):\n",
        "        return f\"Book('{self.title}', '{self.author}', '{self.book_type}', {self.pages})\"\n",
        "\n",
        "    def __eq__(self, other):\n",
        "        if not isinstance(other, Book):\n",
        "            return False\n",
        "\n",
        "        return self.title == other.title and self.author == other.author\n",
        "\n",
        "    def __gt__(self, other):\n",
        "        if not isinstance(other, Book):\n",
        "            return NotImplemented\n",
        "\n",
        "        return self.pages > other.pages\n",
        "\n",
        "    def __lt__(self, other):\n",
        "        return NotImplemented\n",
        "\n",
        "    def __le__(self, other):\n",
        "        return self.pages <= other.pages\n",
        "\n",
        "    def __ge__(self, other):\n",
        "        return NotImplemented\n",
        "\n",
        "    def __hash__(self):\n",
        "        return hash((self.title, self.author))"
      ]
    },
    {
      "cell_type": "code",
      "execution_count": 78,
      "metadata": {},
      "outputs": [],
      "source": [
        "b = Book(\"Antifragile\", \"Nassim Taleb\", \"Hardcover\", 519)\n",
        "\n",
        "b1 = Book(\"How Asia Works\", \"Joe Studwell\", \"Paperback\", 472)"
      ]
    },
    {
      "cell_type": "code",
      "execution_count": 79,
      "metadata": {},
      "outputs": [
        {
          "data": {
            "text/plain": [
              "True"
            ]
          },
          "metadata": {},
          "output_type": "display_data"
        }
      ],
      "source": [
        "b >= b1"
      ]
    },
    {
      "cell_type": "code",
      "execution_count": 80,
      "metadata": {},
      "outputs": [
        {
          "data": {
            "text/plain": [
              "False"
            ]
          },
          "metadata": {},
          "output_type": "display_data"
        }
      ],
      "source": [
        "b <= b1"
      ]
    },
    {
      "cell_type": "code",
      "execution_count": 73,
      "metadata": {},
      "outputs": [
        {
          "data": {
            "text/plain": [
              "True"
            ]
          },
          "metadata": {},
          "output_type": "display_data"
        }
      ],
      "source": [
        "b > b1"
      ]
    },
    {
      "cell_type": "code",
      "execution_count": 74,
      "metadata": {},
      "outputs": [
        {
          "data": {
            "text/plain": [
              "False"
            ]
          },
          "metadata": {},
          "output_type": "display_data"
        }
      ],
      "source": [
        "b < b1"
      ]
    },
    {
      "cell_type": "code",
      "execution_count": 75,
      "metadata": {},
      "outputs": [
        {
          "data": {
            "text/plain": [
              "False"
            ]
          },
          "metadata": {},
          "output_type": "display_data"
        }
      ],
      "source": [
        "b1 > b"
      ]
    },
    {
      "attachments": {},
      "cell_type": "markdown",
      "metadata": {},
      "source": [
        "## `A Better Way`"
      ]
    },
    {
      "cell_type": "code",
      "execution_count": 99,
      "metadata": {},
      "outputs": [],
      "source": [
        "from functools import total_ordering"
      ]
    },
    {
      "cell_type": "code",
      "execution_count": 100,
      "metadata": {},
      "outputs": [],
      "source": [
        "@total_ordering\n",
        "class Book:\n",
        "    def __init__(self, title, author, book_type, pages):\n",
        "        self.title = title\n",
        "        self.author = author\n",
        "        self.book_type = book_type\n",
        "        self.pages = pages\n",
        "\n",
        "    def __repr__(self):\n",
        "        return f\"Book('{self.title}', '{self.author}', '{self.book_type}', {self.pages})\"\n",
        "\n",
        "    def __eq__(self, other):\n",
        "        if not isinstance(other, Book):\n",
        "            return False\n",
        "\n",
        "        return self.title == other.title and self.author == other.author\n",
        "\n",
        "    def __gt__(self, other):\n",
        "        if not isinstance(other, Book):\n",
        "            return NotImplemented\n",
        "\n",
        "        return self.pages > other.pages\n",
        "\n",
        "    def __hash__(self):\n",
        "        return hash((self.title, self.author))"
      ]
    },
    {
      "cell_type": "code",
      "execution_count": 101,
      "metadata": {},
      "outputs": [],
      "source": [
        "b = Book(\"Antifragile\", \"Nassim Taleb\", \"Hardcover\", 519)\n",
        "\n",
        "b1 = Book(\"How Asia Works\", \"Joe Studwell\", \"Paperback\", 472)"
      ]
    },
    {
      "cell_type": "code",
      "execution_count": 102,
      "metadata": {},
      "outputs": [
        {
          "name": "stdout",
          "output_type": "stream",
          "text": [
            "False\n",
            "True\n",
            "False\n",
            "False\n",
            "True\n",
            "True\n"
          ]
        }
      ],
      "source": [
        "print(b == b1)\n",
        "print(b != b1)\n",
        "print(b < b1)\n",
        "print(b <= b1)\n",
        "print(b > b1)\n",
        "print(b >= b1)"
      ]
    },
    {
      "cell_type": "code",
      "execution_count": 83,
      "metadata": {},
      "outputs": [],
      "source": [
        "b = Book(\"Antifragile\", \"Nassim Taleb\", \"Hardcover\", 519)\n",
        "\n",
        "b1 = Book(\"How Asia Works\", \"Joe Studwell\", \"Paperback\", 472)"
      ]
    },
    {
      "cell_type": "code",
      "execution_count": 84,
      "metadata": {},
      "outputs": [
        {
          "data": {
            "text/plain": [
              "True"
            ]
          },
          "metadata": {},
          "output_type": "display_data"
        }
      ],
      "source": [
        "b < b1"
      ]
    },
    {
      "cell_type": "code",
      "execution_count": 85,
      "metadata": {},
      "outputs": [
        {
          "data": {
            "text/plain": [
              "True"
            ]
          },
          "metadata": {},
          "output_type": "display_data"
        }
      ],
      "source": [
        "b > b1"
      ]
    },
    {
      "attachments": {},
      "cell_type": "markdown",
      "metadata": {},
      "source": [
        "## `Truthiness`"
      ]
    },
    {
      "cell_type": "code",
      "execution_count": 108,
      "metadata": {},
      "outputs": [],
      "source": [
        "from functools import total_ordering\n",
        "\n",
        "\n",
        "@total_ordering\n",
        "class Book:\n",
        "    def __init__(self, title, author, book_type, pages):\n",
        "        self.title = title\n",
        "        self.author = author\n",
        "        self.book_type = book_type\n",
        "        self.pages = pages\n",
        "\n",
        "    def __repr__(self):\n",
        "        return f\"Book('{self.title}', '{self.author}', '{self.book_type}', {self.pages})\"\n",
        "\n",
        "    def __eq__(self, other):\n",
        "        if not isinstance(other, Book):\n",
        "            return False\n",
        "\n",
        "        return self.title == other.title and self.author == other.author\n",
        "\n",
        "    def __gt__(self, other):\n",
        "        if not isinstance(other, Book):\n",
        "            return NotImplemented\n",
        "\n",
        "        return self.pages > other.pages\n",
        "\n",
        "    def __hash__(self):\n",
        "        return hash((self.title, self.author))\n",
        "\n",
        "    def __bool__(self):\n",
        "        return bool(self.pages) and not (self.pages < 1)"
      ]
    },
    {
      "cell_type": "code",
      "execution_count": 105,
      "metadata": {},
      "outputs": [],
      "source": [
        "b   = Book(\"Antifragile\", \"Nassim Taleb\", \"Hardcover\", 519)"
      ]
    },
    {
      "cell_type": "code",
      "execution_count": 106,
      "metadata": {},
      "outputs": [
        {
          "name": "stdout",
          "output_type": "stream",
          "text": [
            "Truthy\n"
          ]
        }
      ],
      "source": [
        "if b:\n",
        "    print(\"Truthy\")\n",
        "else:\n",
        "    print(\"Falsey\")"
      ]
    },
    {
      "cell_type": "code",
      "execution_count": 107,
      "metadata": {},
      "outputs": [
        {
          "data": {
            "text/plain": [
              "True"
            ]
          },
          "metadata": {},
          "output_type": "display_data"
        }
      ],
      "source": [
        "bool(b)"
      ]
    },
    {
      "cell_type": "code",
      "execution_count": 109,
      "metadata": {},
      "outputs": [
        {
          "data": {
            "text/plain": [
              "False"
            ]
          },
          "metadata": {},
          "output_type": "display_data"
        }
      ],
      "source": [
        "bool(0)"
      ]
    },
    {
      "cell_type": "code",
      "execution_count": 110,
      "metadata": {},
      "outputs": [
        {
          "data": {
            "text/plain": [
              "(False, False, False, False, False)"
            ]
          },
          "metadata": {},
          "output_type": "display_data"
        }
      ],
      "source": [
        "bool([]), bool(None), bool({}), bool(set()), bool('')"
      ]
    },
    {
      "cell_type": "code",
      "execution_count": 111,
      "metadata": {},
      "outputs": [],
      "source": [
        "b_zero   = Book(\"Antifragile\", \"Nassim Taleb\", \"Hardcover\", 0)\n",
        "b_neg   = Book(\"Antifragile\", \"Nassim Taleb\", \"Hardcover\", -10)\n",
        "b_pos   = Book(\"Antifragile\", \"Nassim Taleb\", \"Hardcover\", 519)"
      ]
    },
    {
      "cell_type": "code",
      "execution_count": 112,
      "metadata": {},
      "outputs": [
        {
          "data": {
            "text/plain": [
              "(False, False, True)"
            ]
          },
          "metadata": {},
          "output_type": "display_data"
        }
      ],
      "source": [
        "bool(b_zero), bool(b_neg), bool(b_pos)"
      ]
    },
    {
      "attachments": {},
      "cell_type": "markdown",
      "metadata": {},
      "source": [
        "## `BONUS: Truth Value Testing Via __len__`"
      ]
    },
    {
      "cell_type": "code",
      "execution_count": 5,
      "metadata": {},
      "outputs": [],
      "source": [
        "from functools import total_ordering\n",
        "\n",
        "\n",
        "@total_ordering\n",
        "class Book:\n",
        "    def __init__(self, title, author, book_type, pages):\n",
        "        self.title = title\n",
        "        self.author = author\n",
        "        self.book_type = book_type\n",
        "        self.pages = pages\n",
        "\n",
        "    def __repr__(self):\n",
        "        return f\"Book('{self.title}', '{self.author}', '{self.book_type}', {self.pages})\"\n",
        "\n",
        "    def __eq__(self, other):\n",
        "        if not isinstance(other, Book):\n",
        "            return False\n",
        "\n",
        "        return self.title == other.title and self.author == other.author\n",
        "\n",
        "    def __gt__(self, other):\n",
        "        if not isinstance(other, Book):\n",
        "            return NotImplemented\n",
        "\n",
        "        return self.pages > other.pages\n",
        "\n",
        "    def __hash__(self):\n",
        "        return hash((self.title, self.author))\n",
        "\n",
        "    # def __bool__(self):\n",
        "    #     return bool(self.pages) and not (self.pages < 1)\n",
        "\n",
        "    def __len__(self):\n",
        "        return self.pages if self.pages > 0 else 0"
      ]
    },
    {
      "cell_type": "code",
      "execution_count": 6,
      "metadata": {},
      "outputs": [],
      "source": [
        "b_zero   = Book(\"Antifragile\", \"Nassim Taleb\", \"Hardcover\", 0)\n",
        "b_neg   = Book(\"Antifragile\", \"Nassim Taleb\", \"Hardcover\", -10)\n",
        "b_pos   = Book(\"Antifragile\", \"Nassim Taleb\", \"Hardcover\", 519)"
      ]
    },
    {
      "cell_type": "code",
      "execution_count": 7,
      "metadata": {},
      "outputs": [
        {
          "data": {
            "text/plain": [
              "0"
            ]
          },
          "metadata": {},
          "output_type": "display_data"
        }
      ],
      "source": [
        "len(b_neg)"
      ]
    },
    {
      "cell_type": "code",
      "execution_count": 8,
      "metadata": {},
      "outputs": [],
      "source": [
        "import sys"
      ]
    },
    {
      "cell_type": "code",
      "execution_count": 9,
      "metadata": {},
      "outputs": [
        {
          "data": {
            "text/plain": [
              "9223372036854775807"
            ]
          },
          "metadata": {},
          "output_type": "display_data"
        }
      ],
      "source": [
        "sys.maxsize"
      ]
    },
    {
      "cell_type": "code",
      "execution_count": 10,
      "metadata": {},
      "outputs": [],
      "source": [
        "# OverflowError"
      ]
    },
    {
      "cell_type": "code",
      "execution_count": 11,
      "metadata": {},
      "outputs": [
        {
          "data": {
            "text/plain": [
              "0"
            ]
          },
          "metadata": {},
          "output_type": "display_data"
        }
      ],
      "source": [
        "len(b_zero)"
      ]
    },
    {
      "cell_type": "code",
      "execution_count": 12,
      "metadata": {},
      "outputs": [
        {
          "data": {
            "text/plain": [
              "False"
            ]
          },
          "metadata": {},
          "output_type": "display_data"
        }
      ],
      "source": [
        "bool(b_zero)"
      ]
    },
    {
      "attachments": {},
      "cell_type": "markdown",
      "metadata": {},
      "source": [
        "## `Container Classes`"
      ]
    },
    {
      "cell_type": "code",
      "execution_count": 13,
      "metadata": {},
      "outputs": [],
      "source": [
        "class BookShelf:\n",
        "    def __init__(self, capacity):\n",
        "        self.books = []\n",
        "        self.capacity = capacity\n",
        "\n",
        "    def add_book(self, book):\n",
        "        if not isinstance(book, Book):\n",
        "            raise TypeError(\"Only instances of Book could be added to the BookShelf\")\n",
        "\n",
        "        if not self.capacity > len(self.books):\n",
        "            raise OverflowError(\"BookShelf is full\")\n",
        "\n",
        "        self.books.append(book)\n",
        "\n",
        "    def __repr__(self):\n",
        "        return str(self.books)"
      ]
    },
    {
      "cell_type": "code",
      "execution_count": 14,
      "metadata": {},
      "outputs": [],
      "source": [
        "shelf = BookShelf(capacity=10)"
      ]
    },
    {
      "cell_type": "code",
      "execution_count": 15,
      "metadata": {},
      "outputs": [],
      "source": [
        "b1 = Book(\"Homo Empathicus\", \"Alexander Gorlach\", \"Paperback\", 160)\n",
        "b2 = Book(\"Titan\", \"Ron Chernow\", \"Hardcover\", 832)\n",
        "b3 = Book(\"The Circle\", \"Dave Eggers\", \"Paperback\", 497)\n",
        "b4 = Book(\"Homo Deus\", \"Yuval Noah Harari\", \"Paperback\", 464)"
      ]
    },
    {
      "cell_type": "code",
      "execution_count": 16,
      "metadata": {},
      "outputs": [],
      "source": [
        "shelf.add_book(b1)"
      ]
    },
    {
      "cell_type": "code",
      "execution_count": 17,
      "metadata": {},
      "outputs": [],
      "source": [
        "shelf.add_book(b2)"
      ]
    },
    {
      "cell_type": "code",
      "execution_count": 18,
      "metadata": {},
      "outputs": [
        {
          "data": {
            "text/plain": [
              "[Book('Homo Empathicus', 'Alexander Gorlach', 'Paperback', 160), Book('Titan', 'Ron Chernow', 'Hardcover', 832)]"
            ]
          },
          "metadata": {},
          "output_type": "display_data"
        }
      ],
      "source": [
        "shelf"
      ]
    },
    {
      "attachments": {},
      "cell_type": "markdown",
      "metadata": {},
      "source": [
        "## `Pythonic Add`"
      ]
    },
    {
      "cell_type": "code",
      "execution_count": 19,
      "metadata": {},
      "outputs": [],
      "source": [
        "class BookShelf:\n",
        "    def __init__(self, capacity):\n",
        "        self.books = []\n",
        "        self.capacity = capacity\n",
        "\n",
        "    def add_book(self, book):\n",
        "        if not isinstance(book, Book):\n",
        "            raise TypeError(\"Only instances of Book could be added to the BookShelf\")\n",
        "\n",
        "        if not self.capacity > len(self.books):\n",
        "            raise OverflowError(\"BookShelf is full\")\n",
        "\n",
        "        self.books.append(book)\n",
        "\n",
        "    def __repr__(self):\n",
        "        return str(self.books)\n",
        "\n",
        "    def __add__(self, other):\n",
        "        if not isinstance(other, Book):\n",
        "            raise TypeError(\"Operating only supported on instances of Book\")\n",
        "\n",
        "        new_shelf = BookShelf(self.capacity)\n",
        "\n",
        "        for book in self.books:\n",
        "            new_shelf.add_book(book)\n",
        "\n",
        "        new_shelf.add_book(other)\n",
        "\n",
        "        return new_shelf\n",
        "\n",
        "    def __radd__(self, other):\n",
        "        if not isinstance(other, Book):\n",
        "            raise TypeError(\"Operating only supported on instances of Book\")\n",
        "\n",
        "        return self + other"
      ]
    },
    {
      "cell_type": "code",
      "execution_count": 20,
      "metadata": {},
      "outputs": [],
      "source": [
        "# operator overloading"
      ]
    },
    {
      "cell_type": "code",
      "execution_count": 21,
      "metadata": {},
      "outputs": [],
      "source": [
        "b1 = Book(\"Homo Empathicus\", \"Alexander Gorlach\", \"Paperback\", 160)\n",
        "b2 = Book(\"Titan\", \"Ron Chernow\", \"Hardcover\", 832)\n",
        "b3 = Book(\"The Circle\", \"Dave Eggers\", \"Paperback\", 497)\n",
        "b4 = Book(\"Homo Deus\", \"Yuval Noah Harari\", \"Paperback\", 464)"
      ]
    },
    {
      "cell_type": "code",
      "execution_count": 22,
      "metadata": {},
      "outputs": [],
      "source": [
        "shelf = BookShelf(10)\n",
        "shelf.add_book(b1)\n",
        "shelf.add_book(b2)"
      ]
    },
    {
      "cell_type": "code",
      "execution_count": 23,
      "metadata": {},
      "outputs": [
        {
          "data": {
            "text/plain": [
              "[Book('Homo Empathicus', 'Alexander Gorlach', 'Paperback', 160), Book('Titan', 'Ron Chernow', 'Hardcover', 832), Book('The Circle', 'Dave Eggers', 'Paperback', 497)]"
            ]
          },
          "metadata": {},
          "output_type": "display_data"
        }
      ],
      "source": [
        "shelf + b3"
      ]
    },
    {
      "cell_type": "code",
      "execution_count": 24,
      "metadata": {},
      "outputs": [
        {
          "data": {
            "text/plain": [
              "[Book('Homo Empathicus', 'Alexander Gorlach', 'Paperback', 160), Book('Titan', 'Ron Chernow', 'Hardcover', 832), Book('The Circle', 'Dave Eggers', 'Paperback', 497)]"
            ]
          },
          "metadata": {},
          "output_type": "display_data"
        }
      ],
      "source": [
        "b3 + shelf"
      ]
    },
    {
      "cell_type": "code",
      "execution_count": 25,
      "metadata": {},
      "outputs": [],
      "source": [
        "shelf += b4 # inplace add -> __iadd__"
      ]
    },
    {
      "cell_type": "code",
      "execution_count": 26,
      "metadata": {},
      "outputs": [
        {
          "data": {
            "text/plain": [
              "[Book('Homo Empathicus', 'Alexander Gorlach', 'Paperback', 160), Book('Titan', 'Ron Chernow', 'Hardcover', 832), Book('Homo Deus', 'Yuval Noah Harari', 'Paperback', 464)]"
            ]
          },
          "metadata": {},
          "output_type": "display_data"
        }
      ],
      "source": [
        "shelf"
      ]
    },
    {
      "cell_type": "code",
      "execution_count": 26,
      "metadata": {},
      "outputs": [],
      "source": []
    },
    {
      "cell_type": "code",
      "execution_count": 27,
      "metadata": {},
      "outputs": [
        {
          "data": {
            "text/plain": [
              "[Book('Homo Empathicus', 'Alexander Gorlach', 'Paperback', 160), Book('Titan', 'Ron Chernow', 'Hardcover', 832), Book('Homo Deus', 'Yuval Noah Harari', 'Paperback', 464)]"
            ]
          },
          "metadata": {},
          "output_type": "display_data"
        }
      ],
      "source": [
        "shelf"
      ]
    },
    {
      "cell_type": "code",
      "execution_count": 28,
      "metadata": {},
      "outputs": [],
      "source": [
        "# radd -> right add"
      ]
    },
    {
      "cell_type": "code",
      "execution_count": 29,
      "metadata": {},
      "outputs": [
        {
          "data": {
            "text/plain": [
              "[Book('Homo Empathicus', 'Alexander Gorlach', 'Paperback', 160), Book('Titan', 'Ron Chernow', 'Hardcover', 832), Book('Homo Deus', 'Yuval Noah Harari', 'Paperback', 464), Book('The Circle', 'Dave Eggers', 'Paperback', 497)]"
            ]
          },
          "metadata": {},
          "output_type": "display_data"
        }
      ],
      "source": [
        "b3 + shelf"
      ]
    },
    {
      "cell_type": "code",
      "execution_count": 30,
      "metadata": {},
      "outputs": [
        {
          "ename": "AttributeError",
          "evalue": "AttributeError: 'Book' object has no attribute '__add__'",
          "output_type": "error",
          "traceback": [
            "\u001b[0;31m---------------------------------------------------------------------------",
            "Traceback (most recent call last)",
            "    at line 1 in <module>",
            "AttributeError: 'Book' object has no attribute '__add__'"
          ]
        }
      ],
      "source": [
        "b3.__add__(shelf)"
      ]
    },
    {
      "cell_type": "code",
      "execution_count": 31,
      "metadata": {},
      "outputs": [
        {
          "data": {
            "text/plain": [
              "[Book('Homo Empathicus', 'Alexander Gorlach', 'Paperback', 160), Book('Titan', 'Ron Chernow', 'Hardcover', 832), Book('Homo Deus', 'Yuval Noah Harari', 'Paperback', 464), Book('The Circle', 'Dave Eggers', 'Paperback', 497)]"
            ]
          },
          "metadata": {},
          "output_type": "display_data"
        }
      ],
      "source": [
        "shelf.__radd__(b3)"
      ]
    },
    {
      "cell_type": "code",
      "execution_count": 32,
      "metadata": {},
      "outputs": [],
      "source": [
        "# <--- right to left"
      ]
    },
    {
      "attachments": {},
      "cell_type": "markdown",
      "metadata": {},
      "source": [
        "## `The __getitem__ Magic`"
      ]
    },
    {
      "cell_type": "code",
      "execution_count": 50,
      "metadata": {},
      "outputs": [],
      "source": [
        "class BookShelf:\n",
        "    def __init__(self, capacity):\n",
        "        self.books = []\n",
        "        self.capacity = capacity\n",
        "\n",
        "    def add_book(self, book):\n",
        "        if not isinstance(book, Book):\n",
        "            raise TypeError(\"Only instances of Book could be added to the BookShelf\")\n",
        "\n",
        "        if not self.capacity > len(self.books):\n",
        "            raise OverflowError(\"BookShelf is full\")\n",
        "\n",
        "        self.books.append(book)\n",
        "\n",
        "    def __repr__(self):\n",
        "        return str(self.books)\n",
        "\n",
        "    def __add__(self, other):\n",
        "        if not isinstance(other, Book):\n",
        "            raise TypeError(\"Operating only supported on instances of Book\")\n",
        "\n",
        "        new_shelf = BookShelf(self.capacity)\n",
        "\n",
        "        for book in self.books:\n",
        "            new_shelf.add_book(book)\n",
        "\n",
        "        new_shelf.add_book(other)\n",
        "\n",
        "        return new_shelf\n",
        "\n",
        "    def __radd__(self, other):\n",
        "        if not isinstance(other, Book):\n",
        "            raise TypeError(\"Operating only supported on instances of Book\")\n",
        "\n",
        "        return self + other\n",
        "\n",
        "    def __getitem__(self, item):\n",
        "        if isinstance(item, str):\n",
        "            return [book for book in self.books if item.lower() in book.title.lower()]\n",
        "\n",
        "        return self.books[item]"
      ]
    },
    {
      "cell_type": "code",
      "execution_count": 51,
      "metadata": {},
      "outputs": [
        {
          "data": {
            "text/plain": [
              "[Book('Homo Empathicus', 'Alexander Gorlach', 'Paperback', 160), Book('Titan', 'Ron Chernow', 'Hardcover', 832), Book('The Circle', 'Dave Eggers', 'Paperback', 497), Book('Homo Deus', 'Yuval Noah Harari', 'Paperback', 464)]"
            ]
          },
          "metadata": {},
          "output_type": "display_data"
        }
      ],
      "source": [
        "b1 = Book(\"Homo Empathicus\", \"Alexander Gorlach\", \"Paperback\", 160)\n",
        "b2 = Book(\"Titan\", \"Ron Chernow\", \"Hardcover\", 832)\n",
        "b3 = Book(\"The Circle\", \"Dave Eggers\", \"Paperback\", 497)\n",
        "b4 = Book(\"Homo Deus\", \"Yuval Noah Harari\", \"Paperback\", 464)\n",
        "\n",
        "shelf = BookShelf(capacity=10)\n",
        "\n",
        "for b in [b1, b2, b3, b4]:\n",
        "    shelf += b\n",
        "\n",
        "shelf"
      ]
    },
    {
      "cell_type": "code",
      "execution_count": 52,
      "metadata": {},
      "outputs": [
        {
          "data": {
            "text/plain": [
              "Book('Homo Empathicus', 'Alexander Gorlach', 'Paperback', 160)"
            ]
          },
          "metadata": {},
          "output_type": "display_data"
        }
      ],
      "source": [
        "shelf[0]"
      ]
    },
    {
      "cell_type": "code",
      "execution_count": 53,
      "metadata": {},
      "outputs": [
        {
          "data": {
            "text/plain": [
              "[Book('Homo Empathicus', 'Alexander Gorlach', 'Paperback', 160),\n",
              " Book('Homo Deus', 'Yuval Noah Harari', 'Paperback', 464)]"
            ]
          },
          "metadata": {},
          "output_type": "display_data"
        }
      ],
      "source": [
        "shelf[\"Homo\"]"
      ]
    },
    {
      "cell_type": "code",
      "execution_count": 54,
      "metadata": {},
      "outputs": [
        {
          "data": {
            "text/plain": [
              "[Book('Homo Empathicus', 'Alexander Gorlach', 'Paperback', 160),\n",
              " Book('Homo Deus', 'Yuval Noah Harari', 'Paperback', 464)]"
            ]
          },
          "metadata": {},
          "output_type": "display_data"
        }
      ],
      "source": [
        "shelf[\"homo\"]"
      ]
    },
    {
      "cell_type": "code",
      "execution_count": 43,
      "metadata": {},
      "outputs": [],
      "source": [
        "# homo -> man, as in mankind in latin"
      ]
    },
    {
      "cell_type": "code",
      "execution_count": 55,
      "metadata": {},
      "outputs": [
        {
          "data": {
            "text/plain": [
              "[Book('The Circle', 'Dave Eggers', 'Paperback', 497),\n",
              " Book('Homo Deus', 'Yuval Noah Harari', 'Paperback', 464)]"
            ]
          },
          "metadata": {},
          "output_type": "display_data"
        }
      ],
      "source": [
        "shelf[2:4]"
      ]
    },
    {
      "cell_type": "code",
      "execution_count": 56,
      "metadata": {},
      "outputs": [
        {
          "name": "stdout",
          "output_type": "stream",
          "text": [
            "Book('Homo Empathicus', 'Alexander Gorlach', 'Paperback', 160)\n",
            "Book('Titan', 'Ron Chernow', 'Hardcover', 832)\n",
            "Book('The Circle', 'Dave Eggers', 'Paperback', 497)\n",
            "Book('Homo Deus', 'Yuval Noah Harari', 'Paperback', 464)\n"
          ]
        }
      ],
      "source": [
        "for book in shelf:\n",
        "    print(book)"
      ]
    },
    {
      "attachments": {},
      "cell_type": "markdown",
      "metadata": {},
      "source": [
        "## `Defining Our Own Magics`"
      ]
    },
    {
      "cell_type": "code",
      "execution_count": 64,
      "metadata": {},
      "outputs": [],
      "source": [
        "class BookShelf:\n",
        "    def __init__(self, capacity):\n",
        "        self.books = []\n",
        "        self.capacity = capacity\n",
        "\n",
        "    def add_book(self, book):\n",
        "        if not isinstance(book, Book):\n",
        "            raise TypeError(\"Only instances of Book could be added to the BookShelf\")\n",
        "\n",
        "        if not self.capacity > len(self.books):\n",
        "            raise OverflowError(\"BookShelf is full\")\n",
        "\n",
        "        self.books.append(book)\n",
        "\n",
        "    def __repr__(self):\n",
        "        return str(self.books)\n",
        "\n",
        "    def __add__(self, other):\n",
        "        if not isinstance(other, Book):\n",
        "            raise TypeError(\"Operating only supported on instances of Book\")\n",
        "\n",
        "        new_shelf = BookShelf(self.capacity)\n",
        "\n",
        "        for book in self.books:\n",
        "            new_shelf.add_book(book)\n",
        "\n",
        "        new_shelf.add_book(other)\n",
        "\n",
        "        return new_shelf\n",
        "\n",
        "    def __radd__(self, other):\n",
        "        if not isinstance(other, Book):\n",
        "            raise TypeError(\"Operating only supported on instances of Book\")\n",
        "\n",
        "        return self + other\n",
        "\n",
        "    def __getitem__(self, item):\n",
        "        if isinstance(item, str):\n",
        "            return [book for book in self.books if item.lower() in book.title.lower()]\n",
        "\n",
        "        return self.books[item]\n",
        "\n",
        "    def __greeting__(self):\n",
        "        return \"Last lecutre before the skill challenge!!\"\n",
        "\n",
        "    def __sum__(self):\n",
        "        pass"
      ]
    },
    {
      "cell_type": "code",
      "execution_count": 61,
      "metadata": {},
      "outputs": [],
      "source": [
        "bs = BookShelf(3)"
      ]
    },
    {
      "cell_type": "code",
      "execution_count": 62,
      "metadata": {},
      "outputs": [
        {
          "data": {
            "text/plain": [
              "'Last lecutre before the skill challenge!!'"
            ]
          },
          "metadata": {},
          "output_type": "display_data"
        }
      ],
      "source": [
        "bs.__greeting__()"
      ]
    },
    {
      "cell_type": "code",
      "execution_count": 63,
      "metadata": {},
      "outputs": [
        {
          "data": {
            "text/plain": [
              "mappingproxy({'__module__': '__main__',\n",
              "              '__init__': <function __main__.BookShelf.__init__(self, capacity)>,\n",
              "              'add_book': <function __main__.BookShelf.add_book(self, book)>,\n",
              "              '__repr__': <function __main__.BookShelf.__repr__(self)>,\n",
              "              '__add__': <function __main__.BookShelf.__add__(self, other)>,\n",
              "              '__radd__': <function __main__.BookShelf.__radd__(self, other)>,\n",
              "              '__getitem__': <function __main__.BookShelf.__getitem__(self, item)>,\n",
              "              '__greeting__': <function __main__.BookShelf.__greeting__(self)>,\n",
              "              '__dict__': <attribute '__dict__' of 'BookShelf' objects>,\n",
              "              '__weakref__': <attribute '__weakref__' of 'BookShelf' objects>,\n",
              "              '__doc__': None})"
            ]
          },
          "metadata": {},
          "output_type": "display_data"
        }
      ],
      "source": [
        "BookShelf.__dict__"
      ]
    },
    {
      "cell_type": "code",
      "execution_count": null,
      "metadata": {},
      "outputs": [],
      "source": []
    }
  ],
  "metadata": {
    "language_info": {
      "name": "python"
    }
  },
  "nbformat": 4,
  "nbformat_minor": 0
}
