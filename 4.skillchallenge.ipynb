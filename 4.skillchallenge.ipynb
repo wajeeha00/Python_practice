{
 "cells": [
  {
   "cell_type": "code",
   "execution_count": 1,
   "metadata": {},
   "outputs": [],
   "source": [
    "class DNABase:\n",
    "    base = [\"adenine\", \"cytosine\", \"guanine\", \"thymine\"]\n",
    "    base_s = [\"A\", \"C\", \"G\", \"T\"]\n",
    "\n",
    "    def __init__(self, nucleo):\n",
    "        self.nucleotide = nucleo\n",
    "\n",
    "    def get_nucleo(self):\n",
    "        return self._nucleotide\n",
    "\n",
    "    def set_nucleo(self, newval):\n",
    "        if newval not in self.base and newval not in self.base_s and newval.lower() not in self.base_s:\n",
    "            raise ValueError(\"Invalid value given\")\n",
    "        if newval in self.base:\n",
    "            self._nucleotide = newval\n",
    "        elif newval.lower() == \"a\":\n",
    "            self._nucleotide = self.base[0]\n",
    "        elif newval.lower() == \"c\":\n",
    "            self._nucleotide = self.base[1]\n",
    "        elif newval.lower() == \"g\":\n",
    "            self._nucleotide = DNABase.base[2]\n",
    "        elif newval.lower() == \"t\":\n",
    "            self._nucleotide = type(self).base[3]\n",
    "\n",
    "    def __repr__(self):\n",
    "        return f\"DNABase({self.nucleotide})\"\n",
    "\n",
    "    nucleotide = property(fget=get_nucleo, fset=set_nucleo)\n",
    "# _nucleotide inside getters setters for protection. "
   ]
  },
  {
   "cell_type": "code",
   "execution_count": 2,
   "metadata": {},
   "outputs": [],
   "source": [
    "class Tablet:\n",
    "    models= [\"lite\", \"pro\", \"max\"]\n",
    "    def __init__(self,model):\n",
    "        self.model = model\n",
    "        self.added_storage = 0\n",
    "    \n",
    "        \n",
    "        \n",
    "    @property\n",
    "    def model(self):\n",
    "        return self._model\n",
    "    \n",
    "    @model.setter\n",
    "    def model(self, newval):\n",
    "        if newval not in self.models:\n",
    "            raise ValueError(\"Invalid value given\")\n",
    "        self._model = newval\n",
    "    \n",
    "    @property\n",
    "    def base_storage(self):\n",
    "        if self.model == \"lite\":\n",
    "            return 32\n",
    "        elif self.model == \"pro\":\n",
    "            return 64\n",
    "        else:\n",
    "            return 128\n",
    "    \n",
    "    @property\n",
    "    def memory(self):\n",
    "        if self.model == \"lite\":\n",
    "            return 2\n",
    "        elif self.model == \"pro\":\n",
    "            return 3\n",
    "        else:\n",
    "            return 4\n",
    "   \n",
    "    def add_storge(self, storage):\n",
    "        if self.storage + storage > 1024:\n",
    "            raise ValueError(\"Not enough storage\")\n",
    "        self.added_storage += storage\n",
    "    \n",
    "    @property\n",
    "    def storage(self):\n",
    "        return self.base_storage + self.added_storage\n",
    "    \n",
    "    @storage.setter\n",
    "    def storage(self, newval):\n",
    "        if newval < self.base_storage and newval>1024:\n",
    "            raise ValueError(\"Invalid value given\")\n",
    "        self.added_storage = newval - self.base_storage\n",
    "    \n",
    "    def __repr__(self):\n",
    "        return f\"Tablet(model='{self.model}', storage={self.storage}, memory={self.memory}, base_storage={self.base_storage}, added_storage={self.added_storage})\"\n",
    "    \n",
    "    "
   ]
  },
  {
   "cell_type": "code",
   "execution_count": 3,
   "metadata": {},
   "outputs": [],
   "source": [
    "t1 = Tablet(\"max\")"
   ]
  },
  {
   "cell_type": "code",
   "execution_count": 4,
   "metadata": {},
   "outputs": [],
   "source": [
    "t1.storage = 512"
   ]
  },
  {
   "cell_type": "code",
   "execution_count": 5,
   "metadata": {},
   "outputs": [
    {
     "data": {
      "text/plain": [
       "Tablet(model='max', storage=512, memory=4, base_storage=128, added_storage=384)"
      ]
     },
     "execution_count": 5,
     "metadata": {},
     "output_type": "execute_result"
    }
   ],
   "source": [
    "t1"
   ]
  },
  {
   "cell_type": "code",
   "execution_count": 13,
   "metadata": {},
   "outputs": [],
   "source": [
    "t1.add_storge(128)"
   ]
  },
  {
   "cell_type": "code",
   "execution_count": 14,
   "metadata": {},
   "outputs": [
    {
     "data": {
      "text/plain": [
       "Tablet(model='max', storage=256, memory=4, base_storage=128, added_storage=128)"
      ]
     },
     "execution_count": 14,
     "metadata": {},
     "output_type": "execute_result"
    }
   ],
   "source": [
    "t1"
   ]
  },
  {
   "cell_type": "code",
   "execution_count": 15,
   "metadata": {},
   "outputs": [
    {
     "ename": "AttributeError",
     "evalue": "can't set attribute",
     "output_type": "error",
     "traceback": [
      "\u001b[1;31m---------------------------------------------------------------------------\u001b[0m",
      "\u001b[1;31mAttributeError\u001b[0m                            Traceback (most recent call last)",
      "Cell \u001b[1;32mIn[15], line 1\u001b[0m\n\u001b[1;32m----> 1\u001b[0m \u001b[43mt1\u001b[49m\u001b[38;5;241;43m.\u001b[39;49m\u001b[43mmemory\u001b[49m \u001b[38;5;241m=\u001b[39m\u001b[38;5;241m5\u001b[39m\n",
      "\u001b[1;31mAttributeError\u001b[0m: can't set attribute"
     ]
    }
   ],
   "source": [
    "t1.memory =5"
   ]
  },
  {
   "cell_type": "code",
   "execution_count": 16,
   "metadata": {},
   "outputs": [
    {
     "ename": "AttributeError",
     "evalue": "can't set attribute",
     "output_type": "error",
     "traceback": [
      "\u001b[1;31m---------------------------------------------------------------------------\u001b[0m",
      "\u001b[1;31mAttributeError\u001b[0m                            Traceback (most recent call last)",
      "Cell \u001b[1;32mIn[16], line 1\u001b[0m\n\u001b[1;32m----> 1\u001b[0m \u001b[43mt1\u001b[49m\u001b[38;5;241;43m.\u001b[39;49m\u001b[43mbase_storage\u001b[49m \u001b[38;5;241m=\u001b[39m \u001b[38;5;241m64\u001b[39m\n",
      "\u001b[1;31mAttributeError\u001b[0m: can't set attribute"
     ]
    }
   ],
   "source": [
    "t1.base_storage = 64"
   ]
  },
  {
   "cell_type": "code",
   "execution_count": null,
   "metadata": {},
   "outputs": [
    {
     "ename": "",
     "evalue": "",
     "output_type": "error",
     "traceback": [
      "\u001b[1;31mThe Kernel crashed while executing code in the current cell or a previous cell. \n",
      "\u001b[1;31mPlease review the code in the cell(s) to identify a possible cause of the failure. \n",
      "\u001b[1;31mClick <a href='https://aka.ms/vscodeJupyterKernelCrash'>here</a> for more info. \n",
      "\u001b[1;31mView Jupyter <a href='command:jupyter.viewOutput'>log</a> for further details."
     ]
    }
   ],
   "source": [
    "t1.storage = 512"
   ]
  },
  {
   "cell_type": "code",
   "execution_count": 17,
   "metadata": {},
   "outputs": [
    {
     "data": {
      "text/plain": [
       "Tablet(model='max', storage=256, memory=4, base_storage=128, added_storage=128)"
      ]
     },
     "execution_count": 17,
     "metadata": {},
     "output_type": "execute_result"
    }
   ],
   "source": [
    "t1"
   ]
  },
  {
   "cell_type": "code",
   "execution_count": null,
   "metadata": {},
   "outputs": [
    {
     "ename": "",
     "evalue": "",
     "output_type": "error",
     "traceback": [
      "\u001b[1;31mThe Kernel crashed while executing code in the current cell or a previous cell. \n",
      "\u001b[1;31mPlease review the code in the cell(s) to identify a possible cause of the failure. \n",
      "\u001b[1;31mClick <a href='https://aka.ms/vscodeJupyterKernelCrash'>here</a> for more info. \n",
      "\u001b[1;31mView Jupyter <a href='command:jupyter.viewOutput'>log</a> for further details."
     ]
    }
   ],
   "source": [
    "t1.storage = 1024"
   ]
  },
  {
   "cell_type": "code",
   "execution_count": null,
   "metadata": {},
   "outputs": [],
   "source": []
  }
 ],
 "metadata": {
  "kernelspec": {
   "display_name": "Python 3",
   "language": "python",
   "name": "python3"
  },
  "language_info": {
   "codemirror_mode": {
    "name": "ipython",
    "version": 3
   },
   "file_extension": ".py",
   "mimetype": "text/x-python",
   "name": "python",
   "nbconvert_exporter": "python",
   "pygments_lexer": "ipython3",
   "version": "3.9.13"
  }
 },
 "nbformat": 4,
 "nbformat_minor": 2
}
