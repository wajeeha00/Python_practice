{
  "cells": [
    {
      "cell_type": "code",
      "execution_count": 8,
      "metadata": {
        "id": "6ESgazaT_h3_"
      },
      "outputs": [],
      "source": [
        "class MercedesBenz:\n",
        "  name=\"benz\"\n",
        "  color=\"\"\n",
        "  def __init__(self, color):\n",
        "    # self.color = color\n",
        "    pass\n",
        "  \n",
        "  @property\n",
        "  def color(self):\n",
        "    return self.color\n",
        "  \n",
        "  @color.setter\n",
        "  def color(self,val):\n",
        "    self.color = val\n",
        "  def drive(self):\n",
        "    return self"
      ]
    },
    {
      "cell_type": "code",
      "execution_count": 16,
      "metadata": {},
      "outputs": [],
      "source": [
        "class Mylist:\n",
        "    def __init__(self, *args):\n",
        "        self.data = [x for x in args]\n",
        "    def __contains__(self,item):\n",
        "        return item in self.data"
      ]
    },
    {
      "cell_type": "code",
      "execution_count": 17,
      "metadata": {},
      "outputs": [],
      "source": [
        "l = Mylist(1,2,3)"
      ]
    },
    {
      "cell_type": "code",
      "execution_count": 19,
      "metadata": {},
      "outputs": [
        {
          "data": {
            "text/plain": [
              "True"
            ]
          },
          "execution_count": 19,
          "metadata": {},
          "output_type": "execute_result"
        }
      ],
      "source": [
        "m=3\n",
        "m in l"
      ]
    },
    {
      "cell_type": "code",
      "execution_count": null,
      "metadata": {
        "colab": {
          "base_uri": "https://localhost:8080/"
        },
        "id": "vF7AuYHL_mi6",
        "outputId": "0ddd20d2-f2b7-40d1-f3ff-b22ec357f1a9"
      },
      "outputs": [
        {
          "data": {
            "text/plain": [
              "type"
            ]
          },
          "execution_count": 2,
          "metadata": {},
          "output_type": "execute_result"
        }
      ],
      "source": [
        "type(MercedesBenz)"
      ]
    },
    {
      "cell_type": "code",
      "execution_count": null,
      "metadata": {
        "colab": {
          "base_uri": "https://localhost:8080/"
        },
        "id": "3ZFP14ZX_pfA",
        "outputId": "3ab1a944-0ba0-49f8-be71-9619334def19"
      },
      "outputs": [
        {
          "data": {
            "text/plain": [
              "__main__.MercedesBenz"
            ]
          },
          "execution_count": 3,
          "metadata": {},
          "output_type": "execute_result"
        }
      ],
      "source": [
        "MercedesBenz"
      ]
    },
    {
      "cell_type": "code",
      "execution_count": 9,
      "metadata": {
        "id": "slwb_inx_r84"
      },
      "outputs": [],
      "source": [
        "m1 = MercedesBenz(\"black\")"
      ]
    },
    {
      "cell_type": "code",
      "execution_count": 10,
      "metadata": {},
      "outputs": [
        {
          "data": {
            "text/plain": [
              "''"
            ]
          },
          "execution_count": 10,
          "metadata": {},
          "output_type": "execute_result"
        }
      ],
      "source": [
        "MercedesBenz.color"
      ]
    },
    {
      "cell_type": "code",
      "execution_count": null,
      "metadata": {
        "colab": {
          "base_uri": "https://localhost:8080/",
          "height": 35
        },
        "id": "3CIB42Wvf1O4",
        "outputId": "fe569c94-895e-4f81-d36e-fbb606ad590a"
      },
      "outputs": [
        {
          "data": {
            "application/vnd.google.colaboratory.intrinsic+json": {
              "type": "string"
            },
            "text/plain": [
              "'black'"
            ]
          },
          "execution_count": 11,
          "metadata": {},
          "output_type": "execute_result"
        }
      ],
      "source": [
        "m1.color"
      ]
    },
    {
      "cell_type": "code",
      "execution_count": null,
      "metadata": {
        "colab": {
          "base_uri": "https://localhost:8080/"
        },
        "id": "M-ROjRmtf2A3",
        "outputId": "41973fa7-c6ad-4d74-c50c-37cf94d86cf1"
      },
      "outputs": [
        {
          "data": {
            "text/plain": [
              "<__main__.MercedesBenz at 0x7dc5a8bb9ae0>"
            ]
          },
          "execution_count": 6,
          "metadata": {},
          "output_type": "execute_result"
        }
      ],
      "source": [
        "m1.drive()"
      ]
    },
    {
      "cell_type": "code",
      "execution_count": null,
      "metadata": {
        "colab": {
          "base_uri": "https://localhost:8080/"
        },
        "id": "Kgw0Wlrxf39Z",
        "outputId": "31f70561-e8ca-473d-f1f2-c7f4fe690339"
      },
      "outputs": [
        {
          "data": {
            "text/plain": [
              "True"
            ]
          },
          "execution_count": 7,
          "metadata": {},
          "output_type": "execute_result"
        }
      ],
      "source": [
        "m1==m1.drive()"
      ]
    },
    {
      "cell_type": "code",
      "execution_count": null,
      "metadata": {
        "id": "wJm0-GvTf6RR"
      },
      "outputs": [],
      "source": [
        "m2 = MercedesBenz(\"orange\")"
      ]
    },
    {
      "cell_type": "markdown",
      "metadata": {
        "id": "ANzcPGFNiIrJ"
      },
      "source": [
        "2 ways to do access attributes\n"
      ]
    },
    {
      "cell_type": "code",
      "execution_count": null,
      "metadata": {
        "colab": {
          "base_uri": "https://localhost:8080/",
          "height": 35
        },
        "id": "laK-3kznhMO3",
        "outputId": "25bb3483-2e07-4379-f8d6-7eb13dd0cefa"
      },
      "outputs": [
        {
          "data": {
            "application/vnd.google.colaboratory.intrinsic+json": {
              "type": "string"
            },
            "text/plain": [
              "'orange'"
            ]
          },
          "execution_count": 13,
          "metadata": {},
          "output_type": "execute_result"
        }
      ],
      "source": [
        "m2.color"
      ]
    },
    {
      "cell_type": "markdown",
      "metadata": {
        "id": "XtNQqnR0iao0"
      },
      "source": [
        "# getter and setter"
      ]
    },
    {
      "cell_type": "code",
      "execution_count": null,
      "metadata": {
        "colab": {
          "base_uri": "https://localhost:8080/",
          "height": 35
        },
        "id": "5yUiGyErhM67",
        "outputId": "570275e7-127c-43a0-ba12-b091389bc1f9"
      },
      "outputs": [
        {
          "data": {
            "application/vnd.google.colaboratory.intrinsic+json": {
              "type": "string"
            },
            "text/plain": [
              "'black'"
            ]
          },
          "execution_count": 15,
          "metadata": {},
          "output_type": "execute_result"
        }
      ],
      "source": [
        "getattr(m1, \"color\")"
      ]
    },
    {
      "cell_type": "code",
      "execution_count": null,
      "metadata": {
        "colab": {
          "base_uri": "https://localhost:8080/",
          "height": 35
        },
        "id": "4li_0DsiiFGI",
        "outputId": "0d3f8d9f-29f0-4550-a320-d43a390cb1b1"
      },
      "outputs": [
        {
          "data": {
            "application/vnd.google.colaboratory.intrinsic+json": {
              "type": "string"
            },
            "text/plain": [
              "'yellow'"
            ]
          },
          "execution_count": 17,
          "metadata": {},
          "output_type": "execute_result"
        }
      ],
      "source": [
        "setattr(m1,\"color\",\"yellow\")\n",
        "getattr(m1,\"color\")"
      ]
    },
    {
      "cell_type": "markdown",
      "metadata": {
        "id": "Sm0mdBbnisEN"
      },
      "source": [
        "if more than 1 object, we can use getters and setters"
      ]
    },
    {
      "cell_type": "code",
      "execution_count": null,
      "metadata": {
        "id": "RNwcj_YoiTvA"
      },
      "outputs": [],
      "source": [
        "objs = [m1,m2]\n",
        "attribs = [\"color\"]\n",
        "values = [\"blue\"]"
      ]
    },
    {
      "cell_type": "code",
      "execution_count": null,
      "metadata": {
        "id": "h1DxaNG6ib1D"
      },
      "outputs": [],
      "source": [
        "for obj in objs:\n",
        "  #zip helps to zip val by val\n",
        "  for attrib,val in zip(attribs,values):\n",
        "    setattr(obj,attrib,val)"
      ]
    },
    {
      "cell_type": "code",
      "execution_count": null,
      "metadata": {
        "colab": {
          "base_uri": "https://localhost:8080/",
          "height": 35
        },
        "id": "At8ZiNREjOFF",
        "outputId": "ef5b6955-e6e7-4b6e-b5c3-b854b71c5618"
      },
      "outputs": [
        {
          "data": {
            "application/vnd.google.colaboratory.intrinsic+json": {
              "type": "string"
            },
            "text/plain": [
              "'blue'"
            ]
          },
          "execution_count": 24,
          "metadata": {},
          "output_type": "execute_result"
        }
      ],
      "source": [
        "m1.color"
      ]
    },
    {
      "cell_type": "markdown",
      "metadata": {
        "id": "0bUtdHs0kDZX"
      },
      "source": [
        "can be used to assign a new attr"
      ]
    },
    {
      "cell_type": "code",
      "execution_count": null,
      "metadata": {
        "id": "mNFWqtC4jVcz"
      },
      "outputs": [],
      "source": [
        "setattr(m1,\"sunroof\",\"yes\")"
      ]
    },
    {
      "cell_type": "code",
      "execution_count": null,
      "metadata": {
        "colab": {
          "base_uri": "https://localhost:8080/",
          "height": 35
        },
        "id": "fAfjc5omj5OV",
        "outputId": "9bbc4208-cf14-4acf-fead-75daaef8bd3b"
      },
      "outputs": [
        {
          "data": {
            "application/vnd.google.colaboratory.intrinsic+json": {
              "type": "string"
            },
            "text/plain": [
              "'yes'"
            ]
          },
          "execution_count": 26,
          "metadata": {},
          "output_type": "execute_result"
        }
      ],
      "source": [
        "m1.sunroof"
      ]
    },
    {
      "cell_type": "markdown",
      "metadata": {
        "id": "1j90TFfSlaWi"
      },
      "source": [
        "wut happens if we dont use self while defining method?"
      ]
    },
    {
      "cell_type": "code",
      "execution_count": null,
      "metadata": {
        "id": "tbQV0wwgj6c9"
      },
      "outputs": [],
      "source": [
        "class MercedesBenz:\n",
        "  name=\"benz\"\n",
        "  color=\"\"\n",
        "  def __init__(self, color):\n",
        "    self.color = color\n",
        "  def drive(self):\n",
        "    return self\n",
        "  def auto_drive():\n",
        "    print(\"vroom\")"
      ]
    },
    {
      "cell_type": "code",
      "execution_count": null,
      "metadata": {
        "id": "41_vdh7zlqRx"
      },
      "outputs": [],
      "source": [
        "m1= MercedesBenz(\"black\")"
      ]
    },
    {
      "cell_type": "code",
      "execution_count": null,
      "metadata": {
        "colab": {
          "base_uri": "https://localhost:8080/",
          "height": 141
        },
        "id": "50eb89YOlt-R",
        "outputId": "a98c321e-b2ef-4134-a57e-3ddee2e7fbe9"
      },
      "outputs": [
        {
          "ename": "TypeError",
          "evalue": "MercedesBenz.auto_drive() takes 0 positional arguments but 1 was given",
          "output_type": "error",
          "traceback": [
            "\u001b[0;31m---------------------------------------------------------------------------\u001b[0m",
            "\u001b[0;31mTypeError\u001b[0m                                 Traceback (most recent call last)",
            "\u001b[0;32m<ipython-input-30-34bfe408605b>\u001b[0m in \u001b[0;36m<cell line: 1>\u001b[0;34m()\u001b[0m\n\u001b[0;32m----> 1\u001b[0;31m \u001b[0mm1\u001b[0m\u001b[0;34m.\u001b[0m\u001b[0mauto_drive\u001b[0m\u001b[0;34m(\u001b[0m\u001b[0;34m)\u001b[0m\u001b[0;34m\u001b[0m\u001b[0;34m\u001b[0m\u001b[0m\n\u001b[0m",
            "\u001b[0;31mTypeError\u001b[0m: MercedesBenz.auto_drive() takes 0 positional arguments but 1 was given"
          ]
        }
      ],
      "source": [
        "m1.auto_drive()"
      ]
    },
    {
      "cell_type": "markdown",
      "metadata": {
        "id": "as36KOaol03D"
      },
      "source": [
        "we will get errors as now first argument is always self for instance methods. can add anything other than self, but stic with self. just a CONVENTION"
      ]
    },
    {
      "cell_type": "markdown",
      "metadata": {
        "id": "bO9q-p7CraOw"
      },
      "source": [
        "DIFF GREETINGS FOR DIFF STUDENTS"
      ]
    },
    {
      "cell_type": "code",
      "execution_count": null,
      "metadata": {
        "id": "ijrneXC9lzQg"
      },
      "outputs": [],
      "source": [
        "from random import choice\n",
        "class Student:\n",
        "    educational_platform = \"Udemy\"\n",
        "    def __init__(self, name, age=0):\n",
        "        self.name = name\n",
        "        self.age=age\n",
        "\n",
        "    def greet(self):\n",
        "        greeting = [\"hi,I'm \",\"hey there, my name is \",\"Hi. Oh, my name is \"]\n",
        "        g = choice(greeting)\n",
        "        print(g+ self.name)\n",
        "\n",
        "students= [\"wajeeha\",\"ayesha\",\"ali\", \"fatima\", \"ahmed\"]\n",
        "for student in students:\n",
        "    student= Student(student)\n",
        "    student.greet()\n"
      ]
    },
    {
      "cell_type": "markdown",
      "metadata": {
        "id": "0-QUV_HerfGn"
      },
      "source": [
        "# **STATIC** METHOD\n",
        "self binds the method with the instance. but static methods can be used without self. even with class names or objects names as they are not bound."
      ]
    },
    {
      "cell_type": "code",
      "execution_count": null,
      "metadata": {
        "id": "VnCRESmxrjdo"
      },
      "outputs": [],
      "source": [
        "class MercedesBenz:\n",
        "  name=\"benz\"\n",
        "  color=\"\"\n",
        "  def __init__(self, color):\n",
        "    self.color = color\n",
        "  def drive(self):\n",
        "    return self\n",
        "\n",
        "  @staticmethod\n",
        "  def auto_drive():\n",
        "    print(\"vroom\")\n",
        "  #class methods are bound to the class -  can be used to add something at run time or anything\n",
        "  @classmethod\n",
        "  def create_lease(cls):\n",
        "    print(f\"a lease for {cls} has been created! \")\n",
        "\n",
        "  #other way\n",
        "  # create_lease= classmethod(create_lease)\n",
        "  # auto_drive = staticmethod(auto_drive)\n"
      ]
    },
    {
      "cell_type": "code",
      "execution_count": null,
      "metadata": {
        "colab": {
          "base_uri": "https://localhost:8080/"
        },
        "id": "PaNU9V46sIsa",
        "outputId": "4491c381-667a-474b-f6dc-1162441697f1"
      },
      "outputs": [
        {
          "name": "stdout",
          "output_type": "stream",
          "text": [
            "vroom\n"
          ]
        }
      ],
      "source": [
        " MercedesBenz.auto_drive()"
      ]
    },
    {
      "cell_type": "code",
      "execution_count": null,
      "metadata": {
        "colab": {
          "base_uri": "https://localhost:8080/"
        },
        "id": "eVT7IbG5sMyf",
        "outputId": "2f686e91-7ecd-480f-a076-af8f349a62b4"
      },
      "outputs": [
        {
          "name": "stdout",
          "output_type": "stream",
          "text": [
            "vroom\n"
          ]
        }
      ],
      "source": [
        "m1= MercedesBenz(\"black\")\n",
        "m1.auto_drive()"
      ]
    },
    {
      "cell_type": "code",
      "execution_count": null,
      "metadata": {
        "colab": {
          "base_uri": "https://localhost:8080/"
        },
        "id": "4dSWcGCqsZFG",
        "outputId": "4bdbef44-41d8-4b61-88ac-3ed34d492055"
      },
      "outputs": [
        {
          "name": "stdout",
          "output_type": "stream",
          "text": [
            "a lease for <class '__main__.MercedesBenz'> has been created! \n"
          ]
        }
      ],
      "source": [
        "MercedesBenz.create_lease()"
      ]
    },
    {
      "cell_type": "code",
      "execution_count": null,
      "metadata": {
        "colab": {
          "base_uri": "https://localhost:8080/"
        },
        "id": "9rblt0PHtkwb",
        "outputId": "e26191fc-5224-4b33-fe2c-b71bda7e0650"
      },
      "outputs": [
        {
          "name": "stdout",
          "output_type": "stream",
          "text": [
            "a lease for <class '__main__.MercedesBenz'> has been created! \n"
          ]
        }
      ],
      "source": [
        "m1.create_lease()"
      ]
    },
    {
      "cell_type": "code",
      "execution_count": null,
      "metadata": {},
      "outputs": [],
      "source": []
    },
    {
      "cell_type": "markdown",
      "metadata": {
        "id": "5oCsMHbFvmCk"
      },
      "source": [
        "# Dunder Dict"
      ]
    },
    {
      "cell_type": "code",
      "execution_count": null,
      "metadata": {
        "colab": {
          "base_uri": "https://localhost:8080/"
        },
        "id": "opB1yEWGtm-y",
        "outputId": "0860c55f-287e-444b-b022-73e4c51f41e5"
      },
      "outputs": [
        {
          "data": {
            "text/plain": [
              "{'color': 'black'}"
            ]
          },
          "execution_count": 46,
          "metadata": {},
          "output_type": "execute_result"
        }
      ],
      "source": [
        "m1.__dict__"
      ]
    },
    {
      "cell_type": "code",
      "execution_count": null,
      "metadata": {
        "id": "5Yjlh47UvWIZ"
      },
      "outputs": [],
      "source": [
        "m1.__dict__['color'] = \"grey\""
      ]
    },
    {
      "cell_type": "code",
      "execution_count": null,
      "metadata": {
        "colab": {
          "base_uri": "https://localhost:8080/"
        },
        "id": "ZL3jW99ivw6B",
        "outputId": "fb8fde88-954f-40ae-cbd0-c13ebd8d0ea7"
      },
      "outputs": [
        {
          "data": {
            "text/plain": [
              "{'color': 'grey'}"
            ]
          },
          "execution_count": 48,
          "metadata": {},
          "output_type": "execute_result"
        }
      ],
      "source": [
        "m1.__dict__"
      ]
    },
    {
      "cell_type": "code",
      "execution_count": null,
      "metadata": {
        "colab": {
          "base_uri": "https://localhost:8080/"
        },
        "id": "TkRMWyyAvy-K",
        "outputId": "829570a9-c4f2-4374-965d-5684f35f730b"
      },
      "outputs": [
        {
          "data": {
            "text/plain": [
              "mappingproxy"
            ]
          },
          "execution_count": 51,
          "metadata": {},
          "output_type": "execute_result"
        }
      ],
      "source": [
        "type(MercedesBenz.__dict__)"
      ]
    },
    {
      "cell_type": "code",
      "execution_count": null,
      "metadata": {
        "colab": {
          "base_uri": "https://localhost:8080/"
        },
        "id": "9Jp-9wZFwLiZ",
        "outputId": "72446bc8-2df0-4c2f-c08f-7c76dff84986"
      },
      "outputs": [
        {
          "data": {
            "text/plain": [
              "mappingproxy({'__module__': '__main__',\n",
              "              'name': 'benz',\n",
              "              'color': '',\n",
              "              '__init__': <function __main__.MercedesBenz.__init__(self, color)>,\n",
              "              'drive': <function __main__.MercedesBenz.drive(self)>,\n",
              "              'auto_drive': <staticmethod(<function MercedesBenz.auto_drive at 0x7dc5944bb250>)>,\n",
              "              'create_lease': <classmethod(<function MercedesBenz.create_lease at 0x7dc5944ba320>)>,\n",
              "              '__dict__': <attribute '__dict__' of 'MercedesBenz' objects>,\n",
              "              '__weakref__': <attribute '__weakref__' of 'MercedesBenz' objects>,\n",
              "              '__doc__': None,\n",
              "              '__annotations__': {}})"
            ]
          },
          "execution_count": 52,
          "metadata": {},
          "output_type": "execute_result"
        }
      ],
      "source": [
        "MercedesBenz.__dict__"
      ]
    },
    {
      "cell_type": "code",
      "execution_count": null,
      "metadata": {
        "id": "JGMyjKeHxTb_"
      },
      "outputs": [],
      "source": [
        "# search for attribte then namespace then in class, get a descriptor which has it in the form of dictionary"
      ]
    },
    {
      "cell_type": "code",
      "execution_count": null,
      "metadata": {
        "id": "vm5zkznYxhQV"
      },
      "outputs": [],
      "source": [
        "# docstring --> '__doc__', not ignoired by compiler \"\"\" i am a docstring with param types in strings\"\"\"\""
      ]
    },
    {
      "cell_type": "markdown",
      "metadata": {
        "id": "7KLCKc0oOQWM"
      },
      "source": [
        "# EXERCISE 2\n",
        "Password generator"
      ]
    },
    {
      "cell_type": "code",
      "execution_count": 2,
      "metadata": {
        "id": "9ocLV6-OAAJY"
      },
      "outputs": [],
      "source": [
        "from random import choice\n",
        "from string import ascii_letters, digits, punctuation\n",
        "class Password:\n",
        "    password=''\n",
        "    def __init__(self, strength= 'mid', length=0):\n",
        "        self.strength = strength\n",
        "        self.length = length\n",
        "\n",
        "\n",
        "    @staticmethod\n",
        "    def show_input_universe():\n",
        "        chars = {'letters': ascii_letters,\n",
        "                 'numbers': digits,\n",
        "                 'punctuation': punctuation}\n",
        "        return chars\n",
        "    def generate(self):\n",
        "        if self.strength == 'low':\n",
        "            if self.length == 0:\n",
        "                self.length = 8\n",
        "            universe = ascii_letters\n",
        "\n",
        "        elif self.strength == 'mid':\n",
        "            if self.length == 0:\n",
        "                self.length = 12\n",
        "            universe = ascii_letters + digits\n",
        "        else:\n",
        "            if self.length == 0:\n",
        "                self.length = 16\n",
        "            universe = ascii_letters + digits + punctuation\n",
        "        for i in range(self.length):\n",
        "            self.password= choice(universe)\n",
        "            self.password+=p\n",
        "        return self.password"
      ]
    },
    {
      "cell_type": "code",
      "execution_count": null,
      "metadata": {
        "colab": {
          "base_uri": "https://localhost:8080/"
        },
        "id": "2YcBX2ccOOLY",
        "outputId": "fc32ad29-ba1f-4ac9-ce3b-2a4f8d6e81d3"
      },
      "outputs": [
        {
          "name": "stdout",
          "output_type": "stream",
          "text": [
            "SFDORQLQhe2jvSAY6QhFqovrG9tc9cVqypHyIKm1YdFzI2XoPQJmQhcICSAH\n",
            "60\n"
          ]
        }
      ],
      "source": [
        "\n",
        "# print(Password.show_input_universe())\n",
        "p1= Password('mid',60)\n",
        "print(p1.generate())\n",
        "print(p1.length)"
      ]
    },
    {
      "cell_type": "markdown",
      "metadata": {
        "id": "9ecYg2zYSOqs"
      },
      "source": [
        "approach in video"
      ]
    },
    {
      "cell_type": "code",
      "execution_count": null,
      "metadata": {
        "id": "XUFah5IiOO7A"
      },
      "outputs": [],
      "source": [
        "from random import choice\n",
        "from string import ascii_letters, digits, punctuation\n",
        "class Password:\n",
        "    password=''\n",
        "    def __init__(self, strength= 'mid', length=0):\n",
        "        self.strength = strength\n",
        "        self.length = length\n",
        "\n",
        "\n",
        "    @staticmethod\n",
        "    def show_input_universe():\n",
        "        chars = {'letters': ascii_letters,\n",
        "                 'numbers': digits,\n",
        "                 'punctuation': punctuation}\n",
        "        return chars\n",
        "    default_length = {\n",
        "        'low': 8,\n",
        "        'mid': 12,\n",
        "        'high': 16\n",
        "    }\n",
        "    def generate(self):\n",
        "        if self.strength == 'low':\n",
        "            universe = ascii_letters\n",
        "\n",
        "        elif self.strength == 'mid':\n",
        "            universe = ascii_letters + digits\n",
        "        else:\n",
        "            universe = ascii_letters + digits + punctuation\n",
        "        length = self.length or self.default_length[self.strength]\n",
        "        print(length)\n",
        "        for i in range(length):\n",
        "            self.password += choice(universe)\n",
        "\n",
        "        return self.password\n",
        "\n",
        "\n",
        "\n",
        "# print(Password.show_input_universe())\n",
        "p1= Password('mid',60)\n",
        "print(p1.password)\n",
        "\n",
        "\n",
        "\n"
      ]
    },
    {
      "cell_type": "markdown",
      "metadata": {
        "id": "yDCaM9L4z50K"
      },
      "source": [
        "# DUNDERS"
      ]
    },
    {
      "cell_type": "markdown",
      "metadata": {
        "id": "b-s8xo3h0_1c"
      },
      "source": [
        "customize repr method"
      ]
    },
    {
      "cell_type": "code",
      "execution_count": 2,
      "metadata": {
        "id": "1GWPqEX-z9jN"
      },
      "outputs": [],
      "source": [
        "class MercedesBenz:\n",
        "  name=\"benz\"\n",
        "  color=\"\"\n",
        "  def __init__(self, color):\n",
        "    self.color = color\n",
        "  def drive(self):\n",
        "    return self\n",
        "\n",
        "  @staticmethod\n",
        "  def auto_drive():\n",
        "    print(\"vroom\")\n",
        "  #class methods are bound to the class -  can be used to add something at run time or anything\n",
        "  @classmethod\n",
        "  def create_lease(cls):\n",
        "    print(f\"a lease for {cls} has been created! \")\n",
        "\n",
        "  #other way\n",
        "  # create_lease= classmethod(create_lease)\n",
        "  # auto_drive = staticmethod(auto_drive)\n"
      ]
    },
    {
      "cell_type": "code",
      "execution_count": 4,
      "metadata": {
        "colab": {
          "base_uri": "https://localhost:8080/",
          "height": 141
        },
        "id": "I3c4Qn-X1pSX",
        "outputId": "d4a6ac67-954c-4eba-92ea-ca3027dfb613"
      },
      "outputs": [],
      "source": [
        "m = MercedesBenz(\"black\")"
      ]
    },
    {
      "cell_type": "code",
      "execution_count": 7,
      "metadata": {},
      "outputs": [
        {
          "name": "stdout",
          "output_type": "stream",
          "text": [
            "vroom\n"
          ]
        }
      ],
      "source": [
        "MercedesBenz.auto_drive()"
      ]
    },
    {
      "cell_type": "code",
      "execution_count": null,
      "metadata": {
        "id": "VcbhiyJA1r1B"
      },
      "outputs": [],
      "source": []
    }
  ],
  "metadata": {
    "colab": {
      "provenance": []
    },
    "kernelspec": {
      "display_name": "Python 3",
      "name": "python3"
    },
    "language_info": {
      "codemirror_mode": {
        "name": "ipython",
        "version": 3
      },
      "file_extension": ".py",
      "mimetype": "text/x-python",
      "name": "python",
      "nbconvert_exporter": "python",
      "pygments_lexer": "ipython3",
      "version": "3.9.13"
    }
  },
  "nbformat": 4,
  "nbformat_minor": 0
}
