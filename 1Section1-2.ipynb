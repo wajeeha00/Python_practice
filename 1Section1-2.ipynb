{
  "nbformat": 4,
  "nbformat_minor": 0,
  "metadata": {
    "colab": {
      "provenance": []
    },
    "kernelspec": {
      "name": "python3",
      "display_name": "Python 3"
    },
    "language_info": {
      "name": "python"
    }
  },
  "cells": [
    {
      "cell_type": "code",
      "execution_count": null,
      "metadata": {
        "id": "6ESgazaT_h3_"
      },
      "outputs": [],
      "source": [
        "class MercedesBenz:\n",
        "  name=\"benz\"\n",
        "  color=\"\"\n",
        "  def __init__(self, color):\n",
        "    self.color = color\n",
        "  def drive(self):\n",
        "    return self"
      ]
    },
    {
      "cell_type": "code",
      "source": [
        "type(MercedesBenz)"
      ],
      "metadata": {
        "colab": {
          "base_uri": "https://localhost:8080/"
        },
        "id": "vF7AuYHL_mi6",
        "outputId": "0ddd20d2-f2b7-40d1-f3ff-b22ec357f1a9"
      },
      "execution_count": null,
      "outputs": [
        {
          "output_type": "execute_result",
          "data": {
            "text/plain": [
              "type"
            ]
          },
          "metadata": {},
          "execution_count": 2
        }
      ]
    },
    {
      "cell_type": "code",
      "source": [
        "MercedesBenz"
      ],
      "metadata": {
        "colab": {
          "base_uri": "https://localhost:8080/"
        },
        "id": "3ZFP14ZX_pfA",
        "outputId": "3ab1a944-0ba0-49f8-be71-9619334def19"
      },
      "execution_count": null,
      "outputs": [
        {
          "output_type": "execute_result",
          "data": {
            "text/plain": [
              "__main__.MercedesBenz"
            ]
          },
          "metadata": {},
          "execution_count": 3
        }
      ]
    },
    {
      "cell_type": "code",
      "source": [
        "m1 = MercedesBenz(\"black\")"
      ],
      "metadata": {
        "id": "slwb_inx_r84"
      },
      "execution_count": null,
      "outputs": []
    },
    {
      "cell_type": "code",
      "source": [
        "m1.color"
      ],
      "metadata": {
        "colab": {
          "base_uri": "https://localhost:8080/",
          "height": 35
        },
        "id": "3CIB42Wvf1O4",
        "outputId": "fe569c94-895e-4f81-d36e-fbb606ad590a"
      },
      "execution_count": null,
      "outputs": [
        {
          "output_type": "execute_result",
          "data": {
            "text/plain": [
              "'black'"
            ],
            "application/vnd.google.colaboratory.intrinsic+json": {
              "type": "string"
            }
          },
          "metadata": {},
          "execution_count": 11
        }
      ]
    },
    {
      "cell_type": "code",
      "source": [
        "m1.drive()"
      ],
      "metadata": {
        "colab": {
          "base_uri": "https://localhost:8080/"
        },
        "id": "M-ROjRmtf2A3",
        "outputId": "41973fa7-c6ad-4d74-c50c-37cf94d86cf1"
      },
      "execution_count": null,
      "outputs": [
        {
          "output_type": "execute_result",
          "data": {
            "text/plain": [
              "<__main__.MercedesBenz at 0x7dc5a8bb9ae0>"
            ]
          },
          "metadata": {},
          "execution_count": 6
        }
      ]
    },
    {
      "cell_type": "code",
      "source": [
        "m1==m1.drive()"
      ],
      "metadata": {
        "colab": {
          "base_uri": "https://localhost:8080/"
        },
        "id": "Kgw0Wlrxf39Z",
        "outputId": "31f70561-e8ca-473d-f1f2-c7f4fe690339"
      },
      "execution_count": null,
      "outputs": [
        {
          "output_type": "execute_result",
          "data": {
            "text/plain": [
              "True"
            ]
          },
          "metadata": {},
          "execution_count": 7
        }
      ]
    },
    {
      "cell_type": "code",
      "source": [
        "m2 = MercedesBenz(\"orange\")"
      ],
      "metadata": {
        "id": "wJm0-GvTf6RR"
      },
      "execution_count": null,
      "outputs": []
    },
    {
      "cell_type": "markdown",
      "source": [
        "2 ways to do access attributes\n"
      ],
      "metadata": {
        "id": "ANzcPGFNiIrJ"
      }
    },
    {
      "cell_type": "code",
      "source": [
        "m2.color"
      ],
      "metadata": {
        "colab": {
          "base_uri": "https://localhost:8080/",
          "height": 35
        },
        "id": "laK-3kznhMO3",
        "outputId": "25bb3483-2e07-4379-f8d6-7eb13dd0cefa"
      },
      "execution_count": null,
      "outputs": [
        {
          "output_type": "execute_result",
          "data": {
            "text/plain": [
              "'orange'"
            ],
            "application/vnd.google.colaboratory.intrinsic+json": {
              "type": "string"
            }
          },
          "metadata": {},
          "execution_count": 13
        }
      ]
    },
    {
      "cell_type": "markdown",
      "source": [
        "# getter and setter"
      ],
      "metadata": {
        "id": "XtNQqnR0iao0"
      }
    },
    {
      "cell_type": "code",
      "source": [
        "getattr(m1, \"color\")"
      ],
      "metadata": {
        "colab": {
          "base_uri": "https://localhost:8080/",
          "height": 35
        },
        "id": "5yUiGyErhM67",
        "outputId": "570275e7-127c-43a0-ba12-b091389bc1f9"
      },
      "execution_count": null,
      "outputs": [
        {
          "output_type": "execute_result",
          "data": {
            "text/plain": [
              "'black'"
            ],
            "application/vnd.google.colaboratory.intrinsic+json": {
              "type": "string"
            }
          },
          "metadata": {},
          "execution_count": 15
        }
      ]
    },
    {
      "cell_type": "code",
      "source": [
        "setattr(m1,\"color\",\"yellow\")\n",
        "getattr(m1,\"color\")"
      ],
      "metadata": {
        "colab": {
          "base_uri": "https://localhost:8080/",
          "height": 35
        },
        "id": "4li_0DsiiFGI",
        "outputId": "0d3f8d9f-29f0-4550-a320-d43a390cb1b1"
      },
      "execution_count": null,
      "outputs": [
        {
          "output_type": "execute_result",
          "data": {
            "text/plain": [
              "'yellow'"
            ],
            "application/vnd.google.colaboratory.intrinsic+json": {
              "type": "string"
            }
          },
          "metadata": {},
          "execution_count": 17
        }
      ]
    },
    {
      "cell_type": "markdown",
      "source": [
        "if more than 1 object, we can use getters and setters"
      ],
      "metadata": {
        "id": "Sm0mdBbnisEN"
      }
    },
    {
      "cell_type": "code",
      "source": [
        "objs = [m1,m2]\n",
        "attribs = [\"color\"]\n",
        "values = [\"blue\"]"
      ],
      "metadata": {
        "id": "RNwcj_YoiTvA"
      },
      "execution_count": null,
      "outputs": []
    },
    {
      "cell_type": "code",
      "source": [
        "for obj in objs:\n",
        "  #zip helps to zip val by val\n",
        "  for attrib,val in zip(attribs,values):\n",
        "    setattr(obj,attrib,val)"
      ],
      "metadata": {
        "id": "h1DxaNG6ib1D"
      },
      "execution_count": null,
      "outputs": []
    },
    {
      "cell_type": "code",
      "source": [
        "m1.color"
      ],
      "metadata": {
        "colab": {
          "base_uri": "https://localhost:8080/",
          "height": 35
        },
        "id": "At8ZiNREjOFF",
        "outputId": "ef5b6955-e6e7-4b6e-b5c3-b854b71c5618"
      },
      "execution_count": null,
      "outputs": [
        {
          "output_type": "execute_result",
          "data": {
            "text/plain": [
              "'blue'"
            ],
            "application/vnd.google.colaboratory.intrinsic+json": {
              "type": "string"
            }
          },
          "metadata": {},
          "execution_count": 24
        }
      ]
    },
    {
      "cell_type": "markdown",
      "source": [
        "can be used to assign a new attr"
      ],
      "metadata": {
        "id": "0bUtdHs0kDZX"
      }
    },
    {
      "cell_type": "code",
      "source": [
        "setattr(m1,\"sunroof\",\"yes\")"
      ],
      "metadata": {
        "id": "mNFWqtC4jVcz"
      },
      "execution_count": null,
      "outputs": []
    },
    {
      "cell_type": "code",
      "source": [
        "m1.sunroof"
      ],
      "metadata": {
        "colab": {
          "base_uri": "https://localhost:8080/",
          "height": 35
        },
        "id": "fAfjc5omj5OV",
        "outputId": "9bbc4208-cf14-4acf-fead-75daaef8bd3b"
      },
      "execution_count": null,
      "outputs": [
        {
          "output_type": "execute_result",
          "data": {
            "text/plain": [
              "'yes'"
            ],
            "application/vnd.google.colaboratory.intrinsic+json": {
              "type": "string"
            }
          },
          "metadata": {},
          "execution_count": 26
        }
      ]
    },
    {
      "cell_type": "markdown",
      "source": [
        "wut happens if we dont use self while defining method?"
      ],
      "metadata": {
        "id": "1j90TFfSlaWi"
      }
    },
    {
      "cell_type": "code",
      "source": [
        "class MercedesBenz:\n",
        "  name=\"benz\"\n",
        "  color=\"\"\n",
        "  def __init__(self, color):\n",
        "    self.color = color\n",
        "  def drive(self):\n",
        "    return self\n",
        "  def auto_drive():\n",
        "    print(\"vroom\")"
      ],
      "metadata": {
        "id": "tbQV0wwgj6c9"
      },
      "execution_count": null,
      "outputs": []
    },
    {
      "cell_type": "code",
      "source": [
        "m1= MercedesBenz(\"black\")"
      ],
      "metadata": {
        "id": "41_vdh7zlqRx"
      },
      "execution_count": null,
      "outputs": []
    },
    {
      "cell_type": "code",
      "source": [
        "m1.auto_drive()"
      ],
      "metadata": {
        "colab": {
          "base_uri": "https://localhost:8080/",
          "height": 141
        },
        "id": "50eb89YOlt-R",
        "outputId": "a98c321e-b2ef-4134-a57e-3ddee2e7fbe9"
      },
      "execution_count": null,
      "outputs": [
        {
          "output_type": "error",
          "ename": "TypeError",
          "evalue": "MercedesBenz.auto_drive() takes 0 positional arguments but 1 was given",
          "traceback": [
            "\u001b[0;31m---------------------------------------------------------------------------\u001b[0m",
            "\u001b[0;31mTypeError\u001b[0m                                 Traceback (most recent call last)",
            "\u001b[0;32m<ipython-input-30-34bfe408605b>\u001b[0m in \u001b[0;36m<cell line: 1>\u001b[0;34m()\u001b[0m\n\u001b[0;32m----> 1\u001b[0;31m \u001b[0mm1\u001b[0m\u001b[0;34m.\u001b[0m\u001b[0mauto_drive\u001b[0m\u001b[0;34m(\u001b[0m\u001b[0;34m)\u001b[0m\u001b[0;34m\u001b[0m\u001b[0;34m\u001b[0m\u001b[0m\n\u001b[0m",
            "\u001b[0;31mTypeError\u001b[0m: MercedesBenz.auto_drive() takes 0 positional arguments but 1 was given"
          ]
        }
      ]
    },
    {
      "cell_type": "markdown",
      "source": [
        "we will get errors as now first argument is always self for instance methods. can add anything other than self, but stic with self. just a CONVENTION"
      ],
      "metadata": {
        "id": "as36KOaol03D"
      }
    },
    {
      "cell_type": "markdown",
      "source": [
        "DIFF GREETINGS FOR DIFF STUDENTS"
      ],
      "metadata": {
        "id": "bO9q-p7CraOw"
      }
    },
    {
      "cell_type": "code",
      "source": [
        "from random import choice\n",
        "class Student:\n",
        "    educational_platform = \"Udemy\"\n",
        "    def __init__(self, name, age=0):\n",
        "        self.name = name\n",
        "        self.age=age\n",
        "\n",
        "    def greet(self):\n",
        "        greeting = [\"hi,I'm \",\"hey there, my name is \",\"Hi. Oh, my name is \"]\n",
        "        g = choice(greeting)\n",
        "        print(g+ self.name)\n",
        "\n",
        "students= [\"wajeeha\",\"ayesha\",\"ali\", \"fatima\", \"ahmed\"]\n",
        "for student in students:\n",
        "    student= Student(student)\n",
        "    student.greet()\n"
      ],
      "metadata": {
        "id": "ijrneXC9lzQg"
      },
      "execution_count": null,
      "outputs": []
    },
    {
      "cell_type": "markdown",
      "source": [
        "# **STATIC** METHOD\n",
        "self binds the method with the instance. but static methods can be used without self. even with class names or objects names as they are not bound."
      ],
      "metadata": {
        "id": "0-QUV_HerfGn"
      }
    },
    {
      "cell_type": "code",
      "source": [
        "class MercedesBenz:\n",
        "  name=\"benz\"\n",
        "  color=\"\"\n",
        "  def __init__(self, color):\n",
        "    self.color = color\n",
        "  def drive(self):\n",
        "    return self\n",
        "\n",
        "  @staticmethod\n",
        "  def auto_drive():\n",
        "    print(\"vroom\")\n",
        "  #class methods are bound to the class -  can be used to add something at run time or anything\n",
        "  @classmethod\n",
        "  def create_lease(cls):\n",
        "    print(f\"a lease for {cls} has been created! \")\n",
        "\n",
        "  #other way\n",
        "  # create_lease= classmethod(create_lease)\n",
        "  # auto_drive = staticmethod(auto_drive)\n"
      ],
      "metadata": {
        "id": "VnCRESmxrjdo"
      },
      "execution_count": null,
      "outputs": []
    },
    {
      "cell_type": "code",
      "source": [
        " MercedesBenz.auto_drive()"
      ],
      "metadata": {
        "colab": {
          "base_uri": "https://localhost:8080/"
        },
        "id": "PaNU9V46sIsa",
        "outputId": "4491c381-667a-474b-f6dc-1162441697f1"
      },
      "execution_count": null,
      "outputs": [
        {
          "output_type": "stream",
          "name": "stdout",
          "text": [
            "vroom\n"
          ]
        }
      ]
    },
    {
      "cell_type": "code",
      "source": [
        "m1= MercedesBenz(\"black\")\n",
        "m1.auto_drive()"
      ],
      "metadata": {
        "colab": {
          "base_uri": "https://localhost:8080/"
        },
        "id": "eVT7IbG5sMyf",
        "outputId": "2f686e91-7ecd-480f-a076-af8f349a62b4"
      },
      "execution_count": null,
      "outputs": [
        {
          "output_type": "stream",
          "name": "stdout",
          "text": [
            "vroom\n"
          ]
        }
      ]
    },
    {
      "cell_type": "code",
      "source": [
        "MercedesBenz.create_lease()"
      ],
      "metadata": {
        "colab": {
          "base_uri": "https://localhost:8080/"
        },
        "id": "4dSWcGCqsZFG",
        "outputId": "4bdbef44-41d8-4b61-88ac-3ed34d492055"
      },
      "execution_count": null,
      "outputs": [
        {
          "output_type": "stream",
          "name": "stdout",
          "text": [
            "a lease for <class '__main__.MercedesBenz'> has been created! \n"
          ]
        }
      ]
    },
    {
      "cell_type": "code",
      "source": [
        "m1.create_lease()"
      ],
      "metadata": {
        "colab": {
          "base_uri": "https://localhost:8080/"
        },
        "id": "9rblt0PHtkwb",
        "outputId": "e26191fc-5224-4b33-fe2c-b71bda7e0650"
      },
      "execution_count": null,
      "outputs": [
        {
          "output_type": "stream",
          "name": "stdout",
          "text": [
            "a lease for <class '__main__.MercedesBenz'> has been created! \n"
          ]
        }
      ]
    },
    {
      "cell_type": "markdown",
      "source": [
        "# Dunder Dict"
      ],
      "metadata": {
        "id": "5oCsMHbFvmCk"
      }
    },
    {
      "cell_type": "code",
      "source": [
        "m1.__dict__"
      ],
      "metadata": {
        "colab": {
          "base_uri": "https://localhost:8080/"
        },
        "id": "opB1yEWGtm-y",
        "outputId": "0860c55f-287e-444b-b022-73e4c51f41e5"
      },
      "execution_count": null,
      "outputs": [
        {
          "output_type": "execute_result",
          "data": {
            "text/plain": [
              "{'color': 'black'}"
            ]
          },
          "metadata": {},
          "execution_count": 46
        }
      ]
    },
    {
      "cell_type": "code",
      "source": [
        "m1.__dict__['color'] = \"grey\""
      ],
      "metadata": {
        "id": "5Yjlh47UvWIZ"
      },
      "execution_count": null,
      "outputs": []
    },
    {
      "cell_type": "code",
      "source": [
        "m1.__dict__"
      ],
      "metadata": {
        "colab": {
          "base_uri": "https://localhost:8080/"
        },
        "id": "ZL3jW99ivw6B",
        "outputId": "fb8fde88-954f-40ae-cbd0-c13ebd8d0ea7"
      },
      "execution_count": null,
      "outputs": [
        {
          "output_type": "execute_result",
          "data": {
            "text/plain": [
              "{'color': 'grey'}"
            ]
          },
          "metadata": {},
          "execution_count": 48
        }
      ]
    },
    {
      "cell_type": "code",
      "source": [
        "type(MercedesBenz.__dict__)"
      ],
      "metadata": {
        "colab": {
          "base_uri": "https://localhost:8080/"
        },
        "id": "TkRMWyyAvy-K",
        "outputId": "829570a9-c4f2-4374-965d-5684f35f730b"
      },
      "execution_count": null,
      "outputs": [
        {
          "output_type": "execute_result",
          "data": {
            "text/plain": [
              "mappingproxy"
            ]
          },
          "metadata": {},
          "execution_count": 51
        }
      ]
    },
    {
      "cell_type": "code",
      "source": [
        "MercedesBenz.__dict__"
      ],
      "metadata": {
        "colab": {
          "base_uri": "https://localhost:8080/"
        },
        "id": "9Jp-9wZFwLiZ",
        "outputId": "72446bc8-2df0-4c2f-c08f-7c76dff84986"
      },
      "execution_count": null,
      "outputs": [
        {
          "output_type": "execute_result",
          "data": {
            "text/plain": [
              "mappingproxy({'__module__': '__main__',\n",
              "              'name': 'benz',\n",
              "              'color': '',\n",
              "              '__init__': <function __main__.MercedesBenz.__init__(self, color)>,\n",
              "              'drive': <function __main__.MercedesBenz.drive(self)>,\n",
              "              'auto_drive': <staticmethod(<function MercedesBenz.auto_drive at 0x7dc5944bb250>)>,\n",
              "              'create_lease': <classmethod(<function MercedesBenz.create_lease at 0x7dc5944ba320>)>,\n",
              "              '__dict__': <attribute '__dict__' of 'MercedesBenz' objects>,\n",
              "              '__weakref__': <attribute '__weakref__' of 'MercedesBenz' objects>,\n",
              "              '__doc__': None,\n",
              "              '__annotations__': {}})"
            ]
          },
          "metadata": {},
          "execution_count": 52
        }
      ]
    },
    {
      "cell_type": "code",
      "source": [
        "# search for attribte then namespace then in class, get a descriptor which has it in the form of dictionary"
      ],
      "metadata": {
        "id": "JGMyjKeHxTb_"
      },
      "execution_count": null,
      "outputs": []
    },
    {
      "cell_type": "code",
      "source": [
        "# docstring --> '__doc__', not ignoired by compiler \"\"\" i am a docstring with param types in strings\"\"\"\""
      ],
      "metadata": {
        "id": "vm5zkznYxhQV"
      },
      "execution_count": null,
      "outputs": []
    },
    {
      "cell_type": "markdown",
      "source": [
        "# EXERCISE 2\n",
        "Password generator"
      ],
      "metadata": {
        "id": "7KLCKc0oOQWM"
      }
    },
    {
      "cell_type": "code",
      "source": [
        "from random import choice\n",
        "from string import ascii_letters, digits, punctuation\n",
        "class Password:\n",
        "    password=''\n",
        "    def __init__(self, strength= 'mid', length=0):\n",
        "        self.strength = strength\n",
        "        self.length = length\n",
        "\n",
        "\n",
        "    @staticmethod\n",
        "    def show_input_universe():\n",
        "        chars = {'letters': ascii_letters,\n",
        "                 'numbers': digits,\n",
        "                 'punctuation': punctuation}\n",
        "        return chars\n",
        "    def generate(self):\n",
        "        if self.strength == 'low':\n",
        "            if self.length == 0:\n",
        "                self.length = 8\n",
        "            universe = ascii_letters\n",
        "\n",
        "        elif self.strength == 'mid':\n",
        "            if self.length == 0:\n",
        "                self.length = 12\n",
        "            universe = ascii_letters + digits\n",
        "        else:\n",
        "            if self.length == 0:\n",
        "                self.length = 16\n",
        "            universe = ascii_letters + digits + punctuation\n",
        "        for i in range(self.length):\n",
        "            self.password= choice(universe)\n",
        "            self.password+=p\n",
        "        return self.password"
      ],
      "metadata": {
        "id": "9ocLV6-OAAJY"
      },
      "execution_count": 2,
      "outputs": []
    },
    {
      "cell_type": "code",
      "source": [
        "\n",
        "# print(Password.show_input_universe())\n",
        "p1= Password('mid',60)\n",
        "print(p1.generate())\n",
        "print(p1.length)"
      ],
      "metadata": {
        "colab": {
          "base_uri": "https://localhost:8080/"
        },
        "id": "2YcBX2ccOOLY",
        "outputId": "fc32ad29-ba1f-4ac9-ce3b-2a4f8d6e81d3"
      },
      "execution_count": null,
      "outputs": [
        {
          "output_type": "stream",
          "name": "stdout",
          "text": [
            "SFDORQLQhe2jvSAY6QhFqovrG9tc9cVqypHyIKm1YdFzI2XoPQJmQhcICSAH\n",
            "60\n"
          ]
        }
      ]
    },
    {
      "cell_type": "markdown",
      "source": [
        "approach in video"
      ],
      "metadata": {
        "id": "9ecYg2zYSOqs"
      }
    },
    {
      "cell_type": "code",
      "source": [
        "from random import choice\n",
        "from string import ascii_letters, digits, punctuation\n",
        "class Password:\n",
        "    password=''\n",
        "    def __init__(self, strength= 'mid', length=0):\n",
        "        self.strength = strength\n",
        "        self.length = length\n",
        "\n",
        "\n",
        "    @staticmethod\n",
        "    def show_input_universe():\n",
        "        chars = {'letters': ascii_letters,\n",
        "                 'numbers': digits,\n",
        "                 'punctuation': punctuation}\n",
        "        return chars\n",
        "    default_length = {\n",
        "        'low': 8,\n",
        "        'mid': 12,\n",
        "        'high': 16\n",
        "    }\n",
        "    def generate(self):\n",
        "        if self.strength == 'low':\n",
        "            universe = ascii_letters\n",
        "\n",
        "        elif self.strength == 'mid':\n",
        "            universe = ascii_letters + digits\n",
        "        else:\n",
        "            universe = ascii_letters + digits + punctuation\n",
        "        length = self.length or self.default_length[self.strength]\n",
        "        print(length)\n",
        "        for i in range(length):\n",
        "            self.password += choice(universe)\n",
        "\n",
        "        return self.password\n",
        "\n",
        "\n",
        "\n",
        "# print(Password.show_input_universe())\n",
        "p1= Password('mid',60)\n",
        "print(p1.password)\n",
        "\n",
        "\n",
        "\n"
      ],
      "metadata": {
        "id": "XUFah5IiOO7A"
      },
      "execution_count": null,
      "outputs": []
    },
    {
      "cell_type": "markdown",
      "source": [
        "# DUNDERS"
      ],
      "metadata": {
        "id": "yDCaM9L4z50K"
      }
    },
    {
      "cell_type": "markdown",
      "source": [
        "customize repr method"
      ],
      "metadata": {
        "id": "b-s8xo3h0_1c"
      }
    },
    {
      "cell_type": "code",
      "source": [
        "class MercedesBenz:\n",
        "  name=\"benz\"\n",
        "  color=\"\"\n",
        "  def __init__(self, color):\n",
        "    self.color = color\n",
        "  def drive(self):\n",
        "    return self\n",
        "\n",
        "  @staticmethod\n",
        "  def auto_drive():\n",
        "    print(\"vroom\")\n",
        "  #class methods are bound to the class -  can be used to add something at run time or anything\n",
        "  @classmethod\n",
        "  def create_lease(cls):\n",
        "    print(f\"a lease for {cls} has been created! \")\n",
        "\n",
        "  #other way\n",
        "  # create_lease= classmethod(create_lease)\n",
        "  # auto_drive = staticmethod(auto_drive)\n"
      ],
      "metadata": {
        "id": "1GWPqEX-z9jN"
      },
      "execution_count": 3,
      "outputs": []
    },
    {
      "cell_type": "code",
      "source": [
        "m = MercedesBenz()"
      ],
      "metadata": {
        "colab": {
          "base_uri": "https://localhost:8080/",
          "height": 141
        },
        "id": "I3c4Qn-X1pSX",
        "outputId": "d4a6ac67-954c-4eba-92ea-ca3027dfb613"
      },
      "execution_count": 4,
      "outputs": [
        {
          "output_type": "error",
          "ename": "TypeError",
          "evalue": "MercedesBenz.__init__() missing 1 required positional argument: 'color'",
          "traceback": [
            "\u001b[0;31m---------------------------------------------------------------------------\u001b[0m",
            "\u001b[0;31mTypeError\u001b[0m                                 Traceback (most recent call last)",
            "\u001b[0;32m<ipython-input-4-e07cf61452fe>\u001b[0m in \u001b[0;36m<cell line: 1>\u001b[0;34m()\u001b[0m\n\u001b[0;32m----> 1\u001b[0;31m \u001b[0mm\u001b[0m \u001b[0;34m=\u001b[0m \u001b[0mMercedesBenz\u001b[0m\u001b[0;34m(\u001b[0m\u001b[0;34m)\u001b[0m\u001b[0;34m\u001b[0m\u001b[0;34m\u001b[0m\u001b[0m\n\u001b[0m",
            "\u001b[0;31mTypeError\u001b[0m: MercedesBenz.__init__() missing 1 required positional argument: 'color'"
          ]
        }
      ]
    },
    {
      "cell_type": "code",
      "source": [],
      "metadata": {
        "id": "VcbhiyJA1r1B"
      },
      "execution_count": null,
      "outputs": []
    }
  ]
}