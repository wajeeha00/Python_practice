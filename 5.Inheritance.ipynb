{
  "cells": [
    {
      "attachments": {},
      "cell_type": "markdown",
      "metadata": {},
      "source": [
        "## `Inheritance`"
      ]
    },
    {
      "cell_type": "code",
      "execution_count": null,
      "metadata": {},
      "outputs": [],
      "source": [
        "# class -> object"
      ]
    },
    {
      "cell_type": "code",
      "execution_count": 2,
      "metadata": {},
      "outputs": [],
      "source": [
        "# superclass or base class or parent class\n",
        "class Virus:\n",
        "    pass\n",
        "\n",
        "\n",
        "# derived class, or child class\n",
        "# or subclass or subtype\n",
        "class RNAVirus(Virus):\n",
        "    pass"
      ]
    },
    {
      "cell_type": "code",
      "execution_count": null,
      "metadata": {},
      "outputs": [],
      "source": [
        "# \"is a\" relationships"
      ]
    },
    {
      "cell_type": "code",
      "execution_count": 18,
      "metadata": {},
      "outputs": [],
      "source": [
        "class Virus:\n",
        "    pass\n",
        "\n",
        "class RNAVirus(Virus):\n",
        "    pass\n",
        "\n",
        "class Coronavirus(RNAVirus):\n",
        "    pass\n",
        "\n",
        "class SARSCov2(Coronavirus):\n",
        "    pass"
      ]
    },
    {
      "cell_type": "code",
      "execution_count": 4,
      "metadata": {},
      "outputs": [
        {
          "data": {
            "text/plain": [
              "True"
            ]
          },
          "metadata": {},
          "output_type": "display_data"
        }
      ],
      "source": [
        "issubclass(SARSCov2, Coronavirus)"
      ]
    },
    {
      "cell_type": "code",
      "execution_count": 5,
      "metadata": {},
      "outputs": [
        {
          "data": {
            "text/plain": [
              "True"
            ]
          },
          "metadata": {},
          "output_type": "display_data"
        }
      ],
      "source": [
        "issubclass(Coronavirus, RNAVirus)"
      ]
    },
    {
      "cell_type": "code",
      "execution_count": 7,
      "metadata": {},
      "outputs": [
        {
          "data": {
            "text/plain": [
              "True"
            ]
          },
          "metadata": {},
          "output_type": "display_data"
        }
      ],
      "source": [
        "issubclass(SARSCov2, Virus)"
      ]
    },
    {
      "attachments": {},
      "cell_type": "markdown",
      "metadata": {},
      "source": [
        "## `What's Inheritance Good For?`"
      ]
    },
    {
      "cell_type": "code",
      "execution_count": 19,
      "metadata": {},
      "outputs": [],
      "source": [
        "class Virus:\n",
        "    def __init__(self, name, reproduction_rate, resistance):\n",
        "        self.name = name\n",
        "        self.reproduction_rate = reproduction_rate\n",
        "        self.load = 1\n",
        "        self.host = None\n",
        "\n",
        "    def infect(self, host):\n",
        "        self.host = host\n",
        "\n",
        "    def reproduce(self):\n",
        "        if self.host is not None:\n",
        "            self.load *= (1 + self.reproduction_rate)\n",
        "\n",
        "            return True, f\"Virus reproduced in {self.host}. Viral load: {int(self.load)}\"\n",
        "\n",
        "        raise AttributeError(\"Virus needs to infect a host before being able to reproduce.\")"
      ]
    },
    {
      "cell_type": "code",
      "execution_count": 10,
      "metadata": {},
      "outputs": [],
      "source": [
        "v = Virus(\"chandipura\", 1.2, 1.1)"
      ]
    },
    {
      "cell_type": "code",
      "execution_count": 11,
      "metadata": {},
      "outputs": [
        {
          "ename": "AttributeError",
          "evalue": "AttributeError: Virus needs to infect a host before being able to reproduce.",
          "output_type": "error",
          "traceback": [
            "\u001b[0;31m---------------------------------------------------------------------------",
            "Traceback (most recent call last)",
            "    at line 1 in <module>",
            "    at line 17 in reproduce(self)",
            "AttributeError: Virus needs to infect a host before being able to reproduce."
          ]
        }
      ],
      "source": [
        "v.reproduce()"
      ]
    },
    {
      "cell_type": "code",
      "execution_count": 12,
      "metadata": {},
      "outputs": [],
      "source": [
        "v.infect(\"animal1\")"
      ]
    },
    {
      "cell_type": "code",
      "execution_count": 13,
      "metadata": {},
      "outputs": [
        {
          "data": {
            "text/plain": [
              "(True, 'Virus reproduced in animal1. Viral load: 2')"
            ]
          },
          "metadata": {},
          "output_type": "display_data"
        }
      ],
      "source": [
        "v.reproduce()"
      ]
    },
    {
      "cell_type": "code",
      "execution_count": 20,
      "metadata": {},
      "outputs": [],
      "source": [
        "class RNAVirus(Virus):\n",
        "    genome = \"ribonucleic\"\n",
        "\n",
        "    def reproduce(self):\n",
        "        success, status = Virus.reproduce(self)\n",
        "\n",
        "        if success:\n",
        "            print(f\"{self.name} just replicated in the cytoplasm of {self.host} cells\")"
      ]
    },
    {
      "cell_type": "code",
      "execution_count": 21,
      "metadata": {},
      "outputs": [],
      "source": [
        "class DNAVirus(Virus):\n",
        "    genome = \"deoxyribonucleic\"\n",
        "\n",
        "    def reproduce(self):\n",
        "        success, status = Virus.reproduce(self)\n",
        "\n",
        "        if success:\n",
        "            print(f\"{self.name} just replicated in the nucleus of {self.host} cells\")"
      ]
    },
    {
      "cell_type": "code",
      "execution_count": 16,
      "metadata": {},
      "outputs": [],
      "source": [
        "r = RNAVirus(\"HIV\", 1.1, 0.2)"
      ]
    },
    {
      "cell_type": "code",
      "execution_count": 17,
      "metadata": {},
      "outputs": [
        {
          "ename": "AttributeError",
          "evalue": "AttributeError: Virus needs to infect a host before being able to reproduce.",
          "output_type": "error",
          "traceback": [
            "\u001b[0;31m---------------------------------------------------------------------------",
            "Traceback (most recent call last)",
            "    at line 1 in <module>",
            "    at line 5 in reproduce(self)",
            "    at line 17 in reproduce(self)",
            "AttributeError: Virus needs to infect a host before being able to reproduce."
          ]
        }
      ],
      "source": [
        "r.reproduce()"
      ]
    },
    {
      "cell_type": "code",
      "execution_count": 18,
      "metadata": {},
      "outputs": [],
      "source": [
        "r.infect(\"monkey0\")"
      ]
    },
    {
      "cell_type": "code",
      "execution_count": 19,
      "metadata": {},
      "outputs": [
        {
          "name": "stdout",
          "output_type": "stream",
          "text": [
            "HIV just replicated in the cytoplasm of monkey0 cells\n"
          ]
        }
      ],
      "source": [
        "r.reproduce()"
      ]
    },
    {
      "cell_type": "code",
      "execution_count": 21,
      "metadata": {},
      "outputs": [],
      "source": [
        "d = DNAVirus(\"Ecoli\", 2.1, 0.2)"
      ]
    },
    {
      "cell_type": "code",
      "execution_count": 22,
      "metadata": {},
      "outputs": [],
      "source": [
        "d.infect(\"sheep1\")"
      ]
    },
    {
      "cell_type": "code",
      "execution_count": 23,
      "metadata": {},
      "outputs": [
        {
          "name": "stdout",
          "output_type": "stream",
          "text": [
            "Ecoli just replicated in the nucleus of sheep1 cells\n"
          ]
        }
      ],
      "source": [
        "d.reproduce()"
      ]
    },
    {
      "cell_type": "code",
      "execution_count": 24,
      "metadata": {},
      "outputs": [
        {
          "data": {
            "text/plain": [
              "('deoxyribonucleic', 'ribonucleic')"
            ]
          },
          "metadata": {},
          "output_type": "display_data"
        }
      ],
      "source": [
        "d.genome, r.genome"
      ]
    },
    {
      "attachments": {},
      "cell_type": "markdown",
      "metadata": {},
      "source": [
        "## `All Classes Inherit From object`"
      ]
    },
    {
      "cell_type": "code",
      "execution_count": null,
      "metadata": {},
      "outputs": [],
      "source": [
        "class Virus:\n",
        "    pass\n",
        "\n",
        "class RNAVirus(Virus):\n",
        "    pass"
      ]
    },
    {
      "cell_type": "code",
      "execution_count": 35,
      "metadata": {},
      "outputs": [
        {
          "data": {
            "text/plain": [
              "object"
            ]
          },
          "metadata": {},
          "output_type": "display_data"
        }
      ],
      "source": [
        "object"
      ]
    },
    {
      "cell_type": "code",
      "execution_count": 36,
      "metadata": {},
      "outputs": [
        {
          "data": {
            "text/plain": [
              "<object at 0x7fc01ba60eb0>"
            ]
          },
          "metadata": {},
          "output_type": "display_data"
        }
      ],
      "source": [
        "object()"
      ]
    },
    {
      "cell_type": "code",
      "execution_count": 37,
      "metadata": {},
      "outputs": [],
      "source": [
        "# sentinel"
      ]
    },
    {
      "cell_type": "code",
      "execution_count": 41,
      "metadata": {},
      "outputs": [],
      "source": [
        "o1 = object()\n",
        "o2 = object()"
      ]
    },
    {
      "cell_type": "code",
      "execution_count": 39,
      "metadata": {},
      "outputs": [
        {
          "data": {
            "text/plain": [
              "False"
            ]
          },
          "metadata": {},
          "output_type": "display_data"
        }
      ],
      "source": [
        "o1 is o2"
      ]
    },
    {
      "cell_type": "code",
      "execution_count": 40,
      "metadata": {},
      "outputs": [
        {
          "data": {
            "text/plain": [
              "False"
            ]
          },
          "metadata": {},
          "output_type": "display_data"
        }
      ],
      "source": [
        "o1 == o2"
      ]
    },
    {
      "cell_type": "code",
      "execution_count": 42,
      "metadata": {},
      "outputs": [
        {
          "data": {
            "text/plain": [
              "object"
            ]
          },
          "metadata": {},
          "output_type": "display_data"
        }
      ],
      "source": [
        "o1.__class__"
      ]
    },
    {
      "cell_type": "code",
      "execution_count": 43,
      "metadata": {},
      "outputs": [
        {
          "data": {
            "text/plain": [
              "'<object object at 0x7fc01bc1ee90>'"
            ]
          },
          "metadata": {},
          "output_type": "display_data"
        }
      ],
      "source": [
        "o1.__repr__()"
      ]
    },
    {
      "cell_type": "code",
      "execution_count": 44,
      "metadata": {},
      "outputs": [
        {
          "data": {
            "text/plain": [
              "8778942258921"
            ]
          },
          "metadata": {},
          "output_type": "display_data"
        }
      ],
      "source": [
        "o1.__hash__()"
      ]
    },
    {
      "cell_type": "code",
      "execution_count": 49,
      "metadata": {},
      "outputs": [],
      "source": [
        "class TempVirus:\n",
        "    pass\n",
        "\n",
        "\n",
        "class TempVirus(object):\n",
        "    pass"
      ]
    },
    {
      "cell_type": "code",
      "execution_count": 47,
      "metadata": {},
      "outputs": [
        {
          "data": {
            "text/plain": [
              "[<__main__.TempVirus at 0x7fc01bf1b520>,\n",
              " <__main__.TempVirus at 0x7fc01bf1b2b0>,\n",
              " <__main__.TempVirus at 0x7fc01bf1b100>]"
            ]
          },
          "metadata": {},
          "output_type": "display_data"
        }
      ],
      "source": [
        "[TempVirus() for i in range(3)]"
      ]
    },
    {
      "cell_type": "code",
      "execution_count": 48,
      "metadata": {},
      "outputs": [],
      "source": [
        "# object is callable is because its type implements __call__"
      ]
    },
    {
      "cell_type": "code",
      "execution_count": 50,
      "metadata": {},
      "outputs": [
        {
          "data": {
            "text/plain": [
              "<method-wrapper '__call__' of type object at 0x557756ad2ff0>"
            ]
          },
          "metadata": {},
          "output_type": "display_data"
        }
      ],
      "source": [
        "TempVirus.__call__"
      ]
    },
    {
      "attachments": {},
      "cell_type": "markdown",
      "metadata": {},
      "source": [
        "## `Method Resolution Order`"
      ]
    },
    {
      "cell_type": "code",
      "execution_count": 49,
      "metadata": {},
      "outputs": [],
      "source": [
        "class TempVirus:\n",
        "    attr = \"some_class_attribute\"\n",
        "    attr_other = \"some_other_class_attribute\"\n",
        "\n",
        "    def __init__(self, attr):\n",
        "        self.attr = attr"
      ]
    },
    {
      "cell_type": "code",
      "execution_count": 50,
      "metadata": {},
      "outputs": [],
      "source": [
        "# __dict__"
      ]
    },
    {
      "cell_type": "code",
      "execution_count": 51,
      "metadata": {},
      "outputs": [],
      "source": [
        "v1 = TempVirus(\"instance_attribute\")"
      ]
    },
    {
      "cell_type": "code",
      "execution_count": 52,
      "metadata": {},
      "outputs": [
        {
          "data": {
            "text/plain": [
              "'instance_attribute'"
            ]
          },
          "metadata": {},
          "output_type": "display_data"
        }
      ],
      "source": [
        "v1.attr"
      ]
    },
    {
      "cell_type": "code",
      "execution_count": 53,
      "metadata": {},
      "outputs": [
        {
          "data": {
            "text/plain": [
              "{'attr': 'instance_attribute'}"
            ]
          },
          "metadata": {},
          "output_type": "display_data"
        }
      ],
      "source": [
        "v1.__dict__"
      ]
    },
    {
      "cell_type": "code",
      "execution_count": 54,
      "metadata": {},
      "outputs": [
        {
          "data": {
            "text/plain": [
              "'some_other_class_attribute'"
            ]
          },
          "metadata": {},
          "output_type": "display_data"
        }
      ],
      "source": [
        "v1.attr_other"
      ]
    },
    {
      "cell_type": "code",
      "execution_count": 55,
      "metadata": {},
      "outputs": [
        {
          "data": {
            "text/plain": [
              "mappingproxy({'__module__': '__main__',\n",
              "              'attr': 'some_class_attribute',\n",
              "              'attr_other': 'some_other_class_attribute',\n",
              "              '__init__': <function __main__.TempVirus.__init__(self, attr)>,\n",
              "              '__dict__': <attribute '__dict__' of 'TempVirus' objects>,\n",
              "              '__weakref__': <attribute '__weakref__' of 'TempVirus' objects>,\n",
              "              '__doc__': None})"
            ]
          },
          "metadata": {},
          "output_type": "display_data"
        }
      ],
      "source": [
        "type(v1).__dict__"
      ]
    },
    {
      "cell_type": "code",
      "execution_count": 56,
      "metadata": {},
      "outputs": [
        {
          "data": {
            "text/plain": [
              "mappingproxy({'__module__': '__main__',\n",
              "              'attr': 'some_class_attribute',\n",
              "              'attr_other': 'some_other_class_attribute',\n",
              "              '__init__': <function __main__.TempVirus.__init__(self, attr)>,\n",
              "              '__dict__': <attribute '__dict__' of 'TempVirus' objects>,\n",
              "              '__weakref__': <attribute '__weakref__' of 'TempVirus' objects>,\n",
              "              '__doc__': None})"
            ]
          },
          "metadata": {},
          "output_type": "display_data"
        }
      ],
      "source": [
        "TempVirus.__dict__"
      ]
    },
    {
      "cell_type": "code",
      "execution_count": 57,
      "metadata": {},
      "outputs": [
        {
          "data": {
            "text/plain": [
              "mappingproxy({'__module__': '__main__',\n",
              "              'attr': 'some_class_attribute',\n",
              "              'attr_other': 'some_other_class_attribute',\n",
              "              '__init__': <function __main__.TempVirus.__init__(self, attr)>,\n",
              "              '__dict__': <attribute '__dict__' of 'TempVirus' objects>,\n",
              "              '__weakref__': <attribute '__weakref__' of 'TempVirus' objects>,\n",
              "              '__doc__': None})"
            ]
          },
          "metadata": {},
          "output_type": "display_data"
        }
      ],
      "source": [
        "v1.__class__.__dict__"
      ]
    },
    {
      "cell_type": "code",
      "execution_count": null,
      "metadata": {},
      "outputs": [],
      "source": [
        "# instance -> class -> superclass(s) -> object, else AttributeError"
      ]
    },
    {
      "cell_type": "code",
      "execution_count": 59,
      "metadata": {},
      "outputs": [],
      "source": [
        "# v1.imaginary"
      ]
    },
    {
      "cell_type": "code",
      "execution_count": 60,
      "metadata": {},
      "outputs": [
        {
          "data": {
            "text/plain": [
              "(object,)"
            ]
          },
          "metadata": {},
          "output_type": "display_data"
        }
      ],
      "source": [
        "TempVirus.__bases__"
      ]
    },
    {
      "cell_type": "code",
      "execution_count": 61,
      "metadata": {},
      "outputs": [
        {
          "data": {
            "text/plain": [
              "(__main__.Virus,)"
            ]
          },
          "metadata": {},
          "output_type": "display_data"
        }
      ],
      "source": [
        "RNAVirus.__bases__"
      ]
    },
    {
      "cell_type": "code",
      "execution_count": 62,
      "metadata": {},
      "outputs": [
        {
          "data": {
            "text/plain": [
              "(__main__.RNAVirus,)"
            ]
          },
          "metadata": {},
          "output_type": "display_data"
        }
      ],
      "source": [
        "Coronavirus.__bases__"
      ]
    },
    {
      "cell_type": "code",
      "execution_count": 63,
      "metadata": {},
      "outputs": [],
      "source": [
        "# __mro__ -> method resolution order"
      ]
    },
    {
      "cell_type": "code",
      "execution_count": 64,
      "metadata": {},
      "outputs": [
        {
          "data": {
            "text/plain": [
              "(__main__.RNAVirus, __main__.Virus, object)"
            ]
          },
          "metadata": {},
          "output_type": "display_data"
        }
      ],
      "source": [
        "RNAVirus.__mro__"
      ]
    },
    {
      "cell_type": "code",
      "execution_count": 65,
      "metadata": {},
      "outputs": [
        {
          "data": {
            "text/plain": [
              "(__main__.Coronavirus, __main__.RNAVirus, __main__.Virus, object)"
            ]
          },
          "metadata": {},
          "output_type": "display_data"
        }
      ],
      "source": [
        "Coronavirus.__mro__"
      ]
    },
    {
      "attachments": {},
      "cell_type": "markdown",
      "metadata": {},
      "source": [
        "## `Subclass Overrides`"
      ]
    },
    {
      "cell_type": "code",
      "execution_count": 70,
      "metadata": {},
      "outputs": [],
      "source": [
        "from random import getrandbits"
      ]
    },
    {
      "cell_type": "code",
      "execution_count": 73,
      "metadata": {},
      "outputs": [
        {
          "name": "stdout",
          "output_type": "stream",
          "text": [
            "1\n",
            "1\n",
            "0\n",
            "1\n"
          ]
        }
      ],
      "source": [
        "for i in range(4):\n",
        "    print(getrandbits(1))"
      ]
    },
    {
      "cell_type": "code",
      "execution_count": null,
      "metadata": {},
      "outputs": [],
      "source": []
    },
    {
      "cell_type": "code",
      "execution_count": 74,
      "metadata": {},
      "outputs": [],
      "source": [
        "class Virus:\n",
        "    def __init__(self, name, reproduction_rate, resistance):\n",
        "        self.name = name\n",
        "        self.reproduction_rate = reproduction_rate\n",
        "        self.load = 1\n",
        "        self.host = None\n",
        "\n",
        "    def infect(self, host):\n",
        "        self.host = host\n",
        "\n",
        "    def reproduce(self):\n",
        "        if self.host is not None:\n",
        "            self.load *= (1 + self.reproduction_rate)\n",
        "\n",
        "            should_mutate = getrandbits(1)\n",
        "            print(f\"Should mutate: {should_mutate}\")\n",
        "\n",
        "            if should_mutate:\n",
        "                try:\n",
        "                    self.mutate()\n",
        "                except AttributeError:\n",
        "                    pass\n",
        "\n",
        "            return True, f\"Virus reproduced in {self.host}. Viral load: {int(self.load)}\"\n",
        "\n",
        "        raise AttributeError(\"Virus needs to infect a host before being able to reproduce.\")\n",
        "\n",
        "\n",
        "class RNAVirus(Virus):\n",
        "    genome = \"ribonucleic\"\n",
        "\n",
        "    def reproduce(self):\n",
        "        success, status = Virus.reproduce(self)\n",
        "\n",
        "        if success:\n",
        "            print(f\"{self.name} just replicated in the cytoplasm of {self.host} cells\")\n",
        "\n",
        "\n",
        "class DNAVirus(Virus):\n",
        "    genome = \"deoxyribonucleic\"\n",
        "\n",
        "    def reproduce(self):\n",
        "        success, status = Virus.reproduce(self)\n",
        "\n",
        "        if success:\n",
        "            print(f\"{self.name} just replicated in the nucleus of {self.host} cells\")"
      ]
    },
    {
      "cell_type": "code",
      "execution_count": 75,
      "metadata": {},
      "outputs": [],
      "source": [
        "class Coronavirus(RNAVirus):\n",
        "    pass\n",
        "\n",
        "class SARSCov2(Coronavirus):\n",
        "    def mutate(self):\n",
        "        print(f\"The {self.name} virus just mutated its spike protein\")"
      ]
    },
    {
      "cell_type": "code",
      "execution_count": 76,
      "metadata": {},
      "outputs": [],
      "source": [
        "cv = SARSCov2(\"original\", 2.9, 1.2)"
      ]
    },
    {
      "cell_type": "code",
      "execution_count": 77,
      "metadata": {},
      "outputs": [],
      "source": [
        "cv.infect(\"Tobi\")"
      ]
    },
    {
      "cell_type": "code",
      "execution_count": 78,
      "metadata": {},
      "outputs": [
        {
          "name": "stdout",
          "output_type": "stream",
          "text": [
            "Should mutate: 1\n",
            "The original virus just mutated its spike protein\n",
            "original just replicated in the cytoplasm of Tobi cells\n",
            "None \n",
            "\n",
            "Should mutate: 0\n",
            "original just replicated in the cytoplasm of Tobi cells\n",
            "None \n",
            "\n",
            "Should mutate: 1\n",
            "The original virus just mutated its spike protein\n",
            "original just replicated in the cytoplasm of Tobi cells\n",
            "None \n",
            "\n",
            "Should mutate: 0\n",
            "original just replicated in the cytoplasm of Tobi cells\n",
            "None \n",
            "\n"
          ]
        }
      ],
      "source": [
        "for _ in range(4):\n",
        "    print(cv.reproduce(), \"\\n\")"
      ]
    },
    {
      "attachments": {},
      "cell_type": "markdown",
      "metadata": {},
      "source": [
        "## `Better Parent Delegation: super()`"
      ]
    },
    {
      "cell_type": "code",
      "execution_count": 79,
      "metadata": {},
      "outputs": [],
      "source": [
        "class Virus:\n",
        "    def __init__(self, name, reproduction_rate, resistance):\n",
        "        self.name = name\n",
        "        self.reproduction_rate = reproduction_rate\n",
        "        self.load = 1\n",
        "        self.host = None\n",
        "\n",
        "    def infect(self, host):\n",
        "        self.host = host\n",
        "\n",
        "    def reproduce(self):\n",
        "        if self.host is not None:\n",
        "            self.load *= (1 + self.reproduction_rate)\n",
        "\n",
        "            should_mutate = getrandbits(1)\n",
        "            print(f\"Should mutate: {should_mutate}\")\n",
        "\n",
        "            if should_mutate:\n",
        "                try:\n",
        "                    self.mutate()\n",
        "                except AttributeError:\n",
        "                    pass\n",
        "\n",
        "            return True, f\"Virus reproduced in {self.host}. Viral load: {int(self.load)}\"\n",
        "\n",
        "        raise AttributeError(\"Virus needs to infect a host before being able to reproduce.\")\n",
        "\n",
        "\n",
        "class RNAVirus(Virus):\n",
        "    genome = \"ribonucleic\"\n",
        "\n",
        "    def reproduce(self):\n",
        "        success, status = Virus.reproduce(self)\n",
        "\n",
        "        if success:\n",
        "            print(f\"{self.name} just replicated in the cytoplasm of {self.host} cells\")\n",
        "\n",
        "\n",
        "class DNAVirus(Virus):\n",
        "    genome = \"deoxyribonucleic\"\n",
        "\n",
        "    def reproduce(self):\n",
        "        # success, status = Virus.reproduce(self)\n",
        "        success, status = super().reproduce()\n",
        "\n",
        "        if success:\n",
        "            print(f\"{self.name} just replicated in the nucleus of {self.host} cells\")\n",
        "\n",
        "\n",
        "class Coronavirus(RNAVirus):\n",
        "    pass\n",
        "\n",
        "\n",
        "class SARSCov2(Coronavirus):\n",
        "    def mutate(self):\n",
        "        print(f\"The {self.name} virus just mutated its spike protein\")"
      ]
    },
    {
      "cell_type": "code",
      "execution_count": 81,
      "metadata": {},
      "outputs": [],
      "source": [
        "rv = RNAVirus(\"a\", 1.1, 1.2)\n",
        "dv = DNAVirus(\"dv\", 1.3, 1.2)\n",
        "\n",
        "rv.infect(\"Andrew\")\n",
        "dv.infect(\"Tobi\")"
      ]
    },
    {
      "cell_type": "code",
      "execution_count": 82,
      "metadata": {},
      "outputs": [
        {
          "name": "stdout",
          "output_type": "stream",
          "text": [
            "Should mutate: 1\n",
            "a just replicated in the cytoplasm of Andrew cells\n"
          ]
        }
      ],
      "source": [
        "rv.reproduce()"
      ]
    },
    {
      "cell_type": "code",
      "execution_count": 83,
      "metadata": {},
      "outputs": [
        {
          "name": "stdout",
          "output_type": "stream",
          "text": [
            "Should mutate: 0\n",
            "dv just replicated in the nucleus of Tobi cells\n"
          ]
        }
      ],
      "source": [
        "dv.reproduce()"
      ]
    },
    {
      "attachments": {},
      "cell_type": "markdown",
      "metadata": {},
      "source": [
        "## `Subclass __init__`"
      ]
    },
    {
      "cell_type": "code",
      "execution_count": 60,
      "metadata": {},
      "outputs": [],
      "source": [
        "class Virus:\n",
        "    def __init__(self, name, reproduction_rate, resistance):\n",
        "        self.name = name\n",
        "        self.reproduction_rate = reproduction_rate\n",
        "        self.load = 1\n",
        "        self.host = None\n",
        "\n",
        "    def infect(self, host):\n",
        "        self.host = host\n",
        "\n",
        "    def reproduce(self):\n",
        "        if self.host is not None:\n",
        "            self.load *= (1 + self.reproduction_rate)\n",
        "\n",
        "            should_mutate = getrandbits(1)\n",
        "            print(f\"Should mutate: {should_mutate}\")\n",
        "\n",
        "            if should_mutate:\n",
        "                try:\n",
        "                    self.mutate()\n",
        "                except AttributeError:\n",
        "                    pass\n",
        "\n",
        "            return True, f\"Virus reproduced in {self.host}. Viral load: {int(self.load)}\"\n",
        "\n",
        "        raise AttributeError(\"Virus needs to infect a host before being able to reproduce.\")\n",
        "\n",
        "\n",
        "class RNAVirus(Virus):\n",
        "    genome = \"ribonucleic\"\n",
        "\n",
        "    def reproduce(self):\n",
        "        success, status = Virus.reproduce(self)\n",
        "\n",
        "        if success:\n",
        "            print(f\"{self.name} just replicated in the cytoplasm of {self.host} cells\")\n",
        "\n",
        "\n",
        "class DNAVirus(Virus):\n",
        "    genome = \"deoxyribonucleic\"\n",
        "\n",
        "    def reproduce(self):\n",
        "        # success, status = Virus.reproduce(self)\n",
        "        success, status = super().reproduce()\n",
        "\n",
        "        if success:\n",
        "            print(f\"{self.name} just replicated in the nucleus of {self.host} cells\")\n",
        "\n",
        "\n",
        "class Coronavirus(RNAVirus):\n",
        "    pass\n",
        "\n",
        "\n",
        "class SARSCov2(Coronavirus):\n",
        "    def __init__(self, variant):\n",
        "        super().__init__(\"SARSCovid2\", 2.49, 1.3)\n",
        "        self.variant = variant\n",
        "\n",
        "    def mutate(self):\n",
        "        print(f\"The {self.name} virus just mutated its spike protein\")"
      ]
    },
    {
      "cell_type": "code",
      "execution_count": 92,
      "metadata": {},
      "outputs": [],
      "source": [
        "cv = SARSCov2(\"Omicron\")"
      ]
    },
    {
      "cell_type": "code",
      "execution_count": 93,
      "metadata": {},
      "outputs": [
        {
          "data": {
            "text/plain": [
              "<__main__.SARSCov2 at 0x7f8509d1ee80>"
            ]
          },
          "metadata": {},
          "output_type": "display_data"
        }
      ],
      "source": [
        "cv"
      ]
    },
    {
      "cell_type": "code",
      "execution_count": 94,
      "metadata": {},
      "outputs": [
        {
          "data": {
            "text/plain": [
              "2.49"
            ]
          },
          "metadata": {},
          "output_type": "display_data"
        }
      ],
      "source": [
        "cv.reproduction_rate"
      ]
    },
    {
      "cell_type": "code",
      "execution_count": 95,
      "metadata": {},
      "outputs": [
        {
          "data": {
            "text/plain": [
              "{'name': 'SARSCovid2',\n",
              " 'reproduction_rate': 2.49,\n",
              " 'load': 1,\n",
              " 'host': None,\n",
              " 'variant': 'Omicron'}"
            ]
          },
          "metadata": {},
          "output_type": "display_data"
        }
      ],
      "source": [
        "cv.__dict__"
      ]
    },
    {
      "cell_type": "code",
      "execution_count": 96,
      "metadata": {},
      "outputs": [
        {
          "data": {
            "text/plain": [
              "(__main__.SARSCov2,\n",
              " __main__.Coronavirus,\n",
              " __main__.RNAVirus,\n",
              " __main__.Virus,\n",
              " object)"
            ]
          },
          "metadata": {},
          "output_type": "display_data"
        }
      ],
      "source": [
        "SARSCov2.__mro__"
      ]
    },
    {
      "cell_type": "code",
      "execution_count": 97,
      "metadata": {},
      "outputs": [],
      "source": [
        "# - parent - child class relationship defined using inheritance\n",
        "# - where the child defined an init only for the purpose of calling the parent init"
      ]
    },
    {
      "cell_type": "code",
      "execution_count": 100,
      "metadata": {},
      "outputs": [],
      "source": [
        "class Parent:\n",
        "    def __init__(self):\n",
        "        print(\"parent init\")\n",
        "\n",
        "\n",
        "class Child(Parent):\n",
        "    pass\n",
        "    # def __init__(self):\n",
        "    #     super().__init__()"
      ]
    },
    {
      "cell_type": "code",
      "execution_count": 101,
      "metadata": {},
      "outputs": [
        {
          "name": "stdout",
          "output_type": "stream",
          "text": [
            "parent init\n"
          ]
        }
      ],
      "source": [
        "c = Child()"
      ]
    },
    {
      "attachments": {},
      "cell_type": "markdown",
      "metadata": {},
      "source": [
        "## `Subclassing Properties`"
      ]
    },
    {
      "cell_type": "code",
      "execution_count": 4,
      "metadata": {},
      "outputs": [],
      "source": [
        "class SARSCov2(Coronavirus):\n",
        "    known_variants = [\"alpha\", \"beta\", \"gamma\", \"epsilon\"]\n",
        "\n",
        "    def __init__(self, variant):\n",
        "        super().__init__(\"SARSCovid2\", 2.49, 1.3)\n",
        "        self.variant = variant\n",
        "\n",
        "    def mutate(self):\n",
        "        print(f\"The {self.name} virus just mutated its spike protein\")\n",
        "\n",
        "    @property\n",
        "    def variant(self):\n",
        "        return self._variant\n",
        "\n",
        "    @variant.setter\n",
        "    def variant(self, value):\n",
        "        if value.lower() not in self.known_variants:\n",
        "            raise ValueError(\"Expected a known variant of concer\")\n",
        "\n",
        "        self._variant = value.lower()"
      ]
    },
    {
      "cell_type": "code",
      "execution_count": 116,
      "metadata": {},
      "outputs": [],
      "source": [
        "cv = SARSCov2(\"ALPha\")"
      ]
    },
    {
      "cell_type": "code",
      "execution_count": 117,
      "metadata": {},
      "outputs": [
        {
          "data": {
            "text/plain": [
              "{'name': 'SARSCovid2',\n",
              " 'reproduction_rate': 2.49,\n",
              " 'load': 1,\n",
              " 'host': None,\n",
              " '_variant': 'alpha'}"
            ]
          },
          "metadata": {},
          "output_type": "display_data"
        }
      ],
      "source": [
        "cv.__dict__"
      ]
    },
    {
      "cell_type": "code",
      "execution_count": 118,
      "metadata": {},
      "outputs": [
        {
          "ename": "ValueError",
          "evalue": "ValueError: Expected a known variant of concer",
          "output_type": "error",
          "traceback": [
            "\u001b[0;31m---------------------------------------------------------------------------",
            "Traceback (most recent call last)",
            "    at line 1 in <module>",
            "    at line 18 in variant(self, value)",
            "ValueError: Expected a known variant of concer"
          ]
        }
      ],
      "source": [
        "cv.variant = \"UK\""
      ]
    },
    {
      "cell_type": "code",
      "execution_count": 119,
      "metadata": {},
      "outputs": [],
      "source": [
        "cv.variant = \"beta\""
      ]
    },
    {
      "cell_type": "code",
      "execution_count": 120,
      "metadata": {},
      "outputs": [
        {
          "data": {
            "text/plain": [
              "'beta'"
            ]
          },
          "metadata": {},
          "output_type": "display_data"
        }
      ],
      "source": [
        "cv.variant"
      ]
    },
    {
      "cell_type": "code",
      "execution_count": 121,
      "metadata": {},
      "outputs": [],
      "source": [
        "class DoubleMutant(SARSCov2):\n",
        "    pass"
      ]
    },
    {
      "cell_type": "code",
      "execution_count": 122,
      "metadata": {},
      "outputs": [
        {
          "ename": "ValueError",
          "evalue": "ValueError: Expected a known variant of concer",
          "output_type": "error",
          "traceback": [
            "\u001b[0;31m---------------------------------------------------------------------------",
            "Traceback (most recent call last)",
            "    at line 1 in <module>",
            "    at line 6 in __init__(self, variant)",
            "    at line 18 in variant(self, value)",
            "ValueError: Expected a known variant of concer"
          ]
        }
      ],
      "source": [
        "DoubleMutant(\"NEW\")"
      ]
    },
    {
      "cell_type": "code",
      "execution_count": 123,
      "metadata": {},
      "outputs": [
        {
          "ename": "NameError",
          "evalue": "NameError: name 'variant' is not defined",
          "output_type": "error",
          "traceback": [
            "\u001b[0;31m---------------------------------------------------------------------------",
            "Traceback (most recent call last)",
            "    at line 1 in <module>",
            "    at line 2 in DoubleMutant()",
            "NameError: name 'variant' is not defined"
          ]
        }
      ],
      "source": [
        "class DoubleMutant(SARSCov2):\n",
        "    @variant.setter\n",
        "    def variant(self, value):\n",
        "        self._variant = value.lower()"
      ]
    },
    {
      "cell_type": "code",
      "execution_count": null,
      "metadata": {},
      "outputs": [],
      "source": [
        "class DoubleMutant(SARSCov2):\n",
        "    #also tell where this setter was defined\n",
        "    @SARSCov2.variant.setter\n",
        "    def variant(self, value):\n",
        "        self._variant = value.lower()"
      ]
    },
    {
      "cell_type": "code",
      "execution_count": 125,
      "metadata": {},
      "outputs": [],
      "source": [
        "dm = DoubleMutant(\"NEW_VARIANT\")"
      ]
    },
    {
      "cell_type": "code",
      "execution_count": 126,
      "metadata": {},
      "outputs": [
        {
          "data": {
            "text/plain": [
              "'new_variant'"
            ]
          },
          "metadata": {},
          "output_type": "display_data"
        }
      ],
      "source": [
        "dm.variant"
      ]
    },
    {
      "cell_type": "code",
      "execution_count": 17,
      "metadata": {},
      "outputs": [],
      "source": [
        "class DoubleMutant(SARSCov2):\n",
        "    @property\n",
        "    def variant(self):\n",
        "        print(\"Getter from the subclass!\")\n",
        "        return self._variant\n",
        "\n",
        "    @variant.setter\n",
        "    def variant(self, value):\n",
        "        self._variant = value.lower()\n",
        "\n",
        "    @variant.deleter\n",
        "    def variant(self):\n",
        "        del self._variant"
      ]
    },
    {
      "cell_type": "code",
      "execution_count": 19,
      "metadata": {},
      "outputs": [],
      "source": [
        "cv = SARSCov2(\"alpha\")\n",
        "\n",
        "dm = DoubleMutant(\"ALPHA V92\")"
      ]
    },
    {
      "cell_type": "code",
      "execution_count": 20,
      "metadata": {},
      "outputs": [],
      "source": [
        "dm.variant = \"NEW VARIANTas dfasd\""
      ]
    },
    {
      "cell_type": "code",
      "execution_count": 22,
      "metadata": {},
      "outputs": [
        {
          "name": "stdout",
          "output_type": "stream",
          "text": [
            "Getter from the subclass!\n"
          ]
        },
        {
          "data": {
            "text/plain": [
              "'new variantas dfasd'"
            ]
          },
          "metadata": {},
          "output_type": "display_data"
        }
      ],
      "source": [
        "dm.variant"
      ]
    },
    {
      "cell_type": "code",
      "execution_count": 23,
      "metadata": {},
      "outputs": [
        {
          "ename": "ValueError",
          "evalue": "ValueError: Expected a known variant of concer",
          "output_type": "error",
          "traceback": [
            "\u001b[0;31m---------------------------------------------------------------------------",
            "Traceback (most recent call last)",
            "    at line 1 in <module>",
            "    at line 18 in variant(self, value)",
            "ValueError: Expected a known variant of concer"
          ]
        }
      ],
      "source": [
        "cv.variant = \"NEW VARIANTas dfasd\""
      ]
    },
    {
      "cell_type": "code",
      "execution_count": 24,
      "metadata": {},
      "outputs": [
        {
          "data": {
            "text/plain": [
              "mappingproxy({'__module__': '__main__',\n",
              "              'variant': <property at 0x7f5eb363d8b0>,\n",
              "              '__doc__': None})"
            ]
          },
          "metadata": {},
          "output_type": "display_data"
        }
      ],
      "source": [
        "DoubleMutant.__dict__"
      ]
    },
    {
      "cell_type": "code",
      "execution_count": 25,
      "metadata": {},
      "outputs": [
        {
          "data": {
            "text/plain": [
              "mappingproxy({'__module__': '__main__',\n",
              "              'known_variants': ['alpha', 'beta', 'gamma', 'epsilon'],\n",
              "              '__init__': <function __main__.SARSCov2.__init__(self, variant)>,\n",
              "              'mutate': <function __main__.SARSCov2.mutate(self)>,\n",
              "              'variant': <property at 0x7f5ec090f810>,\n",
              "              '__doc__': None})"
            ]
          },
          "metadata": {},
          "output_type": "display_data"
        }
      ],
      "source": [
        "SARSCov2.__dict__"
      ]
    },
    {
      "attachments": {},
      "cell_type": "markdown",
      "metadata": {},
      "source": [
        "## `Extending Built-ins`"
      ]
    },
    {
      "cell_type": "code",
      "execution_count": null,
      "metadata": {},
      "outputs": [],
      "source": [
        "# list or dict"
      ]
    },
    {
      "cell_type": "code",
      "execution_count": 1,
      "metadata": {},
      "outputs": [],
      "source": [
        "population = {\n",
        "    \"CAN\": 38,\n",
        "    \"USA\": 329,\n",
        "    \"IND\": 1380\n",
        "}"
      ]
    },
    {
      "cell_type": "code",
      "execution_count": 2,
      "metadata": {},
      "outputs": [
        {
          "data": {
            "text/plain": [
              "38"
            ]
          },
          "metadata": {},
          "output_type": "display_data"
        }
      ],
      "source": [
        "population['CAN']"
      ]
    },
    {
      "cell_type": "code",
      "execution_count": 3,
      "metadata": {},
      "outputs": [
        {
          "ename": "KeyError",
          "evalue": "KeyError: 'CANADA'",
          "output_type": "error",
          "traceback": [
            "\u001b[0;31m---------------------------------------------------------------------------",
            "Traceback (most recent call last)",
            "    at line 1 in <module>",
            "KeyError: 'CANADA'"
          ]
        }
      ],
      "source": [
        "population['CANADA']"
      ]
    },
    {
      "cell_type": "code",
      "execution_count": 4,
      "metadata": {},
      "outputs": [
        {
          "ename": "KeyError",
          "evalue": "KeyError: 'CANADA'",
          "output_type": "error",
          "traceback": [
            "\u001b[0;31m---------------------------------------------------------------------------",
            "Traceback (most recent call last)",
            "    at line 1 in <module>",
            "KeyError: 'CANADA'"
          ]
        }
      ],
      "source": [
        "population.__getitem__(\"CANADA\")"
      ]
    },
    {
      "cell_type": "code",
      "execution_count": 5,
      "metadata": {},
      "outputs": [],
      "source": [
        "from random import choice\n",
        "\n",
        "class FunnyDict(dict):\n",
        "    not_found = ['404', 'Wait, what?', 'Try again, or dont?']\n",
        "\n",
        "    def __getitem__(self, item):\n",
        "        if not item in self:\n",
        "            return choice(self.not_found)\n",
        "\n",
        "        return super().__getitem__(item)"
      ]
    },
    {
      "cell_type": "code",
      "execution_count": 6,
      "metadata": {},
      "outputs": [],
      "source": [
        "population = FunnyDict({\n",
        "    \"CAN\": 38,\n",
        "    \"USA\": 329,\n",
        "    \"IND\": 1380\n",
        "})"
      ]
    },
    {
      "cell_type": "code",
      "execution_count": 7,
      "metadata": {},
      "outputs": [
        {
          "data": {
            "text/plain": [
              "38"
            ]
          },
          "metadata": {},
          "output_type": "display_data"
        }
      ],
      "source": [
        "population['CAN']"
      ]
    },
    {
      "cell_type": "code",
      "execution_count": 13,
      "metadata": {},
      "outputs": [
        {
          "name": "stdout",
          "output_type": "stream",
          "text": [
            "Wait, what?\n",
            "Try again, or dont?\n",
            "Try again, or dont?\n",
            "404\n",
            "Wait, what?\n",
            "404\n"
          ]
        }
      ],
      "source": [
        "for i in range(6):\n",
        "    print(population['CANADA'])"
      ]
    },
    {
      "attachments": {},
      "cell_type": "markdown",
      "metadata": {},
      "source": [
        "## `Another Example`"
      ]
    },
    {
      "cell_type": "code",
      "execution_count": 14,
      "metadata": {},
      "outputs": [],
      "source": [
        "l = [1, 10, 2.23, 21]"
      ]
    },
    {
      "cell_type": "code",
      "execution_count": 15,
      "metadata": {},
      "outputs": [
        {
          "data": {
            "text/plain": [
              "8.557500000000001"
            ]
          },
          "metadata": {},
          "output_type": "display_data"
        }
      ],
      "source": [
        "sum(l) / len(l)"
      ]
    },
    {
      "cell_type": "code",
      "execution_count": 16,
      "metadata": {},
      "outputs": [],
      "source": [
        "class AvgList(list):\n",
        "    def average(self):\n",
        "        return sum(self) / len(self)"
      ]
    },
    {
      "cell_type": "code",
      "execution_count": 17,
      "metadata": {},
      "outputs": [],
      "source": [
        "l2 = AvgList([1, 10, 2.23, 21])"
      ]
    },
    {
      "cell_type": "code",
      "execution_count": 18,
      "metadata": {},
      "outputs": [
        {
          "data": {
            "text/plain": [
              "8.557500000000001"
            ]
          },
          "metadata": {},
          "output_type": "display_data"
        }
      ],
      "source": [
        "l2.average()"
      ]
    },
    {
      "cell_type": "code",
      "execution_count": 19,
      "metadata": {},
      "outputs": [],
      "source": [
        "class AvgList(list):\n",
        "    @property\n",
        "    def average(self):\n",
        "        return sum(self) / len(self)"
      ]
    },
    {
      "cell_type": "code",
      "execution_count": 23,
      "metadata": {},
      "outputs": [],
      "source": [
        "l3 = AvgList([1, 10, 2.23, 21])"
      ]
    },
    {
      "cell_type": "code",
      "execution_count": 24,
      "metadata": {},
      "outputs": [
        {
          "data": {
            "text/plain": [
              "8.557500000000001"
            ]
          },
          "metadata": {},
          "output_type": "display_data"
        }
      ],
      "source": [
        "l3.average"
      ]
    },
    {
      "cell_type": "code",
      "execution_count": 25,
      "metadata": {},
      "outputs": [],
      "source": [
        "class AvgList(list):\n",
        "    def __init__(self, *args):\n",
        "        if args and type(args[0]) != list:\n",
        "            super().__init__(args)\n",
        "        else:\n",
        "            super().__init__(args[0])\n",
        "\n",
        "    @property\n",
        "    def average(self):\n",
        "        return sum(self) / len(self)"
      ]
    },
    {
      "cell_type": "code",
      "execution_count": 26,
      "metadata": {},
      "outputs": [],
      "source": [
        "l4 = AvgList(1, 10, 2.23, 21)"
      ]
    },
    {
      "cell_type": "code",
      "execution_count": 27,
      "metadata": {},
      "outputs": [
        {
          "data": {
            "text/plain": [
              "8.557500000000001"
            ]
          },
          "metadata": {},
          "output_type": "display_data"
        }
      ],
      "source": [
        "l4.average"
      ]
    },
    {
      "cell_type": "code",
      "execution_count": 28,
      "metadata": {},
      "outputs": [],
      "source": [
        "l5 = AvgList([1, 10, 2.23, 21])"
      ]
    },
    {
      "cell_type": "code",
      "execution_count": 29,
      "metadata": {},
      "outputs": [
        {
          "data": {
            "text/plain": [
              "8.557500000000001"
            ]
          },
          "metadata": {},
          "output_type": "display_data"
        }
      ],
      "source": [
        "l5.average"
      ]
    },
    {
      "attachments": {},
      "cell_type": "markdown",
      "metadata": {},
      "source": [
        "## `Beware The Pitfalls`"
      ]
    },
    {
      "cell_type": "code",
      "execution_count": 1,
      "metadata": {},
      "outputs": [],
      "source": [
        "from random import choice\n",
        "\n",
        "\n",
        "class FunnyDict(dict):\n",
        "    not_found = [\"404\", \"Wait, what?\", \"Try again, or don't?\"]\n",
        "\n",
        "    def __getitem__(self, item):  \n",
        "        if not item in self:  \n",
        "            return choice(self.not_found) \n",
        "\n",
        "        return super().__getitem__(item)"
      ]
    },
    {
      "cell_type": "code",
      "execution_count": 2,
      "metadata": {},
      "outputs": [],
      "source": [
        "rd = {\n",
        "    \"CAN\": 38,\n",
        "    \"USA\": 329,\n",
        "    \"IND\": 1380\n",
        "}\n",
        "\n",
        "fd = FunnyDict({\n",
        "    \"CAN\": 38,\n",
        "    \"USA\": 329,\n",
        "    \"IND\": 1380\n",
        "})"
      ]
    },
    {
      "cell_type": "code",
      "execution_count": 3,
      "metadata": {},
      "outputs": [
        {
          "ename": "KeyError",
          "evalue": "'CAR'",
          "output_type": "error",
          "traceback": [
            "\u001b[1;31m---------------------------------------------------------------------------\u001b[0m",
            "\u001b[1;31mKeyError\u001b[0m                                  Traceback (most recent call last)",
            "Cell \u001b[1;32mIn[3], line 1\u001b[0m\n\u001b[1;32m----> 1\u001b[0m \u001b[43mrd\u001b[49m\u001b[43m[\u001b[49m\u001b[38;5;124;43m\"\u001b[39;49m\u001b[38;5;124;43mCAR\u001b[39;49m\u001b[38;5;124;43m\"\u001b[39;49m\u001b[43m]\u001b[49m\n",
            "\u001b[1;31mKeyError\u001b[0m: 'CAR'"
          ]
        }
      ],
      "source": [
        "rd[\"CAR\"]"
      ]
    },
    {
      "cell_type": "code",
      "execution_count": 4,
      "metadata": {},
      "outputs": [
        {
          "data": {
            "text/plain": [
              "'404'"
            ]
          },
          "execution_count": 4,
          "metadata": {},
          "output_type": "execute_result"
        }
      ],
      "source": [
        "fd[\"CAR\"]"
      ]
    },
    {
      "cell_type": "code",
      "execution_count": 5,
      "metadata": {},
      "outputs": [
        {
          "data": {
            "text/plain": [
              "38"
            ]
          },
          "execution_count": 5,
          "metadata": {},
          "output_type": "execute_result"
        }
      ],
      "source": [
        "rd.get(\"CAN\")"
      ]
    },
    {
      "cell_type": "code",
      "execution_count": 6,
      "metadata": {},
      "outputs": [
        {
          "data": {
            "text/plain": [
              "38"
            ]
          },
          "execution_count": 6,
          "metadata": {},
          "output_type": "execute_result"
        }
      ],
      "source": [
        "fd.get(\"CAN\")"
      ]
    },
    {
      "cell_type": "markdown",
      "metadata": {},
      "source": [
        "prablemmmm"
      ]
    },
    {
      "cell_type": "code",
      "execution_count": 7,
      "metadata": {},
      "outputs": [],
      "source": [
        "fd.get(\"CAR\")"
      ]
    },
    {
      "cell_type": "code",
      "execution_count": 43,
      "metadata": {},
      "outputs": [],
      "source": [
        "from random import choice\n",
        "\n",
        "\n",
        "class FunnyDict(dict):\n",
        "    not_found = [\"404\", \"Wait, what?\", \"Try again, or don't?\"]\n",
        "\n",
        "    def __getitem__(self, item):  \n",
        "        if not item in self:  \n",
        "            return choice(self.not_found) \n",
        "\n",
        "        return super().__getitem__(item)\n",
        "\n",
        "    def get(self, value):\n",
        "        return self.__getitem__(value)"
      ]
    },
    {
      "cell_type": "code",
      "execution_count": 44,
      "metadata": {},
      "outputs": [],
      "source": [
        "fd = FunnyDict({\n",
        "    \"CAN\": 38,\n",
        "    \"USA\": 329,\n",
        "    \"IND\": 1380\n",
        "})"
      ]
    },
    {
      "cell_type": "code",
      "execution_count": 49,
      "metadata": {},
      "outputs": [
        {
          "data": {
            "text/plain": [
              "'Wait, what?'"
            ]
          },
          "metadata": {},
          "output_type": "display_data"
        }
      ],
      "source": [
        "fd.get(\"CAR\")"
      ]
    },
    {
      "cell_type": "code",
      "execution_count": null,
      "metadata": {},
      "outputs": [],
      "source": [
        "# update(), pop()"
      ]
    },
    {
      "cell_type": "code",
      "execution_count": 53,
      "metadata": {},
      "outputs": [],
      "source": [
        "from random import choice\n",
        "from collections import UserDict\n",
        "\n",
        "\n",
        "class FunnyDict(UserDict):\n",
        "    not_found = [\"404\", \"Wait, what?\", \"Try again, or don't?\"]\n",
        "\n",
        "    def __getitem__(self, item):  \n",
        "        if not item in self:  \n",
        "            return choice(self.not_found) \n",
        "\n",
        "        return super().__getitem__(item)"
      ]
    },
    {
      "cell_type": "code",
      "execution_count": 54,
      "metadata": {},
      "outputs": [],
      "source": [
        "fd = FunnyDict({\n",
        "    \"CAN\": 38,\n",
        "    \"USA\": 329,\n",
        "    \"IND\": 1380\n",
        "})"
      ]
    },
    {
      "cell_type": "code",
      "execution_count": 55,
      "metadata": {},
      "outputs": [
        {
          "data": {
            "text/plain": [
              "\"Try again, or don't?\""
            ]
          },
          "metadata": {},
          "output_type": "display_data"
        }
      ],
      "source": [
        "fd.get(\"CAR\")"
      ]
    },
    {
      "cell_type": "code",
      "execution_count": 56,
      "metadata": {},
      "outputs": [
        {
          "data": {
            "text/plain": [
              "'404'"
            ]
          },
          "metadata": {},
          "output_type": "display_data"
        }
      ],
      "source": [
        "fd['CARA:LDFK']"
      ]
    },
    {
      "cell_type": "code",
      "execution_count": 57,
      "metadata": {},
      "outputs": [
        {
          "data": {
            "text/plain": [
              "38"
            ]
          },
          "metadata": {},
          "output_type": "display_data"
        }
      ],
      "source": [
        "fd[\"CAN\"]"
      ]
    },
    {
      "cell_type": "code",
      "execution_count": 58,
      "metadata": {},
      "outputs": [
        {
          "data": {
            "text/plain": [
              "{'CAN': 38, 'USA': 329, 'IND': 1380}"
            ]
          },
          "metadata": {},
          "output_type": "display_data"
        }
      ],
      "source": [
        "fd.data"
      ]
    },
    {
      "cell_type": "markdown",
      "metadata": {},
      "source": [
        "builtins like lists and dicts, get into problem of what method to use in case of overriding, to avoid that we use wrapper methods like UserDict, UserList"
      ]
    },
    {
      "attachments": {},
      "cell_type": "markdown",
      "metadata": {},
      "source": [
        "## `Beyond Inheritance`"
      ]
    },
    {
      "cell_type": "code",
      "execution_count": null,
      "metadata": {},
      "outputs": [],
      "source": []
    },
    {
      "cell_type": "code",
      "execution_count": null,
      "metadata": {},
      "outputs": [],
      "source": []
    },
    {
      "cell_type": "code",
      "execution_count": null,
      "metadata": {},
      "outputs": [],
      "source": []
    }
  ],
  "metadata": {
    "kernelspec": {
      "display_name": "Python 3",
      "language": "python",
      "name": "python3"
    },
    "language_info": {
      "codemirror_mode": {
        "name": "ipython",
        "version": 3
      },
      "file_extension": ".py",
      "mimetype": "text/x-python",
      "name": "python",
      "nbconvert_exporter": "python",
      "pygments_lexer": "ipython3",
      "version": "3.9.13"
    }
  },
  "nbformat": 4,
  "nbformat_minor": 0
}
