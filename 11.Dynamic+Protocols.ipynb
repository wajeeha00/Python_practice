{
  "cells": [
    {
      "attachments": {},
      "cell_type": "markdown",
      "metadata": {},
      "source": [
        "## `Python Is Dynamically Typed`"
      ]
    },
    {
      "cell_type": "code",
      "execution_count": 1,
      "metadata": {},
      "outputs": [],
      "source": [
        "# type checking is only performed when the program is run"
      ]
    },
    {
      "cell_type": "code",
      "execution_count": 2,
      "metadata": {},
      "outputs": [],
      "source": [
        "name = \"Andrew\""
      ]
    },
    {
      "cell_type": "code",
      "execution_count": 3,
      "metadata": {},
      "outputs": [
        {
          "ename": "TypeError",
          "evalue": "TypeError: can only concatenate str (not \"int\") to str",
          "output_type": "error",
          "traceback": [
            "\u001b[0;31m---------------------------------------------------------------------------",
            "Traceback (most recent call last)",
            "    at line 1 in <module>",
            "TypeError: can only concatenate str (not \"int\") to str"
          ]
        }
      ],
      "source": [
        "\"Andrew\" + 100"
      ]
    },
    {
      "cell_type": "code",
      "execution_count": 4,
      "metadata": {},
      "outputs": [],
      "source": [
        "if None:\n",
        "    \"Andrew\" + 100"
      ]
    },
    {
      "cell_type": "code",
      "execution_count": 5,
      "metadata": {},
      "outputs": [],
      "source": [
        "a = \"Andrew\""
      ]
    },
    {
      "cell_type": "code",
      "execution_count": 6,
      "metadata": {},
      "outputs": [
        {
          "data": {
            "text/plain": [
              "str"
            ]
          },
          "metadata": {},
          "output_type": "display_data"
        }
      ],
      "source": [
        "type(a)"
      ]
    },
    {
      "cell_type": "code",
      "execution_count": 7,
      "metadata": {},
      "outputs": [],
      "source": [
        "a = 2"
      ]
    },
    {
      "cell_type": "code",
      "execution_count": 8,
      "metadata": {},
      "outputs": [
        {
          "data": {
            "text/plain": [
              "int"
            ]
          },
          "metadata": {},
          "output_type": "display_data"
        }
      ],
      "source": [
        "type(a)"
      ]
    },
    {
      "cell_type": "code",
      "execution_count": 9,
      "metadata": {},
      "outputs": [],
      "source": [
        "class Item:\n",
        "    def __init__(self, price):\n",
        "        self.price = price"
      ]
    },
    {
      "cell_type": "code",
      "execution_count": 10,
      "metadata": {},
      "outputs": [],
      "source": [
        "i = Item(2.1)"
      ]
    },
    {
      "cell_type": "code",
      "execution_count": 11,
      "metadata": {},
      "outputs": [
        {
          "data": {
            "text/plain": [
              "__main__.Item"
            ]
          },
          "metadata": {},
          "output_type": "display_data"
        }
      ],
      "source": [
        "type(i)"
      ]
    },
    {
      "cell_type": "code",
      "execution_count": 12,
      "metadata": {},
      "outputs": [],
      "source": [
        "i = 20"
      ]
    },
    {
      "cell_type": "code",
      "execution_count": 13,
      "metadata": {},
      "outputs": [
        {
          "data": {
            "text/plain": [
              "int"
            ]
          },
          "metadata": {},
          "output_type": "display_data"
        }
      ],
      "source": [
        "type(i)"
      ]
    },
    {
      "cell_type": "code",
      "execution_count": 14,
      "metadata": {},
      "outputs": [],
      "source": [
        "# duck typing"
      ]
    },
    {
      "attachments": {},
      "cell_type": "markdown",
      "metadata": {},
      "source": [
        "## `Duck Typing`"
      ]
    },
    {
      "attachments": {},
      "cell_type": "markdown",
      "metadata": {},
      "source": [
        "* if it walks like a duck and it quacks like a duck, then it must be a duck"
      ]
    },
    {
      "cell_type": "code",
      "execution_count": 1,
      "metadata": {},
      "outputs": [],
      "source": [
        "class Marlin:\n",
        "    def swim(self):\n",
        "        print(\"Marlin swimming fast\")\n",
        "\n",
        "\n",
        "class SeaHorse:\n",
        "    def swim(self):\n",
        "        print(\"Seahorse swimming slow\")\n",
        "\n",
        "\n",
        "class Eagle:\n",
        "    def fly(self):\n",
        "        print(\"Eagle flying high\")"
      ]
    },
    {
      "cell_type": "code",
      "execution_count": 2,
      "metadata": {},
      "outputs": [],
      "source": [
        "from random import choice"
      ]
    },
    {
      "cell_type": "code",
      "execution_count": 3,
      "metadata": {},
      "outputs": [],
      "source": [
        "animals = [Marlin(), SeaHorse(), Eagle(), Eagle()]\n"
      ]
    },
    {
      "cell_type": "code",
      "execution_count": 10,
      "metadata": {},
      "outputs": [
        {
          "name": "stdout",
          "output_type": "stream",
          "text": [
            "Eagle is not really a swimmer...\n"
          ]
        }
      ],
      "source": [
        "chosen = choice(animals)\n",
        "\n",
        "try:\n",
        "    chosen.swim()\n",
        "except AttributeError:\n",
        "    print(f\"{chosen.__class__.__name__} is not really a swimmer...\")"
      ]
    },
    {
      "cell_type": "code",
      "execution_count": 12,
      "metadata": {},
      "outputs": [
        {
          "name": "stdout",
          "output_type": "stream",
          "text": [
            "Eagle is not really a swimmer...\n"
          ]
        }
      ],
      "source": [
        "# LBYL\n",
        "\n",
        "chosen = choice(animals)\n",
        "\n",
        "swimmers = [SeaHorse, Marlin]\n",
        "\n",
        "if chosen.__class__ in swimmers:\n",
        "    chosen.swim()\n",
        "else:\n",
        "    print(f\"{chosen.__class__.__name__} is not really a swimmer...\")"
      ]
    },
    {
      "cell_type": "code",
      "execution_count": 6,
      "metadata": {},
      "outputs": [
        {
          "name": "stdout",
          "output_type": "stream",
          "text": [
            "Eagle is not really a swimmer...\n"
          ]
        }
      ],
      "source": [
        "# LBYL #2\n",
        "\n",
        "chosen = choice(animals)\n",
        "\n",
        "if hasattr(chosen, \"swim\"):\n",
        "    if callable(chosen.swim):\n",
        "        chosen.swim()\n",
        "else:\n",
        "    print(f\"{chosen.__class__.__name__} is not really a swimmer...\")"
      ]
    },
    {
      "attachments": {},
      "cell_type": "markdown",
      "metadata": {},
      "source": [
        "## `Protocols`"
      ]
    },
    {
      "attachments": {},
      "cell_type": "markdown",
      "metadata": {},
      "source": [
        "* in OOP, object protocols refer to a set of methods that should be supported/implemented to provide a given behavior\n",
        "* Container protocol -> does it support membership checking with 'in'?"
      ]
    },
    {
      "cell_type": "code",
      "execution_count": 7,
      "metadata": {},
      "outputs": [],
      "source": [
        "# telltale -> the in keyword"
      ]
    },
    {
      "cell_type": "code",
      "execution_count": 8,
      "metadata": {},
      "outputs": [],
      "source": [
        "m = Marlin()\n",
        "e = Eagle()\n",
        "\n",
        "list_of_animals = [m, e]"
      ]
    },
    {
      "cell_type": "code",
      "execution_count": 9,
      "metadata": {},
      "outputs": [
        {
          "data": {
            "text/plain": [
              "True"
            ]
          },
          "metadata": {},
          "output_type": "display_data"
        }
      ],
      "source": [
        "m in list_of_animals"
      ]
    },
    {
      "cell_type": "code",
      "execution_count": 19,
      "metadata": {},
      "outputs": [],
      "source": [
        "class Zoo:\n",
        "    def __init__(self):\n",
        "        self._population = []\n",
        "\n",
        "    def __contains__(self, item):\n",
        "        return item in self._population\n",
        "\n",
        "    def __len__(self):\n",
        "        return len(self._population)\n",
        "\n",
        "    def add_animal(self, animal):\n",
        "        self._population.append(animal)"
      ]
    },
    {
      "cell_type": "code",
      "execution_count": 14,
      "metadata": {},
      "outputs": [],
      "source": [
        "#by default classes are not containers but can be made using dunder contains same is the case for size or len()"
      ]
    },
    {
      "cell_type": "code",
      "execution_count": 20,
      "metadata": {},
      "outputs": [],
      "source": [
        "m = Marlin()\n",
        "e = Eagle()\n",
        "\n",
        "zoo_of_animals = Zoo()\n",
        "\n",
        "zoo_of_animals.add_animal(m)\n",
        "zoo_of_animals.add_animal(e)"
      ]
    },
    {
      "cell_type": "code",
      "execution_count": 15,
      "metadata": {},
      "outputs": [
        {
          "data": {
            "text/plain": [
              "True"
            ]
          },
          "metadata": {},
          "output_type": "display_data"
        }
      ],
      "source": [
        "m in zoo_of_animals"
      ]
    },
    {
      "cell_type": "code",
      "execution_count": 16,
      "metadata": {},
      "outputs": [],
      "source": [
        "# Sized protocol"
      ]
    },
    {
      "cell_type": "code",
      "execution_count": 17,
      "metadata": {},
      "outputs": [
        {
          "data": {
            "text/plain": [
              "2"
            ]
          },
          "metadata": {},
          "output_type": "display_data"
        }
      ],
      "source": [
        "len(list_of_animals)"
      ]
    },
    {
      "cell_type": "code",
      "execution_count": 21,
      "metadata": {},
      "outputs": [
        {
          "data": {
            "text/plain": [
              "2"
            ]
          },
          "metadata": {},
          "output_type": "display_data"
        }
      ],
      "source": [
        "len(zoo_of_animals)"
      ]
    },
    {
      "attachments": {},
      "cell_type": "markdown",
      "metadata": {},
      "source": [
        "## `The Making Of A Sequence`"
      ]
    },
    {
      "cell_type": "code",
      "execution_count": 22,
      "metadata": {},
      "outputs": [],
      "source": [
        "# sequence -> ordered container of items"
      ]
    },
    {
      "cell_type": "code",
      "execution_count": 23,
      "metadata": {},
      "outputs": [],
      "source": [
        "# tuples, lists, str"
      ]
    },
    {
      "cell_type": "code",
      "execution_count": 25,
      "metadata": {},
      "outputs": [],
      "source": [
        "students = [\"Carlo\", \"Tobi\", \"Rigers\"]"
      ]
    },
    {
      "attachments": {},
      "cell_type": "markdown",
      "metadata": {},
      "source": [
        "* frist, membership testing/cehcking with the 'in' keyword"
      ]
    },
    {
      "cell_type": "code",
      "execution_count": 32,
      "metadata": {},
      "outputs": [
        {
          "data": {
            "text/plain": [
              "True"
            ]
          },
          "metadata": {},
          "output_type": "display_data"
        }
      ],
      "source": [
        "'Rigers' in students"
      ]
    },
    {
      "cell_type": "code",
      "execution_count": 33,
      "metadata": {},
      "outputs": [
        {
          "data": {
            "text/plain": [
              "False"
            ]
          },
          "metadata": {},
          "output_type": "display_data"
        }
      ],
      "source": [
        "'Rogers' in students"
      ]
    },
    {
      "attachments": {},
      "cell_type": "markdown",
      "metadata": {},
      "source": [
        "* second, indexing with square brackets"
      ]
    },
    {
      "cell_type": "code",
      "execution_count": 35,
      "metadata": {},
      "outputs": [
        {
          "data": {
            "text/plain": [
              "'Rigers'"
            ]
          },
          "metadata": {},
          "output_type": "display_data"
        }
      ],
      "source": [
        "students[-1]"
      ]
    },
    {
      "cell_type": "code",
      "execution_count": 36,
      "metadata": {},
      "outputs": [
        {
          "data": {
            "text/plain": [
              "'Carlo'"
            ]
          },
          "metadata": {},
          "output_type": "display_data"
        }
      ],
      "source": [
        "students[0]"
      ]
    },
    {
      "attachments": {},
      "cell_type": "markdown",
      "metadata": {},
      "source": [
        "* third, pythonic sequences are sliceable"
      ]
    },
    {
      "cell_type": "code",
      "execution_count": 37,
      "metadata": {},
      "outputs": [
        {
          "data": {
            "text/plain": [
              "['Tobi', 'Rigers']"
            ]
          },
          "metadata": {},
          "output_type": "display_data"
        }
      ],
      "source": [
        "students[1:3]"
      ]
    },
    {
      "cell_type": "code",
      "execution_count": 38,
      "metadata": {},
      "outputs": [
        {
          "data": {
            "text/plain": [
              "['Tobi', 'Rigers']"
            ]
          },
          "metadata": {},
          "output_type": "display_data"
        }
      ],
      "source": [
        "students[-2:]"
      ]
    },
    {
      "cell_type": "code",
      "execution_count": 39,
      "metadata": {},
      "outputs": [],
      "source": [
        "# Sequence protocol\n",
        "# __len__\n",
        "# __getitem__"
      ]
    },
    {
      "cell_type": "code",
      "execution_count": 15,
      "metadata": {},
      "outputs": [],
      "source": [
        "class Animal:\n",
        "    def __init__(self, name):\n",
        "        self.name = name\n",
        "\n",
        "    def __repr__(self):\n",
        "        return f\"{self.name}, {self.__class__.__name__.lower()}\"\n",
        "\n",
        "\n",
        "class Marlin(Animal):\n",
        "    def swim(self):\n",
        "        print(f\"{repr(self)} if swimming fast\")\n",
        "\n",
        "class SeaHorse(Animal):\n",
        "    def swim(self):\n",
        "        print(f\"{repr(self)} if swimming slow\")\n",
        "\n",
        "class Eagle(Animal):\n",
        "    def fly(self):\n",
        "        print(f\"{repr(self)} is flying high\")"
      ]
    },
    {
      "cell_type": "code",
      "execution_count": 16,
      "metadata": {},
      "outputs": [],
      "source": [
        "a1 = Marlin(\"Didi\")\n",
        "a2 = Eagle(\"Jackson\")\n",
        "a3 = SeaHorse(\"Xichi\")\n",
        "a4 = Eagle(\"Polly\")"
      ]
    },
    {
      "cell_type": "code",
      "execution_count": 17,
      "metadata": {},
      "outputs": [
        {
          "data": {
            "text/plain": [
              "Didi, marlin"
            ]
          },
          "execution_count": 17,
          "metadata": {},
          "output_type": "execute_result"
        }
      ],
      "source": [
        "a1"
      ]
    },
    {
      "cell_type": "code",
      "execution_count": 45,
      "metadata": {},
      "outputs": [
        {
          "data": {
            "text/plain": [
              "Xichi, seahorse"
            ]
          },
          "metadata": {},
          "output_type": "display_data"
        }
      ],
      "source": [
        "a3"
      ]
    },
    {
      "cell_type": "code",
      "execution_count": 47,
      "metadata": {},
      "outputs": [
        {
          "name": "stdout",
          "output_type": "stream",
          "text": [
            "Xichi, seahorse if swimming slow\n"
          ]
        }
      ],
      "source": [
        "a3.swim()"
      ]
    },
    {
      "attachments": {},
      "cell_type": "markdown",
      "metadata": {},
      "source": [
        "## `ZooFavorites Sequence`"
      ]
    },
    {
      "cell_type": "code",
      "execution_count": 18,
      "metadata": {},
      "outputs": [],
      "source": [
        "class Animal:\n",
        "    def __init__(self, name):\n",
        "        self.name = name\n",
        "\n",
        "    def __repr__(self):\n",
        "        return f\"{self.name}, {self.__class__.__name__.lower()}\"\n",
        "\n",
        "\n",
        "class Marlin(Animal):\n",
        "    def swim(self):\n",
        "        print(f\"{repr(self)} if swimming fast\")\n",
        "\n",
        "\n",
        "class SeaHorse(Animal):\n",
        "    def swim(self):\n",
        "        print(f\"{repr(self)} if swimming slow\")\n",
        "\n",
        "\n",
        "class Eagle(Animal):\n",
        "    def fly(self):\n",
        "        print(f\"{repr(self)} is flying high\")\n"
      ]
    },
    {
      "cell_type": "code",
      "execution_count": 75,
      "metadata": {},
      "outputs": [],
      "source": [
        "class ZooFavorites(object):\n",
        "    def __init__(self):\n",
        "        self._roster = []\n",
        "\n",
        "    def add(self, animal):\n",
        "        self._roster.append(animal)\n",
        "    \n",
        "    def insert(self, animal, position):\n",
        "        self._roster.insert(position, animal)\n",
        "\n",
        "    def __repr__(self):\n",
        "        header = \"##### ZooFavorites Roster ##### \\n\" + \"-\" * 30 + \"\\n\"\n",
        "        return header + \"\\n\".join([f\"#{idx + 1} {a}\" for idx, a in enumerate(self._roster)])\n",
        "\n",
        "    def __getitem__(self, idx):\n",
        "        return self._roster[idx]\n",
        "\n",
        "    def __len__(self):\n",
        "        return len(self._roster)"
      ]
    },
    {
      "cell_type": "code",
      "execution_count": 76,
      "metadata": {},
      "outputs": [],
      "source": [
        "# [\"#1 - Didi\", \"#2 - Xichi\"]"
      ]
    },
    {
      "cell_type": "code",
      "execution_count": 77,
      "metadata": {},
      "outputs": [],
      "source": [
        "a1 = Marlin(\"Didi\")\n",
        "a2 = Eagle(\"Jackson\")\n",
        "a3 = SeaHorse(\"Xichi\")\n",
        "a4 = Eagle(\"Polly\")\n",
        "\n",
        "fame = ZooFavorites()\n",
        "\n",
        "fame.add(a3)\n",
        "fame.add(a2)\n",
        "fame.insert(a4, 0)\n",
        "fame.add(a1)"
      ]
    },
    {
      "cell_type": "code",
      "execution_count": 78,
      "metadata": {},
      "outputs": [
        {
          "data": {
            "text/plain": [
              "##### ZooFavorites Roster ##### \n",
              "------------------------------\n",
              "#1 Polly, eagle\n",
              "#2 Xichi, seahorse\n",
              "#3 Jackson, eagle\n",
              "#4 Didi, marlin"
            ]
          },
          "metadata": {},
          "output_type": "display_data"
        }
      ],
      "source": [
        "fame"
      ]
    },
    {
      "cell_type": "code",
      "execution_count": 79,
      "metadata": {},
      "outputs": [
        {
          "data": {
            "text/plain": [
              "[Polly, eagle, Xichi, seahorse, Jackson, eagle, Didi, marlin]"
            ]
          },
          "metadata": {},
          "output_type": "display_data"
        }
      ],
      "source": [
        "fame._roster"
      ]
    },
    {
      "cell_type": "code",
      "execution_count": 80,
      "metadata": {},
      "outputs": [
        {
          "data": {
            "text/plain": [
              "True"
            ]
          },
          "metadata": {},
          "output_type": "display_data"
        }
      ],
      "source": [
        "a3 in fame"
      ]
    },
    {
      "cell_type": "code",
      "execution_count": 81,
      "metadata": {},
      "outputs": [
        {
          "data": {
            "text/plain": [
              "Polly, eagle"
            ]
          },
          "metadata": {},
          "output_type": "display_data"
        }
      ],
      "source": [
        "fame[0]"
      ]
    },
    {
      "cell_type": "code",
      "execution_count": 82,
      "metadata": {},
      "outputs": [
        {
          "data": {
            "text/plain": [
              "[Xichi, seahorse, Jackson, eagle]"
            ]
          },
          "metadata": {},
          "output_type": "display_data"
        }
      ],
      "source": [
        "fame[1:3]"
      ]
    },
    {
      "cell_type": "code",
      "execution_count": 85,
      "metadata": {},
      "outputs": [
        {
          "data": {
            "text/plain": [
              "list"
            ]
          },
          "metadata": {},
          "output_type": "display_data"
        }
      ],
      "source": [
        "type(fame[:3])"
      ]
    },
    {
      "cell_type": "code",
      "execution_count": 84,
      "metadata": {},
      "outputs": [
        {
          "data": {
            "text/plain": [
              "##### ZooFavorites Roster ##### \n",
              "------------------------------\n",
              "#1 Polly, eagle\n",
              "#2 Xichi, seahorse\n",
              "#3 Jackson, eagle\n",
              "#4 Didi, marlin"
            ]
          },
          "metadata": {},
          "output_type": "display_data"
        }
      ],
      "source": [
        "fame"
      ]
    },
    {
      "attachments": {},
      "cell_type": "markdown",
      "metadata": {},
      "source": [
        "## `Pythonic Slicing`"
      ]
    },
    {
      "cell_type": "code",
      "execution_count": 107,
      "metadata": {},
      "outputs": [],
      "source": [
        "class ZooFavorites(object):\n",
        "    def __init__(self):\n",
        "        self._roster = []\n",
        "\n",
        "    def add(self, animal):\n",
        "        self._roster.append(animal)\n",
        "    \n",
        "    def insert(self, animal, position):\n",
        "        self._roster.insert(position, animal)\n",
        "\n",
        "    def __repr__(self):\n",
        "        header = \"##### ZooFavorites Roster ##### \\n\" + \"-\" * 30 + \"\\n\"\n",
        "        return header + \"\\n\".join([f\"#{idx + 1} {a}\" for idx, a in enumerate(self._roster)])\n",
        "\n",
        "    def __getitem__(self, key):\n",
        "        if type(key) == slice: # returns instances of ZooFaves\n",
        "            cls = type(self)\n",
        "            zf = cls()\n",
        "\n",
        "            for animal in self._roster[key]:\n",
        "                zf.add(animal)\n",
        "\n",
        "            return zf\n",
        "        \n",
        "        elif type(key) == int:\n",
        "            return self._roster[idx] # return the Animal subclass in that position\n",
        "        \n",
        "        return NotImplemented \n",
        "\n",
        "    def __len__(self):\n",
        "        return len(self._roster)"
      ]
    },
    {
      "cell_type": "code",
      "execution_count": 108,
      "metadata": {},
      "outputs": [],
      "source": [
        "a1 = Marlin(\"Didi\")\n",
        "a2 = Eagle(\"Jackson\")\n",
        "a3 = SeaHorse(\"Xichi\")\n",
        "a4 = Eagle(\"Polly\")\n",
        "\n",
        "fame = ZooFavorites()\n",
        "\n",
        "fame.add(a3)\n",
        "fame.add(a2)\n",
        "fame.insert(a4, 0)\n",
        "fame.add(a1)"
      ]
    },
    {
      "cell_type": "code",
      "execution_count": 109,
      "metadata": {},
      "outputs": [
        {
          "data": {
            "text/plain": [
              "##### ZooFavorites Roster ##### \n",
              "------------------------------\n",
              "#1 Xichi, seahorse\n",
              "#2 Jackson, eagle"
            ]
          },
          "metadata": {},
          "output_type": "display_data"
        }
      ],
      "source": [
        "fame[1:3]"
      ]
    },
    {
      "cell_type": "code",
      "execution_count": 110,
      "metadata": {},
      "outputs": [
        {
          "data": {
            "text/plain": [
              "__main__.ZooFavorites"
            ]
          },
          "metadata": {},
          "output_type": "display_data"
        }
      ],
      "source": [
        "type(fame[1:3])"
      ]
    },
    {
      "cell_type": "code",
      "execution_count": 111,
      "metadata": {},
      "outputs": [
        {
          "data": {
            "text/plain": [
              "##### ZooFavorites Roster ##### \n",
              "------------------------------\n",
              "#1 Polly, eagle\n",
              "#2 Xichi, seahorse\n",
              "#3 Jackson, eagle\n",
              "#4 Didi, marlin"
            ]
          },
          "metadata": {},
          "output_type": "display_data"
        }
      ],
      "source": [
        "fame"
      ]
    },
    {
      "cell_type": "code",
      "execution_count": 112,
      "metadata": {},
      "outputs": [
        {
          "data": {
            "text/plain": [
              "##### ZooFavorites Roster ##### \n",
              "------------------------------\n",
              "#1 Didi, marlin\n",
              "#2 Jackson, eagle\n",
              "#3 Xichi, seahorse\n",
              "#4 Polly, eagle"
            ]
          },
          "metadata": {},
          "output_type": "display_data"
        }
      ],
      "source": [
        "fame[::-1]"
      ]
    },
    {
      "cell_type": "code",
      "execution_count": null,
      "metadata": {},
      "outputs": [],
      "source": []
    },
    {
      "cell_type": "code",
      "execution_count": 88,
      "metadata": {},
      "outputs": [],
      "source": [
        "# python detour"
      ]
    },
    {
      "cell_type": "code",
      "execution_count": 90,
      "metadata": {},
      "outputs": [],
      "source": [
        "regular_list = [\"Andrew\", \"Jack\", \"Irvine\", \"Leo\", \"Leonid\"]"
      ]
    },
    {
      "cell_type": "code",
      "execution_count": 92,
      "metadata": {},
      "outputs": [
        {
          "data": {
            "text/plain": [
              "('Andrew', 'Jack')"
            ]
          },
          "metadata": {},
          "output_type": "display_data"
        }
      ],
      "source": [
        "regular_list[0], regular_list[1] # __getitem__"
      ]
    },
    {
      "cell_type": "code",
      "execution_count": 93,
      "metadata": {},
      "outputs": [
        {
          "data": {
            "text/plain": [
              "['Jack', 'Irvine', 'Leo']"
            ]
          },
          "metadata": {},
          "output_type": "display_data"
        }
      ],
      "source": [
        "regular_list[1:4] # __getitem__ is also called! "
      ]
    },
    {
      "cell_type": "code",
      "execution_count": 94,
      "metadata": {},
      "outputs": [],
      "source": [
        "class NoisyList(list):\n",
        "    def __getitem__(self, item):\n",
        "        print(\"__getitem__ received:\", item)\n",
        "        return super().__getitem__(item)"
      ]
    },
    {
      "cell_type": "code",
      "execution_count": 95,
      "metadata": {},
      "outputs": [],
      "source": [
        "noisy_list = NoisyList([\"Andrew\", \"Jack\", \"Irvine\", \"Leo\", \"Leonid\"])"
      ]
    },
    {
      "cell_type": "code",
      "execution_count": 96,
      "metadata": {},
      "outputs": [
        {
          "name": "stdout",
          "output_type": "stream",
          "text": [
            "__getitem__ received: 0\n"
          ]
        },
        {
          "data": {
            "text/plain": [
              "'Andrew'"
            ]
          },
          "metadata": {},
          "output_type": "display_data"
        }
      ],
      "source": [
        "noisy_list[0]"
      ]
    },
    {
      "cell_type": "code",
      "execution_count": 97,
      "metadata": {},
      "outputs": [
        {
          "name": "stdout",
          "output_type": "stream",
          "text": [
            "__getitem__ received: 2\n"
          ]
        },
        {
          "data": {
            "text/plain": [
              "'Irvine'"
            ]
          },
          "metadata": {},
          "output_type": "display_data"
        }
      ],
      "source": [
        "noisy_list[2]"
      ]
    },
    {
      "cell_type": "code",
      "execution_count": 98,
      "metadata": {},
      "outputs": [
        {
          "name": "stdout",
          "output_type": "stream",
          "text": [
            "__getitem__ received: slice(2, 4, None)\n"
          ]
        },
        {
          "data": {
            "text/plain": [
              "['Irvine', 'Leo']"
            ]
          },
          "metadata": {},
          "output_type": "display_data"
        }
      ],
      "source": [
        "noisy_list[2:4]"
      ]
    },
    {
      "cell_type": "code",
      "execution_count": 100,
      "metadata": {},
      "outputs": [
        {
          "data": {
            "text/plain": [
              "[2, 3]"
            ]
          },
          "metadata": {},
          "output_type": "display_data"
        }
      ],
      "source": [
        "list(range(2, 4))"
      ]
    },
    {
      "cell_type": "code",
      "execution_count": 102,
      "metadata": {},
      "outputs": [
        {
          "data": {
            "text/plain": [
              "slice(2, 4, None)"
            ]
          },
          "metadata": {},
          "output_type": "display_data"
        }
      ],
      "source": [
        "slice(2, 4, None) # could be used in extended indexing, whereas range cannot"
      ]
    },
    {
      "cell_type": "code",
      "execution_count": 103,
      "metadata": {},
      "outputs": [
        {
          "data": {
            "text/plain": [
              "['Irvine', 'Leo']"
            ]
          },
          "metadata": {},
          "output_type": "display_data"
        }
      ],
      "source": [
        "regular_list[slice(2,4,None)]"
      ]
    },
    {
      "cell_type": "code",
      "execution_count": 104,
      "metadata": {},
      "outputs": [
        {
          "ename": "TypeError",
          "evalue": "TypeError: list indices must be integers or slices, not range",
          "output_type": "error",
          "traceback": [
            "\u001b[0;31m---------------------------------------------------------------------------",
            "Traceback (most recent call last)",
            "    at line 1 in <module>",
            "TypeError: list indices must be integers or slices, not range"
          ]
        }
      ],
      "source": [
        "regular_list[range(2,4)]"
      ]
    },
    {
      "cell_type": "code",
      "execution_count": 105,
      "metadata": {},
      "outputs": [],
      "source": [
        "# end detour"
      ]
    },
    {
      "cell_type": "code",
      "execution_count": 19,
      "metadata": {},
      "outputs": [],
      "source": [
        "class ZooFavorites(object):\n",
        "    def __init__(self, *animals):\n",
        "        self._roster = [*animals]\n",
        "\n",
        "    def add(self, animal):\n",
        "        self._roster.append(animal)\n",
        "    \n",
        "    def insert(self, animal, position):\n",
        "        self._roster.insert(position, animal)\n",
        "\n",
        "    def __repr__(self):\n",
        "        header = \"##### ZooFavorites Roster ##### \\n\" + \"-\" * 30 + \"\\n\"\n",
        "        return header + \"\\n\".join([f\"#{idx + 1} {a}\" for idx, a in enumerate(self._roster)])\n",
        "\n",
        "    def __getitem__(self, key):\n",
        "        if type(key) == slice: # returns instances of ZooFaves\n",
        "            return self.__class__(*self._roster[key])\n",
        "        \n",
        "        elif type(key) == int:\n",
        "            return self._roster[key] # return the Animal subclass in that position\n",
        "        \n",
        "        return NotImplemented \n",
        "\n",
        "    def __len__(self):\n",
        "        return len(self._roster)"
      ]
    },
    {
      "cell_type": "code",
      "execution_count": 20,
      "metadata": {},
      "outputs": [],
      "source": [
        "a1 = Marlin(\"Didi\")\n",
        "a2 = Eagle(\"Jackson\")\n",
        "a3 = SeaHorse(\"Xichi\")\n",
        "a4 = Eagle(\"Polly\")\n",
        "\n",
        "fame = ZooFavorites()\n",
        "\n",
        "fame.add(a3)\n",
        "fame.add(a2)\n",
        "fame.insert(a4, 0)\n",
        "fame.add(a1)"
      ]
    },
    {
      "cell_type": "code",
      "execution_count": 21,
      "metadata": {},
      "outputs": [
        {
          "data": {
            "text/plain": [
              "##### ZooFavorites Roster ##### \n",
              "------------------------------\n",
              "#1 Polly, eagle\n",
              "#2 Xichi, seahorse\n",
              "#3 Jackson, eagle\n",
              "#4 Didi, marlin"
            ]
          },
          "execution_count": 21,
          "metadata": {},
          "output_type": "execute_result"
        }
      ],
      "source": [
        "fame"
      ]
    },
    {
      "cell_type": "code",
      "execution_count": 24,
      "metadata": {},
      "outputs": [],
      "source": [
        "#now slicing is returning objects/ instnaces of ZooFavorites like it should"
      ]
    },
    {
      "cell_type": "code",
      "execution_count": 22,
      "metadata": {},
      "outputs": [
        {
          "data": {
            "text/plain": [
              "##### ZooFavorites Roster ##### \n",
              "------------------------------\n",
              "#1 Xichi, seahorse\n",
              "#2 Jackson, eagle\n",
              "#3 Didi, marlin"
            ]
          },
          "execution_count": 22,
          "metadata": {},
          "output_type": "execute_result"
        }
      ],
      "source": [
        "fame[1:4]"
      ]
    },
    {
      "cell_type": "code",
      "execution_count": 23,
      "metadata": {},
      "outputs": [
        {
          "data": {
            "text/plain": [
              "Xichi, seahorse"
            ]
          },
          "execution_count": 23,
          "metadata": {},
          "output_type": "execute_result"
        }
      ],
      "source": [
        "fame[1]"
      ]
    },
    {
      "cell_type": "code",
      "execution_count": 118,
      "metadata": {},
      "outputs": [
        {
          "data": {
            "text/plain": [
              "##### ZooFavorites Roster ##### \n",
              "------------------------------\n",
              "#1 Polly, eagle\n",
              "#2 Xichi, seahorse\n",
              "#3 Jackson, eagle\n",
              "#4 Didi, marlin"
            ]
          },
          "metadata": {},
          "output_type": "display_data"
        }
      ],
      "source": [
        "fame"
      ]
    },
    {
      "attachments": {},
      "cell_type": "markdown",
      "metadata": {},
      "source": [
        "## `BONUS: From Iteration To Iterables And Iterators`"
      ]
    },
    {
      "attachments": {},
      "cell_type": "markdown",
      "metadata": {},
      "source": [
        "* iteration\n",
        "* iterable\n",
        "* iterator"
      ]
    },
    {
      "cell_type": "code",
      "execution_count": null,
      "metadata": {},
      "outputs": [],
      "source": []
    },
    {
      "cell_type": "code",
      "execution_count": 120,
      "metadata": {},
      "outputs": [],
      "source": [
        "l = ['item1', 'item2', 'item3']"
      ]
    },
    {
      "cell_type": "code",
      "execution_count": 123,
      "metadata": {},
      "outputs": [
        {
          "name": "stdout",
          "output_type": "stream",
          "text": [
            "item1\n",
            "item2\n",
            "item3\n"
          ]
        }
      ],
      "source": [
        "# iteration over a sequence: indexable and has a length\n",
        "idx = 0\n",
        "\n",
        "while idx < len(l):\n",
        "    print(l[idx])\n",
        "    idx += 1"
      ]
    },
    {
      "cell_type": "code",
      "execution_count": 124,
      "metadata": {},
      "outputs": [
        {
          "name": "stdout",
          "output_type": "stream",
          "text": [
            "item1\n",
            "item2\n",
            "item3\n"
          ]
        }
      ],
      "source": [
        "for i in l:\n",
        "    print(i)"
      ]
    },
    {
      "cell_type": "code",
      "execution_count": 25,
      "metadata": {},
      "outputs": [],
      "source": [
        "\n",
        "s1 = {\"orange\", \"apple\", \"watermelon\"}"
      ]
    },
    {
      "cell_type": "code",
      "execution_count": 26,
      "metadata": {},
      "outputs": [
        {
          "name": "stdout",
          "output_type": "stream",
          "text": [
            "orange\n",
            "watermelon\n",
            "apple\n"
          ]
        }
      ],
      "source": [
        "for i in s1:\n",
        "    print(i)"
      ]
    },
    {
      "cell_type": "code",
      "execution_count": 27,
      "metadata": {},
      "outputs": [
        {
          "data": {
            "text/plain": [
              "3"
            ]
          },
          "execution_count": 27,
          "metadata": {},
          "output_type": "execute_result"
        }
      ],
      "source": [
        "len(s1)"
      ]
    },
    {
      "cell_type": "code",
      "execution_count": 29,
      "metadata": {},
      "outputs": [
        {
          "ename": "TypeError",
          "evalue": "'set' object is not subscriptable",
          "output_type": "error",
          "traceback": [
            "\u001b[1;31m---------------------------------------------------------------------------\u001b[0m",
            "\u001b[1;31mTypeError\u001b[0m                                 Traceback (most recent call last)",
            "Cell \u001b[1;32mIn[29], line 1\u001b[0m\n\u001b[1;32m----> 1\u001b[0m \u001b[43ms1\u001b[49m\u001b[43m[\u001b[49m\u001b[38;5;241;43m0\u001b[39;49m\u001b[43m]\u001b[49m\n",
            "\u001b[1;31mTypeError\u001b[0m: 'set' object is not subscriptable"
          ]
        }
      ],
      "source": [
        "s1[0]"
      ]
    },
    {
      "cell_type": "code",
      "execution_count": 130,
      "metadata": {},
      "outputs": [
        {
          "ename": "TypeError",
          "evalue": "TypeError: 'set' object is not subscriptable",
          "output_type": "error",
          "traceback": [
            "\u001b[0;31m---------------------------------------------------------------------------",
            "Traceback (most recent call last)",
            "    at line 4 in <module>",
            "TypeError: 'set' object is not subscriptable"
          ]
        }
      ],
      "source": [
        "idx = 0\n",
        "\n",
        "while idx < len(s1):\n",
        "    print(s1[idx])\n",
        "    idx += 1"
      ]
    },
    {
      "cell_type": "code",
      "execution_count": 30,
      "metadata": {},
      "outputs": [],
      "source": [
        "iterator = iter(s1)"
      ]
    },
    {
      "cell_type": "code",
      "execution_count": 35,
      "metadata": {},
      "outputs": [],
      "source": [
        "#exhausting the iterator after the first iteration\n"
      ]
    },
    {
      "cell_type": "code",
      "execution_count": 36,
      "metadata": {},
      "outputs": [
        {
          "ename": "StopIteration",
          "evalue": "",
          "output_type": "error",
          "traceback": [
            "\u001b[1;31m---------------------------------------------------------------------------\u001b[0m",
            "\u001b[1;31mStopIteration\u001b[0m                             Traceback (most recent call last)",
            "Cell \u001b[1;32mIn[36], line 1\u001b[0m\n\u001b[1;32m----> 1\u001b[0m \u001b[38;5;28;43mnext\u001b[39;49m\u001b[43m(\u001b[49m\u001b[43miterator\u001b[49m\u001b[43m)\u001b[49m\n",
            "\u001b[1;31mStopIteration\u001b[0m: "
          ]
        }
      ],
      "source": [
        "next(iterator)"
      ]
    },
    {
      "cell_type": "code",
      "execution_count": 140,
      "metadata": {},
      "outputs": [],
      "source": [
        "iterator2 = iter(iterator)"
      ]
    },
    {
      "cell_type": "code",
      "execution_count": 141,
      "metadata": {},
      "outputs": [
        {
          "data": {
            "text/plain": [
              "True"
            ]
          },
          "metadata": {},
          "output_type": "display_data"
        }
      ],
      "source": [
        "iterator is iterator2"
      ]
    },
    {
      "cell_type": "code",
      "execution_count": 142,
      "metadata": {},
      "outputs": [
        {
          "data": {
            "text/plain": [
              "True"
            ]
          },
          "metadata": {},
          "output_type": "display_data"
        }
      ],
      "source": [
        "id(iterator2) == id(iterator)"
      ]
    },
    {
      "attachments": {},
      "cell_type": "markdown",
      "metadata": {},
      "source": [
        "## `BONUS: The Iterator Protocol`"
      ]
    },
    {
      "attachments": {},
      "cell_type": "markdown",
      "metadata": {},
      "source": [
        "* the way iterators and iterables work together"
      ]
    },
    {
      "cell_type": "code",
      "execution_count": 165,
      "metadata": {},
      "outputs": [],
      "source": [
        "# __iter__\n",
        "# __next__"
      ]
    },
    {
      "cell_type": "code",
      "execution_count": 166,
      "metadata": {},
      "outputs": [],
      "source": [
        "s = {\"a\", \"b\"}"
      ]
    },
    {
      "cell_type": "code",
      "execution_count": 167,
      "metadata": {},
      "outputs": [],
      "source": [
        "set_itertor = iter(s)"
      ]
    },
    {
      "cell_type": "code",
      "execution_count": 169,
      "metadata": {},
      "outputs": [
        {
          "data": {
            "text/plain": [
              "'a'"
            ]
          },
          "metadata": {},
          "output_type": "display_data"
        }
      ],
      "source": [
        "next(set_itertor)"
      ]
    },
    {
      "cell_type": "code",
      "execution_count": 170,
      "metadata": {},
      "outputs": [],
      "source": [
        "name_string = \"Andrew\""
      ]
    },
    {
      "cell_type": "code",
      "execution_count": 171,
      "metadata": {},
      "outputs": [],
      "source": [
        "str_iterator = iter(name_string)"
      ]
    },
    {
      "cell_type": "code",
      "execution_count": 172,
      "metadata": {},
      "outputs": [
        {
          "data": {
            "text/plain": [
              "('A', 'n', 'd', 'r')"
            ]
          },
          "metadata": {},
          "output_type": "display_data"
        }
      ],
      "source": [
        "next(str_iterator), next(str_iterator), next(str_iterator), next(str_iterator)"
      ]
    },
    {
      "cell_type": "code",
      "execution_count": 173,
      "metadata": {},
      "outputs": [],
      "source": [
        "i = 1"
      ]
    },
    {
      "cell_type": "code",
      "execution_count": 174,
      "metadata": {},
      "outputs": [
        {
          "ename": "TypeError",
          "evalue": "TypeError: 'int' object is not iterable",
          "output_type": "error",
          "traceback": [
            "\u001b[0;31m---------------------------------------------------------------------------",
            "Traceback (most recent call last)",
            "    at line 1 in <module>",
            "TypeError: 'int' object is not iterable"
          ]
        }
      ],
      "source": [
        "int_iterator = iter(i)"
      ]
    },
    {
      "cell_type": "code",
      "execution_count": 191,
      "metadata": {},
      "outputs": [],
      "source": [
        "class Forest:\n",
        "    def __init__(self):\n",
        "        self.i = 0\n",
        "        self.dwellings = list() \n",
        "\n",
        "    def add(self, dweller):\n",
        "        self.dwellings.append(dweller)\n",
        "\n",
        "    def __iter__(self):\n",
        "        return self\n",
        "\n",
        "    def __next__(self):\n",
        "        try:\n",
        "            self.i += 1\n",
        "            return self.dwellings[self.i - 1]\n",
        "        except IndexError:\n",
        "            self.i = 0\n",
        "            raise StopIteration"
      ]
    },
    {
      "cell_type": "code",
      "execution_count": 194,
      "metadata": {},
      "outputs": [
        {
          "data": {
            "text/plain": [
              "<__main__.Forest at 0x7f903dd31be0>"
            ]
          },
          "metadata": {},
          "output_type": "display_data"
        }
      ],
      "source": [
        "iter(Forest())"
      ]
    },
    {
      "cell_type": "code",
      "execution_count": 195,
      "metadata": {},
      "outputs": [],
      "source": [
        "f = Forest()"
      ]
    },
    {
      "cell_type": "code",
      "execution_count": 196,
      "metadata": {},
      "outputs": [],
      "source": [
        "f.add(\"tree1\")\n",
        "f.add(\"tree2\")"
      ]
    },
    {
      "cell_type": "code",
      "execution_count": 197,
      "metadata": {},
      "outputs": [],
      "source": [
        "tree_iterator = iter(f)"
      ]
    },
    {
      "cell_type": "code",
      "execution_count": 198,
      "metadata": {},
      "outputs": [
        {
          "name": "stdout",
          "output_type": "stream",
          "text": [
            "tree1\n",
            "tree2\n"
          ]
        },
        {
          "ename": "StopIteration",
          "evalue": "StopIteration: ",
          "output_type": "error",
          "traceback": [
            "\u001b[0;31m---------------------------------------------------------------------------",
            "Traceback (most recent call last)",
            "    at line 15 in __next__(self)",
            "    at line 2 in <module>",
            "    at line 18 in __next__(self)",
            "StopIteration: "
          ]
        }
      ],
      "source": [
        "for i in range(10):\n",
        "    print(next(tree_iterator))"
      ]
    },
    {
      "attachments": {},
      "cell_type": "markdown",
      "metadata": {},
      "source": [
        "## `BONUS: Extreme Duck Typing`"
      ]
    },
    {
      "cell_type": "code",
      "execution_count": 199,
      "metadata": {},
      "outputs": [],
      "source": [
        "class Animal:\n",
        "    def __init__(self, name):\n",
        "        self.name = name\n",
        "\n",
        "    def __repr__(self):\n",
        "        return f\"{self.name}, {self.__class__.__name__.lower()}\"\n",
        "\n",
        "\n",
        "class Marlin(Animal):\n",
        "    def swim(self):\n",
        "        print(f\"{repr(self)} if swimming fast\")\n",
        "\n",
        "\n",
        "class SeaHorse(Animal):\n",
        "    def swim(self):\n",
        "        print(f\"{repr(self)} if swimming slow\")\n",
        "\n",
        "\n",
        "class Eagle(Animal):\n",
        "    def fly(self):\n",
        "        print(f\"{repr(selse)} is flying high\")"
      ]
    },
    {
      "cell_type": "code",
      "execution_count": 200,
      "metadata": {},
      "outputs": [],
      "source": [
        "class ZooFavorites(object):\n",
        "    def __init__(self):\n",
        "        self._roster = []\n",
        "\n",
        "    def add(self, animal):\n",
        "        self._roster.append(animal)\n",
        "\n",
        "    def insert(self, animal, position):\n",
        "        self._roster.insert(position, animal)\n",
        "\n",
        "    def __repr__(self):\n",
        "        header = \"##### ZooFavorites Roster ##### \\n\" + \"-\" * 30 + \"\\n\"\n",
        "        return header + \"\\n\".join([f\"#{idx + 1} {a}\" for idx, a in enumerate(self._roster)])\n",
        "\n",
        "    def __getitem__(self, idx):\n",
        "        return self._roster[idx]\n",
        "\n",
        "    def __len__(self):\n",
        "        return len(self._roster)"
      ]
    },
    {
      "cell_type": "code",
      "execution_count": 201,
      "metadata": {},
      "outputs": [],
      "source": [
        "a1 = Marlin(\"Didi\")\n",
        "a2 = Eagle(\"Jackson\")\n",
        "a3 = SeaHorse(\"Xichi\")\n",
        "a4 = Eagle(\"Polly\")\n",
        "\n",
        "fame = ZooFavorites()\n",
        "\n",
        "fame.add(a3)\n",
        "fame.add(a2)\n",
        "fame.insert(a4, 0)\n",
        "fame.add(a1)"
      ]
    },
    {
      "cell_type": "code",
      "execution_count": 202,
      "metadata": {},
      "outputs": [
        {
          "data": {
            "text/plain": [
              "##### ZooFavorites Roster ##### \n",
              "------------------------------\n",
              "#1 Polly, eagle\n",
              "#2 Xichi, seahorse\n",
              "#3 Jackson, eagle\n",
              "#4 Didi, marlin"
            ]
          },
          "metadata": {},
          "output_type": "display_data"
        }
      ],
      "source": [
        "fame"
      ]
    },
    {
      "cell_type": "code",
      "execution_count": 205,
      "metadata": {},
      "outputs": [
        {
          "name": "stdout",
          "output_type": "stream",
          "text": [
            "Polly, eagle\n",
            "Xichi, seahorse\n",
            "Jackson, eagle\n",
            "Didi, marlin\n"
          ]
        }
      ],
      "source": [
        "for animal in fame:\n",
        "    print(animal)"
      ]
    },
    {
      "cell_type": "code",
      "execution_count": 206,
      "metadata": {},
      "outputs": [],
      "source": [
        "zoofaves_iterator = iter(fame)"
      ]
    },
    {
      "cell_type": "code",
      "execution_count": 209,
      "metadata": {},
      "outputs": [
        {
          "data": {
            "text/plain": [
              "Jackson, eagle"
            ]
          },
          "metadata": {},
          "output_type": "display_data"
        }
      ],
      "source": [
        "next(zoofaves_iterator)"
      ]
    },
    {
      "cell_type": "code",
      "execution_count": 40,
      "metadata": {},
      "outputs": [],
      "source": [
        "#how iterator works here, well python calls get item consecutively "
      ]
    },
    {
      "cell_type": "code",
      "execution_count": 38,
      "metadata": {},
      "outputs": [
        {
          "data": {
            "text/plain": [
              "Polly, eagle"
            ]
          },
          "execution_count": 38,
          "metadata": {},
          "output_type": "execute_result"
        }
      ],
      "source": [
        "fame.__getitem__(0)"
      ]
    },
    {
      "cell_type": "code",
      "execution_count": 39,
      "metadata": {},
      "outputs": [
        {
          "data": {
            "text/plain": [
              "Xichi, seahorse"
            ]
          },
          "execution_count": 39,
          "metadata": {},
          "output_type": "execute_result"
        }
      ],
      "source": [
        "fame.__getitem__(1)"
      ]
    },
    {
      "cell_type": "code",
      "execution_count": 213,
      "metadata": {},
      "outputs": [
        {
          "data": {
            "text/plain": [
              "True"
            ]
          },
          "metadata": {},
          "output_type": "display_data"
        }
      ],
      "source": [
        "a1 in fame # __contains__"
      ]
    },
    {
      "cell_type": "markdown",
      "metadata": {},
      "source": [
        "Skill"
      ]
    },
    {
      "cell_type": "code",
      "execution_count": 283,
      "metadata": {},
      "outputs": [],
      "source": [
        "class PlayingCard:\n",
        "    def __init__(self,rank,suit):\n",
        "        self.rank = rank.lower()\n",
        "        self.suit = suit.lower()\n",
        "    \n",
        "    def __repr__(self):\n",
        "        return f\"{self.rank} of {self.suit}\"\n",
        "    \n",
        "    def __eq__(self, other):\n",
        "        return self.rank == other.rank and self.suit == other.suit\n",
        "    \n",
        "    def __mul__(self, other):\n",
        "        if isinstance(other,int):\n",
        "            return CardDeck(*(self for _ in range(other)))\n",
        "    \n",
        "    def __rmul__(self, other):\n",
        "        if isinstance(other,int):\n",
        "            return CardDeck(*(self for _ in range(other)))\n",
        "    "
      ]
    },
    {
      "cell_type": "code",
      "execution_count": 284,
      "metadata": {},
      "outputs": [],
      "source": [
        "class CardDeck:\n",
        "    \n",
        "    def __init__(self,*cards):\n",
        "        self.cards = [*cards]\n",
        "     \n",
        "    \n",
        "    def __add__(self,card):\n",
        "        new_deck = CardDeck(*self.cards)\n",
        "        if isinstance(card,PlayingCard):\n",
        "            new_deck.cards.append(card)\n",
        "        elif isinstance(card,CardDeck):\n",
        "            new_deck.cards.extend(card.cards)\n",
        "        return new_deck\n",
        "    \n",
        "    def __contains__(self,other):\n",
        "        if other in self.cards:\n",
        "            return True\n",
        "        \n",
        "    \n",
        "    def __getitem__(self,idx):\n",
        "        if type(idx) == slice:\n",
        "            return self.__class__(*self.cards[idx])\n",
        "        else:\n",
        "            try:\n",
        "                return self.cards[idx]\n",
        "            except IndexError:\n",
        "                return (\"index out of range\")\n",
        "    \n",
        "    def __len__(self):\n",
        "        return len(self.cards)\n",
        "\n",
        "    def __repr__(self):\n",
        "        return \"\\n\".join([f\"#{idx + 1}-{card}\" for idx,card in enumerate(self.cards)])\n",
        "    \n",
        "    def __iter__(self):\n",
        "        self.i = 0\n",
        "        \n",
        "        return self\n",
        "    \n",
        "    def __next__(self):\n",
        "        try:\n",
        "            self.i += 1\n",
        "            return self.cards[self.i - 1]\n",
        "        except IndexError:\n",
        "            self.i = 0\n",
        "            raise StopIteration\n",
        "    \n",
        "    \n",
        "        \n",
        "    \n",
        "    "
      ]
    },
    {
      "cell_type": "code",
      "execution_count": 287,
      "metadata": {},
      "outputs": [
        {
          "name": "stdout",
          "output_type": "stream",
          "text": [
            "#1-k of spades\n",
            "#2-k of spades\n",
            "#3-k of spades\n"
          ]
        }
      ],
      "source": [
        "# Assuming PlayingCard class is defined as above\n",
        "\n",
        "# Create a CardDeck with some PlayingCards\n",
        "c1 = CardDeck(\n",
        "    PlayingCard(\"A\", \"hearts\"),\n",
        "    PlayingCard(\"2\", \"hearts\"),\n",
        "    PlayingCard(\"3\", \"hearts\")\n",
        ")\n",
        "\n",
        "# Accessing the third card\n",
        "\n",
        "\n",
        "# Adding cards to the deck\n",
        "c2 = c1 + PlayingCard(\"4\", \"hearts\")\n",
        "\n",
        "c3 = c2 + c1\n",
        "\n",
        "# Printing the deck\n",
        "# print(c3)\n",
        "\n",
        "# Multiplying a PlayingCard to create a new CardDeck\n",
        "card = PlayingCard(\"K\", \"spades\")\n",
        "deck = 3 * card\n",
        "print(deck)\n"
      ]
    },
    {
      "cell_type": "code",
      "execution_count": 271,
      "metadata": {},
      "outputs": [],
      "source": [
        "c = CardDeck()\n",
        "c1 = CardDeck(PlayingCard(\"A\",\"hearts\"),PlayingCard(\"2\",\"hearts\"),PlayingCard(\"3\",\"hearts\"))"
      ]
    },
    {
      "cell_type": "code",
      "execution_count": 272,
      "metadata": {},
      "outputs": [],
      "source": [
        "p = PlayingCard(\"A\",\"hearts\")"
      ]
    },
    {
      "cell_type": "code",
      "execution_count": 273,
      "metadata": {},
      "outputs": [],
      "source": [
        "c= c1 + p\n"
      ]
    },
    {
      "cell_type": "code",
      "execution_count": 274,
      "metadata": {},
      "outputs": [
        {
          "data": {
            "text/plain": [
              "'None'"
            ]
          },
          "execution_count": 274,
          "metadata": {},
          "output_type": "execute_result"
        }
      ],
      "source": [
        "repr(c)"
      ]
    },
    {
      "cell_type": "code",
      "execution_count": 205,
      "metadata": {},
      "outputs": [
        {
          "name": "stdout",
          "output_type": "stream",
          "text": [
            "[4 of hearts]\n"
          ]
        }
      ],
      "source": [
        "print(c.cards)"
      ]
    },
    {
      "cell_type": "code",
      "execution_count": 213,
      "metadata": {},
      "outputs": [],
      "source": [
        "p = PlayingCard(\"A\", \"Spades\")\n",
        "p1 = PlayingCard(\"4\", \"Spades\")\n",
        "p2 = PlayingCard(\"A\", \"clubs\")"
      ]
    },
    {
      "cell_type": "code",
      "execution_count": 207,
      "metadata": {},
      "outputs": [],
      "source": [
        "c.__add__(p2)\n",
        "c.__add__(p1)\n",
        "c.__add__(p)"
      ]
    },
    {
      "cell_type": "code",
      "execution_count": 209,
      "metadata": {},
      "outputs": [],
      "source": [
        "c+c1"
      ]
    },
    {
      "cell_type": "code",
      "execution_count": 241,
      "metadata": {},
      "outputs": [
        {
          "data": {
            "text/plain": [
              "[3 of hearts, 3 of hearts, 3 of hearts]"
            ]
          },
          "execution_count": 241,
          "metadata": {},
          "output_type": "execute_result"
        }
      ],
      "source": [
        "c[::-1]"
      ]
    },
    {
      "cell_type": "code",
      "execution_count": 183,
      "metadata": {},
      "outputs": [],
      "source": [
        "c+p"
      ]
    },
    {
      "cell_type": "code",
      "execution_count": 251,
      "metadata": {},
      "outputs": [
        {
          "data": {
            "text/plain": [
              "[3 of hearts, 3 of hearts, 3 of hearts]"
            ]
          },
          "execution_count": 251,
          "metadata": {},
          "output_type": "execute_result"
        }
      ],
      "source": [
        "c"
      ]
    },
    {
      "cell_type": "code",
      "execution_count": 191,
      "metadata": {},
      "outputs": [
        {
          "data": {
            "text/plain": [
              "#1-a of clubs\n",
              "#2-4 of spades\n",
              "#3-a of spades"
            ]
          },
          "execution_count": 191,
          "metadata": {},
          "output_type": "execute_result"
        }
      ],
      "source": [
        "c[1:]"
      ]
    },
    {
      "cell_type": "code",
      "execution_count": 192,
      "metadata": {},
      "outputs": [
        {
          "data": {
            "text/plain": [
              "4"
            ]
          },
          "execution_count": 192,
          "metadata": {},
          "output_type": "execute_result"
        }
      ],
      "source": [
        "len(c)"
      ]
    },
    {
      "cell_type": "code",
      "execution_count": 193,
      "metadata": {},
      "outputs": [
        {
          "name": "stdout",
          "output_type": "stream",
          "text": [
            "#1-a of hearts\n",
            "#2-2 of hearts\n",
            "#3-3 of hearts\n",
            "a of clubs\n",
            "4 of spades\n",
            "a of spades\n"
          ]
        }
      ],
      "source": [
        "for i in c:\n",
        "    print(i)"
      ]
    },
    {
      "cell_type": "code",
      "execution_count": 197,
      "metadata": {},
      "outputs": [
        {
          "data": {
            "text/plain": [
              "a of spades"
            ]
          },
          "execution_count": 197,
          "metadata": {},
          "output_type": "execute_result"
        }
      ],
      "source": [
        "next(c)"
      ]
    },
    {
      "cell_type": "code",
      "execution_count": null,
      "metadata": {},
      "outputs": [],
      "source": []
    },
    {
      "cell_type": "code",
      "execution_count": null,
      "metadata": {},
      "outputs": [],
      "source": []
    }
  ],
  "metadata": {
    "kernelspec": {
      "display_name": "Python 3",
      "language": "python",
      "name": "python3"
    },
    "language_info": {
      "codemirror_mode": {
        "name": "ipython",
        "version": 3
      },
      "file_extension": ".py",
      "mimetype": "text/x-python",
      "name": "python",
      "nbconvert_exporter": "python",
      "pygments_lexer": "ipython3",
      "version": "3.9.13"
    }
  },
  "nbformat": 4,
  "nbformat_minor": 0
}
