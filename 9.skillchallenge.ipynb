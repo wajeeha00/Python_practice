{
 "cells": [
  {
   "cell_type": "code",
   "execution_count": null,
   "metadata": {},
   "outputs": [],
   "source": [
    "from enum import Flag, Enum, auto"
   ]
  },
  {
   "cell_type": "code",
   "execution_count": null,
   "metadata": {},
   "outputs": [],
   "source": [
    "class Permission( Flag):\n",
    "    READ = auto()\n",
    "    WRITE = auto()\n",
    "    EXECUTE = auto()"
   ]
  },
  {
   "cell_type": "code",
   "execution_count": null,
   "metadata": {},
   "outputs": [],
   "source": [
    "\n",
    "class User:\n",
    "  def __init__(self,name,user_role):\n",
    "    self.name = name\n",
    "    self.user_role = user_role\n",
    "    self.permission = Permission(0)\n",
    "  def setrole(self):\n",
    "    if self.user_role == 'admin':\n",
    "      self.permission |= Permission\n",
    "    \n",
    "    elif self.user_role == 'user':\n",
    "        self.permission |= Permission.READ\n",
    "    \n",
    "    elif self.user_role == 'manager':\n",
    "      self.permission |= Permission.READ | Permission.WRITE\n",
    "    \n",
    "    elif self.user_role == 'support':\n",
    "        self.permission |=  Permission.EXECUTE\n",
    "    else:\n",
    "      return NotImplemented\n",
    "\n",
    "  def write(self,file,content):\n",
    "    if Permission.WRITE in self.permission:\n",
    "      return file.write(content)\n",
    "    else:\n",
    "      return NotImplemented\n",
    "\n",
    "  def execute(self,file):\n",
    "    if Permission.EXECUTE in self.permission:\n",
    "      return file.execute()\n",
    "    else:\n",
    "      return NotImplemented\n",
    "      \n",
    "  def read(self,file):\n",
    "    if Permission.READ in self.permission:\n",
    "      return file.read()\n",
    "    else:\n",
    "      return NotImplemented\n",
    "\n",
    "  def __repr__(self):\n",
    "    return f\"User({self.name},{self.user_role},{self.permission})\"\n",
    "  \n"
   ]
  },
  {
   "cell_type": "code",
   "execution_count": null,
   "metadata": {},
   "outputs": [],
   "source": []
  }
 ],
 "metadata": {
  "language_info": {
   "name": "python"
  }
 },
 "nbformat": 4,
 "nbformat_minor": 2
}
