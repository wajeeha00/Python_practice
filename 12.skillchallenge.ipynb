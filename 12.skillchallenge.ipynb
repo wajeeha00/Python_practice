{
 "cells": [
  {
   "cell_type": "code",
   "execution_count": 86,
   "metadata": {},
   "outputs": [],
   "source": [
    "from dataclasses import dataclass\n",
    "from collections.abc import Sequence\n",
    "import abc"
   ]
  },
  {
   "cell_type": "code",
   "execution_count": 134,
   "metadata": {},
   "outputs": [],
   "source": [
    "@dataclass(frozen = True)\n",
    "class JobApplicant:\n",
    "    applicant_id : int\n",
    "    years_experience : int\n",
    "    is_recommended : bool\n",
    "    first_interview_score : float\n",
    "    second_interview_score : float\n",
    "    def __repr__(self):\n",
    "        return (f\"ID: {self.applicant_id}, Experience: {self.years_experience} yrs, \"\n",
    "                f\"First Interview: {self.first_interview_score}, \"\n",
    "                f\"Second Interview: {self.second_interview_score}, \"\n",
    "                f\"Recommended: {self.is_recommended}\")\n",
    "\n"
   ]
  },
  {
   "cell_type": "code",
   "execution_count": 152,
   "metadata": {},
   "outputs": [],
   "source": [
    "class JobApplicantPool(Sequence):\n",
    "    def __init__(self,*applicants):\n",
    "        self.applicants = [*applicants]\n",
    "        \n",
    "    def __contains__(self,other):\n",
    "        return other in self.applicants\n",
    "    \n",
    "    def __iter__(self):\n",
    "        self.i=0\n",
    "        return self\n",
    "    \n",
    "    def __next__(self):\n",
    "        if self.i<len(self.applicants):\n",
    "            self.i+=1\n",
    "            return self.applicants[self.i-1]\n",
    "        else:\n",
    "            raise StopIteration\n",
    "    \n",
    "    def __len__(self):\n",
    "        return len(self.applicants)\n",
    "    \n",
    "    @staticmethod\n",
    "    def score(applicant: JobApplicant):\n",
    "        return round(\n",
    "            applicant.years_experience * .5 +\n",
    "            applicant.is_recommended +\n",
    "            applicant.first_interview_score * .5 +\n",
    "            applicant.second_interview_score,\n",
    "            2)\n",
    "    \n",
    "    def __repr__(self):\n",
    "        sorted_applicants = sorted(self.applicants, key=self.score, reverse=True)\n",
    "        header = f\"Applicant Pool\\n(Score | ID)\\n{'-' * 20}\\n\"\n",
    "        return header + \"\\n\".join([\n",
    "            f\"{self.score(applicant)} - {applicant}\" for applicant in sorted_applicants\n",
    "        ])\n",
    "    def __getitem__(self, i):\n",
    "        return self.applicants[i]\n",
    "  \n",
    "    def add(self, applicant):\n",
    "        self.applicants.append(applicant)\n",
    "        \n",
    "   "
   ]
  },
  {
   "cell_type": "code",
   "execution_count": 153,
   "metadata": {},
   "outputs": [],
   "source": [
    "j = JobApplicant(1, 2, True, 3, 4)\n",
    "j1 = JobApplicant(2, 3, False, 4, 5)\n",
    "j2 = JobApplicant(3, 4, True, 5, 6)"
   ]
  },
  {
   "cell_type": "code",
   "execution_count": 154,
   "metadata": {},
   "outputs": [],
   "source": [
    "pool = JobApplicantPool(j,j1,j2)"
   ]
  },
  {
   "cell_type": "code",
   "execution_count": 155,
   "metadata": {},
   "outputs": [
    {
     "name": "stdout",
     "output_type": "stream",
     "text": [
      "7.5\n"
     ]
    }
   ],
   "source": [
    "print(pool.score(j))"
   ]
  },
  {
   "cell_type": "code",
   "execution_count": 156,
   "metadata": {},
   "outputs": [
    {
     "data": {
      "text/plain": [
       "Applicant Pool\n",
       "(Score | ID)\n",
       "--------------------\n",
       "11.5 - ID: 3, Experience: 4 yrs, First Interview: 5, Second Interview: 6, Recommended: True\n",
       "8.5 - ID: 2, Experience: 3 yrs, First Interview: 4, Second Interview: 5, Recommended: False\n",
       "7.5 - ID: 1, Experience: 2 yrs, First Interview: 3, Second Interview: 4, Recommended: True"
      ]
     },
     "execution_count": 156,
     "metadata": {},
     "output_type": "execute_result"
    }
   ],
   "source": [
    "pool"
   ]
  },
  {
   "cell_type": "code",
   "execution_count": 157,
   "metadata": {},
   "outputs": [],
   "source": [
    "pool.add(JobApplicant(2, 3, False, 2, 3))"
   ]
  },
  {
   "cell_type": "code",
   "execution_count": 158,
   "metadata": {},
   "outputs": [],
   "source": [
    "p1 = JobApplicant(4, 5, True, 6, 7)"
   ]
  },
  {
   "cell_type": "code",
   "execution_count": 159,
   "metadata": {},
   "outputs": [
    {
     "ename": "TypeError",
     "evalue": "unsupported operand type(s) for +: 'JobApplicantPool' and 'JobApplicant'",
     "output_type": "error",
     "traceback": [
      "\u001b[1;31m---------------------------------------------------------------------------\u001b[0m",
      "\u001b[1;31mTypeError\u001b[0m                                 Traceback (most recent call last)",
      "Cell \u001b[1;32mIn[159], line 1\u001b[0m\n\u001b[1;32m----> 1\u001b[0m \u001b[43mpool\u001b[49m\u001b[43m \u001b[49m\u001b[38;5;241;43m+\u001b[39;49m\u001b[43m \u001b[49m\u001b[43mp1\u001b[49m\n",
      "\u001b[1;31mTypeError\u001b[0m: unsupported operand type(s) for +: 'JobApplicantPool' and 'JobApplicant'"
     ]
    }
   ],
   "source": [
    "pool + p1"
   ]
  },
  {
   "cell_type": "code",
   "execution_count": 149,
   "metadata": {},
   "outputs": [
    {
     "name": "stdout",
     "output_type": "stream",
     "text": [
      "Applicant Pool\n",
      "(Score | ID)\n",
      "--------------------\n",
      "11.5 - ID: 3, Experience: 4 yrs, First Interview: 5, Second Interview: 6, Recommended: True\n",
      "8.5 - ID: 2, Experience: 3 yrs, First Interview: 4, Second Interview: 5, Recommended: False\n",
      "7.5 - ID: 1, Experience: 2 yrs, First Interview: 3, Second Interview: 4, Recommended: True\n",
      "5.5 - ID: 2, Experience: 3 yrs, First Interview: 2, Second Interview: 3, Recommended: False\n"
     ]
    }
   ],
   "source": [
    "print(pool)"
   ]
  },
  {
   "cell_type": "code",
   "execution_count": null,
   "metadata": {},
   "outputs": [],
   "source": []
  }
 ],
 "metadata": {
  "kernelspec": {
   "display_name": "Python 3",
   "language": "python",
   "name": "python3"
  },
  "language_info": {
   "codemirror_mode": {
    "name": "ipython",
    "version": 3
   },
   "file_extension": ".py",
   "mimetype": "text/x-python",
   "name": "python",
   "nbconvert_exporter": "python",
   "pygments_lexer": "ipython3",
   "version": "3.9.13"
  }
 },
 "nbformat": 4,
 "nbformat_minor": 2
}
