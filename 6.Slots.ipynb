{
  "cells": [
    {
      "attachments": {},
      "cell_type": "markdown",
      "metadata": {},
      "source": [
        "## `Instance Data Storage Review`"
      ]
    },
    {
      "cell_type": "code",
      "execution_count": 5,
      "metadata": {},
      "outputs": [],
      "source": [
        "class Employee(object):\n",
        "    def __init__(self, name, surname, age, status, salary):\n",
        "        self.name = name\n",
        "        self.surname = surname\n",
        "        self.age = age\n",
        "        self.status = status\n",
        "        self.salary = salary"
      ]
    },
    {
      "cell_type": "code",
      "execution_count": 6,
      "metadata": {},
      "outputs": [],
      "source": [
        "e1 = Employee(\"Andrew\", \"Doerte\", 42, \"FT\", 46000)"
      ]
    },
    {
      "cell_type": "code",
      "execution_count": 8,
      "metadata": {},
      "outputs": [
        {
          "data": {
            "text/plain": [
              "<__main__.Employee at 0x7ffa30634c10>"
            ]
          },
          "metadata": {},
          "output_type": "display_data"
        }
      ],
      "source": [
        "e1"
      ]
    },
    {
      "cell_type": "code",
      "execution_count": 9,
      "metadata": {},
      "outputs": [
        {
          "data": {
            "text/plain": [
              "'Andrew'"
            ]
          },
          "metadata": {},
          "output_type": "display_data"
        }
      ],
      "source": [
        "e1.name"
      ]
    },
    {
      "cell_type": "code",
      "execution_count": 10,
      "metadata": {},
      "outputs": [
        {
          "data": {
            "text/plain": [
              "'Doerte'"
            ]
          },
          "metadata": {},
          "output_type": "display_data"
        }
      ],
      "source": [
        "e1.surname"
      ]
    },
    {
      "cell_type": "code",
      "execution_count": 11,
      "metadata": {},
      "outputs": [
        {
          "data": {
            "text/plain": [
              "{'name': 'Andrew',\n",
              " 'surname': 'Doerte',\n",
              " 'age': 42,\n",
              " 'status': 'FT',\n",
              " 'salary': 46000}"
            ]
          },
          "metadata": {},
          "output_type": "display_data"
        }
      ],
      "source": [
        "e1.__dict__"
      ]
    },
    {
      "cell_type": "code",
      "execution_count": 12,
      "metadata": {},
      "outputs": [
        {
          "data": {
            "text/plain": [
              "dict"
            ]
          },
          "metadata": {},
          "output_type": "display_data"
        }
      ],
      "source": [
        "type(e1.__dict__) # instance namespace"
      ]
    },
    {
      "cell_type": "code",
      "execution_count": 14,
      "metadata": {},
      "outputs": [
        {
          "data": {
            "text/plain": [
              "mappingproxy"
            ]
          },
          "metadata": {},
          "output_type": "display_data"
        }
      ],
      "source": [
        "type(e1.__class__.__dict__) # class namespace"
      ]
    },
    {
      "cell_type": "code",
      "execution_count": 15,
      "metadata": {},
      "outputs": [],
      "source": [
        "e1.__dict__[\"pension\"] = \"DB\""
      ]
    },
    {
      "cell_type": "code",
      "execution_count": 16,
      "metadata": {},
      "outputs": [
        {
          "data": {
            "text/plain": [
              "'DB'"
            ]
          },
          "metadata": {},
          "output_type": "display_data"
        }
      ],
      "source": [
        "e1.pension"
      ]
    },
    {
      "cell_type": "code",
      "execution_count": 17,
      "metadata": {},
      "outputs": [
        {
          "data": {
            "text/plain": [
              "{'name': 'Andrew',\n",
              " 'surname': 'Doerte',\n",
              " 'age': 42,\n",
              " 'status': 'FT',\n",
              " 'salary': 46000,\n",
              " 'pension': 'DB'}"
            ]
          },
          "metadata": {},
          "output_type": "display_data"
        }
      ],
      "source": [
        "e1.__dict__"
      ]
    },
    {
      "cell_type": "code",
      "execution_count": 1,
      "metadata": {},
      "outputs": [],
      "source": [
        "# flexibility -> cost\n",
        "\n",
        "# cost?\n",
        "# memory \n",
        "# execution \n",
        "#for large number of instances, this can be a problem\n",
        "# slots to the rescue!"
      ]
    },
    {
      "attachments": {},
      "cell_type": "markdown",
      "metadata": {},
      "source": [
        "## `Slots`"
      ]
    },
    {
      "cell_type": "code",
      "execution_count": 18,
      "metadata": {},
      "outputs": [],
      "source": [
        "class Employee(object):\n",
        "    __slots__ = ('name', 'surname', 'age', 'status', 'salary')\n",
        "\n",
        "    def __init__(self, name, surname, age, status, salary):\n",
        "        self.name = name\n",
        "        self.surname = surname\n",
        "        self.age = age\n",
        "        self.status = status\n",
        "        self.salary = salary"
      ]
    },
    {
      "cell_type": "code",
      "execution_count": 19,
      "metadata": {},
      "outputs": [],
      "source": [
        "e1 = Employee(\"Andrew\", \"Doerte\", 42, \"FT\", 46000)"
      ]
    },
    {
      "cell_type": "code",
      "execution_count": 20,
      "metadata": {},
      "outputs": [
        {
          "data": {
            "text/plain": [
              "<__main__.Employee at 0x7ffa30a11770>"
            ]
          },
          "metadata": {},
          "output_type": "display_data"
        }
      ],
      "source": [
        "e1"
      ]
    },
    {
      "cell_type": "code",
      "execution_count": 21,
      "metadata": {},
      "outputs": [
        {
          "data": {
            "text/plain": [
              "('Andrew', 42, 'FT')"
            ]
          },
          "metadata": {},
          "output_type": "display_data"
        }
      ],
      "source": [
        "e1.name, e1.age, e1.status"
      ]
    },
    {
      "cell_type": "code",
      "execution_count": 22,
      "metadata": {},
      "outputs": [
        {
          "ename": "AttributeError",
          "evalue": "AttributeError: 'Employee' object has no attribute '__dict__'",
          "output_type": "error",
          "traceback": [
            "\u001b[0;31m---------------------------------------------------------------------------",
            "Traceback (most recent call last)",
            "    at line 1 in <module>",
            "AttributeError: 'Employee' object has no attribute '__dict__'"
          ]
        }
      ],
      "source": [
        "e1.__dict__"
      ]
    },
    {
      "cell_type": "code",
      "execution_count": 2,
      "metadata": {},
      "outputs": [],
      "source": [
        "# dictionary eats up a lot of memory -> RAM\n",
        "# dictionary is a hash map -> O(n)\n",
        "# compared to O(1) for arrays, slots make arrays\n",
        "\n",
        "# hash map -> fixed-length array"
      ]
    },
    {
      "attachments": {},
      "cell_type": "markdown",
      "metadata": {},
      "source": [
        "## `Class Residents`"
      ]
    },
    {
      "cell_type": "code",
      "execution_count": 39,
      "metadata": {},
      "outputs": [],
      "source": [
        "class Employee(object):\n",
        "    __slots__ = ('name', 'surname', 'age', 'status', 'salary')\n",
        "\n",
        "    def __init__(self, name, surname, age, status, salary):\n",
        "        self.name = name\n",
        "        self.surname = surname\n",
        "        self.age = age\n",
        "        self.status = status\n",
        "        self.salary = salary\n",
        "\n",
        "    @property\n",
        "    def high_salary(self):\n",
        "        return self.salary > 40000"
      ]
    },
    {
      "cell_type": "code",
      "execution_count": 40,
      "metadata": {},
      "outputs": [],
      "source": [
        "e1 = Employee(\"Andrew\", \"Doerte\", 42, \"FT\", 46000)"
      ]
    },
    {
      "cell_type": "code",
      "execution_count": 41,
      "metadata": {},
      "outputs": [
        {
          "ename": "AttributeError",
          "evalue": "AttributeError: 'Employee' object has no attribute '__dict__'",
          "output_type": "error",
          "traceback": [
            "\u001b[0;31m---------------------------------------------------------------------------",
            "Traceback (most recent call last)",
            "    at line 1 in <module>",
            "AttributeError: 'Employee' object has no attribute '__dict__'"
          ]
        }
      ],
      "source": [
        "e1.__dict__"
      ]
    },
    {
      "cell_type": "code",
      "execution_count": 42,
      "metadata": {},
      "outputs": [
        {
          "data": {
            "text/plain": [
              "mappingproxy({'__module__': '__main__',\n",
              "              '__slots__': ('name', 'surname', 'age', 'status', 'salary'),\n",
              "              '__init__': <function __main__.Employee.__init__(self, name, surname, age, status, salary)>,\n",
              "              'high_salary': <property at 0x7ffa307efc70>,\n",
              "              'age': <member 'age' of 'Employee' objects>,\n",
              "              'name': <member 'name' of 'Employee' objects>,\n",
              "              'salary': <member 'salary' of 'Employee' objects>,\n",
              "              'status': <member 'status' of 'Employee' objects>,\n",
              "              'surname': <member 'surname' of 'Employee' objects>,\n",
              "              '__doc__': None})"
            ]
          },
          "metadata": {},
          "output_type": "display_data"
        }
      ],
      "source": [
        "Employee.__dict__"
      ]
    },
    {
      "cell_type": "code",
      "execution_count": 43,
      "metadata": {},
      "outputs": [],
      "source": [
        "# both properties and slotted attributes are examples of descriptors"
      ]
    },
    {
      "cell_type": "code",
      "execution_count": null,
      "metadata": {},
      "outputs": [],
      "source": [
        "# special python objects that implement one of the 3 deescriptor methods:\n",
        "# - get()\n",
        "# - set()\n",
        "# - delete()"
      ]
    },
    {
      "attachments": {},
      "cell_type": "markdown",
      "metadata": {},
      "source": [
        "## `BONUS: Demonstrating The Memory Advantage`"
      ]
    },
    {
      "cell_type": "code",
      "execution_count": 44,
      "metadata": {},
      "outputs": [],
      "source": [
        "# pympler"
      ]
    },
    {
      "cell_type": "code",
      "execution_count": 45,
      "metadata": {},
      "outputs": [
        {
          "name": "stdout",
          "output_type": "stream",
          "text": [
            "Collecting pympler\r\n",
            "  Downloading Pympler-0.9.tar.gz (178 kB)\r\n",
            "\u001b[?25l\r\r     |█▉                              | 10 kB 22.3 MB/s eta 0:00:01\r     |███▊                            | 20 kB 25.3 MB/s eta 0:00:01\r     |█████▌                          | 30 kB 18.4 MB/s eta 0:00:01\r     |███████▍                        | 40 kB 15.6 MB/s eta 0:00:01\r     |█████████▏                      | 51 kB 5.0 MB/s eta 0:00:01 \r     |███████████                     | 61 kB 4.9 MB/s eta 0:00:01 \r     |████████████▉                   | 71 kB 5.5 MB/s eta 0:00:01 \r     |██████████████▊                 | 81 kB 6.2 MB/s eta 0:00:01 \r     |████████████████▌               | 92 kB 4.4 MB/s eta 0:00:01 \r     |██████████████████▍             | 102 kB 4.8 MB/s eta 0:00:01\r     |████████████████████▏           | 112 kB 4.8 MB/s eta 0:00:01\r     |██████████████████████          | 122 kB 4.8 MB/s eta 0:00:01\r     |███████████████████████▉        | 133 kB 4.8 MB/s eta 0:00:01\r     |█████████████████████████▊      | 143 kB 4.8 MB/s eta 0:00:01\r     |███████████████████████████▋    | 153 kB 4.8 MB/s eta 0:00:01\r     |█████████████████████████████▍  | 163 kB 4.8 MB/s eta 0:00:01\r     |███████████████████████████████▎| 174 kB 4.8 MB/s eta 0:00:01\r     |████████████████████████████████| 178 kB 4.8 MB/s            \r\n",
            "\u001b[?25h  Preparing metadata (setup.py) ... \u001b[?25l-\b \bdone\r\n",
            "\u001b[?25hBuilding wheels for collected packages: pympler\r\n",
            "  Building wheel for pympler (setup.py) ... \u001b[?25l-\b \b\\\b \bdone\r\n",
            "\u001b[?25h  Created wheel for pympler: filename=Pympler-0.9-py3-none-any.whl size=164803 sha256=c556a3c5b0707bfb4729b4599fbaa91746fe4610028b0e61d31381aefbdb7629\r\n",
            "  Stored in directory: /home/datalore/.cache/pip/wheels/24/6f/0b/da9f81234859a8741aaea3afcc6ae2daf0efb67e7ff2d3686c\r\n",
            "Successfully built pympler\r\n",
            "Installing collected packages: pympler\r\n",
            "Successfully installed pympler-0.9\r\n"
          ]
        }
      ],
      "source": [
        "!pip install pympler"
      ]
    },
    {
      "cell_type": "code",
      "execution_count": 47,
      "metadata": {},
      "outputs": [],
      "source": [
        "class SlottedEmployee(object):\n",
        "    __slots__ = ('name', 'surname', 'age', 'status', 'salary')\n",
        "\n",
        "    def __init__(self, name, surname, age, status, salary):\n",
        "        self.name = name\n",
        "        self.surname = surname\n",
        "        self.age = age\n",
        "        self.status = status\n",
        "        self.salary = salary\n",
        "\n",
        "\n",
        "class RegularEmployee(object):\n",
        "    def __init__(self, name, surname, age, status, salary):\n",
        "        self.name = name\n",
        "        self.surname = surname\n",
        "        self.age = age\n",
        "        self.status = status\n",
        "        self.salary = salary"
      ]
    },
    {
      "cell_type": "code",
      "execution_count": 48,
      "metadata": {},
      "outputs": [],
      "source": [
        "e1 = SlottedEmployee(\"Andrew\", \"Doerte\", 42, \"FT\", 46000)\n",
        "e2 = RegularEmployee(\"Andrew\", \"Doerte\", 42, \"FT\", 46000)"
      ]
    },
    {
      "cell_type": "code",
      "execution_count": 49,
      "metadata": {},
      "outputs": [],
      "source": [
        "from pympler.asizeof import asizeof"
      ]
    },
    {
      "cell_type": "code",
      "execution_count": 50,
      "metadata": {},
      "outputs": [
        {
          "data": {
            "text/plain": [
              "304"
            ]
          },
          "metadata": {},
          "output_type": "display_data"
        }
      ],
      "source": [
        "asizeof(e1) # slotted"
      ]
    },
    {
      "cell_type": "code",
      "execution_count": 51,
      "metadata": {},
      "outputs": [
        {
          "data": {
            "text/plain": [
              "664"
            ]
          },
          "metadata": {},
          "output_type": "display_data"
        }
      ],
      "source": [
        "asizeof(e2) # regular"
      ]
    },
    {
      "cell_type": "code",
      "execution_count": 53,
      "metadata": {},
      "outputs": [
        {
          "data": {
            "text/plain": [
              "'-54.22%'"
            ]
          },
          "metadata": {},
          "output_type": "display_data"
        }
      ],
      "source": [
        "f\"{(304 - 664) / 664:.2%}\""
      ]
    },
    {
      "cell_type": "code",
      "execution_count": 54,
      "metadata": {},
      "outputs": [],
      "source": [
        "from sys import getsizeof"
      ]
    },
    {
      "cell_type": "code",
      "execution_count": 55,
      "metadata": {},
      "outputs": [
        {
          "data": {
            "text/plain": [
              "72"
            ]
          },
          "metadata": {},
          "output_type": "display_data"
        }
      ],
      "source": [
        "getsizeof(e1)"
      ]
    },
    {
      "cell_type": "code",
      "execution_count": 56,
      "metadata": {},
      "outputs": [
        {
          "data": {
            "text/plain": [
              "48"
            ]
          },
          "metadata": {},
          "output_type": "display_data"
        }
      ],
      "source": [
        "getsizeof(e2)"
      ]
    },
    {
      "cell_type": "code",
      "execution_count": 57,
      "metadata": {},
      "outputs": [],
      "source": [
        "# sys.getsizeof -> does not account for referenced objects!"
      ]
    },
    {
      "attachments": {},
      "cell_type": "markdown",
      "metadata": {},
      "source": [
        "## `Inheriting Slots`"
      ]
    },
    {
      "cell_type": "code",
      "execution_count": 59,
      "metadata": {},
      "outputs": [],
      "source": [
        "class Employee(object):\n",
        "    __slots__ = ('name', 'surname', 'age', 'status', 'salary')\n",
        "\n",
        "    def __init__(self, name, surname, age, status, salary):\n",
        "        self.name = name\n",
        "        self.surname = surname\n",
        "        self.age = age\n",
        "        self.status = status\n",
        "        self.salary = salary"
      ]
    },
    {
      "cell_type": "code",
      "execution_count": 60,
      "metadata": {},
      "outputs": [],
      "source": [
        "class Developer(Employee):\n",
        "    pass"
      ]
    },
    {
      "cell_type": "code",
      "execution_count": 61,
      "metadata": {},
      "outputs": [],
      "source": [
        "d = Developer(\"Beverly\", \"Simons\", 24, \"FT\", 79000)"
      ]
    },
    {
      "cell_type": "code",
      "execution_count": 62,
      "metadata": {},
      "outputs": [
        {
          "data": {
            "text/plain": [
              "{}"
            ]
          },
          "metadata": {},
          "output_type": "display_data"
        }
      ],
      "source": [
        "d.__dict__"
      ]
    },
    {
      "cell_type": "code",
      "execution_count": 63,
      "metadata": {},
      "outputs": [],
      "source": [
        "d.favorite_language = \"python\""
      ]
    },
    {
      "cell_type": "code",
      "execution_count": 64,
      "metadata": {},
      "outputs": [
        {
          "data": {
            "text/plain": [
              "{'favorite_language': 'python'}"
            ]
          },
          "metadata": {},
          "output_type": "display_data"
        }
      ],
      "source": [
        "d.__dict__"
      ]
    },
    {
      "cell_type": "code",
      "execution_count": 65,
      "metadata": {},
      "outputs": [],
      "source": [
        "class BusinessAnalyst(Employee):\n",
        "    __slots__ = 'experience'"
      ]
    },
    {
      "cell_type": "code",
      "execution_count": 66,
      "metadata": {},
      "outputs": [],
      "source": [
        "ba = BusinessAnalyst(\"Vlad\", \"Roberts\", 29, \"PT\", 67200)"
      ]
    },
    {
      "cell_type": "code",
      "execution_count": 67,
      "metadata": {},
      "outputs": [
        {
          "ename": "AttributeError",
          "evalue": "AttributeError: 'BusinessAnalyst' object has no attribute '__dict__'",
          "output_type": "error",
          "traceback": [
            "\u001b[0;31m---------------------------------------------------------------------------",
            "Traceback (most recent call last)",
            "    at line 1 in <module>",
            "AttributeError: 'BusinessAnalyst' object has no attribute '__dict__'"
          ]
        }
      ],
      "source": [
        "ba.__dict__"
      ]
    },
    {
      "cell_type": "code",
      "execution_count": 68,
      "metadata": {},
      "outputs": [
        {
          "ename": "AttributeError",
          "evalue": "AttributeError: 'BusinessAnalyst' object has no attribute 'favorite_book'",
          "output_type": "error",
          "traceback": [
            "\u001b[0;31m---------------------------------------------------------------------------",
            "Traceback (most recent call last)",
            "    at line 1 in <module>",
            "AttributeError: 'BusinessAnalyst' object has no attribute 'favorite_book'"
          ]
        }
      ],
      "source": [
        "ba.favorite_book = \"Thinking Fast And Slow\""
      ]
    },
    {
      "cell_type": "code",
      "execution_count": 69,
      "metadata": {},
      "outputs": [],
      "source": [
        "class BusinessAnalyst(Employee):\n",
        "    __slots__ = ('name', 'surname', 'age', 'status', 'salary', 'experience')"
      ]
    },
    {
      "cell_type": "markdown",
      "metadata": {},
      "source": [
        "if slots, then any new attribute will take space in dict"
      ]
    },
    {
      "cell_type": "code",
      "execution_count": 14,
      "metadata": {},
      "outputs": [],
      "source": [
        "class Employee(object):\n",
        "    #__slots__ = ('name', 'surname', 'age', 'status', 'salary')\n",
        "\n",
        "    def __init__(self, name, surname, age, status, salary):\n",
        "        self.name = name\n",
        "        self.surname = surname\n",
        "        self.age = age\n",
        "        self.status = status\n",
        "        self.salary = salary"
      ]
    },
    {
      "cell_type": "code",
      "execution_count": 15,
      "metadata": {},
      "outputs": [],
      "source": [
        "class BusinessAnalyst(Employee):\n",
        "    __slots__ = ('name', 'surname', 'age', 'status', 'salary', 'experience')"
      ]
    },
    {
      "cell_type": "code",
      "execution_count": 16,
      "metadata": {},
      "outputs": [],
      "source": [
        "ba = BusinessAnalyst(\"Vlad\", \"Roberts\", 29, \"PT\", 67200)"
      ]
    },
    {
      "cell_type": "code",
      "execution_count": 17,
      "metadata": {},
      "outputs": [
        {
          "data": {
            "text/plain": [
              "{}"
            ]
          },
          "execution_count": 17,
          "metadata": {},
          "output_type": "execute_result"
        }
      ],
      "source": [
        "ba.__dict__"
      ]
    },
    {
      "cell_type": "code",
      "execution_count": 74,
      "metadata": {},
      "outputs": [],
      "source": [
        "ba.favorite_book = \"Thinking Fast And Slow\""
      ]
    },
    {
      "cell_type": "code",
      "execution_count": 75,
      "metadata": {},
      "outputs": [
        {
          "data": {
            "text/plain": [
              "{'favorite_book': 'Thinking Fast And Slow'}"
            ]
          },
          "metadata": {},
          "output_type": "display_data"
        }
      ],
      "source": [
        "ba.__dict__"
      ]
    },
    {
      "cell_type": "code",
      "execution_count": 76,
      "metadata": {},
      "outputs": [
        {
          "data": {
            "text/plain": [
              "mappingproxy({'__module__': '__main__',\n",
              "              '__slots__': ('name',\n",
              "               'surname',\n",
              "               'age',\n",
              "               'status',\n",
              "               'salary',\n",
              "               'experience'),\n",
              "              'age': <member 'age' of 'BusinessAnalyst' objects>,\n",
              "              'experience': <member 'experience' of 'BusinessAnalyst' objects>,\n",
              "              'name': <member 'name' of 'BusinessAnalyst' objects>,\n",
              "              'salary': <member 'salary' of 'BusinessAnalyst' objects>,\n",
              "              'status': <member 'status' of 'BusinessAnalyst' objects>,\n",
              "              'surname': <member 'surname' of 'BusinessAnalyst' objects>,\n",
              "              '__doc__': None})"
            ]
          },
          "metadata": {},
          "output_type": "display_data"
        }
      ],
      "source": [
        "BusinessAnalyst.__dict__"
      ]
    },
    {
      "cell_type": "markdown",
      "metadata": {},
      "source": [
        "both parent child slots --> child loses dict\n",
        "other cases it retains it "
      ]
    },
    {
      "attachments": {},
      "cell_type": "markdown",
      "metadata": {},
      "source": [
        "## `Something To Avoid`"
      ]
    },
    {
      "cell_type": "code",
      "execution_count": 85,
      "metadata": {},
      "outputs": [],
      "source": [
        "class Employee(object):\n",
        "    __slots__ = ('name', 'surname', 'age', 'status', 'salary', '__dict__')\n",
        "\n",
        "    def __init__(self, name, surname, age, status, salary):\n",
        "        self.name = name\n",
        "        self.surname = surname\n",
        "        self.age = age\n",
        "        self.status = status\n",
        "        self.salary = salary"
      ]
    },
    {
      "cell_type": "code",
      "execution_count": 86,
      "metadata": {},
      "outputs": [],
      "source": [
        "e = Employee(\"Andrew\", \"Doerte\", 42, \"FT\", 46000)"
      ]
    },
    {
      "cell_type": "code",
      "execution_count": 87,
      "metadata": {},
      "outputs": [
        {
          "data": {
            "text/plain": [
              "True"
            ]
          },
          "metadata": {},
          "output_type": "display_data"
        }
      ],
      "source": [
        "hasattr(e, '__dict__')"
      ]
    },
    {
      "cell_type": "code",
      "execution_count": 89,
      "metadata": {},
      "outputs": [],
      "source": [
        "e.nickname = \"Andy\""
      ]
    },
    {
      "cell_type": "code",
      "execution_count": 90,
      "metadata": {},
      "outputs": [
        {
          "data": {
            "text/plain": [
              "{'nickname': 'Andy'}"
            ]
          },
          "metadata": {},
          "output_type": "display_data"
        }
      ],
      "source": [
        "e.__dict__"
      ]
    },
    {
      "attachments": {},
      "cell_type": "markdown",
      "metadata": {},
      "source": [
        "## `Should We Always Use Slots?`"
      ]
    },
    {
      "cell_type": "code",
      "execution_count": 91,
      "metadata": {},
      "outputs": [],
      "source": [
        "# __slots__ -> more lightweight and performance"
      ]
    },
    {
      "cell_type": "code",
      "execution_count": 90,
      "metadata": {},
      "outputs": [],
      "source": []
    },
    {
      "cell_type": "code",
      "execution_count": 90,
      "metadata": {},
      "outputs": [],
      "source": []
    },
    {
      "cell_type": "code",
      "execution_count": 90,
      "metadata": {},
      "outputs": [],
      "source": []
    },
    {
      "cell_type": "code",
      "execution_count": 90,
      "metadata": {},
      "outputs": [],
      "source": []
    },
    {
      "cell_type": "code",
      "execution_count": 90,
      "metadata": {},
      "outputs": [],
      "source": []
    },
    {
      "cell_type": "code",
      "execution_count": 90,
      "metadata": {},
      "outputs": [],
      "source": []
    },
    {
      "cell_type": "code",
      "execution_count": 90,
      "metadata": {},
      "outputs": [],
      "source": []
    },
    {
      "cell_type": "code",
      "execution_count": null,
      "metadata": {},
      "outputs": [],
      "source": []
    }
  ],
  "metadata": {
    "kernelspec": {
      "display_name": "Python 3",
      "language": "python",
      "name": "python3"
    },
    "language_info": {
      "codemirror_mode": {
        "name": "ipython",
        "version": 3
      },
      "file_extension": ".py",
      "mimetype": "text/x-python",
      "name": "python",
      "nbconvert_exporter": "python",
      "pygments_lexer": "ipython3",
      "version": "3.9.13"
    }
  },
  "nbformat": 4,
  "nbformat_minor": 0
}
