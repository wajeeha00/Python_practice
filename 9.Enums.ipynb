{
  "cells": [
    {
      "attachments": {},
      "cell_type": "markdown",
      "metadata": {},
      "source": [
        "## `What's The Point?`"
      ]
    },
    {
      "cell_type": "code",
      "execution_count": 1,
      "metadata": {},
      "outputs": [],
      "source": [
        "# static colleciton of values"
      ]
    },
    {
      "cell_type": "code",
      "execution_count": 3,
      "metadata": {},
      "outputs": [],
      "source": [
        "# Conservative Party of Canada\n",
        "# Liberal Party of Canada\n",
        "# Bloc Quebeqois\n",
        "# New Democratic Party\n",
        "# Green Party of Canada"
      ]
    },
    {
      "cell_type": "code",
      "execution_count": 4,
      "metadata": {},
      "outputs": [],
      "source": [
        "parties = [\"CPC\", \"LPC\", \"BQ\", \"NDP\", \"GPC\"]"
      ]
    },
    {
      "cell_type": "code",
      "execution_count": 5,
      "metadata": {},
      "outputs": [],
      "source": [
        "PARTIES = [\"CPC\", \"LPC\", \"BQ\", \"NDP\", \"GPC\"]"
      ]
    },
    {
      "cell_type": "code",
      "execution_count": 6,
      "metadata": {},
      "outputs": [],
      "source": [
        "PARTIES = (\"CPC\", \"LPC\", \"BQ\", \"NDP\", \"GPC\")"
      ]
    },
    {
      "cell_type": "code",
      "execution_count": 7,
      "metadata": {},
      "outputs": [
        {
          "data": {
            "text/plain": [
              "'BQ'"
            ]
          },
          "metadata": {},
          "output_type": "display_data"
        }
      ],
      "source": [
        "PARTIES[2]"
      ]
    },
    {
      "cell_type": "code",
      "execution_count": 9,
      "metadata": {},
      "outputs": [
        {
          "name": "stdout",
          "output_type": "stream",
          "text": [
            "CPC\n",
            "LPC\n",
            "BQ\n",
            "NDP\n",
            "GPC\n"
          ]
        }
      ],
      "source": [
        "for party in PARTIES:\n",
        "    print(party)"
      ]
    },
    {
      "cell_type": "code",
      "execution_count": 10,
      "metadata": {},
      "outputs": [
        {
          "ename": "TypeError",
          "evalue": "TypeError: 'tuple' object does not support item assignment",
          "output_type": "error",
          "traceback": [
            "\u001b[0;31m---------------------------------------------------------------------------",
            "Traceback (most recent call last)",
            "    at line 1 in <module>",
            "TypeError: 'tuple' object does not support item assignment"
          ]
        }
      ],
      "source": [
        "PARTIES[2] = \"BQ\""
      ]
    },
    {
      "cell_type": "code",
      "execution_count": 11,
      "metadata": {},
      "outputs": [],
      "source": [
        "# liberal -> PARTIES[1]\n",
        "# green -> PARTIES5[]\n",
        "# ..."
      ]
    },
    {
      "cell_type": "code",
      "execution_count": 12,
      "metadata": {},
      "outputs": [
        {
          "data": {
            "text/plain": [
              "'CPC'"
            ]
          },
          "metadata": {},
          "output_type": "display_data"
        }
      ],
      "source": [
        "sorted(PARTIES)[1]"
      ]
    },
    {
      "cell_type": "code",
      "execution_count": 13,
      "metadata": {},
      "outputs": [],
      "source": [
        "# enumeriation -> enum"
      ]
    },
    {
      "attachments": {},
      "cell_type": "markdown",
      "metadata": {},
      "source": [
        "## `Enumerations`"
      ]
    },
    {
      "cell_type": "code",
      "execution_count": 14,
      "metadata": {},
      "outputs": [],
      "source": [
        "# python 3.4"
      ]
    },
    {
      "cell_type": "code",
      "execution_count": 15,
      "metadata": {},
      "outputs": [],
      "source": [
        "from enum import Enum"
      ]
    },
    {
      "cell_type": "code",
      "execution_count": 16,
      "metadata": {},
      "outputs": [],
      "source": [
        "class Parties(Enum):\n",
        "    CPC = \"Conservative Party of Canada\"\n",
        "    LPC = \"Liberal Party of Canada\"\n",
        "    BQ = \"Bloc Quebeqois\"\n",
        "    NDP = \"New Democratic Party\"\n",
        "    GBP = \"Green Party of Canada\""
      ]
    },
    {
      "cell_type": "code",
      "execution_count": 17,
      "metadata": {},
      "outputs": [
        {
          "data": {
            "text/plain": [
              "<Parties.CPC: 'Conservative Party of Canada'>"
            ]
          },
          "metadata": {},
          "output_type": "display_data"
        }
      ],
      "source": [
        "Parties.CPC"
      ]
    },
    {
      "cell_type": "code",
      "execution_count": 18,
      "metadata": {},
      "outputs": [
        {
          "data": {
            "text/plain": [
              "<Parties.BQ: 'Bloc Quebeqois'>"
            ]
          },
          "metadata": {},
          "output_type": "display_data"
        }
      ],
      "source": [
        "Parties.BQ"
      ]
    },
    {
      "cell_type": "code",
      "execution_count": 19,
      "metadata": {},
      "outputs": [
        {
          "name": "stdout",
          "output_type": "stream",
          "text": [
            "Parties.CPC\n",
            "Parties.LPC\n",
            "Parties.BQ\n",
            "Parties.NDP\n",
            "Parties.GBP\n"
          ]
        }
      ],
      "source": [
        "for party in Parties:\n",
        "    print(party)"
      ]
    },
    {
      "cell_type": "code",
      "execution_count": 21,
      "metadata": {},
      "outputs": [
        {
          "ename": "TypeError",
          "evalue": "TypeError: '<' not supported between instances of 'Parties' and 'Parties'",
          "output_type": "error",
          "traceback": [
            "\u001b[0;31m---------------------------------------------------------------------------",
            "Traceback (most recent call last)",
            "    at line 1 in <module>",
            "TypeError: '<' not supported between instances of 'Parties' and 'Parties'"
          ]
        }
      ],
      "source": [
        "sorted(Parties)"
      ]
    },
    {
      "cell_type": "code",
      "execution_count": 22,
      "metadata": {},
      "outputs": [
        {
          "data": {
            "text/plain": [
              "<Parties.CPC: 'Conservative Party of Canada'>"
            ]
          },
          "metadata": {},
          "output_type": "display_data"
        }
      ],
      "source": [
        "Parties.CPC"
      ]
    },
    {
      "cell_type": "code",
      "execution_count": 23,
      "metadata": {},
      "outputs": [
        {
          "ename": "AttributeError",
          "evalue": "AttributeError: Cannot reassign members.",
          "output_type": "error",
          "traceback": [
            "\u001b[0;31m---------------------------------------------------------------------------",
            "Traceback (most recent call last)",
            "    at line 1 in <module>",
            "AttributeError: Cannot reassign members."
          ]
        }
      ],
      "source": [
        "Parties.CPC  = 2"
      ]
    },
    {
      "cell_type": "code",
      "execution_count": 24,
      "metadata": {},
      "outputs": [
        {
          "data": {
            "text/plain": [
              "<enum 'Parties'>"
            ]
          },
          "metadata": {},
          "output_type": "display_data"
        }
      ],
      "source": [
        "type(Parties.LPC)"
      ]
    },
    {
      "cell_type": "code",
      "execution_count": 25,
      "metadata": {},
      "outputs": [],
      "source": [
        "class Parties(Enum):\n",
        "    CPC = \"Conservative Party of Canada\"\n",
        "    LPC = \"Liberal Party of Canada\"\n",
        "    BQ = \"Bloc Quebeqois\"\n",
        "    NDP = \"New Democratic Party\"\n",
        "    GBP = \"Green Party of Canada\""
      ]
    },
    {
      "cell_type": "code",
      "execution_count": 26,
      "metadata": {},
      "outputs": [],
      "source": [
        "from dataclasses import dataclass\n",
        "\n",
        "@dataclass\n",
        "class Party:\n",
        "    member_count: int\n",
        "    coalition: bool\n",
        "    seats: int"
      ]
    },
    {
      "attachments": {},
      "cell_type": "markdown",
      "metadata": {},
      "source": [
        "## `Members`"
      ]
    },
    {
      "cell_type": "code",
      "execution_count": 42,
      "metadata": {},
      "outputs": [],
      "source": [
        "class Parties(Enum):\n",
        "    CPC = \"Conservative Party of Canada\"\n",
        "    LPC = \"Liberal Party of Canada\"\n",
        "    BQ = \"Bloc Quebecois\"\n",
        "    NDP = \"New Democratic Party\"\n",
        "    GPC = \"Green Party of Canada\""
      ]
    },
    {
      "cell_type": "code",
      "execution_count": 43,
      "metadata": {},
      "outputs": [
        {
          "data": {
            "text/plain": [
              "['CPC', 'LPC', 'BQ', 'NDP', 'GPC']"
            ]
          },
          "metadata": {},
          "output_type": "display_data"
        }
      ],
      "source": [
        "Parties._member_names_"
      ]
    },
    {
      "cell_type": "code",
      "execution_count": 44,
      "metadata": {},
      "outputs": [
        {
          "data": {
            "text/plain": [
              "mappingproxy({'CPC': <Parties.CPC: 'Conservative Party of Canada'>,\n",
              "              'LPC': <Parties.LPC: 'Liberal Party of Canada'>,\n",
              "              'BQ': <Parties.BQ: 'Bloc Quebecois'>,\n",
              "              'NDP': <Parties.NDP: 'New Democratic Party'>,\n",
              "              'GPC': <Parties.GPC: 'Green Party of Canada'>})"
            ]
          },
          "metadata": {},
          "output_type": "display_data"
        }
      ],
      "source": [
        "Parties.__members__"
      ]
    },
    {
      "cell_type": "code",
      "execution_count": 45,
      "metadata": {},
      "outputs": [
        {
          "data": {
            "text/plain": [
              "<Parties.CPC: 'Conservative Party of Canada'>"
            ]
          },
          "metadata": {},
          "output_type": "display_data"
        }
      ],
      "source": [
        "Parties.CPC"
      ]
    },
    {
      "cell_type": "code",
      "execution_count": 48,
      "metadata": {},
      "outputs": [
        {
          "data": {
            "text/plain": [
              "<Parties.CPC: 'Conservative Party of Canada'>"
            ]
          },
          "metadata": {},
          "output_type": "display_data"
        }
      ],
      "source": [
        "Parties('Conservative Party of Canada')"
      ]
    },
    {
      "cell_type": "code",
      "execution_count": 49,
      "metadata": {},
      "outputs": [
        {
          "data": {
            "text/plain": [
              "True"
            ]
          },
          "metadata": {},
          "output_type": "display_data"
        }
      ],
      "source": [
        "Parties.CPC is Parties('Conservative Party of Canada')"
      ]
    },
    {
      "cell_type": "code",
      "execution_count": 47,
      "metadata": {},
      "outputs": [
        {
          "name": "stdout",
          "output_type": "stream",
          "text": [
            "Parties.CPC\n"
          ]
        }
      ],
      "source": [
        "print(Parties.CPC)"
      ]
    },
    {
      "cell_type": "code",
      "execution_count": 46,
      "metadata": {},
      "outputs": [
        {
          "data": {
            "text/plain": [
              "<enum 'Parties'>"
            ]
          },
          "metadata": {},
          "output_type": "display_data"
        }
      ],
      "source": [
        "type(Parties.CPC)"
      ]
    },
    {
      "cell_type": "code",
      "execution_count": 34,
      "metadata": {},
      "outputs": [
        {
          "data": {
            "text/plain": [
              "True"
            ]
          },
          "metadata": {},
          "output_type": "display_data"
        }
      ],
      "source": [
        "isinstance(Parties.CPC, Parties)"
      ]
    },
    {
      "cell_type": "code",
      "execution_count": 37,
      "metadata": {},
      "outputs": [],
      "source": [
        "class RegularParties(object):\n",
        "    CPC = \"Conservative Party of Canada\"\n",
        "    LPC = \"Liberal Party of Canada\"\n",
        "    BQ = \"Bloc Quebecois\"\n",
        "    NDP = \"New Democratic Party\"\n",
        "    GPC = \"Green Party of Canada\""
      ]
    },
    {
      "cell_type": "code",
      "execution_count": 39,
      "metadata": {},
      "outputs": [
        {
          "data": {
            "text/plain": [
              "'Conservative Party of Canada'"
            ]
          },
          "metadata": {},
          "output_type": "display_data"
        }
      ],
      "source": [
        "RegularParties.CPC"
      ]
    },
    {
      "cell_type": "code",
      "execution_count": 40,
      "metadata": {},
      "outputs": [
        {
          "data": {
            "text/plain": [
              "str"
            ]
          },
          "metadata": {},
          "output_type": "display_data"
        }
      ],
      "source": [
        "type(RegularParties.CPC)"
      ]
    },
    {
      "cell_type": "code",
      "execution_count": 41,
      "metadata": {},
      "outputs": [
        {
          "data": {
            "text/plain": [
              "False"
            ]
          },
          "metadata": {},
          "output_type": "display_data"
        }
      ],
      "source": [
        "isinstance(RegularParties.CPC, RegularParties)"
      ]
    },
    {
      "attachments": {},
      "cell_type": "markdown",
      "metadata": {},
      "source": [
        "## `Aliases vs Masters`"
      ]
    },
    {
      "cell_type": "code",
      "execution_count": 55,
      "metadata": {},
      "outputs": [],
      "source": [
        "class Parties(Enum):\n",
        "    CPC = \"Conservative Party of Canada\"\n",
        "    LPC = \"Liberal Party of Canada\"\n",
        "    BQ = \"Bloc Quebecois\"\n",
        "    NDP = \"New Democratic Party\"\n",
        "    GPC = \"Green Party of Canada\""
      ]
    },
    {
      "cell_type": "code",
      "execution_count": 56,
      "metadata": {},
      "outputs": [
        {
          "ename": "TypeError",
          "evalue": "TypeError: Attempted to reuse key: 'CPC'",
          "output_type": "error",
          "traceback": [
            "\u001b[0;31m---------------------------------------------------------------------------",
            "Traceback (most recent call last)",
            "    at line 1 in <module>",
            "    at line 3 in Parties()",
            "TypeError: Attempted to reuse key: 'CPC'"
          ]
        }
      ],
      "source": [
        "class Parties(Enum):\n",
        "    CPC = \"Conservative Party of Canada\"\n",
        "    CPC = \"Conservative Party of Canucks\"\n",
        "    LPC = \"Liberal Party of Canada\"\n",
        "    BQ = \"Bloc Quebecois\"\n",
        "    NDP = \"New Democratic Party\"\n",
        "    GPC = \"Green Party of Canada\""
      ]
    },
    {
      "cell_type": "code",
      "execution_count": 58,
      "metadata": {},
      "outputs": [],
      "source": [
        "class Parties(Enum):\n",
        "    CPC = \"Conservative Party of Canada\" # member\n",
        "    CPoC = \"Conservative Party of Canada\" # alias\n",
        "    LPC = \"Liberal Party of Canada\"\n",
        "    BQ = \"Bloc Quebecois\"\n",
        "    NDP = \"New Democratic Party\"\n",
        "    GPC = \"Green Party of Canada\""
      ]
    },
    {
      "cell_type": "code",
      "execution_count": 59,
      "metadata": {},
      "outputs": [
        {
          "data": {
            "text/plain": [
              "<Parties.BQ: 'Bloc Quebecois'>"
            ]
          },
          "metadata": {},
          "output_type": "display_data"
        }
      ],
      "source": [
        "Parties(\"Bloc Quebecois\")"
      ]
    },
    {
      "cell_type": "code",
      "execution_count": 60,
      "metadata": {},
      "outputs": [
        {
          "data": {
            "text/plain": [
              "<Parties.BQ: 'Bloc Quebecois'>"
            ]
          },
          "metadata": {},
          "output_type": "display_data"
        }
      ],
      "source": [
        "Parties.BQ"
      ]
    },
    {
      "cell_type": "code",
      "execution_count": 61,
      "metadata": {},
      "outputs": [],
      "source": [
        "# - master name\n",
        "# - aliased name\n",
        "# - value"
      ]
    },
    {
      "cell_type": "code",
      "execution_count": 63,
      "metadata": {},
      "outputs": [
        {
          "data": {
            "text/plain": [
              "True"
            ]
          },
          "metadata": {},
          "output_type": "display_data"
        }
      ],
      "source": [
        "Parties.CPC is Parties.CPoC is Parties(\"Conservative Party of Canada\")"
      ]
    },
    {
      "cell_type": "code",
      "execution_count": 64,
      "metadata": {},
      "outputs": [
        {
          "data": {
            "text/plain": [
              "mappingproxy({'CPC': <Parties.CPC: 'Conservative Party of Canada'>,\n",
              "              'CPoC': <Parties.CPC: 'Conservative Party of Canada'>,\n",
              "              'LPC': <Parties.LPC: 'Liberal Party of Canada'>,\n",
              "              'BQ': <Parties.BQ: 'Bloc Quebecois'>,\n",
              "              'NDP': <Parties.NDP: 'New Democratic Party'>,\n",
              "              'GPC': <Parties.GPC: 'Green Party of Canada'>})"
            ]
          },
          "metadata": {},
          "output_type": "display_data"
        }
      ],
      "source": [
        "Parties.__members__"
      ]
    },
    {
      "cell_type": "code",
      "execution_count": 65,
      "metadata": {},
      "outputs": [
        {
          "data": {
            "text/plain": [
              "['CPC', 'LPC', 'BQ', 'NDP', 'GPC']"
            ]
          },
          "metadata": {},
          "output_type": "display_data"
        }
      ],
      "source": [
        "Parties._member_names_"
      ]
    },
    {
      "cell_type": "code",
      "execution_count": 66,
      "metadata": {},
      "outputs": [
        {
          "data": {
            "text/plain": [
              "{'Conservative Party of Canada': <Parties.CPC: 'Conservative Party of Canada'>,\n",
              " 'Liberal Party of Canada': <Parties.LPC: 'Liberal Party of Canada'>,\n",
              " 'Bloc Quebecois': <Parties.BQ: 'Bloc Quebecois'>,\n",
              " 'New Democratic Party': <Parties.NDP: 'New Democratic Party'>,\n",
              " 'Green Party of Canada': <Parties.GPC: 'Green Party of Canada'>}"
            ]
          },
          "metadata": {},
          "output_type": "display_data"
        }
      ],
      "source": [
        "Parties._value2member_map_"
      ]
    },
    {
      "attachments": {},
      "cell_type": "markdown",
      "metadata": {},
      "source": [
        "## `Uniqueness`"
      ]
    },
    {
      "cell_type": "code",
      "execution_count": 5,
      "metadata": {},
      "outputs": [],
      "source": [
        "from enum import unique"
      ]
    },
    {
      "cell_type": "code",
      "execution_count": 6,
      "metadata": {},
      "outputs": [
        {
          "ename": "ValueError",
          "evalue": "ValueError: duplicate values found in <enum 'Parties'>: CPoC -> CPC",
          "output_type": "error",
          "traceback": [
            "\u001b[0;31m---------------------------------------------------------------------------",
            "Traceback (most recent call last)",
            "    at line 2 in <module>",
            "ValueError: duplicate values found in <enum 'Parties'>: CPoC -> CPC"
          ]
        }
      ],
      "source": [
        "@unique\n",
        "class Parties(Enum):\n",
        "    CPC = \"Conservative Party of Canada\" # master\n",
        "    CPoC = \"Conservative Party of Canada\" # alias\n",
        "    LPC = \"Liberal Party of Canada\"\n",
        "    BQ = \"Bloc Quebecois\"\n",
        "    NDP = \"New Democratic Party\"\n",
        "    GPC = \"Green Party of Canada\""
      ]
    },
    {
      "cell_type": "code",
      "execution_count": 8,
      "metadata": {},
      "outputs": [
        {
          "data": {
            "text/plain": [
              "mappingproxy({'CPC': <Parties.CPC: 'Conservative Party of Canada'>,\n",
              "              'CPoC': <Parties.CPC: 'Conservative Party of Canada'>,\n",
              "              'LPC': <Parties.LPC: 'Liberal Party of Canada'>,\n",
              "              'BQ': <Parties.BQ: 'Bloc Quebecois'>,\n",
              "              'NDP': <Parties.NDP: 'New Democratic Party'>,\n",
              "              'GPC': <Parties.GPC: 'Green Party of Canada'>})"
            ]
          },
          "metadata": {},
          "output_type": "display_data"
        }
      ],
      "source": [
        "Parties.__members__"
      ]
    },
    {
      "cell_type": "code",
      "execution_count": 11,
      "metadata": {},
      "outputs": [
        {
          "name": "stdout",
          "output_type": "stream",
          "text": [
            "CPC CPC\n",
            "CPoC CPC\n",
            "LPC LPC\n",
            "BQ BQ\n",
            "NDP NDP\n",
            "GPC GPC\n"
          ]
        }
      ],
      "source": [
        "for symbolic_name, member_name in Parties.__members__.items():\n",
        "    print(symbolic_name, member_name.name)"
      ]
    },
    {
      "cell_type": "code",
      "execution_count": 12,
      "metadata": {},
      "outputs": [],
      "source": [
        "def should_be_unique(my_enum):\n",
        "    is_unique = True\n",
        "    \n",
        "    for symbolic_name, member_name in my_enum.__members__.items():\n",
        "        if symbolic_name != member_name.name:\n",
        "            is_unique = False\n",
        "\n",
        "    if not is_unique:\n",
        "        raise ValueError(\"Enum contains aliases!!!\")\n",
        "\n",
        "    return my_enum"
      ]
    },
    {
      "cell_type": "code",
      "execution_count": 15,
      "metadata": {},
      "outputs": [
        {
          "ename": "ValueError",
          "evalue": "ValueError: Enum contains aliases!!!",
          "output_type": "error",
          "traceback": [
            "\u001b[0;31m---------------------------------------------------------------------------",
            "Traceback (most recent call last)",
            "    at line 2 in <module>",
            "    at line 9 in should_be_unique(my_enum)",
            "ValueError: Enum contains aliases!!!"
          ]
        }
      ],
      "source": [
        "@should_be_unique\n",
        "class Parties(Enum):\n",
        "    CPC = \"Conservative Party of Canada\" # master\n",
        "    CPoC = \"Conservative Party of Canada\" # alias\n",
        "    LPC = \"Liberal Party of Canada\"\n",
        "    BQ = \"Bloc Quebecois\"\n",
        "    NDP = \"New Democratic Party\"\n",
        "    GPC = \"Green Party of Canada\""
      ]
    },
    {
      "attachments": {},
      "cell_type": "markdown",
      "metadata": {},
      "source": [
        "## `BONUS: Functional Syntax`"
      ]
    },
    {
      "cell_type": "code",
      "execution_count": 47,
      "metadata": {},
      "outputs": [],
      "source": [
        "from enum import Enum\n",
        "\n",
        "\n",
        "class Parties(Enum):\n",
        "    CPC = \"Conservative Party of Canada\"\n",
        "    LPC = \"Liberal Party of Canada\"\n",
        "    BQ = \"Bloc Quebecois\"\n",
        "    NDP = \"New Democratic Party\"\n",
        "    GPC = \"Green Party of Canada\""
      ]
    },
    {
      "cell_type": "code",
      "execution_count": 48,
      "metadata": {},
      "outputs": [
        {
          "data": {
            "text/plain": [
              "<enum 'Parties'>"
            ]
          },
          "metadata": {},
          "output_type": "display_data"
        }
      ],
      "source": [
        "Enum(\"Parties\", [\"CPC\", \"LPC\", \"BQ\", \"NDP\", \"GPC\"])"
      ]
    },
    {
      "cell_type": "code",
      "execution_count": 50,
      "metadata": {},
      "outputs": [],
      "source": [
        "Parties = Enum(\"Parties\", \"CPC LPC BQ NDP GPC\")"
      ]
    },
    {
      "cell_type": "code",
      "execution_count": 52,
      "metadata": {},
      "outputs": [
        {
          "data": {
            "text/plain": [
              "(<Parties.CPC: 1>, <Parties.LPC: 2>, <Parties.BQ: 3>)"
            ]
          },
          "metadata": {},
          "output_type": "display_data"
        }
      ],
      "source": [
        "Parties.CPC, Parties.LPC, Parties.BQ"
      ]
    },
    {
      "cell_type": "code",
      "execution_count": 55,
      "metadata": {},
      "outputs": [
        {
          "data": {
            "text/plain": [
              "<Parties.CPC: 'Conserviatve party'>"
            ]
          },
          "metadata": {},
          "output_type": "display_data"
        }
      ],
      "source": [
        "Enum(\"Parties\", [(\"CPC\", \"Conserviatve party\"), (\"LPC\", \"liberal party\")]).CPC"
      ]
    },
    {
      "cell_type": "code",
      "execution_count": 57,
      "metadata": {},
      "outputs": [
        {
          "data": {
            "text/plain": [
              "<Parties.LPC: 'liberal party'>"
            ]
          },
          "metadata": {},
          "output_type": "display_data"
        }
      ],
      "source": [
        "Enum(\"Parties\", {\"CPC\": \"Conserviatve party\" ,\"LPC\": \"liberal party\"}).LPC"
      ]
    },
    {
      "attachments": {},
      "cell_type": "markdown",
      "metadata": {},
      "source": [
        "## `Automatic Values`"
      ]
    },
    {
      "cell_type": "code",
      "execution_count": 59,
      "metadata": {},
      "outputs": [],
      "source": [
        "class Parties(Enum):\n",
        "    CPC = \"Conservative Party of Canada\"\n",
        "    CPoC = \"Conservative Party of Canada\"\n",
        "    LPC = \"Liberal Party of Canada\"\n",
        "    BQ = \"Bloc Quebecois\"\n",
        "    NDP = \"New Democratic Party\"\n",
        "    GPC = \"Green Party of Canada\""
      ]
    },
    {
      "cell_type": "code",
      "execution_count": 70,
      "metadata": {},
      "outputs": [
        {
          "ename": "NameError",
          "evalue": "NameError: name 'CPC' is not defined",
          "output_type": "error",
          "traceback": [
            "\u001b[0;31m---------------------------------------------------------------------------",
            "Traceback (most recent call last)",
            "    at line 1 in <module>",
            "    at line 2 in Parties()",
            "NameError: name 'CPC' is not defined"
          ]
        }
      ],
      "source": [
        "class Parties(Enum):\n",
        "    CPC \n",
        "    LPC \n",
        "    BQ \n",
        "    NDP \n",
        "    GPC"
      ]
    },
    {
      "cell_type": "code",
      "execution_count": 72,
      "metadata": {},
      "outputs": [
        {
          "data": {
            "text/plain": [
              "139858149096352"
            ]
          },
          "metadata": {},
          "output_type": "display_data"
        }
      ],
      "source": [
        "id(object())"
      ]
    },
    {
      "cell_type": "code",
      "execution_count": 73,
      "metadata": {},
      "outputs": [
        {
          "data": {
            "text/plain": [
              "139858149096272"
            ]
          },
          "metadata": {},
          "output_type": "display_data"
        }
      ],
      "source": [
        "id(object())"
      ]
    },
    {
      "cell_type": "code",
      "execution_count": 74,
      "metadata": {},
      "outputs": [
        {
          "data": {
            "text/plain": [
              "False"
            ]
          },
          "metadata": {},
          "output_type": "display_data"
        }
      ],
      "source": [
        "object() is object()"
      ]
    },
    {
      "cell_type": "code",
      "execution_count": 76,
      "metadata": {},
      "outputs": [],
      "source": [
        "class Parties(Enum):\n",
        "    CPC = object()\n",
        "    LPC = object()\n",
        "    BQ = object()\n",
        "    NDP = object()\n",
        "    GPC = object()"
      ]
    },
    {
      "cell_type": "code",
      "execution_count": 77,
      "metadata": {},
      "outputs": [
        {
          "data": {
            "text/plain": [
              "<Parties.CPC: <object object at 0x7f33434bbb70>>"
            ]
          },
          "metadata": {},
          "output_type": "display_data"
        }
      ],
      "source": [
        "Parties.CPC"
      ]
    },
    {
      "cell_type": "code",
      "execution_count": null,
      "metadata": {},
      "outputs": [],
      "source": [
        "Parties()"
      ]
    },
    {
      "cell_type": "code",
      "execution_count": 78,
      "metadata": {},
      "outputs": [],
      "source": [
        "from enum import auto"
      ]
    },
    {
      "cell_type": "code",
      "execution_count": 79,
      "metadata": {},
      "outputs": [],
      "source": [
        "class Parties(Enum):\n",
        "    CPC = auto()\n",
        "    LPC = auto()\n",
        "    BQ = auto()\n",
        "    NDP = auto()\n",
        "    GPC = auto()"
      ]
    },
    {
      "cell_type": "code",
      "execution_count": 82,
      "metadata": {},
      "outputs": [
        {
          "data": {
            "text/plain": [
              "(<Parties.CPC: 1>, <Parties.LPC: 2>)"
            ]
          },
          "metadata": {},
          "output_type": "display_data"
        }
      ],
      "source": [
        "Parties.CPC, Parties.LPC"
      ]
    },
    {
      "cell_type": "code",
      "execution_count": 84,
      "metadata": {},
      "outputs": [
        {
          "data": {
            "text/plain": [
              "mappingproxy({'CPC': <Parties.CPC: 1>,\n",
              "              'LPC': <Parties.LPC: 2>,\n",
              "              'BQ': <Parties.BQ: 3>,\n",
              "              'NDP': <Parties.NDP: 4>,\n",
              "              'GPC': <Parties.GPC: 5>})"
            ]
          },
          "metadata": {},
          "output_type": "display_data"
        }
      ],
      "source": [
        "Parties.__members__"
      ]
    },
    {
      "cell_type": "code",
      "execution_count": 85,
      "metadata": {},
      "outputs": [],
      "source": [
        "class Parties(Enum):\n",
        "    CPC = object()\n",
        "    LPC = auto()\n",
        "    BQ = \"The Block\"\n",
        "    NDP = 1\n",
        "    GPC = 2"
      ]
    },
    {
      "cell_type": "code",
      "execution_count": 86,
      "metadata": {},
      "outputs": [
        {
          "data": {
            "text/plain": [
              "<Parties.LPC: 1>"
            ]
          },
          "metadata": {},
          "output_type": "display_data"
        }
      ],
      "source": [
        "Parties.NDP"
      ]
    },
    {
      "cell_type": "code",
      "execution_count": 87,
      "metadata": {},
      "outputs": [
        {
          "data": {
            "text/plain": [
              "<Parties.LPC: 1>"
            ]
          },
          "metadata": {},
          "output_type": "display_data"
        }
      ],
      "source": [
        "Parties.LPC"
      ]
    },
    {
      "cell_type": "code",
      "execution_count": 88,
      "metadata": {},
      "outputs": [
        {
          "data": {
            "text/plain": [
              "True"
            ]
          },
          "metadata": {},
          "output_type": "display_data"
        }
      ],
      "source": [
        "Parties.NDP is Parties.LPC"
      ]
    },
    {
      "attachments": {},
      "cell_type": "markdown",
      "metadata": {},
      "source": [
        "## `Customizing Next Values`"
      ]
    },
    {
      "cell_type": "code",
      "execution_count": 2,
      "metadata": {},
      "outputs": [],
      "source": [
        "from enum import Enum, auto\n",
        "\n",
        "\n",
        "class Parties(Enum):\n",
        "    CPC = auto()\n",
        "    LPC = auto()\n",
        "    BQ = auto()\n",
        "    NDP = auto()\n",
        "    GPC = auto()"
      ]
    },
    {
      "cell_type": "code",
      "execution_count": 93,
      "metadata": {},
      "outputs": [
        {
          "data": {
            "text/plain": [
              "(1, 2)"
            ]
          },
          "metadata": {},
          "output_type": "display_data"
        }
      ],
      "source": [
        "Parties.CPC.value, Parties.LPC.value"
      ]
    },
    {
      "cell_type": "code",
      "execution_count": 6,
      "metadata": {},
      "outputs": [],
      "source": [
        "def get_values_for(this_enum):\n",
        "    return list(this_enum._value2member_map_.keys())"
      ]
    },
    {
      "cell_type": "code",
      "execution_count": 11,
      "metadata": {},
      "outputs": [
        {
          "name": "stdout",
          "output_type": "stream",
          "text": [
            "CPC 1 0 []\n",
            "LPC 1 1 [1]\n",
            "BQ 1 2 [1, 2]\n",
            "NDP 1 3 [1, 2, 3]\n",
            "GPC 1 4 [1, 2, 3, 4]\n"
          ]
        }
      ],
      "source": [
        "class Parties(Enum):\n",
        "    def _generate_next_value_(name, start, count, last_values):\n",
        "        print(name, start, count, last_values)\n",
        "        return start + count\n",
        "\n",
        "    CPC = auto()\n",
        "    LPC = auto()\n",
        "    BQ = auto()\n",
        "    NDP = auto()\n",
        "    GPC = auto()"
      ]
    },
    {
      "cell_type": "code",
      "execution_count": 12,
      "metadata": {},
      "outputs": [
        {
          "data": {
            "text/plain": [
              "[1, 2, 3, 4, 5]"
            ]
          },
          "metadata": {},
          "output_type": "display_data"
        }
      ],
      "source": [
        "get_values_for(Parties)"
      ]
    },
    {
      "cell_type": "code",
      "execution_count": 13,
      "metadata": {},
      "outputs": [],
      "source": [
        "class Parties(Enum):\n",
        "    def _generate_next_value_(name, start, count, last_values):\n",
        "        return object()\n",
        "\n",
        "    CPC = auto()\n",
        "    LPC = auto()\n",
        "    BQ = auto()\n",
        "    NDP = auto()\n",
        "    GPC = auto()"
      ]
    },
    {
      "cell_type": "code",
      "execution_count": 14,
      "metadata": {},
      "outputs": [
        {
          "data": {
            "text/plain": [
              "[<object at 0x7f40770cb140>,\n",
              " <object at 0x7f40770cb3c0>,\n",
              " <object at 0x7f40770cb7d0>,\n",
              " <object at 0x7f40770cb3f0>,\n",
              " <object at 0x7f40770cb460>]"
            ]
          },
          "metadata": {},
          "output_type": "display_data"
        }
      ],
      "source": [
        "get_values_for(Parties)"
      ]
    },
    {
      "cell_type": "code",
      "execution_count": 15,
      "metadata": {},
      "outputs": [],
      "source": [
        "class CanadianPoliticalParty:\n",
        "    def __init__(self, name):\n",
        "        self.name = name\n",
        "\n",
        "    def __repr__(self):\n",
        "        return f\"{type(self).__name__}({self.name})\""
      ]
    },
    {
      "cell_type": "code",
      "execution_count": 16,
      "metadata": {},
      "outputs": [],
      "source": [
        "class Parties(Enum):\n",
        "    def _generate_next_value_(name, start, count, last_values):\n",
        "        return CanadianPoliticalParty(name)\n",
        "\n",
        "    CPC = auto()\n",
        "    LPC = auto()\n",
        "    BQ = auto()\n",
        "    NDP = auto()\n",
        "    GPC = auto()"
      ]
    },
    {
      "cell_type": "code",
      "execution_count": 17,
      "metadata": {},
      "outputs": [
        {
          "data": {
            "text/plain": [
              "[CanadianPoliticalParty(CPC),\n",
              " CanadianPoliticalParty(LPC),\n",
              " CanadianPoliticalParty(BQ),\n",
              " CanadianPoliticalParty(NDP),\n",
              " CanadianPoliticalParty(GPC)]"
            ]
          },
          "metadata": {},
          "output_type": "display_data"
        }
      ],
      "source": [
        "get_values_for(Parties)"
      ]
    },
    {
      "cell_type": "code",
      "execution_count": 18,
      "metadata": {},
      "outputs": [
        {
          "ename": "TypeError",
          "evalue": "TypeError: _generate_next_value_ must be defined before members",
          "output_type": "error",
          "traceback": [
            "\u001b[0;31m---------------------------------------------------------------------------",
            "Traceback (most recent call last)",
            "    at line 1 in <module>",
            "    at line 8 in Parties()",
            "TypeError: _generate_next_value_ must be defined before members"
          ]
        }
      ],
      "source": [
        "class Parties(Enum):\n",
        "    CPC = auto()\n",
        "    LPC = auto()\n",
        "    BQ = auto()\n",
        "    NDP = auto()\n",
        "    GPC = auto()\n",
        "\n",
        "    def _generate_next_value_(name, start, count, last_values):\n",
        "        return CanadianPoliticalParty(name)"
      ]
    },
    {
      "cell_type": "code",
      "execution_count": 20,
      "metadata": {},
      "outputs": [],
      "source": [
        "class BasePartyEnum(Enum):\n",
        "    def _generate_next_value_(name, start, count, last_values):\n",
        "        return CanadianPoliticalParty(name)\n",
        "\n",
        "class Parties(BasePartyEnum):\n",
        "    CPC = auto()\n",
        "    LPC = auto()\n",
        "    BQ = auto()\n",
        "    NDP = auto()\n",
        "    GPC = auto()"
      ]
    },
    {
      "cell_type": "code",
      "execution_count": 21,
      "metadata": {},
      "outputs": [
        {
          "data": {
            "text/plain": [
              "[CanadianPoliticalParty(CPC),\n",
              " CanadianPoliticalParty(LPC),\n",
              " CanadianPoliticalParty(BQ),\n",
              " CanadianPoliticalParty(NDP),\n",
              " CanadianPoliticalParty(GPC)]"
            ]
          },
          "metadata": {},
          "output_type": "display_data"
        }
      ],
      "source": [
        "get_values_for(Parties)"
      ]
    },
    {
      "cell_type": "code",
      "execution_count": 23,
      "metadata": {},
      "outputs": [
        {
          "data": {
            "text/plain": [
              "mappingproxy({'CPC': <Parties.CPC: CanadianPoliticalParty(CPC)>,\n",
              "              'LPC': <Parties.LPC: CanadianPoliticalParty(LPC)>,\n",
              "              'BQ': <Parties.BQ: CanadianPoliticalParty(BQ)>,\n",
              "              'NDP': <Parties.NDP: CanadianPoliticalParty(NDP)>,\n",
              "              'GPC': <Parties.GPC: CanadianPoliticalParty(GPC)>})"
            ]
          },
          "metadata": {},
          "output_type": "display_data"
        }
      ],
      "source": [
        "Parties.__members__"
      ]
    },
    {
      "attachments": {},
      "cell_type": "markdown",
      "metadata": {},
      "source": [
        "## `Extensibility`"
      ]
    },
    {
      "cell_type": "code",
      "execution_count": 26,
      "metadata": {},
      "outputs": [],
      "source": [
        "class Parties(Enum):\n",
        "    CPC = auto()\n",
        "    LPC = auto()\n",
        "    BQ = auto()\n",
        "    NDP = auto()\n",
        "    GPC = auto()\n",
        "    \n",
        "    @property\n",
        "    def is_left(self):\n",
        "        return self in (Parties.LPC, Parties.NDP)"
      ]
    },
    {
      "cell_type": "code",
      "execution_count": 25,
      "metadata": {},
      "outputs": [],
      "source": [
        "# left vs right spectrum"
      ]
    },
    {
      "cell_type": "code",
      "execution_count": 27,
      "metadata": {},
      "outputs": [
        {
          "data": {
            "text/plain": [
              "False"
            ]
          },
          "metadata": {},
          "output_type": "display_data"
        }
      ],
      "source": [
        "Parties.CPC.is_left"
      ]
    },
    {
      "cell_type": "code",
      "execution_count": 28,
      "metadata": {},
      "outputs": [
        {
          "data": {
            "text/plain": [
              "True"
            ]
          },
          "metadata": {},
          "output_type": "display_data"
        }
      ],
      "source": [
        "Parties.LPC.is_left"
      ]
    },
    {
      "cell_type": "code",
      "execution_count": 29,
      "metadata": {},
      "outputs": [],
      "source": [
        "def get_values_for(this_enum):\n",
        "    return list(this_enum._value2member_map_.keys())"
      ]
    },
    {
      "cell_type": "code",
      "execution_count": 30,
      "metadata": {},
      "outputs": [
        {
          "data": {
            "text/plain": [
              "[1, 2, 3, 4, 5]"
            ]
          },
          "metadata": {},
          "output_type": "display_data"
        }
      ],
      "source": [
        "get_values_for(Parties)"
      ]
    },
    {
      "cell_type": "code",
      "execution_count": 32,
      "metadata": {},
      "outputs": [
        {
          "data": {
            "text/plain": [
              "mappingproxy({'CPC': <Parties.CPC: 1>,\n",
              "              'LPC': <Parties.LPC: 2>,\n",
              "              'BQ': <Parties.BQ: 3>,\n",
              "              'NDP': <Parties.NDP: 4>,\n",
              "              'GPC': <Parties.GPC: 5>})"
            ]
          },
          "metadata": {},
          "output_type": "display_data"
        }
      ],
      "source": [
        "Parties.__members__"
      ]
    },
    {
      "cell_type": "code",
      "execution_count": 33,
      "metadata": {},
      "outputs": [
        {
          "data": {
            "text/plain": [
              "['CPC', 'LPC', 'BQ', 'NDP', 'GPC']"
            ]
          },
          "metadata": {},
          "output_type": "display_data"
        }
      ],
      "source": [
        "Parties._member_names_"
      ]
    },
    {
      "cell_type": "code",
      "execution_count": 35,
      "metadata": {},
      "outputs": [
        {
          "ename": "AttributeError",
          "evalue": "AttributeError: values",
          "output_type": "error",
          "traceback": [
            "\u001b[0;31m---------------------------------------------------------------------------",
            "Traceback (most recent call last)",
            "    at line 1 in <module>",
            "AttributeError: values"
          ]
        }
      ],
      "source": [
        "Parties.values()"
      ]
    },
    {
      "cell_type": "code",
      "execution_count": 36,
      "metadata": {},
      "outputs": [],
      "source": [
        "class Parties(Enum):\n",
        "    CPC = auto()\n",
        "    LPC = auto()\n",
        "    BQ = auto()\n",
        "    NDP = auto()\n",
        "    GPC = auto()\n",
        "    \n",
        "    @property\n",
        "    def is_left(self):\n",
        "        return self in (Parties.LPC, Parties.NDP)\n",
        "\n",
        "    @classmethod\n",
        "    def values(cls):\n",
        "        return [member.value for member in cls]"
      ]
    },
    {
      "cell_type": "code",
      "execution_count": 37,
      "metadata": {},
      "outputs": [
        {
          "data": {
            "text/plain": [
              "[1, 2, 3, 4, 5]"
            ]
          },
          "metadata": {},
          "output_type": "display_data"
        }
      ],
      "source": [
        "Parties.values()"
      ]
    },
    {
      "cell_type": "code",
      "execution_count": 38,
      "metadata": {},
      "outputs": [
        {
          "ename": "TypeError",
          "evalue": "TypeError: ProvincialParty: cannot extend enumeration 'Parties'",
          "output_type": "error",
          "traceback": [
            "\u001b[0;31m---------------------------------------------------------------------------",
            "Traceback (most recent call last)",
            "    at line 1 in <module>",
            "TypeError: ProvincialParty: cannot extend enumeration 'Parties'"
          ]
        }
      ],
      "source": [
        "class ProvincialParty(Parties):\n",
        "    pass"
      ]
    },
    {
      "cell_type": "code",
      "execution_count": 39,
      "metadata": {},
      "outputs": [],
      "source": [
        "class BaseParty(Enum):\n",
        "    @classmethod\n",
        "    def values(cls):\n",
        "        return [member.value for member in cls]\n",
        "\n",
        "\n",
        "class Parties(BaseParty):\n",
        "    CPC = auto()\n",
        "    LPC = auto()\n",
        "    BQ = auto()\n",
        "    NDP = auto()\n",
        "    GPC = auto()\n",
        "\n",
        "    @property\n",
        "    def is_left(self):\n",
        "        return self in (Parties.LPC, Parties.NDP)"
      ]
    },
    {
      "cell_type": "code",
      "execution_count": 40,
      "metadata": {},
      "outputs": [
        {
          "data": {
            "text/plain": [
              "[1, 2, 3, 4, 5]"
            ]
          },
          "metadata": {},
          "output_type": "display_data"
        }
      ],
      "source": [
        "Parties.values()"
      ]
    },
    {
      "cell_type": "code",
      "execution_count": 41,
      "metadata": {},
      "outputs": [
        {
          "data": {
            "text/plain": [
              "False"
            ]
          },
          "metadata": {},
          "output_type": "display_data"
        }
      ],
      "source": [
        "Parties.CPC.is_left"
      ]
    },
    {
      "cell_type": "code",
      "execution_count": null,
      "metadata": {},
      "outputs": [],
      "source": [
        "#inheritance --> can inherit enum from another enum if former has not specified variables/attributes"
      ]
    },
    {
      "attachments": {},
      "cell_type": "markdown",
      "metadata": {},
      "source": [
        "## `Flags`"
      ]
    },
    {
      "cell_type": "code",
      "execution_count": 42,
      "metadata": {},
      "outputs": [],
      "source": [
        "class Parties(Enum):\n",
        "    CPC = auto()\n",
        "    LPC = auto()\n",
        "    BQ = auto()\n",
        "    NDP = auto()\n",
        "    GPC = auto()"
      ]
    },
    {
      "cell_type": "code",
      "execution_count": 43,
      "metadata": {},
      "outputs": [],
      "source": [
        "# bitmasks"
      ]
    },
    {
      "cell_type": "code",
      "execution_count": 47,
      "metadata": {},
      "outputs": [],
      "source": [
        "from enum import Flag"
      ]
    },
    {
      "cell_type": "code",
      "execution_count": 48,
      "metadata": {},
      "outputs": [],
      "source": [
        "class Style(Flag):\n",
        "    ITALIC = auto()\n",
        "    BOLD = auto()\n",
        "    UNDERLINE = auto()\n",
        "    SUPERSCRIPT = auto()\n",
        "    SUBSCRIPT = auto()"
      ]
    },
    {
      "cell_type": "code",
      "execution_count": 49,
      "metadata": {},
      "outputs": [
        {
          "data": {
            "text/plain": [
              "{1: <Style.ITALIC: 1>,\n",
              " 2: <Style.BOLD: 2>,\n",
              " 4: <Style.UNDERLINE: 4>,\n",
              " 8: <Style.SUPERSCRIPT: 8>,\n",
              " 16: <Style.SUBSCRIPT: 16>}"
            ]
          },
          "metadata": {},
          "output_type": "display_data"
        }
      ],
      "source": [
        "Style._value2member_map_"
      ]
    },
    {
      "cell_type": "code",
      "execution_count": 46,
      "metadata": {},
      "outputs": [],
      "source": [
        "# text_style_state = 10"
      ]
    },
    {
      "attachments": {},
      "cell_type": "markdown",
      "metadata": {},
      "source": [
        "## `Bitmasks`"
      ]
    },
    {
      "cell_type": "code",
      "execution_count": 3,
      "metadata": {},
      "outputs": [],
      "source": [
        "from enum import Flag, auto\n",
        "\n",
        "class Style(Flag):\n",
        "    ITALIC = auto()\n",
        "    BOLD = auto()\n",
        "    UNDERLINE = auto()\n",
        "    SUPERSCRIPT = auto()\n",
        "    SUBSCRIPT = auto()"
      ]
    },
    {
      "cell_type": "code",
      "execution_count": 4,
      "metadata": {},
      "outputs": [
        {
          "data": {
            "text/plain": [
              "{1: <Style.ITALIC: 1>,\n",
              " 2: <Style.BOLD: 2>,\n",
              " 4: <Style.UNDERLINE: 4>,\n",
              " 8: <Style.SUPERSCRIPT: 8>,\n",
              " 16: <Style.SUBSCRIPT: 16>}"
            ]
          },
          "metadata": {},
          "output_type": "display_data"
        }
      ],
      "source": [
        "Style._value2member_map_"
      ]
    },
    {
      "cell_type": "code",
      "execution_count": 5,
      "metadata": {},
      "outputs": [],
      "source": [
        "# | (OR)\n",
        "# ~ (NOT)\n",
        "# & (AND)\n",
        "# ^ (XOR)"
      ]
    },
    {
      "cell_type": "code",
      "execution_count": 6,
      "metadata": {},
      "outputs": [
        {
          "data": {
            "text/plain": [
              "5"
            ]
          },
          "metadata": {},
          "output_type": "display_data"
        }
      ],
      "source": [
        "1 | 4"
      ]
    },
    {
      "cell_type": "code",
      "execution_count": 7,
      "metadata": {},
      "outputs": [
        {
          "data": {
            "text/plain": [
              "<Style.UNDERLINE|ITALIC: 5>"
            ]
          },
          "metadata": {},
          "output_type": "display_data"
        }
      ],
      "source": [
        "Style.ITALIC | Style.UNDERLINE"
      ]
    },
    {
      "cell_type": "code",
      "execution_count": 8,
      "metadata": {},
      "outputs": [
        {
          "data": {
            "text/plain": [
              "<Style.SUBSCRIPT|SUPERSCRIPT|UNDERLINE|BOLD: 30>"
            ]
          },
          "metadata": {},
          "output_type": "display_data"
        }
      ],
      "source": [
        "~ Style.ITALIC"
      ]
    },
    {
      "cell_type": "code",
      "execution_count": 9,
      "metadata": {},
      "outputs": [],
      "source": [
        "a = Style.ITALIC | Style.UNDERLINE\n",
        "\n",
        "b = Style.UNDERLINE"
      ]
    },
    {
      "cell_type": "code",
      "execution_count": 10,
      "metadata": {},
      "outputs": [
        {
          "data": {
            "text/plain": [
              "<Style.UNDERLINE: 4>"
            ]
          },
          "metadata": {},
          "output_type": "display_data"
        }
      ],
      "source": [
        "a & b"
      ]
    },
    {
      "cell_type": "code",
      "execution_count": 12,
      "metadata": {},
      "outputs": [
        {
          "data": {
            "text/plain": [
              "<Style.SUBSCRIPT|ITALIC: 17>"
            ]
          },
          "metadata": {},
          "output_type": "display_data"
        }
      ],
      "source": [
        "a = Style.ITALIC | Style.UNDERLINE\n",
        "b = Style.UNDERLINE | Style.SUBSCRIPT\n",
        "\n",
        "a ^ b"
      ]
    },
    {
      "cell_type": "code",
      "execution_count": 15,
      "metadata": {},
      "outputs": [],
      "source": [
        "# style set with this interface: +, -, in"
      ]
    },
    {
      "cell_type": "code",
      "execution_count": 28,
      "metadata": {},
      "outputs": [],
      "source": [
        "class TextStyleSet:\n",
        "    def __init__(self, *styles):\n",
        "        self._text_styles = Style(0)\n",
        "\n",
        "        for style in styles:\n",
        "            self._text_styles |= style\n",
        "\n",
        "    def __repr__(self):\n",
        "        return f\"{type(self).__name__}({self._text_styles})\"\n",
        "\n",
        "    def __add__(self, other):\n",
        "        if type(other) == Style:\n",
        "            self._text_styles |= other\n",
        "            return self\n",
        "\n",
        "        return NotImplemented\n",
        "\n",
        "    def __sub__(self, other):\n",
        "        if type(other) == Style:\n",
        "            self._text_styles &= ~other\n",
        "            return self\n",
        "\n",
        "        return NotImplemented\n",
        "\n",
        "    def __contains__(self, item):\n",
        "        if type(item) == Style:\n",
        "            return self._text_styles & item"
      ]
    },
    {
      "cell_type": "code",
      "execution_count": 22,
      "metadata": {},
      "outputs": [
        {
          "data": {
            "text/plain": [
              "TextStyleSet(Style.ITALIC)"
            ]
          },
          "metadata": {},
          "output_type": "display_data"
        }
      ],
      "source": [
        "TextStyleSet(Style.ITALIC)"
      ]
    },
    {
      "cell_type": "code",
      "execution_count": 23,
      "metadata": {},
      "outputs": [
        {
          "data": {
            "text/plain": [
              "TextStyleSet(Style.UNDERLINE|BOLD|ITALIC)"
            ]
          },
          "metadata": {},
          "output_type": "display_data"
        }
      ],
      "source": [
        "TextStyleSet(Style.ITALIC, Style.BOLD) + Style.UNDERLINE"
      ]
    },
    {
      "cell_type": "code",
      "execution_count": 26,
      "metadata": {},
      "outputs": [
        {
          "data": {
            "text/plain": [
              "TextStyleSet(Style.UNDERLINE|BOLD)"
            ]
          },
          "metadata": {},
          "output_type": "display_data"
        }
      ],
      "source": [
        "TextStyleSet(Style.ITALIC, Style.BOLD) + Style.UNDERLINE - Style.ITALIC"
      ]
    },
    {
      "cell_type": "code",
      "execution_count": 29,
      "metadata": {},
      "outputs": [
        {
          "data": {
            "text/plain": [
              "False"
            ]
          },
          "metadata": {},
          "output_type": "display_data"
        }
      ],
      "source": [
        "Style.BOLD in TextStyleSet(Style.ITALIC)"
      ]
    },
    {
      "cell_type": "code",
      "execution_count": 31,
      "metadata": {},
      "outputs": [
        {
          "data": {
            "text/plain": [
              "True"
            ]
          },
          "metadata": {},
          "output_type": "display_data"
        }
      ],
      "source": [
        "Style.BOLD in TextStyleSet(Style.ITALIC, Style.BOLD)"
      ]
    },
    {
      "attachments": {},
      "cell_type": "markdown",
      "metadata": {},
      "source": [
        "## `BONUS: How Bitwise Works`"
      ]
    },
    {
      "cell_type": "code",
      "execution_count": 32,
      "metadata": {},
      "outputs": [],
      "source": [
        "# bitwise -> operating on bits"
      ]
    },
    {
      "cell_type": "code",
      "execution_count": 1,
      "metadata": {},
      "outputs": [],
      "source": [
        "# bits -> 1s and 0s"
      ]
    },
    {
      "cell_type": "code",
      "execution_count": 2,
      "metadata": {},
      "outputs": [],
      "source": [
        "# 4 (decimal)"
      ]
    },
    {
      "cell_type": "code",
      "execution_count": 4,
      "metadata": {},
      "outputs": [],
      "source": [
        "def get_binary_repr(n):\n",
        "    return f\"{n:08b}\""
      ]
    },
    {
      "cell_type": "code",
      "execution_count": 7,
      "metadata": {},
      "outputs": [
        {
          "data": {
            "text/plain": [
              "('00000001', '00000100')"
            ]
          },
          "metadata": {},
          "output_type": "display_data"
        }
      ],
      "source": [
        "get_binary_repr(1), get_binary_repr(4)"
      ]
    },
    {
      "cell_type": "code",
      "execution_count": 6,
      "metadata": {},
      "outputs": [
        {
          "data": {
            "text/plain": [
              "0"
            ]
          },
          "metadata": {},
          "output_type": "display_data"
        }
      ],
      "source": [
        "1 & 4"
      ]
    },
    {
      "cell_type": "code",
      "execution_count": 9,
      "metadata": {},
      "outputs": [
        {
          "data": {
            "text/plain": [
              "(0, 0)"
            ]
          },
          "metadata": {},
          "output_type": "display_data"
        }
      ],
      "source": [
        "0 and 1, 0 and 0"
      ]
    },
    {
      "cell_type": "code",
      "execution_count": 10,
      "metadata": {},
      "outputs": [],
      "source": [
        "# 00000000 -> 0"
      ]
    },
    {
      "cell_type": "code",
      "execution_count": 11,
      "metadata": {},
      "outputs": [],
      "source": [
        "import pandas as pd"
      ]
    },
    {
      "cell_type": "code",
      "execution_count": 12,
      "metadata": {},
      "outputs": [],
      "source": [
        "def build_table(*nums):\n",
        "    return pd.DataFrame({num: list(get_binary_repr(num)) for num in nums}\n",
        "                , index=sorted(range(8), reverse=True)).transpose()"
      ]
    },
    {
      "cell_type": "code",
      "execution_count": 13,
      "metadata": {},
      "outputs": [
        {
          "data": {
            "text/html": [
              "<div>\n",
              "<style scoped>\n",
              "    .dataframe tbody tr th:only-of-type {\n",
              "        vertical-align: middle;\n",
              "    }\n",
              "\n",
              "    .dataframe tbody tr th {\n",
              "        vertical-align: top;\n",
              "    }\n",
              "\n",
              "    .dataframe thead th {\n",
              "        text-align: right;\n",
              "    }\n",
              "</style>\n",
              "<table border=\"1\" class=\"dataframe\">\n",
              "  <thead>\n",
              "    <tr style=\"text-align: right;\">\n",
              "      <th></th>\n",
              "      <th>7</th>\n",
              "      <th>6</th>\n",
              "      <th>5</th>\n",
              "      <th>4</th>\n",
              "      <th>3</th>\n",
              "      <th>2</th>\n",
              "      <th>1</th>\n",
              "      <th>0</th>\n",
              "    </tr>\n",
              "  </thead>\n",
              "  <tbody>\n",
              "    <tr>\n",
              "      <th>1</th>\n",
              "      <td>0</td>\n",
              "      <td>0</td>\n",
              "      <td>0</td>\n",
              "      <td>0</td>\n",
              "      <td>0</td>\n",
              "      <td>0</td>\n",
              "      <td>0</td>\n",
              "      <td>1</td>\n",
              "    </tr>\n",
              "    <tr>\n",
              "      <th>4</th>\n",
              "      <td>0</td>\n",
              "      <td>0</td>\n",
              "      <td>0</td>\n",
              "      <td>0</td>\n",
              "      <td>0</td>\n",
              "      <td>1</td>\n",
              "      <td>0</td>\n",
              "      <td>0</td>\n",
              "    </tr>\n",
              "  </tbody>\n",
              "</table>\n",
              "</div>"
            ]
          },
          "metadata": {},
          "output_type": "display_data"
        }
      ],
      "source": [
        "build_table(1, 4)"
      ]
    },
    {
      "cell_type": "code",
      "execution_count": 19,
      "metadata": {},
      "outputs": [],
      "source": [
        "# 1 & 4 -> 0\n",
        "# 1 | 4 = 2**2 + 2**0 = 5"
      ]
    },
    {
      "cell_type": "code",
      "execution_count": 17,
      "metadata": {},
      "outputs": [
        {
          "data": {
            "text/plain": [
              "5"
            ]
          },
          "metadata": {},
          "output_type": "display_data"
        }
      ],
      "source": [
        "2**2 + 2**0 "
      ]
    },
    {
      "cell_type": "code",
      "execution_count": 20,
      "metadata": {},
      "outputs": [
        {
          "data": {
            "text/html": [
              "<div>\n",
              "<style scoped>\n",
              "    .dataframe tbody tr th:only-of-type {\n",
              "        vertical-align: middle;\n",
              "    }\n",
              "\n",
              "    .dataframe tbody tr th {\n",
              "        vertical-align: top;\n",
              "    }\n",
              "\n",
              "    .dataframe thead th {\n",
              "        text-align: right;\n",
              "    }\n",
              "</style>\n",
              "<table border=\"1\" class=\"dataframe\">\n",
              "  <thead>\n",
              "    <tr style=\"text-align: right;\">\n",
              "      <th></th>\n",
              "      <th>7</th>\n",
              "      <th>6</th>\n",
              "      <th>5</th>\n",
              "      <th>4</th>\n",
              "      <th>3</th>\n",
              "      <th>2</th>\n",
              "      <th>1</th>\n",
              "      <th>0</th>\n",
              "    </tr>\n",
              "  </thead>\n",
              "  <tbody>\n",
              "    <tr>\n",
              "      <th>1</th>\n",
              "      <td>0</td>\n",
              "      <td>0</td>\n",
              "      <td>0</td>\n",
              "      <td>0</td>\n",
              "      <td>0</td>\n",
              "      <td>0</td>\n",
              "      <td>0</td>\n",
              "      <td>1</td>\n",
              "    </tr>\n",
              "    <tr>\n",
              "      <th>7</th>\n",
              "      <td>0</td>\n",
              "      <td>0</td>\n",
              "      <td>0</td>\n",
              "      <td>0</td>\n",
              "      <td>0</td>\n",
              "      <td>1</td>\n",
              "      <td>1</td>\n",
              "      <td>1</td>\n",
              "    </tr>\n",
              "  </tbody>\n",
              "</table>\n",
              "</div>"
            ]
          },
          "metadata": {},
          "output_type": "display_data"
        }
      ],
      "source": [
        "build_table(1, 7)"
      ]
    },
    {
      "cell_type": "code",
      "execution_count": 21,
      "metadata": {},
      "outputs": [
        {
          "data": {
            "text/plain": [
              "7"
            ]
          },
          "metadata": {},
          "output_type": "display_data"
        }
      ],
      "source": [
        "1 | 7"
      ]
    },
    {
      "cell_type": "code",
      "execution_count": 22,
      "metadata": {},
      "outputs": [
        {
          "data": {
            "text/plain": [
              "6"
            ]
          },
          "metadata": {},
          "output_type": "display_data"
        }
      ],
      "source": [
        "1 ^ 7"
      ]
    },
    {
      "cell_type": "code",
      "execution_count": 23,
      "metadata": {},
      "outputs": [
        {
          "data": {
            "text/plain": [
              "6"
            ]
          },
          "metadata": {},
          "output_type": "display_data"
        }
      ],
      "source": [
        "2 ** 2 + 2**1 "
      ]
    },
    {
      "cell_type": "code",
      "execution_count": null,
      "metadata": {},
      "outputs": [],
      "source": []
    },
    {
      "cell_type": "code",
      "execution_count": null,
      "metadata": {},
      "outputs": [],
      "source": []
    },
    {
      "cell_type": "code",
      "execution_count": null,
      "metadata": {},
      "outputs": [],
      "source": []
    },
    {
      "cell_type": "code",
      "execution_count": null,
      "metadata": {},
      "outputs": [],
      "source": []
    },
    {
      "cell_type": "code",
      "execution_count": null,
      "metadata": {},
      "outputs": [],
      "source": []
    },
    {
      "cell_type": "code",
      "execution_count": null,
      "metadata": {},
      "outputs": [],
      "source": []
    },
    {
      "cell_type": "code",
      "execution_count": null,
      "metadata": {},
      "outputs": [],
      "source": []
    },
    {
      "cell_type": "code",
      "execution_count": null,
      "metadata": {},
      "outputs": [],
      "source": []
    },
    {
      "cell_type": "code",
      "execution_count": null,
      "metadata": {},
      "outputs": [],
      "source": []
    },
    {
      "cell_type": "code",
      "execution_count": null,
      "metadata": {},
      "outputs": [],
      "source": []
    },
    {
      "cell_type": "code",
      "execution_count": null,
      "metadata": {},
      "outputs": [],
      "source": []
    },
    {
      "cell_type": "code",
      "execution_count": null,
      "metadata": {},
      "outputs": [],
      "source": []
    },
    {
      "cell_type": "code",
      "execution_count": null,
      "metadata": {},
      "outputs": [],
      "source": []
    },
    {
      "cell_type": "code",
      "execution_count": null,
      "metadata": {},
      "outputs": [],
      "source": []
    },
    {
      "cell_type": "code",
      "execution_count": null,
      "metadata": {},
      "outputs": [],
      "source": []
    },
    {
      "cell_type": "code",
      "execution_count": null,
      "metadata": {},
      "outputs": [],
      "source": []
    },
    {
      "cell_type": "code",
      "execution_count": null,
      "metadata": {},
      "outputs": [],
      "source": []
    },
    {
      "cell_type": "code",
      "execution_count": null,
      "metadata": {},
      "outputs": [],
      "source": []
    },
    {
      "cell_type": "code",
      "execution_count": 41,
      "metadata": {},
      "outputs": [],
      "source": []
    },
    {
      "cell_type": "code",
      "execution_count": null,
      "metadata": {},
      "outputs": [],
      "source": []
    }
  ],
  "metadata": {
    "language_info": {
      "name": "python"
    }
  },
  "nbformat": 4,
  "nbformat_minor": 0
}
