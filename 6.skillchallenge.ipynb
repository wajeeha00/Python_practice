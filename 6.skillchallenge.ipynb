{
 "cells": [
  {
   "cell_type": "code",
   "execution_count": null,
   "metadata": {},
   "outputs": [],
   "source": [
    "\n",
    "\n"
   ]
  },
  {
   "cell_type": "code",
   "execution_count": null,
   "metadata": {},
   "outputs": [],
   "source": [
    "from dataclasses import dataclass, field\n",
    "@dataclass\n",
    "class Stock(frozen = True):\n",
    "    ticker  :str\n",
    "    price : int\n",
    "    dividend : float = 0\n",
    "    dividend_frequency : int = 4\n",
    "    @property\n",
    "    def annual_dividend(self)\n",
    "        self.annual_dividend= self.dividend * self.dividend_frequency\n",
    "\n",
    "@dataclass\n",
    "class Position():\n",
    "    stock : Stock\n",
    "    shares : int \n",
    "    \n",
    "    def __eq__(self,other):\n",
    "        if not isinstance(other,Position):\n",
    "            raise TypeError\n",
    "        return self.stock.price * self.shares == other.stock.price * other.shares\n",
    "\n",
    "@dataclass\n",
    "class Portfolio:\n",
    "    holdings : list[Position]\n",
    "    \n",
    "    @property\n",
    "    def value(self):\n",
    "        self.value = sum([holding.stock.price * holding.shares for holding in self.holdings])\n",
    "    \n",
    "    @property\n",
    "    def portfolio_yield(self):\n",
    "        self.portfolio_yield = sum([holding.stock.annual_dividend * holding.shares for holding in self.holdings]) / self.value\n",
    "   \n",
    "   \n",
    "\n",
    "\n",
    "\n",
    "\n",
    "\n"
   ]
  },
  {
   "cell_type": "code",
   "execution_count": null,
   "metadata": {},
   "outputs": [],
   "source": []
  }
 ],
 "metadata": {
  "language_info": {
   "name": "python"
  }
 },
 "nbformat": 4,
 "nbformat_minor": 2
}
