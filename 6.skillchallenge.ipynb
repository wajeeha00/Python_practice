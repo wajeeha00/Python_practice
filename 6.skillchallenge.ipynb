{
 "cells": [
  {
   "cell_type": "code",
   "execution_count": 60,
   "metadata": {},
   "outputs": [],
   "source": [
    "class Point3D:\n",
    "    __slots__ = ('x','y','z')\n",
    "    def __init__(self,x,y,z):\n",
    "        self.x = x\n",
    "        self.y = y\n",
    "        self.z = z\n",
    "   \n",
    "    def __repr__(self):\n",
    "        return f\"({self.__class__.__name__}( x={self.x}, y={self.y}, z={self.z}, {self.__slots__}= {getattr(self,self.__slots__)})\"\n",
    "\n",
    "class ColoredPoint(Point3D):\n",
    "    __slots__ = ('color')\n",
    "    def __init__(self,x,y,z,color='black'):\n",
    "        super().__init__(x,y,z)\n",
    "        self.color = color\n",
    "    \n",
    "   \n",
    "class ShapedPoint(Point3D):\n",
    "    __slots__ = ('shape')\n",
    "    def __init__(self,x,y,z,shape='sphere'):\n",
    "        super().__init__(x,y,z)\n",
    "        self.shape = shape\n",
    "    \n",
    "    "
   ]
  },
  {
   "cell_type": "code",
   "execution_count": 61,
   "metadata": {},
   "outputs": [],
   "source": [
    "p = Point3D(1,2,3)"
   ]
  },
  {
   "cell_type": "code",
   "execution_count": 62,
   "metadata": {},
   "outputs": [],
   "source": [
    "c = ColoredPoint(1,2,3,'red')"
   ]
  },
  {
   "cell_type": "code",
   "execution_count": 67,
   "metadata": {},
   "outputs": [
    {
     "data": {
      "text/plain": [
       "'red'"
      ]
     },
     "execution_count": 67,
     "metadata": {},
     "output_type": "execute_result"
    }
   ],
   "source": [
    "getattr(c,c.__slots__)"
   ]
  },
  {
   "cell_type": "code",
   "execution_count": 64,
   "metadata": {},
   "outputs": [],
   "source": [
    "s = ShapedPoint(1,2,3,'cube')"
   ]
  },
  {
   "cell_type": "code",
   "execution_count": 65,
   "metadata": {},
   "outputs": [
    {
     "data": {
      "text/plain": [
       "(ShapedPoint( x=1, y=2, z=3, shape= cube)"
      ]
     },
     "execution_count": 65,
     "metadata": {},
     "output_type": "execute_result"
    }
   ],
   "source": [
    "s"
   ]
  },
  {
   "cell_type": "code",
   "execution_count": null,
   "metadata": {},
   "outputs": [],
   "source": []
  }
 ],
 "metadata": {
  "kernelspec": {
   "display_name": "Python 3",
   "language": "python",
   "name": "python3"
  },
  "language_info": {
   "codemirror_mode": {
    "name": "ipython",
    "version": 3
   },
   "file_extension": ".py",
   "mimetype": "text/x-python",
   "name": "python",
   "nbconvert_exporter": "python",
   "pygments_lexer": "ipython3",
   "version": "3.9.13"
  }
 },
 "nbformat": 4,
 "nbformat_minor": 2
}
