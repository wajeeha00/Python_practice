{
  "cells": [
    {
      "attachments": {},
      "cell_type": "markdown",
      "metadata": {},
      "source": [
        "## `The Exception Object`"
      ]
    },
    {
      "cell_type": "code",
      "execution_count": 1,
      "metadata": {},
      "outputs": [
        {
          "ename": "TypeError",
          "evalue": "TypeError: unsupported operand type(s) for +: 'int' and 'str'",
          "output_type": "error",
          "traceback": [
            "\u001b[0;31m---------------------------------------------------------------------------",
            "Traceback (most recent call last)",
            "    at line 1 in <module>",
            "TypeError: unsupported operand type(s) for +: 'int' and 'str'"
          ]
        }
      ],
      "source": [
        "1 + \"andy\""
      ]
    },
    {
      "cell_type": "code",
      "execution_count": 2,
      "metadata": {},
      "outputs": [
        {
          "ename": "NameError",
          "evalue": "NameError: name 'andy' is not defined",
          "output_type": "error",
          "traceback": [
            "\u001b[0;31m---------------------------------------------------------------------------",
            "Traceback (most recent call last)",
            "    at line 1 in <module>",
            "NameError: name 'andy' is not defined"
          ]
        }
      ],
      "source": [
        "1 + andy"
      ]
    },
    {
      "cell_type": "code",
      "execution_count": 3,
      "metadata": {},
      "outputs": [],
      "source": [
        "# control flow"
      ]
    },
    {
      "cell_type": "code",
      "execution_count": 4,
      "metadata": {},
      "outputs": [
        {
          "data": {
            "text/plain": [
              "BaseException()"
            ]
          },
          "metadata": {},
          "output_type": "display_data"
        }
      ],
      "source": [
        "BaseException()"
      ]
    },
    {
      "cell_type": "code",
      "execution_count": 7,
      "metadata": {},
      "outputs": [
        {
          "data": {
            "text/plain": [
              "(True, True)"
            ]
          },
          "metadata": {},
          "output_type": "display_data"
        }
      ],
      "source": [
        "issubclass(NameError, BaseException), issubclass(TypeError, BaseException)"
      ]
    },
    {
      "cell_type": "code",
      "execution_count": 8,
      "metadata": {},
      "outputs": [
        {
          "data": {
            "text/plain": [
              "(TypeError, Exception, BaseException, object)"
            ]
          },
          "metadata": {},
          "output_type": "display_data"
        }
      ],
      "source": [
        "TypeError.__mro__"
      ]
    },
    {
      "cell_type": "code",
      "execution_count": 9,
      "metadata": {},
      "outputs": [
        {
          "ename": "ZeroDivisionError",
          "evalue": "ZeroDivisionError: division by zero",
          "output_type": "error",
          "traceback": [
            "\u001b[0;31m---------------------------------------------------------------------------",
            "Traceback (most recent call last)",
            "    at line 1 in <module>",
            "ZeroDivisionError: division by zero"
          ]
        }
      ],
      "source": [
        "1 / 0\n",
        "\n",
        "2 + 2"
      ]
    },
    {
      "cell_type": "code",
      "execution_count": 10,
      "metadata": {},
      "outputs": [],
      "source": [
        "give_me_ints = iter(list(range(10)))"
      ]
    },
    {
      "cell_type": "code",
      "execution_count": 13,
      "metadata": {},
      "outputs": [
        {
          "data": {
            "text/plain": [
              "2"
            ]
          },
          "metadata": {},
          "output_type": "display_data"
        }
      ],
      "source": [
        "next(give_me_ints)"
      ]
    },
    {
      "cell_type": "code",
      "execution_count": 14,
      "metadata": {},
      "outputs": [
        {
          "name": "stdout",
          "output_type": "stream",
          "text": [
            "3\n",
            "4\n",
            "5\n",
            "6\n",
            "7\n",
            "8\n",
            "9\n"
          ]
        },
        {
          "ename": "StopIteration",
          "evalue": "StopIteration: ",
          "output_type": "error",
          "traceback": [
            "\u001b[0;31m---------------------------------------------------------------------------",
            "Traceback (most recent call last)",
            "    at line 2 in <module>",
            "StopIteration: "
          ]
        }
      ],
      "source": [
        "for i in range(10):\n",
        "    print(next(give_me_ints))"
      ]
    },
    {
      "cell_type": "code",
      "execution_count": 15,
      "metadata": {},
      "outputs": [],
      "source": [
        "# SyntaxError"
      ]
    },
    {
      "cell_type": "code",
      "execution_count": 16,
      "metadata": {},
      "outputs": [
        {
          "ename": "SyntaxError",
          "evalue": "SyntaxError: invalid syntax",
          "output_type": "error",
          "traceback": [
            "\u001b[0;31m---------------------------------------------------------------------------",
            "Traceback (most recent call last)",
            "    at line 1 in <module>",
            "SyntaxError: invalid syntax"
          ]
        }
      ],
      "source": [
        "if True\n",
        "    print(\"hello\")"
      ]
    },
    {
      "attachments": {},
      "cell_type": "markdown",
      "metadata": {},
      "source": [
        "## `Handling`"
      ]
    },
    {
      "cell_type": "code",
      "execution_count": 17,
      "metadata": {},
      "outputs": [
        {
          "ename": "ZeroDivisionError",
          "evalue": "ZeroDivisionError: division by zero",
          "output_type": "error",
          "traceback": [
            "\u001b[0;31m---------------------------------------------------------------------------",
            "Traceback (most recent call last)",
            "    at line 1 in <module>",
            "ZeroDivisionError: division by zero"
          ]
        }
      ],
      "source": [
        "1 / 0"
      ]
    },
    {
      "cell_type": "code",
      "execution_count": 18,
      "metadata": {},
      "outputs": [],
      "source": [
        "# exception propagation flow -> exception handlers"
      ]
    },
    {
      "cell_type": "code",
      "execution_count": 21,
      "metadata": {},
      "outputs": [
        {
          "name": "stdout",
          "output_type": "stream",
          "text": [
            "It's undefined, I know\n"
          ]
        }
      ],
      "source": [
        "try:\n",
        "    1 / 0\n",
        "except ZeroDivisionError:\n",
        "    print(\"It's undefined, I know\")"
      ]
    },
    {
      "cell_type": "code",
      "execution_count": 22,
      "metadata": {},
      "outputs": [
        {
          "ename": "ZeroDivisionError",
          "evalue": "ZeroDivisionError: division by zero",
          "output_type": "error",
          "traceback": [
            "\u001b[0;31m---------------------------------------------------------------------------",
            "Traceback (most recent call last)",
            "    at line 1 in <module>",
            "ZeroDivisionError: division by zero"
          ]
        }
      ],
      "source": [
        "1 / 0\n",
        "\n",
        "print(\"Did you get here though?\")"
      ]
    },
    {
      "cell_type": "code",
      "execution_count": 23,
      "metadata": {},
      "outputs": [
        {
          "name": "stdout",
          "output_type": "stream",
          "text": [
            "It's undefined, I know\n",
            "Did you get here though?\n"
          ]
        }
      ],
      "source": [
        "try:\n",
        "    1 / 0\n",
        "except ZeroDivisionError:\n",
        "    print(\"It's undefined, I know\")\n",
        "\n",
        "\n",
        "print(\"Did you get here though?\")"
      ]
    },
    {
      "cell_type": "code",
      "execution_count": 24,
      "metadata": {},
      "outputs": [
        {
          "ename": "NameError",
          "evalue": "NameError: name 'andy' is not defined",
          "output_type": "error",
          "traceback": [
            "\u001b[0;31m---------------------------------------------------------------------------",
            "Traceback (most recent call last)",
            "    at line 2 in <module>",
            "NameError: name 'andy' is not defined"
          ]
        }
      ],
      "source": [
        "try:\n",
        "    andy / 0 # NamedError\n",
        "except ZeroDivisionError:\n",
        "    print(\"It's undefined, I know\")\n",
        "\n",
        "\n",
        "print(\"Did you get here though?\")"
      ]
    },
    {
      "cell_type": "code",
      "execution_count": 25,
      "metadata": {},
      "outputs": [
        {
          "name": "stdout",
          "output_type": "stream",
          "text": [
            "It's undefined, I know\n",
            "Did you get here though?\n"
          ]
        }
      ],
      "source": [
        "try:\n",
        "    andy / 0 # NamedError\n",
        "except:\n",
        "    print(\"It's undefined, I know\")\n",
        "\n",
        "\n",
        "print(\"Did you get here though?\")"
      ]
    },
    {
      "attachments": {},
      "cell_type": "markdown",
      "metadata": {},
      "source": [
        "## `Raising`"
      ]
    },
    {
      "cell_type": "code",
      "execution_count": 26,
      "metadata": {},
      "outputs": [
        {
          "ename": "ValueError",
          "evalue": "ValueError: ",
          "output_type": "error",
          "traceback": [
            "\u001b[0;31m---------------------------------------------------------------------------",
            "Traceback (most recent call last)",
            "    at line 1 in <module>",
            "ValueError: "
          ]
        }
      ],
      "source": [
        "raise ValueError"
      ]
    },
    {
      "cell_type": "code",
      "execution_count": 27,
      "metadata": {},
      "outputs": [
        {
          "ename": "ValueError",
          "evalue": "ValueError: That made no sense",
          "output_type": "error",
          "traceback": [
            "\u001b[0;31m---------------------------------------------------------------------------",
            "Traceback (most recent call last)",
            "    at line 1 in <module>",
            "ValueError: That made no sense"
          ]
        }
      ],
      "source": [
        "raise ValueError(\"That made no sense\")"
      ]
    },
    {
      "cell_type": "code",
      "execution_count": 28,
      "metadata": {},
      "outputs": [
        {
          "name": "stdout",
          "output_type": "stream",
          "text": [
            "Got here...\n"
          ]
        }
      ],
      "source": [
        "try:\n",
        "    raise ValueError(\"That made no sense\")\n",
        "except ValueError:\n",
        "    print(\"Got here...\")"
      ]
    },
    {
      "cell_type": "code",
      "execution_count": 32,
      "metadata": {},
      "outputs": [],
      "source": [
        "portfolio = [\n",
        "    {\"ticker\": \"GOOGL\", \"quantity\": 10},\n",
        "    {\"ticker\": \"LMT\", \"quantity\": 10},\n",
        "    {\"ticker\": \"DOCN\", \"quantity\": 100},\n",
        "]"
      ]
    },
    {
      "cell_type": "code",
      "execution_count": 33,
      "metadata": {},
      "outputs": [
        {
          "name": "stdout",
          "output_type": "stream",
          "text": [
            "The portfolio has 3.\n"
          ]
        }
      ],
      "source": [
        "try:\n",
        "    if any([True for position in portfolio if position['quantity'] == 0]):\n",
        "        raise ValueError(\"Portfolio position with zero shares detected\")\n",
        "\n",
        "    print(f\"The portfolio has {len(portfolio)}.\")\n",
        "except ValueError as exp:\n",
        "    print(exp)"
      ]
    },
    {
      "cell_type": "code",
      "execution_count": 34,
      "metadata": {},
      "outputs": [
        {
          "ename": "TypeError",
          "evalue": "TypeError: exceptions must derive from BaseException",
          "output_type": "error",
          "traceback": [
            "\u001b[0;31m---------------------------------------------------------------------------",
            "Traceback (most recent call last)",
            "    at line 1 in <module>",
            "TypeError: exceptions must derive from BaseException"
          ]
        }
      ],
      "source": [
        "raise \"Andy\""
      ]
    },
    {
      "cell_type": "code",
      "execution_count": 35,
      "metadata": {},
      "outputs": [],
      "source": [
        "class Andy(BaseException):\n",
        "    pass"
      ]
    },
    {
      "cell_type": "code",
      "execution_count": 37,
      "metadata": {},
      "outputs": [
        {
          "ename": "Andy",
          "evalue": "Andy: meaninggless",
          "output_type": "error",
          "traceback": [
            "\u001b[0;31m---------------------------------------------------------------------------",
            "Traceback (most recent call last)",
            "    at line 1 in <module>",
            "Andy: meaninggless"
          ]
        }
      ],
      "source": [
        "raise Andy(\"meaninggless\")"
      ]
    },
    {
      "attachments": {},
      "cell_type": "markdown",
      "metadata": {},
      "source": [
        "## `EAFP`"
      ]
    },
    {
      "cell_type": "code",
      "execution_count": 38,
      "metadata": {},
      "outputs": [],
      "source": [
        "# \"Easier to Ask for Forgiveness than Permission\""
      ]
    },
    {
      "cell_type": "code",
      "execution_count": 39,
      "metadata": {},
      "outputs": [],
      "source": [
        "!touch greeting.txt"
      ]
    },
    {
      "cell_type": "code",
      "execution_count": 41,
      "metadata": {},
      "outputs": [],
      "source": [
        "!echo \"Hey there\" > greeting.txt"
      ]
    },
    {
      "cell_type": "code",
      "execution_count": 42,
      "metadata": {},
      "outputs": [
        {
          "name": "stdout",
          "output_type": "stream",
          "text": [
            "Hey there\r\n"
          ]
        }
      ],
      "source": [
        "!cat greeting.txt"
      ]
    },
    {
      "cell_type": "code",
      "execution_count": 44,
      "metadata": {},
      "outputs": [],
      "source": [
        "greeting_file = open(file=\"greeting.txt\", mode=\"r\")"
      ]
    },
    {
      "cell_type": "code",
      "execution_count": 45,
      "metadata": {},
      "outputs": [
        {
          "data": {
            "text/plain": [
              "'Hey there\\n'"
            ]
          },
          "metadata": {},
          "output_type": "display_data"
        }
      ],
      "source": [
        "greeting_file.read()"
      ]
    },
    {
      "cell_type": "code",
      "execution_count": 54,
      "metadata": {},
      "outputs": [
        {
          "name": "stdout",
          "output_type": "stream",
          "text": [
            "User does not have permission to read the file\n"
          ]
        }
      ],
      "source": [
        "import os\n",
        "\n",
        "filename = \"greeting.txt\"\n",
        "\n",
        "if not os.path.isfile(filename):\n",
        "    print(\"File could not be found\")\n",
        "elif not os.access(filename, mode=os.R_OK):\n",
        "    print(\"User does not have permission to read the file\")\n",
        "# ...\n",
        "else:\n",
        "    greeting_file = open(filename, \"r\")\n",
        "    text = greeting_file.read()\n",
        "    greeting_file.close()\n",
        "    print(text)\n",
        "\n"
      ]
    },
    {
      "cell_type": "code",
      "execution_count": 48,
      "metadata": {},
      "outputs": [],
      "source": [
        "# LBYL -> Look Before You Leap"
      ]
    },
    {
      "cell_type": "code",
      "execution_count": 49,
      "metadata": {},
      "outputs": [],
      "source": [
        "# EAFP"
      ]
    },
    {
      "cell_type": "code",
      "execution_count": 52,
      "metadata": {},
      "outputs": [
        {
          "name": "stdout",
          "output_type": "stream",
          "text": [
            "File could not be read\n"
          ]
        }
      ],
      "source": [
        "try:\n",
        "    greeting_file = open(\"greeting.txt\", \"r\")\n",
        "    text = greeting_file.read()\n",
        "    greeting_file.close()\n",
        "    \n",
        "    print(text)\n",
        "except:\n",
        "    print(\"File could not be read\")"
      ]
    },
    {
      "cell_type": "code",
      "execution_count": 51,
      "metadata": {},
      "outputs": [],
      "source": [
        "!sudo chmod u-r greeting.txt"
      ]
    },
    {
      "attachments": {},
      "cell_type": "markdown",
      "metadata": {},
      "source": [
        "## `What's Up With SyntaxError?`"
      ]
    },
    {
      "cell_type": "code",
      "execution_count": 65,
      "metadata": {},
      "outputs": [],
      "source": [
        "# different how?"
      ]
    },
    {
      "cell_type": "code",
      "execution_count": 66,
      "metadata": {},
      "outputs": [
        {
          "ename": "SyntaxError",
          "evalue": "SyntaxError: unexpected character after line continuation character",
          "output_type": "error",
          "traceback": [
            "\u001b[0;31m---------------------------------------------------------------------------",
            "Traceback (most recent call last)",
            "    at line 2 in <module>",
            "SyntaxError: unexpected character after line continuation character"
          ]
        }
      ],
      "source": [
        "try: \n",
        "    nike /\\ adidas\n",
        "except SyntaxError:\n",
        "    print(\"Handled!\")"
      ]
    },
    {
      "cell_type": "code",
      "execution_count": 67,
      "metadata": {},
      "outputs": [
        {
          "name": "stdout",
          "output_type": "stream",
          "text": [
            "Handled!\n"
          ]
        }
      ],
      "source": [
        "try: \n",
        "    nike * 2\n",
        "except NameError:\n",
        "    print(\"Handled!\")"
      ]
    },
    {
      "cell_type": "code",
      "execution_count": 68,
      "metadata": {},
      "outputs": [
        {
          "data": {
            "text/plain": [
              "(SyntaxError, Exception, BaseException, object)"
            ]
          },
          "metadata": {},
          "output_type": "display_data"
        }
      ],
      "source": [
        "SyntaxError.__mro__"
      ]
    },
    {
      "cell_type": "code",
      "execution_count": 69,
      "metadata": {},
      "outputs": [
        {
          "data": {
            "text/plain": [
              "(NameError, Exception, BaseException, object)"
            ]
          },
          "metadata": {},
          "output_type": "display_data"
        }
      ],
      "source": [
        "NameError.__mro__"
      ]
    },
    {
      "cell_type": "code",
      "execution_count": 70,
      "metadata": {},
      "outputs": [],
      "source": [
        "# eval()"
      ]
    },
    {
      "cell_type": "code",
      "execution_count": 71,
      "metadata": {},
      "outputs": [
        {
          "data": {
            "text/plain": [
              "4"
            ]
          },
          "metadata": {},
          "output_type": "display_data"
        }
      ],
      "source": [
        "2 + 2"
      ]
    },
    {
      "cell_type": "code",
      "execution_count": 72,
      "metadata": {},
      "outputs": [
        {
          "data": {
            "text/plain": [
              "4"
            ]
          },
          "metadata": {},
          "output_type": "display_data"
        }
      ],
      "source": [
        "eval(\"2 + 2\")"
      ]
    },
    {
      "cell_type": "code",
      "execution_count": 73,
      "metadata": {},
      "outputs": [
        {
          "name": "stdout",
          "output_type": "stream",
          "text": [
            "Handled!\n"
          ]
        }
      ],
      "source": [
        "try: \n",
        "    eval(\"nike /\\ adidas\")\n",
        "except SyntaxError:\n",
        "    print(\"Handled!\")"
      ]
    },
    {
      "attachments": {},
      "cell_type": "markdown",
      "metadata": {},
      "source": [
        "## `Exception Hierarchy`"
      ]
    },
    {
      "cell_type": "code",
      "execution_count": 2,
      "metadata": {},
      "outputs": [
        {
          "data": {
            "text/plain": [
              "(SyntaxError, Exception, BaseException, object)"
            ]
          },
          "metadata": {},
          "output_type": "display_data"
        }
      ],
      "source": [
        "SyntaxError.__mro__"
      ]
    },
    {
      "cell_type": "code",
      "execution_count": 3,
      "metadata": {},
      "outputs": [
        {
          "data": {
            "text/plain": [
              "(NameError, Exception, BaseException, object)"
            ]
          },
          "metadata": {},
          "output_type": "display_data"
        }
      ],
      "source": [
        "NameError.__mro__"
      ]
    },
    {
      "cell_type": "code",
      "execution_count": 11,
      "metadata": {},
      "outputs": [
        {
          "data": {
            "text/plain": [
              "(ZeroDivisionError, ArithmeticError, Exception, BaseException, object)"
            ]
          },
          "metadata": {},
          "output_type": "display_data"
        }
      ],
      "source": [
        "ZeroDivisionError.__mro__"
      ]
    },
    {
      "cell_type": "code",
      "execution_count": 12,
      "metadata": {},
      "outputs": [
        {
          "name": "stdout",
          "output_type": "stream",
          "text": [
            "Trapped!\n"
          ]
        }
      ],
      "source": [
        "try: \n",
        "    1/0\n",
        "except ZeroDivisionError:\n",
        "    print(\"Trapped!\")"
      ]
    },
    {
      "cell_type": "code",
      "execution_count": 13,
      "metadata": {},
      "outputs": [
        {
          "name": "stdout",
          "output_type": "stream",
          "text": [
            "Trapped!\n"
          ]
        }
      ],
      "source": [
        "try: \n",
        "    1/0\n",
        "except ArithmeticError:\n",
        "    print(\"Trapped!\")"
      ]
    },
    {
      "cell_type": "code",
      "execution_count": 14,
      "metadata": {},
      "outputs": [
        {
          "data": {
            "text/plain": [
              "True"
            ]
          },
          "metadata": {},
          "output_type": "display_data"
        }
      ],
      "source": [
        "issubclass(ZeroDivisionError, ArithmeticError)"
      ]
    },
    {
      "cell_type": "code",
      "execution_count": 15,
      "metadata": {},
      "outputs": [],
      "source": [
        "import math"
      ]
    },
    {
      "cell_type": "code",
      "execution_count": 24,
      "metadata": {},
      "outputs": [
        {
          "name": "stdout",
          "output_type": "stream",
          "text": [
            "some other exception...\n"
          ]
        }
      ],
      "source": [
        "try:\n",
        "    # math.exp(1000)\n",
        "    # 1/0\n",
        "    raise ValueError\n",
        "except OverflowError:\n",
        "    print(\"Oops, overflowed!\")\n",
        "except ZeroDivisionError:\n",
        "    print(\"isnt division by 0 undefined?\")\n",
        "except ArithmeticError:\n",
        "    print(\"Trapped!\")\n",
        "except Exception:\n",
        "    print(\"some other exception...\")"
      ]
    },
    {
      "attachments": {},
      "cell_type": "markdown",
      "metadata": {},
      "source": [
        "## `The Else Clause`"
      ]
    },
    {
      "cell_type": "code",
      "execution_count": 32,
      "metadata": {},
      "outputs": [],
      "source": [
        "import json\n",
        "\n",
        "payload = '{\"name\": \"Andromeda\"}'\n",
        "\n",
        "decoded_data = json.loads(payload)"
      ]
    },
    {
      "cell_type": "code",
      "execution_count": 30,
      "metadata": {},
      "outputs": [
        {
          "data": {
            "text/plain": [
              "dict"
            ]
          },
          "metadata": {},
          "output_type": "display_data"
        }
      ],
      "source": [
        "type(decoded_data)"
      ]
    },
    {
      "cell_type": "code",
      "execution_count": 33,
      "metadata": {},
      "outputs": [
        {
          "data": {
            "text/plain": [
              "json.decoder.JSONDecodeError"
            ]
          },
          "metadata": {},
          "output_type": "display_data"
        }
      ],
      "source": [
        "json.JSONDecodeError"
      ]
    },
    {
      "cell_type": "code",
      "execution_count": 34,
      "metadata": {},
      "outputs": [
        {
          "data": {
            "text/plain": [
              "(json.decoder.JSONDecodeError, ValueError, Exception, BaseException, object)"
            ]
          },
          "metadata": {},
          "output_type": "display_data"
        }
      ],
      "source": [
        "json.JSONDecodeError.__mro__"
      ]
    },
    {
      "cell_type": "code",
      "execution_count": 24,
      "metadata": {},
      "outputs": [],
      "source": []
    },
    {
      "cell_type": "code",
      "execution_count": 41,
      "metadata": {},
      "outputs": [
        {
          "name": "stdout",
          "output_type": "stream",
          "text": [
            "THe payload is invalid\n"
          ]
        }
      ],
      "source": [
        "# payload = '[\"Andre\"]'\n",
        "# payload = '{\"name\": \"Andromeda\"}'\n",
        "payload = 'Andromeda'\n",
        "\n",
        "try:\n",
        "    decoded = json.loads(payload)\n",
        "except json.JSONDecodeError:\n",
        "    print(\"THe payload is invalid\")\n",
        "else:\n",
        "    print(f\"The payload was decoded successfully. It is of type {type(decoded)}\")"
      ]
    },
    {
      "cell_type": "code",
      "execution_count": 42,
      "metadata": {},
      "outputs": [
        {
          "name": "stdout",
          "output_type": "stream",
          "text": [
            "THe payload is invalid\n",
            "The payload was decoded successfully. It is of type <class 'dict'>\n"
          ]
        }
      ],
      "source": [
        "# payload = '[\"Andre\"]'\n",
        "# payload = '{\"name\": \"Andromeda\"}'\n",
        "payload = 'Andromeda'\n",
        "\n",
        "try:\n",
        "    decoded = json.loads(payload)\n",
        "except json.JSONDecodeError:\n",
        "    print(\"THe payload is invalid\")\n",
        "\n",
        "\n",
        "print(f\"The payload was decoded successfully. It is of type {type(decoded)}\")"
      ]
    },
    {
      "cell_type": "code",
      "execution_count": 45,
      "metadata": {},
      "outputs": [
        {
          "name": "stdout",
          "output_type": "stream",
          "text": [
            "THe payload is invalid\n"
          ]
        }
      ],
      "source": [
        "try:\n",
        "    decoded = json.loads(payload)\n",
        "\n",
        "except json.JSONDecodeError:\n",
        "    print(\"THe payload is invalid\")\n",
        "else:\n",
        "    print(f\"The payload was decoded successfully. It is of type {type(decoded)}\")"
      ]
    },
    {
      "attachments": {},
      "cell_type": "markdown",
      "metadata": {},
      "source": [
        "## `Finally`"
      ]
    },
    {
      "cell_type": "code",
      "execution_count": null,
      "metadata": {},
      "outputs": [],
      "source": [
        "#it will get executed no matter what"
      ]
    },
    {
      "cell_type": "code",
      "execution_count": 61,
      "metadata": {},
      "outputs": [],
      "source": [
        "import json \n",
        "\n",
        "def json_decode(payload):\n",
        "    decoded = None\n",
        "\n",
        "    try:\n",
        "        decoded = json.loads(payload)\n",
        "    except json.JSONDecodeError:\n",
        "        print(\"The payload is invalid\")\n",
        "        return \n",
        "    finally:\n",
        "        print(\"Deocding attempt complete.\")\n",
        "\n",
        "    return decoded"
      ]
    },
    {
      "cell_type": "code",
      "execution_count": 60,
      "metadata": {},
      "outputs": [],
      "source": [
        "def json_decode2(payload):\n",
        "    decoded = None\n",
        "\n",
        "    try:\n",
        "        decoded = json.loads(payload)\n",
        "    except json.JSONDecodeError:\n",
        "        print(\"The payload is invalid\")\n",
        "        return\n",
        "    \n",
        "    print(\"Deocding attempt complete.\")\n",
        "\n",
        "    return decoded"
      ]
    },
    {
      "cell_type": "code",
      "execution_count": 65,
      "metadata": {},
      "outputs": [],
      "source": [
        "payload = \"Andromeda\"\n",
        "# payload = '{\"name\": \"Andrew\"}'"
      ]
    },
    {
      "cell_type": "code",
      "execution_count": 66,
      "metadata": {},
      "outputs": [
        {
          "name": "stdout",
          "output_type": "stream",
          "text": [
            "The payload is invalid\n",
            "Deocding attempt complete.\n"
          ]
        }
      ],
      "source": [
        "json_decode(payload)"
      ]
    },
    {
      "cell_type": "code",
      "execution_count": 67,
      "metadata": {},
      "outputs": [
        {
          "name": "stdout",
          "output_type": "stream",
          "text": [
            "The payload is invalid\n"
          ]
        }
      ],
      "source": [
        "json_decode2(payload)"
      ]
    },
    {
      "cell_type": "code",
      "execution_count": 1,
      "metadata": {},
      "outputs": [
        {
          "name": "stderr",
          "output_type": "stream",
          "text": [
            "'cat' is not recognized as an internal or external command,\n",
            "operable program or batch file.\n"
          ]
        }
      ],
      "source": [
        "!cat greeting.txt"
      ]
    },
    {
      "cell_type": "code",
      "execution_count": 2,
      "metadata": {},
      "outputs": [
        {
          "name": "stderr",
          "output_type": "stream",
          "text": [
            "'chmod' is not recognized as an internal or external command,\n",
            "operable program or batch file.\n"
          ]
        }
      ],
      "source": [
        "!chmod ugo-w greeting.txt"
      ]
    },
    {
      "cell_type": "code",
      "execution_count": 70,
      "metadata": {},
      "outputs": [
        {
          "name": "stdout",
          "output_type": "stream",
          "text": [
            "-r--r--r-- 1 datalore datalore 10 Dec  7 02:59 greeting.txt\r\n"
          ]
        }
      ],
      "source": [
        "!ls -l greeting.txt"
      ]
    },
    {
      "cell_type": "code",
      "execution_count": 71,
      "metadata": {},
      "outputs": [
        {
          "ename": "UserWarning",
          "evalue": "UserWarning: Write operation failed",
          "output_type": "error",
          "traceback": [
            "\u001b[0;31m---------------------------------------------------------------------------",
            "Traceback (most recent call last)",
            "    at line 5 in <module>",
            "    at line 7 in <module>",
            "UserWarning: Write operation failed"
          ]
        }
      ],
      "source": [
        "text_file = open(\"greeting.txt\")\n",
        "text = \"!\"\n",
        "\n",
        "try:\n",
        "    text_file.write(text)\n",
        "except IOError as exp:\n",
        "    raise UserWarning(\"Write operation failed\")\n",
        "\n",
        "text_file.close()"
      ]
    },
    {
      "cell_type": "code",
      "execution_count": 72,
      "metadata": {},
      "outputs": [
        {
          "data": {
            "text/plain": [
              "False"
            ]
          },
          "metadata": {},
          "output_type": "display_data"
        }
      ],
      "source": [
        "text_file.closed"
      ]
    },
    {
      "cell_type": "code",
      "execution_count": 73,
      "metadata": {},
      "outputs": [
        {
          "name": "stdout",
          "output_type": "stream",
          "text": [
            "Cleaning up...\n"
          ]
        },
        {
          "ename": "UserWarning",
          "evalue": "UserWarning: Write operation failed",
          "output_type": "error",
          "traceback": [
            "\u001b[0;31m---------------------------------------------------------------------------",
            "Traceback (most recent call last)",
            "    at line 5 in <module>",
            "    at line 7 in <module>",
            "UserWarning: Write operation failed"
          ]
        }
      ],
      "source": [
        "text_file = open(\"greeting.txt\")\n",
        "text = \"!\"\n",
        "\n",
        "try:\n",
        "    text_file.write(text)\n",
        "except IOError as exp:\n",
        "    raise UserWarning(\"Write operation failed\")\n",
        "finally:\n",
        "    print(\"Cleaning up...\")\n",
        "    text_file.close()"
      ]
    },
    {
      "cell_type": "code",
      "execution_count": 74,
      "metadata": {},
      "outputs": [
        {
          "data": {
            "text/plain": [
              "True"
            ]
          },
          "metadata": {},
          "output_type": "display_data"
        }
      ],
      "source": [
        "text_file.closed"
      ]
    },
    {
      "cell_type": "code",
      "execution_count": 76,
      "metadata": {},
      "outputs": [
        {
          "ename": "UnsupportedOperation",
          "evalue": "UnsupportedOperation: not writable",
          "output_type": "error",
          "traceback": [
            "\u001b[0;31m---------------------------------------------------------------------------",
            "Traceback (most recent call last)",
            "    at line 2 in <module>",
            "UnsupportedOperation: not writable"
          ]
        }
      ],
      "source": [
        "with open(\"greeting.txt\") as f:\n",
        "    f.write(\"!\")"
      ]
    },
    {
      "attachments": {},
      "cell_type": "markdown",
      "metadata": {},
      "source": [
        "## `Nesting And Bundling`"
      ]
    },
    {
      "cell_type": "code",
      "execution_count": 77,
      "metadata": {},
      "outputs": [],
      "source": [
        "# Requirements\n",
        "# - the program should repeatedly ask the user to pick a number\n",
        "# - if the number is valid, its binary representation is printed out\n",
        "# - if user inputs something that cannot be parsed into an integer, a ValueError should be raised\n",
        "#     - if this happens, the user should be asked if they want to pick again\n",
        "#     - if something other than \"y\" or \"n\" is provided another ValueError should be raised\n",
        "#     - if the user says \"n\", provides an invalid response, or triggers a KeyboardInterrupt (e.g. through Ctrl + C) the program \n",
        "#     should stop running"
      ]
    },
    {
      "cell_type": "code",
      "execution_count": 4,
      "metadata": {},
      "outputs": [
        {
          "name": "stdout",
          "output_type": "stream",
          "text": [
            "That did not look like an integer...\n",
            "\n",
            "That did not look like an integer...\n",
            "\n"
          ]
        }
      ],
      "source": [
        "should_run = True\n",
        "\n",
        "\n",
        "while should_run:\n",
        "    try:\n",
        "        n = int(input(\"Pick a number...\\n\"))\n",
        "    except ValueError:\n",
        "        print(\"That did not look like an integer...\\n\")\n",
        "        try:\n",
        "            answer = input(\"Pick again? Y/N\\n\").upper()\n",
        "\n",
        "            if answer not in ('Y', 'N'):\n",
        "                raise ValueError\n",
        "        except (ValueError, KeyboardInterrupt):\n",
        "            should_run = False\n",
        "        else:\n",
        "            if answer == 'N':\n",
        "                should_run = False\n",
        "    else:\n",
        "        print(f\"You picked {n} which is {n:b} in binary.\\n\")"
      ]
    },
    {
      "attachments": {},
      "cell_type": "markdown",
      "metadata": {},
      "source": [
        "## `Rolling Our Own`"
      ]
    },
    {
      "cell_type": "code",
      "execution_count": 2,
      "metadata": {},
      "outputs": [],
      "source": [
        "# Exception"
      ]
    },
    {
      "cell_type": "code",
      "execution_count": 1,
      "metadata": {},
      "outputs": [
        {
          "ename": "TypeError",
          "evalue": "TypeError: exceptions must derive from BaseException",
          "output_type": "error",
          "traceback": [
            "\u001b[0;31m---------------------------------------------------------------------------",
            "Traceback (most recent call last)",
            "    at line 1 in <module>",
            "TypeError: exceptions must derive from BaseException"
          ]
        }
      ],
      "source": [
        "raise \"some string\""
      ]
    },
    {
      "cell_type": "code",
      "execution_count": 76,
      "metadata": {},
      "outputs": [],
      "source": []
    },
    {
      "cell_type": "code",
      "execution_count": 3,
      "metadata": {},
      "outputs": [],
      "source": [
        "class InvalidTransactionException(Exception):\n",
        "    \"\"\"The exception base class\"\"\""
      ]
    },
    {
      "cell_type": "markdown",
      "metadata": {},
      "source": []
    },
    {
      "cell_type": "code",
      "execution_count": 4,
      "metadata": {},
      "outputs": [],
      "source": [
        "class InsufficientFundsException(InvalidTransactionException):\n",
        "    pass"
      ]
    },
    {
      "cell_type": "code",
      "execution_count": 5,
      "metadata": {},
      "outputs": [],
      "source": [
        "class UnsupportedCurrencyException(InvalidTransactionException):\n",
        "    pass"
      ]
    },
    {
      "cell_type": "code",
      "execution_count": 6,
      "metadata": {},
      "outputs": [],
      "source": [
        "class UnknownRecipientException(InvalidTransactionException):\n",
        "    pass"
      ]
    },
    {
      "cell_type": "code",
      "execution_count": null,
      "metadata": {},
      "outputs": [],
      "source": []
    },
    {
      "cell_type": "code",
      "execution_count": null,
      "metadata": {},
      "outputs": [],
      "source": []
    },
    {
      "cell_type": "code",
      "execution_count": null,
      "metadata": {},
      "outputs": [],
      "source": []
    },
    {
      "cell_type": "code",
      "execution_count": null,
      "metadata": {},
      "outputs": [],
      "source": []
    },
    {
      "cell_type": "code",
      "execution_count": null,
      "metadata": {},
      "outputs": [],
      "source": []
    },
    {
      "cell_type": "code",
      "execution_count": null,
      "metadata": {},
      "outputs": [],
      "source": []
    },
    {
      "cell_type": "code",
      "execution_count": null,
      "metadata": {},
      "outputs": [],
      "source": []
    },
    {
      "cell_type": "code",
      "execution_count": null,
      "metadata": {},
      "outputs": [],
      "source": []
    },
    {
      "cell_type": "code",
      "execution_count": null,
      "metadata": {},
      "outputs": [],
      "source": []
    },
    {
      "cell_type": "code",
      "execution_count": null,
      "metadata": {},
      "outputs": [],
      "source": []
    },
    {
      "cell_type": "code",
      "execution_count": null,
      "metadata": {},
      "outputs": [],
      "source": []
    },
    {
      "cell_type": "code",
      "execution_count": null,
      "metadata": {},
      "outputs": [],
      "source": []
    },
    {
      "cell_type": "code",
      "execution_count": null,
      "metadata": {},
      "outputs": [],
      "source": []
    },
    {
      "cell_type": "code",
      "execution_count": null,
      "metadata": {},
      "outputs": [],
      "source": []
    },
    {
      "cell_type": "code",
      "execution_count": null,
      "metadata": {},
      "outputs": [],
      "source": []
    },
    {
      "cell_type": "code",
      "execution_count": null,
      "metadata": {},
      "outputs": [],
      "source": []
    },
    {
      "cell_type": "code",
      "execution_count": null,
      "metadata": {},
      "outputs": [],
      "source": []
    },
    {
      "cell_type": "code",
      "execution_count": null,
      "metadata": {},
      "outputs": [],
      "source": []
    },
    {
      "cell_type": "code",
      "execution_count": null,
      "metadata": {},
      "outputs": [],
      "source": []
    },
    {
      "cell_type": "code",
      "execution_count": null,
      "metadata": {},
      "outputs": [],
      "source": []
    },
    {
      "cell_type": "code",
      "execution_count": null,
      "metadata": {},
      "outputs": [],
      "source": []
    },
    {
      "cell_type": "code",
      "execution_count": null,
      "metadata": {},
      "outputs": [],
      "source": []
    },
    {
      "cell_type": "code",
      "execution_count": null,
      "metadata": {},
      "outputs": [],
      "source": []
    },
    {
      "cell_type": "code",
      "execution_count": null,
      "metadata": {},
      "outputs": [],
      "source": []
    },
    {
      "cell_type": "code",
      "execution_count": null,
      "metadata": {},
      "outputs": [],
      "source": []
    }
  ],
  "metadata": {
    "kernelspec": {
      "display_name": "Python 3",
      "language": "python",
      "name": "python3"
    },
    "language_info": {
      "codemirror_mode": {
        "name": "ipython",
        "version": 3
      },
      "file_extension": ".py",
      "mimetype": "text/x-python",
      "name": "python",
      "nbconvert_exporter": "python",
      "pygments_lexer": "ipython3",
      "version": "3.9.13"
    }
  },
  "nbformat": 4,
  "nbformat_minor": 0
}
